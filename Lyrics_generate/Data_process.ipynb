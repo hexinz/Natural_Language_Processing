{
 "cells": [
  {
   "cell_type": "code",
   "execution_count": 2,
   "id": "driving-handle",
   "metadata": {},
   "outputs": [],
   "source": [
    "import json\n",
    "import jsonlines\n",
    "import pandas as pd\n",
    "import numpy as np\n",
    "import re"
   ]
  },
  {
   "cell_type": "markdown",
   "id": "empirical-negative",
   "metadata": {},
   "source": [
    "# For LM training"
   ]
  },
  {
   "cell_type": "markdown",
   "id": "middle-render",
   "metadata": {},
   "source": [
    "## Training data"
   ]
  },
  {
   "cell_type": "code",
   "execution_count": 70,
   "id": "complex-payroll",
   "metadata": {},
   "outputs": [],
   "source": [
    "with jsonlines.open(\"song-lyrics.train.jsonl\",'r') as load_f:\n",
    "    num = 0\n",
    "    for obj in load_f:\n",
    "        if len(obj['lyrics']) > 500:\n",
    "            continue\n",
    "        if num == 100000:\n",
    "            break\n",
    "        with open(\"final_data/train.txt\",\"a\") as write_f:\n",
    "            num += 1\n",
    "            temp = obj['lyrics'].replace('\\n', ' ñ ')\n",
    "            write_f.write(\"{}\\n\".format(temp))"
   ]
  },
  {
   "cell_type": "markdown",
   "id": "brave-disclaimer",
   "metadata": {},
   "source": [
    "## dev data"
   ]
  },
  {
   "cell_type": "code",
   "execution_count": 71,
   "id": "faced-mistake",
   "metadata": {},
   "outputs": [],
   "source": [
    "with jsonlines.open(\"song-lyrics.test.jsonl\",'r') as load_f:\n",
    "    num = 0\n",
    "    for obj in load_f:\n",
    "        if len(obj['lyrics']) > 500:\n",
    "            continue\n",
    "        if num == 10000:\n",
    "            break\n",
    "        with open(\"final_data/test.txt\",\"a\") as write_f:\n",
    "            num += 1\n",
    "            temp = obj['lyrics'].replace('\\n', ' ñ ')\n",
    "            write_f.write(\"{}\\n\".format(temp))"
   ]
  },
  {
   "cell_type": "markdown",
   "id": "australian-circular",
   "metadata": {},
   "source": [
    "## testing data"
   ]
  },
  {
   "cell_type": "code",
   "execution_count": 72,
   "id": "wrapped-brake",
   "metadata": {},
   "outputs": [],
   "source": [
    "with jsonlines.open(\"song-lyrics.dev.jsonl\",'r') as load_f:\n",
    "    num = 0\n",
    "    for obj in load_f:\n",
    "        if len(obj['lyrics']) > 500:\n",
    "            continue\n",
    "        if num == 10000:\n",
    "            break\n",
    "        with open(\"final_data/dev.txt\",\"a\") as write_f:\n",
    "            num += 1\n",
    "            temp = obj['lyrics'].replace('\\n', ' ñ ')\n",
    "            temp = temp.replace('\\n', ' newline ')\n",
    "            write_f.write(\"{}\\n\".format(temp))"
   ]
  },
  {
   "cell_type": "markdown",
   "id": "productive-corps",
   "metadata": {},
   "source": [
    "# For classification"
   ]
  },
  {
   "cell_type": "markdown",
   "id": "technical-charter",
   "metadata": {},
   "source": [
    "## Training data"
   ]
  },
  {
   "cell_type": "code",
   "execution_count": 73,
   "id": "indirect-facing",
   "metadata": {},
   "outputs": [],
   "source": [
    "text = []\n",
    "label = []\n",
    "\n",
    "\n",
    "with jsonlines.open(\"song-lyrics.train.jsonl\",'r') as load_f:\n",
    "    num = 0\n",
    "    for obj in load_f:\n",
    "        if num == 10000:\n",
    "            break\n",
    "        num += 1\n",
    "        text.append(obj['lyrics'].replace('\\n', ' ñ '))\n",
    "        label.append(0)\n",
    "\n",
    "\n",
    "with jsonlines.open(\"lyrics.machine-gen.train.jsonl\",'r') as load_f:\n",
    "    num = 0\n",
    "    for obj in load_f:\n",
    "        if num == 10000:\n",
    "            break\n",
    "        num += 1\n",
    "        text.append(obj['lyrics'].replace('\\n', ' ñ '))\n",
    "        \n",
    "        label.append(1)\n",
    "\n",
    "result = {'labels': label, 'text':text}\n",
    "\n",
    "pd.DataFrame(result).to_csv('classi_data/train.csv', index=False)"
   ]
  },
  {
   "cell_type": "markdown",
   "id": "challenging-poetry",
   "metadata": {},
   "source": [
    "## dev data"
   ]
  },
  {
   "cell_type": "code",
   "execution_count": 74,
   "id": "duplicate-consumer",
   "metadata": {},
   "outputs": [],
   "source": [
    "text = []\n",
    "label = []\n",
    "\n",
    "\n",
    "with jsonlines.open(\"song-lyrics.dev.jsonl\",'r') as load_f:\n",
    "    num = 0\n",
    "    for obj in load_f:\n",
    "        if num == 1000:\n",
    "            break\n",
    "        num += 1\n",
    "        text.append(obj['lyrics'].replace('\\n', ' ñ '))\n",
    "        label.append(0)\n",
    "\n",
    "\n",
    "with jsonlines.open(\"lyrics.machine-gen.dev.jsonl\",'r') as load_f:\n",
    "    num = 0\n",
    "    for obj in load_f:\n",
    "        if num == 1000:\n",
    "            break\n",
    "        num += 1\n",
    "        text.append(obj['lyrics'].replace('\\n', ' ñ '))\n",
    "        label.append(1)\n",
    "\n",
    "result = {'labels': label, 'text':text}\n",
    "\n",
    "pd.DataFrame(result).to_csv('classi_data/dev.csv', index=False)"
   ]
  },
  {
   "cell_type": "markdown",
   "id": "coupled-semester",
   "metadata": {},
   "source": [
    "## testing data"
   ]
  },
  {
   "cell_type": "code",
   "execution_count": 75,
   "id": "bearing-landscape",
   "metadata": {},
   "outputs": [],
   "source": [
    "text = []\n",
    "label = []\n",
    "\n",
    "\n",
    "with jsonlines.open(\"song-lyrics.test.jsonl\",'r') as load_f:\n",
    "    num = 0\n",
    "    for obj in load_f:\n",
    "        if num == 1000:\n",
    "            break\n",
    "        num += 1\n",
    "        text.append(obj['lyrics'].replace('\\n', ' ñ '))\n",
    "        label.append(0)\n",
    "\n",
    "\n",
    "with jsonlines.open(\"lyrics.machine-gen.test.jsonl\",'r') as load_f:\n",
    "    num = 0\n",
    "    for obj in load_f:\n",
    "        if num == 1000:\n",
    "            break\n",
    "        num += 1\n",
    "        text.append(obj['lyrics'].replace('\\n', ' ñ '))\n",
    "        label.append(1)\n",
    "\n",
    "result = {'labels': label, 'text':text}\n",
    "\n",
    "pd.DataFrame(result).to_csv('classi_data/test.csv', index=False)"
   ]
  },
  {
   "cell_type": "markdown",
   "id": "handled-comfort",
   "metadata": {},
   "source": [
    "## self-generated lyrics"
   ]
  },
  {
   "cell_type": "code",
   "execution_count": 72,
   "id": "awful-surfing",
   "metadata": {},
   "outputs": [],
   "source": [
    "text = []\n",
    "label = []\n",
    "\n",
    "with open(\"500lyrics.json\",'r') as load_f:\n",
    "    result = json.load(load_f)\n",
    "    for item in result:\n",
    "        text.append(item['lyrics'])\n",
    "        label.append(1)\n",
    "        \n",
    "result = {'labels': label, 'text':text}\n",
    "\n",
    "pd.DataFrame(result).to_csv('classi_data/500lyrics.csv', index=False)"
   ]
  },
  {
   "cell_type": "code",
   "execution_count": null,
   "id": "intelligent-steam",
   "metadata": {},
   "outputs": [],
   "source": []
  }
 ],
 "metadata": {
  "kernelspec": {
   "display_name": "Python 3",
   "language": "python",
   "name": "python3"
  },
  "language_info": {
   "codemirror_mode": {
    "name": "ipython",
    "version": 3
   },
   "file_extension": ".py",
   "mimetype": "text/x-python",
   "name": "python",
   "nbconvert_exporter": "python",
   "pygments_lexer": "ipython3",
   "version": "3.8.5"
  }
 },
 "nbformat": 4,
 "nbformat_minor": 5
}
