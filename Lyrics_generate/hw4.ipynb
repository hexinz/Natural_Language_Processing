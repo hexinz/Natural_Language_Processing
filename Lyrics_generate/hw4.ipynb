{
 "cells": [
  {
   "cell_type": "code",
   "execution_count": 1,
   "metadata": {
    "id": "pqEfi1XUdtL_"
   },
   "outputs": [
    {
     "name": "stdout",
     "output_type": "stream",
     "text": [
      "Collecting simpletransformers\n",
      "  Downloading simpletransformers-0.61.4-py3-none-any.whl (213 kB)\n",
      "\u001b[K     |████████████████████████████████| 213 kB 695 kB/s eta 0:00:01\n",
      "\u001b[?25hCollecting streamlit\n",
      "  Downloading streamlit-0.80.0-py2.py3-none-any.whl (8.2 MB)\n",
      "\u001b[K     |████████████████████████████████| 8.2 MB 754 kB/s eta 0:00:01\n",
      "\u001b[?25hCollecting tensorboardx\n",
      "  Downloading tensorboardX-2.2-py2.py3-none-any.whl (120 kB)\n",
      "\u001b[K     |████████████████████████████████| 120 kB 733 kB/s eta 0:00:01\n",
      "\u001b[?25hRequirement already satisfied: tqdm>=4.47.0 in /Users/zhanghexin/opt/anaconda3/lib/python3.8/site-packages (from simpletransformers) (4.59.0)\n",
      "Requirement already satisfied: requests in /Users/zhanghexin/opt/anaconda3/lib/python3.8/site-packages (from simpletransformers) (2.25.1)\n",
      "Requirement already satisfied: transformers>=4.2.0 in /Users/zhanghexin/opt/anaconda3/lib/python3.8/site-packages (from simpletransformers) (4.4.2)\n",
      "Requirement already satisfied: scipy in /Users/zhanghexin/opt/anaconda3/lib/python3.8/site-packages (from simpletransformers) (1.6.2)\n",
      "Collecting datasets\n",
      "  Downloading datasets-1.6.0-py3-none-any.whl (202 kB)\n",
      "\u001b[K     |████████████████████████████████| 202 kB 860 kB/s eta 0:00:01\n",
      "\u001b[?25hRequirement already satisfied: pandas in /Users/zhanghexin/opt/anaconda3/lib/python3.8/site-packages (from simpletransformers) (1.2.3)\n",
      "Collecting sentencepiece\n",
      "  Downloading sentencepiece-0.1.95-cp38-cp38-macosx_10_6_x86_64.whl (1.1 MB)\n",
      "\u001b[K     |████████████████████████████████| 1.1 MB 952 kB/s eta 0:00:01\n",
      "\u001b[?25hRequirement already satisfied: numpy in /Users/zhanghexin/opt/anaconda3/lib/python3.8/site-packages (from simpletransformers) (1.19.2)\n",
      "Requirement already satisfied: scikit-learn in /Users/zhanghexin/opt/anaconda3/lib/python3.8/site-packages (from simpletransformers) (0.24.1)\n",
      "Collecting wandb\n",
      "  Downloading wandb-0.10.27-py2.py3-none-any.whl (2.1 MB)\n",
      "\u001b[K     |████████████████████████████████| 2.1 MB 832 kB/s eta 0:00:01\n",
      "\u001b[?25hRequirement already satisfied: regex in /Users/zhanghexin/opt/anaconda3/lib/python3.8/site-packages (from simpletransformers) (2021.3.17)\n",
      "Collecting seqeval\n",
      "  Using cached seqeval-1.2.2-py3-none-any.whl\n",
      "Requirement already satisfied: tokenizers in /Users/zhanghexin/opt/anaconda3/lib/python3.8/site-packages (from simpletransformers) (0.10.1)\n",
      "Requirement already satisfied: filelock in /Users/zhanghexin/opt/anaconda3/lib/python3.8/site-packages (from transformers>=4.2.0->simpletransformers) (3.0.12)\n",
      "Requirement already satisfied: sacremoses in /Users/zhanghexin/opt/anaconda3/lib/python3.8/site-packages (from transformers>=4.2.0->simpletransformers) (0.0.43)\n",
      "Requirement already satisfied: packaging in /Users/zhanghexin/opt/anaconda3/lib/python3.8/site-packages (from transformers>=4.2.0->simpletransformers) (20.9)\n",
      "Collecting huggingface-hub<0.1.0\n",
      "  Downloading huggingface_hub-0.0.8-py3-none-any.whl (34 kB)\n",
      "Requirement already satisfied: fsspec in /Users/zhanghexin/opt/anaconda3/lib/python3.8/site-packages (from datasets->simpletransformers) (0.8.7)\n",
      "Collecting multiprocess\n",
      "  Downloading multiprocess-0.70.11.1-py38-none-any.whl (126 kB)\n",
      "\u001b[K     |████████████████████████████████| 126 kB 690 kB/s eta 0:00:01\n",
      "\u001b[?25hCollecting pyarrow>=1.0.0\n",
      "  Downloading pyarrow-3.0.0-cp38-cp38-macosx_10_13_x86_64.whl (14.1 MB)\n",
      "\u001b[K     |████████████████████████████████| 14.1 MB 759 kB/s eta 0:00:01\n",
      "\u001b[?25hCollecting xxhash\n",
      "  Downloading xxhash-2.0.2-cp38-cp38-macosx_10_9_x86_64.whl (31 kB)\n",
      "Collecting dill\n",
      "  Downloading dill-0.3.3-py2.py3-none-any.whl (81 kB)\n",
      "\u001b[K     |████████████████████████████████| 81 kB 663 kB/s eta 0:00:01\n",
      "\u001b[?25hCollecting tqdm>=4.47.0\n",
      "  Downloading tqdm-4.49.0-py2.py3-none-any.whl (69 kB)\n",
      "\u001b[K     |████████████████████████████████| 69 kB 728 kB/s eta 0:00:01\n",
      "\u001b[?25hRequirement already satisfied: urllib3<1.27,>=1.21.1 in /Users/zhanghexin/opt/anaconda3/lib/python3.8/site-packages (from requests->simpletransformers) (1.26.4)\n",
      "Requirement already satisfied: chardet<5,>=3.0.2 in /Users/zhanghexin/opt/anaconda3/lib/python3.8/site-packages (from requests->simpletransformers) (3.0.4)\n",
      "Requirement already satisfied: idna<3,>=2.5 in /Users/zhanghexin/opt/anaconda3/lib/python3.8/site-packages (from requests->simpletransformers) (2.10)\n",
      "Requirement already satisfied: certifi>=2017.4.17 in /Users/zhanghexin/opt/anaconda3/lib/python3.8/site-packages (from requests->simpletransformers) (2020.12.5)\n",
      "Requirement already satisfied: pyparsing>=2.0.2 in /Users/zhanghexin/opt/anaconda3/lib/python3.8/site-packages (from packaging->transformers>=4.2.0->simpletransformers) (2.4.7)\n",
      "Requirement already satisfied: python-dateutil>=2.7.3 in /Users/zhanghexin/opt/anaconda3/lib/python3.8/site-packages (from pandas->simpletransformers) (2.8.1)\n",
      "Requirement already satisfied: pytz>=2017.3 in /Users/zhanghexin/opt/anaconda3/lib/python3.8/site-packages (from pandas->simpletransformers) (2021.1)\n",
      "Requirement already satisfied: six>=1.5 in /Users/zhanghexin/opt/anaconda3/lib/python3.8/site-packages (from python-dateutil>=2.7.3->pandas->simpletransformers) (1.15.0)\n",
      "Requirement already satisfied: click in /Users/zhanghexin/opt/anaconda3/lib/python3.8/site-packages (from sacremoses->transformers>=4.2.0->simpletransformers) (7.1.2)\n",
      "Requirement already satisfied: joblib in /Users/zhanghexin/opt/anaconda3/lib/python3.8/site-packages (from sacremoses->transformers>=4.2.0->simpletransformers) (1.0.1)\n",
      "Requirement already satisfied: threadpoolctl>=2.0.0 in /Users/zhanghexin/opt/anaconda3/lib/python3.8/site-packages (from scikit-learn->simpletransformers) (2.1.0)\n",
      "Requirement already satisfied: protobuf!=3.11,>=3.6.0 in /Users/zhanghexin/opt/anaconda3/lib/python3.8/site-packages (from streamlit->simpletransformers) (3.14.0)\n",
      "Collecting altair>=3.2.0\n",
      "  Downloading altair-4.1.0-py3-none-any.whl (727 kB)\n",
      "\u001b[K     |████████████████████████████████| 727 kB 644 kB/s eta 0:00:01\n",
      "\u001b[?25hCollecting astor\n",
      "  Downloading astor-0.8.1-py2.py3-none-any.whl (27 kB)\n",
      "Requirement already satisfied: cachetools>=4.0 in /Users/zhanghexin/opt/anaconda3/lib/python3.8/site-packages (from streamlit->simpletransformers) (4.2.1)\n",
      "Requirement already satisfied: pillow>=6.2.0 in /Users/zhanghexin/opt/anaconda3/lib/python3.8/site-packages (from streamlit->simpletransformers) (8.1.2)\n",
      "Requirement already satisfied: tornado>=5.0 in /Users/zhanghexin/opt/anaconda3/lib/python3.8/site-packages (from streamlit->simpletransformers) (6.1)\n",
      "Collecting pydeck>=0.1.dev5\n",
      "  Downloading pydeck-0.6.2-py2.py3-none-any.whl (4.2 MB)\n",
      "\u001b[K     |████████████████████████████████| 4.2 MB 778 kB/s eta 0:00:01\n",
      "\u001b[?25hRequirement already satisfied: toml in /Users/zhanghexin/opt/anaconda3/lib/python3.8/site-packages (from streamlit->simpletransformers) (0.10.2)\n",
      "Collecting tzlocal\n",
      "  Downloading tzlocal-2.1-py2.py3-none-any.whl (16 kB)\n",
      "Collecting base58\n",
      "  Downloading base58-2.1.0-py3-none-any.whl (5.6 kB)\n",
      "Collecting validators\n",
      "  Downloading validators-0.18.2-py3-none-any.whl (19 kB)\n",
      "Collecting gitpython\n",
      "  Downloading GitPython-3.1.15-py3-none-any.whl (163 kB)\n",
      "\u001b[K     |████████████████████████████████| 163 kB 744 kB/s eta 0:00:01\n",
      "\u001b[?25hCollecting blinker\n",
      "  Downloading blinker-1.4.tar.gz (111 kB)\n",
      "\u001b[K     |████████████████████████████████| 111 kB 742 kB/s eta 0:00:01\n",
      "\u001b[?25hRequirement already satisfied: jsonschema in /Users/zhanghexin/opt/anaconda3/lib/python3.8/site-packages (from altair>=3.2.0->streamlit->simpletransformers) (3.0.2)\n",
      "Requirement already satisfied: toolz in /Users/zhanghexin/opt/anaconda3/lib/python3.8/site-packages (from altair>=3.2.0->streamlit->simpletransformers) (0.11.1)\n",
      "Requirement already satisfied: entrypoints in /Users/zhanghexin/opt/anaconda3/lib/python3.8/site-packages (from altair>=3.2.0->streamlit->simpletransformers) (0.3)\n",
      "Requirement already satisfied: jinja2 in /Users/zhanghexin/opt/anaconda3/lib/python3.8/site-packages (from altair>=3.2.0->streamlit->simpletransformers) (2.11.3)\n",
      "Requirement already satisfied: traitlets>=4.3.2 in /Users/zhanghexin/opt/anaconda3/lib/python3.8/site-packages (from pydeck>=0.1.dev5->streamlit->simpletransformers) (5.0.5)\n",
      "Requirement already satisfied: ipykernel>=5.1.2 in /Users/zhanghexin/opt/anaconda3/lib/python3.8/site-packages (from pydeck>=0.1.dev5->streamlit->simpletransformers) (5.3.4)\n",
      "Requirement already satisfied: ipywidgets>=7.0.0 in /Users/zhanghexin/opt/anaconda3/lib/python3.8/site-packages (from pydeck>=0.1.dev5->streamlit->simpletransformers) (7.6.3)\n",
      "Requirement already satisfied: ipython>=5.0.0 in /Users/zhanghexin/opt/anaconda3/lib/python3.8/site-packages (from ipykernel>=5.1.2->pydeck>=0.1.dev5->streamlit->simpletransformers) (7.21.0)\n",
      "Requirement already satisfied: appnope in /Users/zhanghexin/opt/anaconda3/lib/python3.8/site-packages (from ipykernel>=5.1.2->pydeck>=0.1.dev5->streamlit->simpletransformers) (0.1.2)\n",
      "Requirement already satisfied: jupyter-client in /Users/zhanghexin/opt/anaconda3/lib/python3.8/site-packages (from ipykernel>=5.1.2->pydeck>=0.1.dev5->streamlit->simpletransformers) (6.1.7)\n"
     ]
    },
    {
     "name": "stdout",
     "output_type": "stream",
     "text": [
      "Requirement already satisfied: pexpect>4.3 in /Users/zhanghexin/opt/anaconda3/lib/python3.8/site-packages (from ipython>=5.0.0->ipykernel>=5.1.2->pydeck>=0.1.dev5->streamlit->simpletransformers) (4.8.0)\n",
      "Requirement already satisfied: backcall in /Users/zhanghexin/opt/anaconda3/lib/python3.8/site-packages (from ipython>=5.0.0->ipykernel>=5.1.2->pydeck>=0.1.dev5->streamlit->simpletransformers) (0.2.0)\n",
      "Requirement already satisfied: pygments in /Users/zhanghexin/opt/anaconda3/lib/python3.8/site-packages (from ipython>=5.0.0->ipykernel>=5.1.2->pydeck>=0.1.dev5->streamlit->simpletransformers) (2.8.1)\n",
      "Requirement already satisfied: decorator in /Users/zhanghexin/opt/anaconda3/lib/python3.8/site-packages (from ipython>=5.0.0->ipykernel>=5.1.2->pydeck>=0.1.dev5->streamlit->simpletransformers) (4.4.2)\n",
      "Requirement already satisfied: pickleshare in /Users/zhanghexin/opt/anaconda3/lib/python3.8/site-packages (from ipython>=5.0.0->ipykernel>=5.1.2->pydeck>=0.1.dev5->streamlit->simpletransformers) (0.7.5)\n",
      "Requirement already satisfied: setuptools>=18.5 in /Users/zhanghexin/opt/anaconda3/lib/python3.8/site-packages (from ipython>=5.0.0->ipykernel>=5.1.2->pydeck>=0.1.dev5->streamlit->simpletransformers) (52.0.0.post20210125)\n",
      "Requirement already satisfied: jedi>=0.16 in /Users/zhanghexin/opt/anaconda3/lib/python3.8/site-packages (from ipython>=5.0.0->ipykernel>=5.1.2->pydeck>=0.1.dev5->streamlit->simpletransformers) (0.17.1)\n",
      "Requirement already satisfied: prompt-toolkit!=3.0.0,!=3.0.1,<3.1.0,>=2.0.0 in /Users/zhanghexin/opt/anaconda3/lib/python3.8/site-packages (from ipython>=5.0.0->ipykernel>=5.1.2->pydeck>=0.1.dev5->streamlit->simpletransformers) (3.0.17)\n",
      "Requirement already satisfied: jupyterlab-widgets>=1.0.0 in /Users/zhanghexin/opt/anaconda3/lib/python3.8/site-packages (from ipywidgets>=7.0.0->pydeck>=0.1.dev5->streamlit->simpletransformers) (1.0.0)\n",
      "Requirement already satisfied: widgetsnbextension~=3.5.0 in /Users/zhanghexin/opt/anaconda3/lib/python3.8/site-packages (from ipywidgets>=7.0.0->pydeck>=0.1.dev5->streamlit->simpletransformers) (3.5.1)\n",
      "Requirement already satisfied: nbformat>=4.2.0 in /Users/zhanghexin/opt/anaconda3/lib/python3.8/site-packages (from ipywidgets>=7.0.0->pydeck>=0.1.dev5->streamlit->simpletransformers) (5.1.2)\n",
      "Requirement already satisfied: parso<0.8.0,>=0.7.0 in /Users/zhanghexin/opt/anaconda3/lib/python3.8/site-packages (from jedi>=0.16->ipython>=5.0.0->ipykernel>=5.1.2->pydeck>=0.1.dev5->streamlit->simpletransformers) (0.7.0)\n",
      "Requirement already satisfied: MarkupSafe>=0.23 in /Users/zhanghexin/opt/anaconda3/lib/python3.8/site-packages (from jinja2->altair>=3.2.0->streamlit->simpletransformers) (1.1.1)\n",
      "Requirement already satisfied: jupyter-core in /Users/zhanghexin/opt/anaconda3/lib/python3.8/site-packages (from nbformat>=4.2.0->ipywidgets>=7.0.0->pydeck>=0.1.dev5->streamlit->simpletransformers) (4.7.1)\n",
      "Requirement already satisfied: ipython-genutils in /Users/zhanghexin/opt/anaconda3/lib/python3.8/site-packages (from nbformat>=4.2.0->ipywidgets>=7.0.0->pydeck>=0.1.dev5->streamlit->simpletransformers) (0.2.0)\n",
      "Requirement already satisfied: pyrsistent>=0.14.0 in /Users/zhanghexin/opt/anaconda3/lib/python3.8/site-packages (from jsonschema->altair>=3.2.0->streamlit->simpletransformers) (0.17.3)\n",
      "Requirement already satisfied: attrs>=17.4.0 in /Users/zhanghexin/opt/anaconda3/lib/python3.8/site-packages (from jsonschema->altair>=3.2.0->streamlit->simpletransformers) (20.3.0)\n",
      "Requirement already satisfied: ptyprocess>=0.5 in /Users/zhanghexin/opt/anaconda3/lib/python3.8/site-packages (from pexpect>4.3->ipython>=5.0.0->ipykernel>=5.1.2->pydeck>=0.1.dev5->streamlit->simpletransformers) (0.7.0)\n",
      "Requirement already satisfied: wcwidth in /Users/zhanghexin/opt/anaconda3/lib/python3.8/site-packages (from prompt-toolkit!=3.0.0,!=3.0.1,<3.1.0,>=2.0.0->ipython>=5.0.0->ipykernel>=5.1.2->pydeck>=0.1.dev5->streamlit->simpletransformers) (0.2.5)\n",
      "Requirement already satisfied: notebook>=4.4.1 in /Users/zhanghexin/opt/anaconda3/lib/python3.8/site-packages (from widgetsnbextension~=3.5.0->ipywidgets>=7.0.0->pydeck>=0.1.dev5->streamlit->simpletransformers) (6.3.0)\n",
      "Requirement already satisfied: argon2-cffi in /Users/zhanghexin/opt/anaconda3/lib/python3.8/site-packages (from notebook>=4.4.1->widgetsnbextension~=3.5.0->ipywidgets>=7.0.0->pydeck>=0.1.dev5->streamlit->simpletransformers) (20.1.0)\n",
      "Requirement already satisfied: terminado>=0.8.3 in /Users/zhanghexin/opt/anaconda3/lib/python3.8/site-packages (from notebook>=4.4.1->widgetsnbextension~=3.5.0->ipywidgets>=7.0.0->pydeck>=0.1.dev5->streamlit->simpletransformers) (0.9.3)\n",
      "Requirement already satisfied: prometheus-client in /Users/zhanghexin/opt/anaconda3/lib/python3.8/site-packages (from notebook>=4.4.1->widgetsnbextension~=3.5.0->ipywidgets>=7.0.0->pydeck>=0.1.dev5->streamlit->simpletransformers) (0.9.0)\n",
      "Requirement already satisfied: Send2Trash>=1.5.0 in /Users/zhanghexin/opt/anaconda3/lib/python3.8/site-packages (from notebook>=4.4.1->widgetsnbextension~=3.5.0->ipywidgets>=7.0.0->pydeck>=0.1.dev5->streamlit->simpletransformers) (1.5.0)\n",
      "Requirement already satisfied: nbconvert in /Users/zhanghexin/opt/anaconda3/lib/python3.8/site-packages (from notebook>=4.4.1->widgetsnbextension~=3.5.0->ipywidgets>=7.0.0->pydeck>=0.1.dev5->streamlit->simpletransformers) (6.0.7)\n",
      "Requirement already satisfied: pyzmq>=17 in /Users/zhanghexin/opt/anaconda3/lib/python3.8/site-packages (from notebook>=4.4.1->widgetsnbextension~=3.5.0->ipywidgets>=7.0.0->pydeck>=0.1.dev5->streamlit->simpletransformers) (20.0.0)\n",
      "Requirement already satisfied: cffi>=1.0.0 in /Users/zhanghexin/opt/anaconda3/lib/python3.8/site-packages (from argon2-cffi->notebook>=4.4.1->widgetsnbextension~=3.5.0->ipywidgets>=7.0.0->pydeck>=0.1.dev5->streamlit->simpletransformers) (1.14.5)\n",
      "Requirement already satisfied: pycparser in /Users/zhanghexin/opt/anaconda3/lib/python3.8/site-packages (from cffi>=1.0.0->argon2-cffi->notebook>=4.4.1->widgetsnbextension~=3.5.0->ipywidgets>=7.0.0->pydeck>=0.1.dev5->streamlit->simpletransformers) (2.20)\n",
      "Requirement already satisfied: typing-extensions>=3.7.4.0 in /Users/zhanghexin/opt/anaconda3/lib/python3.8/site-packages (from gitpython->streamlit->simpletransformers) (3.7.4.3)\n",
      "Collecting gitdb<5,>=4.0.1\n",
      "  Downloading gitdb-4.0.7-py3-none-any.whl (63 kB)\n",
      "\u001b[K     |████████████████████████████████| 63 kB 853 kB/s eta 0:00:01\n",
      "\u001b[?25hCollecting smmap<5,>=3.0.1\n",
      "  Downloading smmap-4.0.0-py2.py3-none-any.whl (24 kB)\n",
      "Requirement already satisfied: pandocfilters>=1.4.1 in /Users/zhanghexin/opt/anaconda3/lib/python3.8/site-packages (from nbconvert->notebook>=4.4.1->widgetsnbextension~=3.5.0->ipywidgets>=7.0.0->pydeck>=0.1.dev5->streamlit->simpletransformers) (1.4.3)\n",
      "Requirement already satisfied: defusedxml in /Users/zhanghexin/opt/anaconda3/lib/python3.8/site-packages (from nbconvert->notebook>=4.4.1->widgetsnbextension~=3.5.0->ipywidgets>=7.0.0->pydeck>=0.1.dev5->streamlit->simpletransformers) (0.7.1)\n",
      "Requirement already satisfied: testpath in /Users/zhanghexin/opt/anaconda3/lib/python3.8/site-packages (from nbconvert->notebook>=4.4.1->widgetsnbextension~=3.5.0->ipywidgets>=7.0.0->pydeck>=0.1.dev5->streamlit->simpletransformers) (0.4.4)\n",
      "Requirement already satisfied: mistune<2,>=0.8.1 in /Users/zhanghexin/opt/anaconda3/lib/python3.8/site-packages (from nbconvert->notebook>=4.4.1->widgetsnbextension~=3.5.0->ipywidgets>=7.0.0->pydeck>=0.1.dev5->streamlit->simpletransformers) (0.8.4)\n",
      "Requirement already satisfied: nbclient<0.6.0,>=0.5.0 in /Users/zhanghexin/opt/anaconda3/lib/python3.8/site-packages (from nbconvert->notebook>=4.4.1->widgetsnbextension~=3.5.0->ipywidgets>=7.0.0->pydeck>=0.1.dev5->streamlit->simpletransformers) (0.5.3)\n",
      "Requirement already satisfied: jupyterlab-pygments in /Users/zhanghexin/opt/anaconda3/lib/python3.8/site-packages (from nbconvert->notebook>=4.4.1->widgetsnbextension~=3.5.0->ipywidgets>=7.0.0->pydeck>=0.1.dev5->streamlit->simpletransformers) (0.1.2)\n",
      "Requirement already satisfied: bleach in /Users/zhanghexin/opt/anaconda3/lib/python3.8/site-packages (from nbconvert->notebook>=4.4.1->widgetsnbextension~=3.5.0->ipywidgets>=7.0.0->pydeck>=0.1.dev5->streamlit->simpletransformers) (3.3.0)\n",
      "Requirement already satisfied: async-generator in /Users/zhanghexin/opt/anaconda3/lib/python3.8/site-packages (from nbclient<0.6.0,>=0.5.0->nbconvert->notebook>=4.4.1->widgetsnbextension~=3.5.0->ipywidgets>=7.0.0->pydeck>=0.1.dev5->streamlit->simpletransformers) (1.10)\n",
      "Requirement already satisfied: nest-asyncio in /Users/zhanghexin/opt/anaconda3/lib/python3.8/site-packages (from nbclient<0.6.0,>=0.5.0->nbconvert->notebook>=4.4.1->widgetsnbextension~=3.5.0->ipywidgets>=7.0.0->pydeck>=0.1.dev5->streamlit->simpletransformers) (1.5.1)\n",
      "Requirement already satisfied: webencodings in /Users/zhanghexin/opt/anaconda3/lib/python3.8/site-packages (from bleach->nbconvert->notebook>=4.4.1->widgetsnbextension~=3.5.0->ipywidgets>=7.0.0->pydeck>=0.1.dev5->streamlit->simpletransformers) (0.5.1)\n"
     ]
    },
    {
     "name": "stdout",
     "output_type": "stream",
     "text": [
      "Collecting shortuuid>=0.5.0\n",
      "  Downloading shortuuid-1.0.1-py3-none-any.whl (7.5 kB)\n",
      "Requirement already satisfied: pathtools in /Users/zhanghexin/opt/anaconda3/lib/python3.8/site-packages (from wandb->simpletransformers) (0.1.2)\n",
      "Collecting subprocess32>=3.5.3\n",
      "  Downloading subprocess32-3.5.4.tar.gz (97 kB)\n",
      "\u001b[K     |████████████████████████████████| 97 kB 803 kB/s eta 0:00:01\n",
      "\u001b[?25hCollecting docker-pycreds>=0.4.0\n",
      "  Downloading docker_pycreds-0.4.0-py2.py3-none-any.whl (9.0 kB)\n",
      "Collecting sentry-sdk>=0.4.0\n",
      "  Downloading sentry_sdk-1.0.0-py2.py3-none-any.whl (131 kB)\n",
      "\u001b[K     |████████████████████████████████| 131 kB 704 kB/s eta 0:00:01\n",
      "\u001b[?25hCollecting promise<3,>=2.0\n",
      "  Downloading promise-2.3.tar.gz (19 kB)\n",
      "Collecting configparser>=3.8.1\n",
      "  Downloading configparser-5.0.2-py3-none-any.whl (19 kB)\n",
      "Requirement already satisfied: PyYAML in /Users/zhanghexin/opt/anaconda3/lib/python3.8/site-packages (from wandb->simpletransformers) (5.4.1)\n",
      "Requirement already satisfied: psutil>=5.0.0 in /Users/zhanghexin/opt/anaconda3/lib/python3.8/site-packages (from wandb->simpletransformers) (5.8.0)\n",
      "Building wheels for collected packages: blinker, promise, subprocess32\n",
      "  Building wheel for blinker (setup.py) ... \u001b[?25ldone\n",
      "\u001b[?25h  Created wheel for blinker: filename=blinker-1.4-py3-none-any.whl size=13451 sha256=b58a60435f010c58d53eb5ac0163fbdfe4a2300c3b14b95cc329009545802392\n",
      "  Stored in directory: /Users/zhanghexin/Library/Caches/pip/wheels/b7/a5/68/fe632054a5eadd531c7a49d740c50eb6adfbeca822b4eab8d4\n",
      "  Building wheel for promise (setup.py) ... \u001b[?25ldone\n",
      "\u001b[?25h  Created wheel for promise: filename=promise-2.3-py3-none-any.whl size=21494 sha256=f3fdc031cc79ecbcf7269073d6ef180aa9d4759909fa9720c1efed4544229a0b\n",
      "  Stored in directory: /Users/zhanghexin/Library/Caches/pip/wheels/54/aa/01/724885182f93150035a2a91bce34a12877e8067a97baaf5dc8\n",
      "  Building wheel for subprocess32 (setup.py) ... \u001b[?25ldone\n",
      "\u001b[?25h  Created wheel for subprocess32: filename=subprocess32-3.5.4-py3-none-any.whl size=6488 sha256=2c92bd33f081b1127ecb97aa32565f1468ac10427008aa6df3175a2883820831\n",
      "  Stored in directory: /Users/zhanghexin/Library/Caches/pip/wheels/9f/69/d1/50b39b308a87998eaf5c1d9095e5a5bd2ad98501e2b7936d36\n",
      "Successfully built blinker promise subprocess32\n",
      "Installing collected packages: smmap, tqdm, gitdb, dill, xxhash, validators, tzlocal, subprocess32, shortuuid, sentry-sdk, pydeck, pyarrow, promise, multiprocess, huggingface-hub, gitpython, docker-pycreds, configparser, blinker, base58, astor, altair, wandb, tensorboardx, streamlit, seqeval, sentencepiece, datasets, simpletransformers\n",
      "  Attempting uninstall: tqdm\n",
      "    Found existing installation: tqdm 4.59.0\n",
      "    Uninstalling tqdm-4.59.0:\n",
      "      Successfully uninstalled tqdm-4.59.0\n",
      "Successfully installed altair-4.1.0 astor-0.8.1 base58-2.1.0 blinker-1.4 configparser-5.0.2 datasets-1.6.0 dill-0.3.3 docker-pycreds-0.4.0 gitdb-4.0.7 gitpython-3.1.15 huggingface-hub-0.0.8 multiprocess-0.70.11.1 promise-2.3 pyarrow-3.0.0 pydeck-0.6.2 sentencepiece-0.1.95 sentry-sdk-1.0.0 seqeval-1.2.2 shortuuid-1.0.1 simpletransformers-0.61.4 smmap-4.0.0 streamlit-0.80.0 subprocess32-3.5.4 tensorboardx-2.2 tqdm-4.49.0 tzlocal-2.1 validators-0.18.2 wandb-0.10.27 xxhash-2.0.2\n"
     ]
    }
   ],
   "source": [
    "# !pip install simpletransformers"
   ]
  },
  {
   "cell_type": "markdown",
   "metadata": {},
   "source": [
    "# Part 1"
   ]
  },
  {
   "cell_type": "code",
   "execution_count": 2,
   "metadata": {},
   "outputs": [],
   "source": [
    "import pandas as pd\n",
    "import random\n",
    "from collections import defaultdict, Counter\n",
    "from tqdm.notebook import tqdm\n",
    "# from simpletransformers.classification import ClassificationModel, ClassificationArgs\n",
    "import logging\n",
    "from simpletransformers.language_modeling import (\n",
    "    LanguageModelingModel,\n",
    "    LanguageModelingArgs,\n",
    ")\n",
    "import numpy as np\n",
    "from sklearn.metrics import f1_score\n",
    "%matplotlib inline"
   ]
  },
  {
   "cell_type": "code",
   "execution_count": 3,
   "metadata": {
    "id": "51gG1LTa9qz9"
   },
   "outputs": [],
   "source": [
    "# from google.colab import drive\n",
    "# drive.mount('/content/drive')"
   ]
  },
  {
   "cell_type": "code",
   "execution_count": 4,
   "metadata": {
    "id": "gOisrALypo7A"
   },
   "outputs": [],
   "source": [
    "logging.basicConfig(level=logging.INFO)\n",
    "transformers_logger = logging.getLogger(\"transformers\")\n",
    "transformers_logger.setLevel(logging.WARNING)\n",
    "\n",
    "model_args = LanguageModelingArgs()\n",
    "model_args.reprocess_input_data = True\n",
    "model_args.num_train_epochs = 5\n",
    "model_args.dataset_type = \"simple\"\n",
    "model_args.mlm = False  # mlm must be False for CLM\n",
    "model_args.best_model_dir = '.'\n",
    "model_args.evaluate_during_training = True\n",
    "model_args.overwrite_output_dir = True\n",
    "model_args.train_batch_size = 2\n",
    "model_args.eval_batch_size = 2\n",
    "\n",
    "# model = LanguageModelingModel(\n",
    "#     \"gpt2\", \"gpt2-medium\", args=model_args, use_cuda=False\n",
    "# )\n",
    "\n",
    "model = LanguageModelingModel(\n",
    "    \"gpt2\", \"gpt2-medium\", args=model_args, use_cuda=True\n",
    ")\n",
    "\n"
   ]
  },
  {
   "cell_type": "code",
   "execution_count": 11,
   "metadata": {
    "id": "V850zoQX4Hpw"
   },
   "outputs": [],
   "source": [
    "train_file = \"./drive/MyDrive/train.txt\"\n",
    "test_file = \"./drive/MyDrive/test.txt\"\n",
    "dev_file = \"./drive/MyDrive/dev.txt\""
   ]
  },
  {
   "cell_type": "code",
   "execution_count": null,
   "metadata": {},
   "outputs": [],
   "source": [
    "model.train_model(train_file, eval_file=dev_file)"
   ]
  },
  {
   "cell_type": "code",
   "execution_count": null,
   "metadata": {},
   "outputs": [],
   "source": [
    "result_train = model.eval_model(train_file)\n",
    "result_dev = model.eval_model(dev_file)\n",
    "result_test = model.eval_model(test_file)"
   ]
  },
  {
   "cell_type": "markdown",
   "metadata": {},
   "source": [
    "# Part 2"
   ]
  },
  {
   "cell_type": "code",
   "execution_count": 3,
   "metadata": {
    "colab": {
     "base_uri": "https://localhost:8080/"
    },
    "id": "hi2yBA6rK9lo",
    "outputId": "7fb350f8-e1a2-4720-b6f1-cbbcc0ab012d"
   },
   "outputs": [
    {
     "name": "stderr",
     "output_type": "stream",
     "text": [
      "Setting `pad_token_id` to `eos_token_id`:50256 for open-end generation.\n",
      "INFO:simpletransformers.language_generation.language_generation_model:=== GENERATED SEQUENCE 1 ===\n",
      "INFO:simpletransformers.language_generation.language_generation_model:My love ñ Don't ever go ñ Cause we're friends ñ  ñ  �\n",
      "Setting `pad_token_id` to `eos_token_id`:50256 for open-end generation.\n"
     ]
    },
    {
     "name": "stdout",
     "output_type": "stream",
     "text": [
      "My love\n",
      "Don't ever go\n",
      "Cause we're friends\n",
      "\n",
      " �\n",
      "\n"
     ]
    },
    {
     "name": "stderr",
     "output_type": "stream",
     "text": [
      "INFO:simpletransformers.language_generation.language_generation_model:=== GENERATED SEQUENCE 1 ===\n",
      "INFO:simpletransformers.language_generation.language_generation_model:The black sea ñ The black seas ñ And the black seas ñ And the black sea �\n",
      "Setting `pad_token_id` to `eos_token_id`:50256 for open-end generation.\n"
     ]
    },
    {
     "name": "stdout",
     "output_type": "stream",
     "text": [
      "The black sea\n",
      "The black seas\n",
      "And the black seas\n",
      "And the black sea �\n",
      "\n"
     ]
    },
    {
     "name": "stderr",
     "output_type": "stream",
     "text": [
      "INFO:simpletransformers.language_generation.language_generation_model:=== GENERATED SEQUENCE 1 ===\n",
      "INFO:simpletransformers.language_generation.language_generation_model:One of the few men that we had to share ñ I met you when you fell down on me\n",
      "Setting `pad_token_id` to `eos_token_id`:50256 for open-end generation.\n"
     ]
    },
    {
     "name": "stdout",
     "output_type": "stream",
     "text": [
      "One of the few men that we had to share\n",
      "I met you when you fell down on me\n",
      "\n"
     ]
    },
    {
     "name": "stderr",
     "output_type": "stream",
     "text": [
      "INFO:simpletransformers.language_generation.language_generation_model:=== GENERATED SEQUENCE 1 ===\n",
      "INFO:simpletransformers.language_generation.language_generation_model:When I'm with you ñ I don't feel any pain ñ Because you don't care �\n",
      "Setting `pad_token_id` to `eos_token_id`:50256 for open-end generation.\n"
     ]
    },
    {
     "name": "stdout",
     "output_type": "stream",
     "text": [
      "When I'm with you\n",
      "I don't feel any pain\n",
      "Because you don't care �\n",
      "\n"
     ]
    },
    {
     "name": "stderr",
     "output_type": "stream",
     "text": [
      "INFO:simpletransformers.language_generation.language_generation_model:=== GENERATED SEQUENCE 1 ===\n",
      "INFO:simpletransformers.language_generation.language_generation_model:If you take my hand ñ And sing a song, say a song for me ñ And sing\n"
     ]
    },
    {
     "name": "stdout",
     "output_type": "stream",
     "text": [
      "If you take my hand\n",
      "And sing a song, say a song for me\n",
      "And sing\n",
      "\n"
     ]
    }
   ],
   "source": [
    "import logging\n",
    "from simpletransformers.language_generation import LanguageGenerationModel\n",
    "\n",
    "from simpletransformers.language_generation import (\n",
    "    LanguageGenerationModel,\n",
    "    LanguageGenerationArgs,\n",
    ")\n",
    "\n",
    "logging.basicConfig(level=logging.INFO)\n",
    "transformers_logger = logging.getLogger(\"transformers\")\n",
    "transformers_logger.setLevel(logging.WARNING)\n",
    "\n",
    "model_args = LanguageGenerationArgs()\n",
    "\n",
    "model_args.max_length = 20\n",
    "\n",
    "model = LanguageGenerationModel(\n",
    "    \"gpt2\",\n",
    "    \"checkpoint-10000\",\n",
    "    args=model_args,\n",
    "    use_cuda=False\n",
    ")\n",
    "\n",
    "prompts = [\n",
    "    \"My\",\n",
    "    \"The\",\n",
    "    \"One\",\n",
    "    \"When\",\n",
    "    \"If\"\n",
    "]\n",
    "\n",
    "for prompt in prompts:\n",
    "    # Generate text using the model. Verbose set to False to prevent logging generated sequences.\n",
    "    generated = model.generate(prompt)\n",
    "    result = '\\n'.join(generated[0].split(' ñ ')) + '\\n'\n",
    "    result = result.replace(' ñ','')\n",
    "    result = result.replace('\\n\\n','\\n')\n",
    "    print(result)\n"
   ]
  },
  {
   "cell_type": "code",
   "execution_count": 7,
   "metadata": {},
   "outputs": [
    {
     "name": "stderr",
     "output_type": "stream",
     "text": [
      "Setting `pad_token_id` to `eos_token_id`:50256 for open-end generation.\n",
      "INFO:simpletransformers.language_generation.language_generation_model:=== GENERATED SEQUENCE 1 ===\n",
      "INFO:simpletransformers.language_generation.language_generation_model:Hola, I am a beggar ñ I am a beggar ñ I am a beggar\n",
      "Setting `pad_token_id` to `eos_token_id`:50256 for open-end generation.\n"
     ]
    },
    {
     "name": "stdout",
     "output_type": "stream",
     "text": [
      "Hola, I am a beggar\n",
      "I am a beggar\n",
      "I am a beggar\n",
      "\n"
     ]
    },
    {
     "name": "stderr",
     "output_type": "stream",
     "text": [
      "INFO:simpletransformers.language_generation.language_generation_model:=== GENERATED SEQUENCE 1 ===\n",
      "INFO:simpletransformers.language_generation.language_generation_model:Was ist das beibeig? ñ The best thing that ever happened ñ Is my dog, now �\n",
      "Setting `pad_token_id` to `eos_token_id`:50256 for open-end generation.\n"
     ]
    },
    {
     "name": "stdout",
     "output_type": "stream",
     "text": [
      "Was ist das beibeig?\n",
      "The best thing that ever happened\n",
      "Is my dog, now �\n",
      "\n"
     ]
    },
    {
     "name": "stderr",
     "output_type": "stream",
     "text": [
      "INFO:simpletransformers.language_generation.language_generation_model:=== GENERATED SEQUENCE 1 ===\n",
      "INFO:simpletransformers.language_generation.language_generation_model:Ich bin da nach dem jag jag sprengkerein ñ Ich bin da nach\n",
      "Setting `pad_token_id` to `eos_token_id`:50256 for open-end generation.\n"
     ]
    },
    {
     "name": "stdout",
     "output_type": "stream",
     "text": [
      "Ich bin da nach dem jag jag sprengkerein\n",
      "Ich bin da nach\n",
      "\n"
     ]
    },
    {
     "name": "stderr",
     "output_type": "stream",
     "text": [
      "INFO:simpletransformers.language_generation.language_generation_model:=== GENERATED SEQUENCE 1 ===\n",
      "INFO:simpletransformers.language_generation.language_generation_model:Who's there and what's gonna happen now?) ñ You're gonna die a few days later ñ You\n",
      "Setting `pad_token_id` to `eos_token_id`:50256 for open-end generation.\n"
     ]
    },
    {
     "name": "stdout",
     "output_type": "stream",
     "text": [
      "Who's there and what's gonna happen now?)\n",
      "You're gonna die a few days later\n",
      "You\n",
      "\n"
     ]
    },
    {
     "name": "stderr",
     "output_type": "stream",
     "text": [
      "INFO:simpletransformers.language_generation.language_generation_model:=== GENERATED SEQUENCE 1 ===\n",
      "INFO:simpletransformers.language_generation.language_generation_model:Holmes ñ I need to let you off ñ We were happy ñ And it's hard to\n",
      "Setting `pad_token_id` to `eos_token_id`:50256 for open-end generation.\n"
     ]
    },
    {
     "name": "stdout",
     "output_type": "stream",
     "text": [
      "Holmes\n",
      "I need to let you off\n",
      "We were happy\n",
      "And it's hard to\n",
      "\n"
     ]
    },
    {
     "name": "stderr",
     "output_type": "stream",
     "text": [
      "INFO:simpletransformers.language_generation.language_generation_model:=== GENERATED SEQUENCE 1 ===\n",
      "INFO:simpletransformers.language_generation.language_generation_model:Romeo and Juliet? ñ Yes, and the two lovers ñ No, nothing like that ñ There's\n",
      "Setting `pad_token_id` to `eos_token_id`:50256 for open-end generation.\n"
     ]
    },
    {
     "name": "stdout",
     "output_type": "stream",
     "text": [
      "Romeo and Juliet?\n",
      "Yes, and the two lovers\n",
      "No, nothing like that\n",
      "There's\n",
      "\n"
     ]
    },
    {
     "name": "stderr",
     "output_type": "stream",
     "text": [
      "INFO:simpletransformers.language_generation.language_generation_model:=== GENERATED SEQUENCE 1 ===\n",
      "INFO:simpletransformers.language_generation.language_generation_model:Sushi nake, sushi ñ The one to the left is the best ñ But it's not\n",
      "Setting `pad_token_id` to `eos_token_id`:50256 for open-end generation.\n"
     ]
    },
    {
     "name": "stdout",
     "output_type": "stream",
     "text": [
      "Sushi nake, sushi\n",
      "The one to the left is the best\n",
      "But it's not\n",
      "\n"
     ]
    },
    {
     "name": "stderr",
     "output_type": "stream",
     "text": [
      "INFO:simpletransformers.language_generation.language_generation_model:=== GENERATED SEQUENCE 1 ===\n",
      "INFO:simpletransformers.language_generation.language_generation_model:Ice-cream iced tea ñ It's good enough for us but it's so good ñ So much better\n",
      "Setting `pad_token_id` to `eos_token_id`:50256 for open-end generation.\n"
     ]
    },
    {
     "name": "stdout",
     "output_type": "stream",
     "text": [
      "Ice-cream iced tea\n",
      "It's good enough for us but it's so good\n",
      "So much better\n",
      "\n"
     ]
    },
    {
     "name": "stderr",
     "output_type": "stream",
     "text": [
      "INFO:simpletransformers.language_generation.language_generation_model:=== GENERATED SEQUENCE 1 ===\n",
      "INFO:simpletransformers.language_generation.language_generation_model:God is a girl! ñ All I hear is \"You're a man! ñ All I see is \"\n",
      "Setting `pad_token_id` to `eos_token_id`:50256 for open-end generation.\n"
     ]
    },
    {
     "name": "stdout",
     "output_type": "stream",
     "text": [
      "God is a girl!\n",
      "All I hear is \"You're a man!\n",
      "All I see is \"\n",
      "\n"
     ]
    },
    {
     "name": "stderr",
     "output_type": "stream",
     "text": [
      "INFO:simpletransformers.language_generation.language_generation_model:=== GENERATED SEQUENCE 1 ===\n",
      "INFO:simpletransformers.language_generation.language_generation_model:Beijing, Beijing ñ Beijing, Beijing, Beijing ñ Beijing, Beijing, BeijingI am the light ñ\n",
      "Setting `pad_token_id` to `eos_token_id`:50256 for open-end generation.\n"
     ]
    },
    {
     "name": "stdout",
     "output_type": "stream",
     "text": [
      "Beijing, Beijing\n",
      "Beijing, Beijing, Beijing\n",
      "Beijing, Beijing, BeijingI am the light\n",
      "\n"
     ]
    },
    {
     "name": "stderr",
     "output_type": "stream",
     "text": [
      "INFO:simpletransformers.language_generation.language_generation_model:=== GENERATED SEQUENCE 1 ===\n",
      "INFO:simpletransformers.language_generation.language_generation_model:Vampire: You're always right and we're always wrong ñ But if you leave me ñ I\n",
      "Setting `pad_token_id` to `eos_token_id`:50256 for open-end generation.\n"
     ]
    },
    {
     "name": "stdout",
     "output_type": "stream",
     "text": [
      "Vampire: You're always right and we're always wrong\n",
      "But if you leave me\n",
      "I\n",
      "\n"
     ]
    },
    {
     "name": "stderr",
     "output_type": "stream",
     "text": [
      "INFO:simpletransformers.language_generation.language_generation_model:=== GENERATED SEQUENCE 1 ===\n",
      "INFO:simpletransformers.language_generation.language_generation_model:You raise me up ñ Raise me up ñ I'm sorry ñ I'm sorry ñ You raise me\n",
      "Setting `pad_token_id` to `eos_token_id`:50256 for open-end generation.\n"
     ]
    },
    {
     "name": "stdout",
     "output_type": "stream",
     "text": [
      "You raise me up\n",
      "Raise me up\n",
      "I'm sorry\n",
      "I'm sorry\n",
      "You raise me\n",
      "\n"
     ]
    },
    {
     "name": "stderr",
     "output_type": "stream",
     "text": [
      "INFO:simpletransformers.language_generation.language_generation_model:=== GENERATED SEQUENCE 1 ===\n",
      "INFO:simpletransformers.language_generation.language_generation_model:France ñ I've been a long time ñ And while I have no fear ñ If we\n",
      "Setting `pad_token_id` to `eos_token_id`:50256 for open-end generation.\n"
     ]
    },
    {
     "name": "stdout",
     "output_type": "stream",
     "text": [
      "France\n",
      "I've been a long time\n",
      "And while I have no fear\n",
      "If we\n",
      "\n"
     ]
    },
    {
     "name": "stderr",
     "output_type": "stream",
     "text": [
      "INFO:simpletransformers.language_generation.language_generation_model:=== GENERATED SEQUENCE 1 ===\n",
      "INFO:simpletransformers.language_generation.language_generation_model:Japanese girls' life ñ When I'm coming back to you ñ Then you're not a boy �\n",
      "Setting `pad_token_id` to `eos_token_id`:50256 for open-end generation.\n"
     ]
    },
    {
     "name": "stdout",
     "output_type": "stream",
     "text": [
      "Japanese girls' life\n",
      "When I'm coming back to you\n",
      "Then you're not a boy �\n",
      "\n"
     ]
    },
    {
     "name": "stderr",
     "output_type": "stream",
     "text": [
      "INFO:simpletransformers.language_generation.language_generation_model:=== GENERATED SEQUENCE 1 ===\n",
      "INFO:simpletransformers.language_generation.language_generation_model:You're everything I've always wanted and more I would like to have ñ I'll wait but I can't wait and I am afraid to\n",
      "Setting `pad_token_id` to `eos_token_id`:50256 for open-end generation.\n"
     ]
    },
    {
     "name": "stdout",
     "output_type": "stream",
     "text": [
      "You're everything I've always wanted and more I would like to have\n",
      "I'll wait but I can't wait and I am afraid to\n",
      "\n"
     ]
    },
    {
     "name": "stderr",
     "output_type": "stream",
     "text": [
      "INFO:simpletransformers.language_generation.language_generation_model:=== GENERATED SEQUENCE 1 ===\n",
      "INFO:simpletransformers.language_generation.language_generation_model:That's for sure, you do it, it's for sure) ñ Do it, do it, do it\n",
      "Setting `pad_token_id` to `eos_token_id`:50256 for open-end generation.\n"
     ]
    },
    {
     "name": "stdout",
     "output_type": "stream",
     "text": [
      "That's for sure, you do it, it's for sure)\n",
      "Do it, do it, do it\n",
      "\n"
     ]
    },
    {
     "name": "stderr",
     "output_type": "stream",
     "text": [
      "INFO:simpletransformers.language_generation.language_generation_model:=== GENERATED SEQUENCE 1 ===\n",
      "INFO:simpletransformers.language_generation.language_generation_model:And I know it's over ñ We're all that we've ever need, you're everything to me ñ I want\n",
      "Setting `pad_token_id` to `eos_token_id`:50256 for open-end generation.\n"
     ]
    },
    {
     "name": "stdout",
     "output_type": "stream",
     "text": [
      "And I know it's over\n",
      "We're all that we've ever need, you're everything to me\n",
      "I want\n",
      "\n"
     ]
    },
    {
     "name": "stderr",
     "output_type": "stream",
     "text": [
      "INFO:simpletransformers.language_generation.language_generation_model:=== GENERATED SEQUENCE 1 ===\n",
      "INFO:simpletransformers.language_generation.language_generation_model:'cause it's the end of the world ñ I know she's a ghost ñ She's a ghost of your friend, a ghost\n",
      "Setting `pad_token_id` to `eos_token_id`:50256 for open-end generation.\n"
     ]
    },
    {
     "name": "stdout",
     "output_type": "stream",
     "text": [
      "'cause it's the end of the world\n",
      "I know she's a ghost\n",
      "She's a ghost of your friend, a ghost\n",
      "\n"
     ]
    },
    {
     "name": "stderr",
     "output_type": "stream",
     "text": [
      "INFO:simpletransformers.language_generation.language_generation_model:=== GENERATED SEQUENCE 1 ===\n",
      "INFO:simpletransformers.language_generation.language_generation_model:Umbrella! ñ (I'm gonna scream this song!...) ñ (Hey, look at your\n",
      "Setting `pad_token_id` to `eos_token_id`:50256 for open-end generation.\n"
     ]
    },
    {
     "name": "stdout",
     "output_type": "stream",
     "text": [
      "Umbrella!\n",
      "(I'm gonna scream this song!...)\n",
      "(Hey, look at your\n",
      "\n"
     ]
    },
    {
     "name": "stderr",
     "output_type": "stream",
     "text": [
      "INFO:simpletransformers.language_generation.language_generation_model:=== GENERATED SEQUENCE 1 ===\n",
      "INFO:simpletransformers.language_generation.language_generation_model:Sakura ñ I love you ñ So go get some sleep ñ The next day ñ I\n",
      "Setting `pad_token_id` to `eos_token_id`:50256 for open-end generation.\n"
     ]
    },
    {
     "name": "stdout",
     "output_type": "stream",
     "text": [
      "Sakura\n",
      "I love you\n",
      "So go get some sleep\n",
      "The next day\n",
      "I\n",
      "\n"
     ]
    },
    {
     "name": "stderr",
     "output_type": "stream",
     "text": [
      "INFO:simpletransformers.language_generation.language_generation_model:=== GENERATED SEQUENCE 1 ===\n",
      "INFO:simpletransformers.language_generation.language_generation_model:I've been there before ñ Never did it feel like I should ñ Now I have to find it out �\n",
      "Setting `pad_token_id` to `eos_token_id`:50256 for open-end generation.\n"
     ]
    },
    {
     "name": "stdout",
     "output_type": "stream",
     "text": [
      "I've been there before\n",
      "Never did it feel like I should\n",
      "Now I have to find it out �\n",
      "\n"
     ]
    },
    {
     "name": "stderr",
     "output_type": "stream",
     "text": [
      "INFO:simpletransformers.language_generation.language_generation_model:=== GENERATED SEQUENCE 1 ===\n",
      "INFO:simpletransformers.language_generation.language_generation_model:For you and me, there is no end ñ For all of us, there is no end ñ\n",
      "Setting `pad_token_id` to `eos_token_id`:50256 for open-end generation.\n"
     ]
    },
    {
     "name": "stdout",
     "output_type": "stream",
     "text": [
      "For you and me, there is no end\n",
      "For all of us, there is no end\n",
      "\n"
     ]
    },
    {
     "name": "stderr",
     "output_type": "stream",
     "text": [
      "INFO:simpletransformers.language_generation.language_generation_model:=== GENERATED SEQUENCE 1 ===\n",
      "INFO:simpletransformers.language_generation.language_generation_model:T-shirt, I've got a big bag (I've got a big bag) ñ That I'm\n",
      "Setting `pad_token_id` to `eos_token_id`:50256 for open-end generation.\n"
     ]
    },
    {
     "name": "stdout",
     "output_type": "stream",
     "text": [
      "T-shirt, I've got a big bag (I've got a big bag)\n",
      "That I'm\n",
      "\n"
     ]
    },
    {
     "name": "stderr",
     "output_type": "stream",
     "text": [
      "INFO:simpletransformers.language_generation.language_generation_model:=== GENERATED SEQUENCE 1 ===\n",
      "INFO:simpletransformers.language_generation.language_generation_model:Tear the soul out of me ñ I'm anemic ñ The best I can do ñ Is die slowly\n",
      "Setting `pad_token_id` to `eos_token_id`:50256 for open-end generation.\n"
     ]
    },
    {
     "name": "stdout",
     "output_type": "stream",
     "text": [
      "Tear the soul out of me\n",
      "I'm anemic\n",
      "The best I can do\n",
      "Is die slowly\n",
      "\n"
     ]
    },
    {
     "name": "stderr",
     "output_type": "stream",
     "text": [
      "INFO:simpletransformers.language_generation.language_generation_model:=== GENERATED SEQUENCE 1 ===\n",
      "INFO:simpletransformers.language_generation.language_generation_model:For your taking ñ With your help to make a dream come trueLyrics from snippet ñ  ñ\n",
      "Setting `pad_token_id` to `eos_token_id`:50256 for open-end generation.\n"
     ]
    },
    {
     "name": "stdout",
     "output_type": "stream",
     "text": [
      "For your taking\n",
      "With your help to make a dream come trueLyrics from snippet\n",
      "\n"
     ]
    },
    {
     "name": "stderr",
     "output_type": "stream",
     "text": [
      "INFO:simpletransformers.language_generation.language_generation_model:=== GENERATED SEQUENCE 1 ===\n",
      "INFO:simpletransformers.language_generation.language_generation_model:Mother, mother ñ I am dying ñ I am dying ñ I am dying ñ I am dying\n",
      "Setting `pad_token_id` to `eos_token_id`:50256 for open-end generation.\n"
     ]
    },
    {
     "name": "stdout",
     "output_type": "stream",
     "text": [
      "Mother, mother\n",
      "I am dying\n",
      "I am dying\n",
      "I am dying\n",
      "I am dying\n",
      "\n"
     ]
    },
    {
     "name": "stderr",
     "output_type": "stream",
     "text": [
      "INFO:simpletransformers.language_generation.language_generation_model:=== GENERATED SEQUENCE 1 ===\n",
      "INFO:simpletransformers.language_generation.language_generation_model:Hello world, you're all the way down, what can I do? ñ What can I do?\n",
      "Setting `pad_token_id` to `eos_token_id`:50256 for open-end generation.\n"
     ]
    },
    {
     "name": "stdout",
     "output_type": "stream",
     "text": [
      "Hello world, you're all the way down, what can I do?\n",
      "What can I do?\n",
      "\n"
     ]
    },
    {
     "name": "stderr",
     "output_type": "stream",
     "text": [
      "INFO:simpletransformers.language_generation.language_generation_model:=== GENERATED SEQUENCE 1 ===\n",
      "INFO:simpletransformers.language_generation.language_generation_model:Would you love me? ñ  ñ Yeah! ñ  ñ  ñ Yeah! ñ \n",
      "Setting `pad_token_id` to `eos_token_id`:50256 for open-end generation.\n"
     ]
    },
    {
     "name": "stdout",
     "output_type": "stream",
     "text": [
      "Would you love me?\n",
      "Yeah!\n",
      "\n",
      "Yeah!\n",
      "\n"
     ]
    },
    {
     "name": "stderr",
     "output_type": "stream",
     "text": [
      "INFO:simpletransformers.language_generation.language_generation_model:=== GENERATED SEQUENCE 1 ===\n",
      "INFO:simpletransformers.language_generation.language_generation_model:And it's easier on me ñ To see your world ñ With no regrets ñ But I can feel your heart �\n",
      "Setting `pad_token_id` to `eos_token_id`:50256 for open-end generation.\n"
     ]
    },
    {
     "name": "stdout",
     "output_type": "stream",
     "text": [
      "And it's easier on me\n",
      "To see your world\n",
      "With no regrets\n",
      "But I can feel your heart �\n",
      "\n"
     ]
    },
    {
     "name": "stderr",
     "output_type": "stream",
     "text": [
      "INFO:simpletransformers.language_generation.language_generation_model:=== GENERATED SEQUENCE 1 ===\n",
      "INFO:simpletransformers.language_generation.language_generation_model:Sasha Baron Cohen, porsche designer 911 GTRS ñ  ñ  ñ Porsche 911 GTRS 926 Turbo with\n",
      "Setting `pad_token_id` to `eos_token_id`:50256 for open-end generation.\n"
     ]
    },
    {
     "name": "stdout",
     "output_type": "stream",
     "text": [
      "Sasha Baron Cohen, porsche designer 911 GTRS\n",
      "\n",
      "Porsche 911 GTRS 926 Turbo with\n",
      "\n"
     ]
    },
    {
     "name": "stderr",
     "output_type": "stream",
     "text": [
      "INFO:simpletransformers.language_generation.language_generation_model:=== GENERATED SEQUENCE 1 ===\n",
      "INFO:simpletransformers.language_generation.language_generation_model:You say, it's not what you do ñ But the way you act ñ Is so strange, how you think ñ I can\n",
      "Setting `pad_token_id` to `eos_token_id`:50256 for open-end generation.\n"
     ]
    },
    {
     "name": "stdout",
     "output_type": "stream",
     "text": [
      "You say, it's not what you do\n",
      "But the way you act\n",
      "Is so strange, how you think\n",
      "I can\n",
      "\n"
     ]
    },
    {
     "name": "stderr",
     "output_type": "stream",
     "text": [
      "INFO:simpletransformers.language_generation.language_generation_model:=== GENERATED SEQUENCE 1 ===\n",
      "INFO:simpletransformers.language_generation.language_generation_model:It's what you're thinkin' of when you go out on a limb, go out on a limb, go out on a limb,\n",
      "Setting `pad_token_id` to `eos_token_id`:50256 for open-end generation.\n"
     ]
    },
    {
     "name": "stdout",
     "output_type": "stream",
     "text": [
      "It's what you're thinkin' of when you go out on a limb, go out on a limb, go out on a limb,\n",
      "\n"
     ]
    },
    {
     "name": "stderr",
     "output_type": "stream",
     "text": [
      "INFO:simpletransformers.language_generation.language_generation_model:=== GENERATED SEQUENCE 1 ===\n",
      "INFO:simpletransformers.language_generation.language_generation_model:Well, I'll get out ñ And I won't let you go ñ All I wanna do is\n",
      "Setting `pad_token_id` to `eos_token_id`:50256 for open-end generation.\n"
     ]
    },
    {
     "name": "stdout",
     "output_type": "stream",
     "text": [
      "Well, I'll get out\n",
      "And I won't let you go\n",
      "All I wanna do is\n",
      "\n"
     ]
    },
    {
     "name": "stderr",
     "output_type": "stream",
     "text": [
      "INFO:simpletransformers.language_generation.language_generation_model:=== GENERATED SEQUENCE 1 ===\n",
      "INFO:simpletransformers.language_generation.language_generation_model:Blame it all on my roots ñ You can't change what is inside of me ñ But I will be the one �\n",
      "Setting `pad_token_id` to `eos_token_id`:50256 for open-end generation.\n"
     ]
    },
    {
     "name": "stdout",
     "output_type": "stream",
     "text": [
      "Blame it all on my roots\n",
      "You can't change what is inside of me\n",
      "But I will be the one �\n",
      "\n"
     ]
    },
    {
     "name": "stderr",
     "output_type": "stream",
     "text": [
      "INFO:simpletransformers.language_generation.language_generation_model:=== GENERATED SEQUENCE 1 ===\n",
      "INFO:simpletransformers.language_generation.language_generation_model:I showed up in boots and tie ñ  ñ I just wanna give thanks ñ And I just wanna give you\n",
      "Setting `pad_token_id` to `eos_token_id`:50256 for open-end generation.\n"
     ]
    },
    {
     "name": "stdout",
     "output_type": "stream",
     "text": [
      "I showed up in boots and tie\n",
      "I just wanna give thanks\n",
      "And I just wanna give you\n",
      "\n"
     ]
    },
    {
     "name": "stderr",
     "output_type": "stream",
     "text": [
      "INFO:simpletransformers.language_generation.language_generation_model:=== GENERATED SEQUENCE 1 ===\n",
      "INFO:simpletransformers.language_generation.language_generation_model:Ah, how many brothers been charged? ñ So that the king could know that they had slain the enemy ñ  ñ And\n",
      "Setting `pad_token_id` to `eos_token_id`:50256 for open-end generation.\n"
     ]
    },
    {
     "name": "stdout",
     "output_type": "stream",
     "text": [
      "Ah, how many brothers been charged?\n",
      "So that the king could know that they had slain the enemy\n",
      "And\n",
      "\n"
     ]
    },
    {
     "name": "stderr",
     "output_type": "stream",
     "text": [
      "INFO:simpletransformers.language_generation.language_generation_model:=== GENERATED SEQUENCE 1 ===\n",
      "INFO:simpletransformers.language_generation.language_generation_model:Go through wires and set firns of sticks ñ And the flames are bright all the day ñ When it falls into the\n",
      "Setting `pad_token_id` to `eos_token_id`:50256 for open-end generation.\n"
     ]
    },
    {
     "name": "stdout",
     "output_type": "stream",
     "text": [
      "Go through wires and set firns of sticks\n",
      "And the flames are bright all the day\n",
      "When it falls into the\n",
      "\n"
     ]
    },
    {
     "name": "stderr",
     "output_type": "stream",
     "text": [
      "INFO:simpletransformers.language_generation.language_generation_model:=== GENERATED SEQUENCE 1 ===\n",
      "INFO:simpletransformers.language_generation.language_generation_model:Yeah, that's what it is ñ Yeah, that's what it is ñ Yeah, that's\n",
      "Setting `pad_token_id` to `eos_token_id`:50256 for open-end generation.\n"
     ]
    },
    {
     "name": "stdout",
     "output_type": "stream",
     "text": [
      "Yeah, that's what it is\n",
      "Yeah, that's what it is\n",
      "Yeah, that's\n",
      "\n"
     ]
    },
    {
     "name": "stderr",
     "output_type": "stream",
     "text": [
      "INFO:simpletransformers.language_generation.language_generation_model:=== GENERATED SEQUENCE 1 ===\n",
      "INFO:simpletransformers.language_generation.language_generation_model:As the Charity Department at the Treasury of War ñ We're in a field trying to set up the charity department's account ñ\n",
      "Setting `pad_token_id` to `eos_token_id`:50256 for open-end generation.\n"
     ]
    },
    {
     "name": "stdout",
     "output_type": "stream",
     "text": [
      "As the Charity Department at the Treasury of War\n",
      "We're in a field trying to set up the charity department's account\n",
      "\n"
     ]
    },
    {
     "name": "stderr",
     "output_type": "stream",
     "text": [
      "INFO:simpletransformers.language_generation.language_generation_model:=== GENERATED SEQUENCE 1 ===\n",
      "INFO:simpletransformers.language_generation.language_generation_model:Dispenses licenses so  for your use ñ For free use on the internet ñ So don't stop from fucking getting\n",
      "Setting `pad_token_id` to `eos_token_id`:50256 for open-end generation.\n"
     ]
    },
    {
     "name": "stdout",
     "output_type": "stream",
     "text": [
      "Dispenses licenses so  for your use\n",
      "For free use on the internet\n",
      "So don't stop from fucking getting\n",
      "\n"
     ]
    },
    {
     "name": "stderr",
     "output_type": "stream",
     "text": [
      "INFO:simpletransformers.language_generation.language_generation_model:=== GENERATED SEQUENCE 1 ===\n",
      "INFO:simpletransformers.language_generation.language_generation_model:It's Kid Ink, yeah yeah, watch this shit ñ Watch this shit, watch this shit, watch this shit ñ Watching this shit,\n",
      "Setting `pad_token_id` to `eos_token_id`:50256 for open-end generation.\n"
     ]
    },
    {
     "name": "stdout",
     "output_type": "stream",
     "text": [
      "It's Kid Ink, yeah yeah, watch this shit\n",
      "Watch this shit, watch this shit, watch this shit\n",
      "Watching this shit,\n",
      "\n"
     ]
    },
    {
     "name": "stderr",
     "output_type": "stream",
     "text": [
      "INFO:simpletransformers.language_generation.language_generation_model:=== GENERATED SEQUENCE 1 ===\n",
      "INFO:simpletransformers.language_generation.language_generation_model:Tell me who's that?\" ñ And I wonder why she's so tall ñ She looks so cool ñ I\n",
      "Setting `pad_token_id` to `eos_token_id`:50256 for open-end generation.\n"
     ]
    },
    {
     "name": "stdout",
     "output_type": "stream",
     "text": [
      "Tell me who's that?\"\n",
      "And I wonder why she's so tall\n",
      "She looks so cool\n",
      "I\n",
      "\n"
     ]
    },
    {
     "name": "stderr",
     "output_type": "stream",
     "text": [
      "INFO:simpletransformers.language_generation.language_generation_model:=== GENERATED SEQUENCE 1 ===\n",
      "INFO:simpletransformers.language_generation.language_generation_model:She wore crushed velvet, jet black and to the floor ñ  ñ This black thing looks so big, it really is ñ My eyes gl\n",
      "Setting `pad_token_id` to `eos_token_id`:50256 for open-end generation.\n"
     ]
    },
    {
     "name": "stdout",
     "output_type": "stream",
     "text": [
      "She wore crushed velvet, jet black and to the floor\n",
      "This black thing looks so big, it really is\n",
      "My eyes gl\n",
      "\n"
     ]
    },
    {
     "name": "stderr",
     "output_type": "stream",
     "text": [
      "INFO:simpletransformers.language_generation.language_generation_model:=== GENERATED SEQUENCE 1 ===\n",
      "INFO:simpletransformers.language_generation.language_generation_model:She rode on  till the city is dark ñ And all the men love her ñ And all the girls love\n",
      "Setting `pad_token_id` to `eos_token_id`:50256 for open-end generation.\n"
     ]
    },
    {
     "name": "stdout",
     "output_type": "stream",
     "text": [
      "She rode on  till the city is dark\n",
      "And all the men love her\n",
      "And all the girls love\n",
      "\n"
     ]
    },
    {
     "name": "stderr",
     "output_type": "stream",
     "text": [
      "INFO:simpletransformers.language_generation.language_generation_model:=== GENERATED SEQUENCE 1 ===\n",
      "INFO:simpletransformers.language_generation.language_generation_model:I remember the first time I felt you ñ On the tip of my tongue ñ I don't mind how much I say I love\n",
      "Setting `pad_token_id` to `eos_token_id`:50256 for open-end generation.\n"
     ]
    },
    {
     "name": "stdout",
     "output_type": "stream",
     "text": [
      "I remember the first time I felt you\n",
      "On the tip of my tongue\n",
      "I don't mind how much I say I love\n",
      "\n"
     ]
    },
    {
     "name": "stderr",
     "output_type": "stream",
     "text": [
      "INFO:simpletransformers.language_generation.language_generation_model:=== GENERATED SEQUENCE 1 ===\n",
      "INFO:simpletransformers.language_generation.language_generation_model:Touch ñ And you feel your life and love being stolen away ñ You feel it in the way\n",
      "Setting `pad_token_id` to `eos_token_id`:50256 for open-end generation.\n"
     ]
    },
    {
     "name": "stdout",
     "output_type": "stream",
     "text": [
      "Touch\n",
      "And you feel your life and love being stolen away\n",
      "You feel it in the way\n",
      "\n"
     ]
    },
    {
     "name": "stderr",
     "output_type": "stream",
     "text": [
      "INFO:simpletransformers.language_generation.language_generation_model:=== GENERATED SEQUENCE 1 ===\n",
      "INFO:simpletransformers.language_generation.language_generation_model:My life's a dream ñ And I could love anyone I want ñ I know what you know �\n",
      "Setting `pad_token_id` to `eos_token_id`:50256 for open-end generation.\n"
     ]
    },
    {
     "name": "stdout",
     "output_type": "stream",
     "text": [
      "My life's a dream\n",
      "And I could love anyone I want\n",
      "I know what you know �\n",
      "\n"
     ]
    },
    {
     "name": "stderr",
     "output_type": "stream",
     "text": [
      "INFO:simpletransformers.language_generation.language_generation_model:=== GENERATED SEQUENCE 1 ===\n",
      "INFO:simpletransformers.language_generation.language_generation_model:I've been a bad girl ñ  ñ Well the time is done ñ  ñ Let me hear what you\n",
      "Setting `pad_token_id` to `eos_token_id`:50256 for open-end generation.\n"
     ]
    },
    {
     "name": "stdout",
     "output_type": "stream",
     "text": [
      "I've been a bad girl\n",
      "Well the time is done\n",
      "Let me hear what you\n",
      "\n"
     ]
    },
    {
     "name": "stderr",
     "output_type": "stream",
     "text": [
      "INFO:simpletransformers.language_generation.language_generation_model:=== GENERATED SEQUENCE 1 ===\n",
      "INFO:simpletransformers.language_generation.language_generation_model:I ain't playin' fair ñ I got my hands up ñ And I don't care what you say ñ '\n",
      "Setting `pad_token_id` to `eos_token_id`:50256 for open-end generation.\n"
     ]
    },
    {
     "name": "stdout",
     "output_type": "stream",
     "text": [
      "I ain't playin' fair\n",
      "I got my hands up\n",
      "And I don't care what you say\n",
      "'\n",
      "\n"
     ]
    },
    {
     "name": "stderr",
     "output_type": "stream",
     "text": [
      "INFO:simpletransformers.language_generation.language_generation_model:=== GENERATED SEQUENCE 1 ===\n",
      "INFO:simpletransformers.language_generation.language_generation_model:I want you to be free ñ Be free ñ Be free ñ Be free ñ  ñ And if you\n",
      "Setting `pad_token_id` to `eos_token_id`:50256 for open-end generation.\n"
     ]
    },
    {
     "name": "stdout",
     "output_type": "stream",
     "text": [
      "I want you to be free\n",
      "Be free\n",
      "Be free\n",
      "Be free\n",
      "And if you\n",
      "\n"
     ]
    },
    {
     "name": "stderr",
     "output_type": "stream",
     "text": [
      "INFO:simpletransformers.language_generation.language_generation_model:=== GENERATED SEQUENCE 1 ===\n",
      "INFO:simpletransformers.language_generation.language_generation_model:Yeah, Me & my girl both highed up ñ And Me & my girl both highed up ñ And Me & my girl both hig\n",
      "Setting `pad_token_id` to `eos_token_id`:50256 for open-end generation.\n"
     ]
    },
    {
     "name": "stdout",
     "output_type": "stream",
     "text": [
      "Yeah, Me & my girl both highed up\n",
      "And Me & my girl both highed up\n",
      "And Me & my girl both hig\n",
      "\n"
     ]
    },
    {
     "name": "stderr",
     "output_type": "stream",
     "text": [
      "INFO:simpletransformers.language_generation.language_generation_model:=== GENERATED SEQUENCE 1 ===\n",
      "INFO:simpletransformers.language_generation.language_generation_model:In the strip club at the bar ñ The ladies are all dressed up, and the boys are playing and drinking ñ I love\n",
      "Setting `pad_token_id` to `eos_token_id`:50256 for open-end generation.\n"
     ]
    },
    {
     "name": "stdout",
     "output_type": "stream",
     "text": [
      "In the strip club at the bar\n",
      "The ladies are all dressed up, and the boys are playing and drinking\n",
      "I love\n",
      "\n"
     ]
    },
    {
     "name": "stderr",
     "output_type": "stream",
     "text": [
      "INFO:simpletransformers.language_generation.language_generation_model:=== GENERATED SEQUENCE 1 ===\n",
      "INFO:simpletransformers.language_generation.language_generation_model:Yooooooo, no way!! ñ Yooooooo, I'm not your daddy ñ Baby, I\n",
      "Setting `pad_token_id` to `eos_token_id`:50256 for open-end generation.\n"
     ]
    },
    {
     "name": "stdout",
     "output_type": "stream",
     "text": [
      "Yooooooo, no way!!\n",
      "Yooooooo, I'm not your daddy\n",
      "Baby, I\n",
      "\n"
     ]
    },
    {
     "name": "stderr",
     "output_type": "stream",
     "text": [
      "INFO:simpletransformers.language_generation.language_generation_model:=== GENERATED SEQUENCE 1 ===\n",
      "INFO:simpletransformers.language_generation.language_generation_model:Hair well platin' ñ I wanna give in ñ I need to let it show ñ When the\n",
      "Setting `pad_token_id` to `eos_token_id`:50256 for open-end generation.\n"
     ]
    },
    {
     "name": "stdout",
     "output_type": "stream",
     "text": [
      "Hair well platin'\n",
      "I wanna give in\n",
      "I need to let it show\n",
      "When the\n",
      "\n"
     ]
    },
    {
     "name": "stderr",
     "output_type": "stream",
     "text": [
      "INFO:simpletransformers.language_generation.language_generation_model:=== GENERATED SEQUENCE 1 ===\n",
      "INFO:simpletransformers.language_generation.language_generation_model:Marching through the corridor ñ I am alone ñ And I do nothing ñ And I am not listening ñ\n",
      "Setting `pad_token_id` to `eos_token_id`:50256 for open-end generation.\n"
     ]
    },
    {
     "name": "stdout",
     "output_type": "stream",
     "text": [
      "Marching through the corridor\n",
      "I am alone\n",
      "And I do nothing\n",
      "And I am not listening\n",
      "\n"
     ]
    },
    {
     "name": "stderr",
     "output_type": "stream",
     "text": [
      "INFO:simpletransformers.language_generation.language_generation_model:=== GENERATED SEQUENCE 1 ===\n",
      "INFO:simpletransformers.language_generation.language_generation_model:Through faces I don't know ñ There will be days like this ñ And nights like this ñ I'll try to\n",
      "Setting `pad_token_id` to `eos_token_id`:50256 for open-end generation.\n"
     ]
    },
    {
     "name": "stdout",
     "output_type": "stream",
     "text": [
      "Through faces I don't know\n",
      "There will be days like this\n",
      "And nights like this\n",
      "I'll try to\n",
      "\n"
     ]
    },
    {
     "name": "stderr",
     "output_type": "stream",
     "text": [
      "INFO:simpletransformers.language_generation.language_generation_model:=== GENERATED SEQUENCE 1 ===\n",
      "INFO:simpletransformers.language_generation.language_generation_model:Got sun to shine, I will always feel blue ñ I will always see your face for the last time\n",
      "Setting `pad_token_id` to `eos_token_id`:50256 for open-end generation.\n"
     ]
    },
    {
     "name": "stdout",
     "output_type": "stream",
     "text": [
      "Got sun to shine, I will always feel blue\n",
      "I will always see your face for the last time\n",
      "\n"
     ]
    },
    {
     "name": "stderr",
     "output_type": "stream",
     "text": [
      "INFO:simpletransformers.language_generation.language_generation_model:=== GENERATED SEQUENCE 1 ===\n",
      "INFO:simpletransformers.language_generation.language_generation_model:Ooh I end up looking wild ñ (Hey I end up looking wild)You're so nice ñ But you're so\n",
      "Setting `pad_token_id` to `eos_token_id`:50256 for open-end generation.\n"
     ]
    },
    {
     "name": "stdout",
     "output_type": "stream",
     "text": [
      "Ooh I end up looking wild\n",
      "(Hey I end up looking wild)You're so nice\n",
      "But you're so\n",
      "\n"
     ]
    },
    {
     "name": "stderr",
     "output_type": "stream",
     "text": [
      "INFO:simpletransformers.language_generation.language_generation_model:=== GENERATED SEQUENCE 1 ===\n",
      "INFO:simpletransformers.language_generation.language_generation_model:If you would talk to me ñ Would you be like ñ You would think ñ Of a world far from where I\n",
      "Setting `pad_token_id` to `eos_token_id`:50256 for open-end generation.\n"
     ]
    },
    {
     "name": "stdout",
     "output_type": "stream",
     "text": [
      "If you would talk to me\n",
      "Would you be like\n",
      "You would think\n",
      "Of a world far from where I\n",
      "\n"
     ]
    },
    {
     "name": "stderr",
     "output_type": "stream",
     "text": [
      "INFO:simpletransformers.language_generation.language_generation_model:=== GENERATED SEQUENCE 1 ===\n",
      "INFO:simpletransformers.language_generation.language_generation_model:End up seeing the world through my eyes ñ I wanna know who you are ñ I wanna know where you\n",
      "Setting `pad_token_id` to `eos_token_id`:50256 for open-end generation.\n"
     ]
    },
    {
     "name": "stdout",
     "output_type": "stream",
     "text": [
      "End up seeing the world through my eyes\n",
      "I wanna know who you are\n",
      "I wanna know where you\n",
      "\n"
     ]
    },
    {
     "name": "stderr",
     "output_type": "stream",
     "text": [
      "INFO:simpletransformers.language_generation.language_generation_model:=== GENERATED SEQUENCE 1 ===\n",
      "INFO:simpletransformers.language_generation.language_generation_model:Get in your car ñ It's not safe ñ The sky's going to fall ñ And my eyes are\n",
      "Setting `pad_token_id` to `eos_token_id`:50256 for open-end generation.\n"
     ]
    },
    {
     "name": "stdout",
     "output_type": "stream",
     "text": [
      "Get in your car\n",
      "It's not safe\n",
      "The sky's going to fall\n",
      "And my eyes are\n",
      "\n"
     ]
    },
    {
     "name": "stderr",
     "output_type": "stream",
     "text": [
      "INFO:simpletransformers.language_generation.language_generation_model:=== GENERATED SEQUENCE 1 ===\n",
      "INFO:simpletransformers.language_generation.language_generation_model:Why don't you come with me in the night? ñ Don't you ever say no, do you come too late to show it? ñ\n",
      "Setting `pad_token_id` to `eos_token_id`:50256 for open-end generation.\n"
     ]
    },
    {
     "name": "stdout",
     "output_type": "stream",
     "text": [
      "Why don't you come with me in the night?\n",
      "Don't you ever say no, do you come too late to show it?\n",
      "\n"
     ]
    },
    {
     "name": "stderr",
     "output_type": "stream",
     "text": [
      "INFO:simpletransformers.language_generation.language_generation_model:=== GENERATED SEQUENCE 1 ===\n",
      "INFO:simpletransformers.language_generation.language_generation_model:Pick up the pieces of my own soul ñ Make my mind make a difference ñ Make my soul feel\n",
      "Setting `pad_token_id` to `eos_token_id`:50256 for open-end generation.\n"
     ]
    },
    {
     "name": "stdout",
     "output_type": "stream",
     "text": [
      "Pick up the pieces of my own soul\n",
      "Make my mind make a difference\n",
      "Make my soul feel\n",
      "\n"
     ]
    },
    {
     "name": "stderr",
     "output_type": "stream",
     "text": [
      "INFO:simpletransformers.language_generation.language_generation_model:=== GENERATED SEQUENCE 1 ===\n",
      "INFO:simpletransformers.language_generation.language_generation_model:Hey baby ñ Just relax ñ Baby don't you worry ñ I know you can't tell me\n",
      "Setting `pad_token_id` to `eos_token_id`:50256 for open-end generation.\n"
     ]
    },
    {
     "name": "stdout",
     "output_type": "stream",
     "text": [
      "Hey baby\n",
      "Just relax\n",
      "Baby don't you worry\n",
      "I know you can't tell me\n",
      "\n"
     ]
    },
    {
     "name": "stderr",
     "output_type": "stream",
     "text": [
      "INFO:simpletransformers.language_generation.language_generation_model:=== GENERATED SEQUENCE 1 ===\n",
      "INFO:simpletransformers.language_generation.language_generation_model:I love you more than you think, oh oh, oh! ñ You're just like me so much ñ Come on, make me love\n",
      "Setting `pad_token_id` to `eos_token_id`:50256 for open-end generation.\n"
     ]
    },
    {
     "name": "stdout",
     "output_type": "stream",
     "text": [
      "I love you more than you think, oh oh, oh!\n",
      "You're just like me so much\n",
      "Come on, make me love\n",
      "\n"
     ]
    },
    {
     "name": "stderr",
     "output_type": "stream",
     "text": [
      "INFO:simpletransformers.language_generation.language_generation_model:=== GENERATED SEQUENCE 1 ===\n",
      "INFO:simpletransformers.language_generation.language_generation_model:I never thought I'd say this to you ñ But tonight, my lips met yours ñ And the sweet\n",
      "Setting `pad_token_id` to `eos_token_id`:50256 for open-end generation.\n"
     ]
    },
    {
     "name": "stdout",
     "output_type": "stream",
     "text": [
      "I never thought I'd say this to you\n",
      "But tonight, my lips met yours\n",
      "And the sweet\n",
      "\n"
     ]
    },
    {
     "name": "stderr",
     "output_type": "stream",
     "text": [
      "INFO:simpletransformers.language_generation.language_generation_model:=== GENERATED SEQUENCE 1 ===\n",
      "INFO:simpletransformers.language_generation.language_generation_model:The very thought of you again makes me scream ñ I never wanna go ñ I never wanna go ñ I know\n",
      "Setting `pad_token_id` to `eos_token_id`:50256 for open-end generation.\n"
     ]
    },
    {
     "name": "stdout",
     "output_type": "stream",
     "text": [
      "The very thought of you again makes me scream\n",
      "I never wanna go\n",
      "I never wanna go\n",
      "I know\n",
      "\n"
     ]
    },
    {
     "name": "stderr",
     "output_type": "stream",
     "text": [
      "INFO:simpletransformers.language_generation.language_generation_model:=== GENERATED SEQUENCE 1 ===\n",
      "INFO:simpletransformers.language_generation.language_generation_model:And i forget to do ñ Every time a thing happens ñ And there's nothing we can say ñ It's\n",
      "Setting `pad_token_id` to `eos_token_id`:50256 for open-end generation.\n"
     ]
    },
    {
     "name": "stdout",
     "output_type": "stream",
     "text": [
      "And i forget to do\n",
      "Every time a thing happens\n",
      "And there's nothing we can say\n",
      "It's\n",
      "\n"
     ]
    },
    {
     "name": "stderr",
     "output_type": "stream",
     "text": [
      "INFO:simpletransformers.language_generation.language_generation_model:=== GENERATED SEQUENCE 1 ===\n",
      "INFO:simpletransformers.language_generation.language_generation_model:The little ordinary tuxedo ñ And the little ordinary suit ñ And the big round smile ñ But there\n",
      "Setting `pad_token_id` to `eos_token_id`:50256 for open-end generation.\n"
     ]
    },
    {
     "name": "stdout",
     "output_type": "stream",
     "text": [
      "The little ordinary tuxedo\n",
      "And the little ordinary suit\n",
      "And the big round smile\n",
      "But there\n",
      "\n"
     ]
    },
    {
     "name": "stderr",
     "output_type": "stream",
     "text": [
      "INFO:simpletransformers.language_generation.language_generation_model:=== GENERATED SEQUENCE 1 ===\n",
      "INFO:simpletransformers.language_generation.language_generation_model:Margery's dreaming of the middle of the day ñ But she's just dreaming of the days I've come to forgetYou can be so �\n",
      "Setting `pad_token_id` to `eos_token_id`:50256 for open-end generation.\n"
     ]
    },
    {
     "name": "stdout",
     "output_type": "stream",
     "text": [
      "Margery's dreaming of the middle of the day\n",
      "But she's just dreaming of the days I've come to forgetYou can be so �\n",
      "\n"
     ]
    },
    {
     "name": "stderr",
     "output_type": "stream",
     "text": [
      "INFO:simpletransformers.language_generation.language_generation_model:=== GENERATED SEQUENCE 1 ===\n",
      "INFO:simpletransformers.language_generation.language_generation_model:Tiyuri to win, Perfection to lose? ñ I just can't let you go ñ I am not your master\n",
      "Setting `pad_token_id` to `eos_token_id`:50256 for open-end generation.\n"
     ]
    },
    {
     "name": "stdout",
     "output_type": "stream",
     "text": [
      "Tiyuri to win, Perfection to lose?\n",
      "I just can't let you go\n",
      "I am not your master\n",
      "\n"
     ]
    },
    {
     "name": "stderr",
     "output_type": "stream",
     "text": [
      "INFO:simpletransformers.language_generation.language_generation_model:=== GENERATED SEQUENCE 1 ===\n",
      "INFO:simpletransformers.language_generation.language_generation_model:You know many times I've had visions of my own death. I mean I caged in my house and I kept a gun at my side. So I didn't feel a thing\n",
      "Setting `pad_token_id` to `eos_token_id`:50256 for open-end generation.\n"
     ]
    },
    {
     "name": "stdout",
     "output_type": "stream",
     "text": [
      "You know many times I've had visions of my own death. I mean I caged in my house and I kept a gun at my side. So I didn't feel a thing\n",
      "\n"
     ]
    },
    {
     "name": "stderr",
     "output_type": "stream",
     "text": [
      "INFO:simpletransformers.language_generation.language_generation_model:=== GENERATED SEQUENCE 1 ===\n",
      "INFO:simpletransformers.language_generation.language_generation_model:How about going to the mall? ñ (repeat) ñ My friends, they wanna go to the mall ñ It's\n",
      "Setting `pad_token_id` to `eos_token_id`:50256 for open-end generation.\n"
     ]
    },
    {
     "name": "stdout",
     "output_type": "stream",
     "text": [
      "How about going to the mall?\n",
      "(repeat)\n",
      "My friends, they wanna go to the mall\n",
      "It's\n",
      "\n"
     ]
    },
    {
     "name": "stderr",
     "output_type": "stream",
     "text": [
      "INFO:simpletransformers.language_generation.language_generation_model:=== GENERATED SEQUENCE 1 ===\n",
      "INFO:simpletransformers.language_generation.language_generation_model:Shows the interiors of a mall, with the name of the mall in the background.On Monday morning ñ At 8:00 ñ\n",
      "Setting `pad_token_id` to `eos_token_id`:50256 for open-end generation.\n"
     ]
    },
    {
     "name": "stdout",
     "output_type": "stream",
     "text": [
      "Shows the interiors of a mall, with the name of the mall in the background.On Monday morning\n",
      "At 8:00\n",
      "\n"
     ]
    },
    {
     "name": "stderr",
     "output_type": "stream",
     "text": [
      "INFO:simpletransformers.language_generation.language_generation_model:=== GENERATED SEQUENCE 1 ===\n",
      "INFO:simpletransformers.language_generation.language_generation_model:Fireworks and sparks when the fever starts in your eyes tonight ñ You're all alone now in a place you should never be ñ What will we do\n",
      "Setting `pad_token_id` to `eos_token_id`:50256 for open-end generation.\n"
     ]
    },
    {
     "name": "stdout",
     "output_type": "stream",
     "text": [
      "Fireworks and sparks when the fever starts in your eyes tonight\n",
      "You're all alone now in a place you should never be\n",
      "What will we do\n",
      "\n"
     ]
    },
    {
     "name": "stderr",
     "output_type": "stream",
     "text": [
      "INFO:simpletransformers.language_generation.language_generation_model:=== GENERATED SEQUENCE 1 ===\n",
      "INFO:simpletransformers.language_generation.language_generation_model:On the road again with me, baby ñ It ain't no game ñ Don't know who to ask �\n",
      "Setting `pad_token_id` to `eos_token_id`:50256 for open-end generation.\n"
     ]
    },
    {
     "name": "stdout",
     "output_type": "stream",
     "text": [
      "On the road again with me, baby\n",
      "It ain't no game\n",
      "Don't know who to ask �\n",
      "\n"
     ]
    },
    {
     "name": "stderr",
     "output_type": "stream",
     "text": [
      "INFO:simpletransformers.language_generation.language_generation_model:=== GENERATED SEQUENCE 1 ===\n",
      "INFO:simpletransformers.language_generation.language_generation_model:Just can't wait to get on the road again ñ The time has come to get on the road again ñ There's nobody ñ Nobody\n",
      "Setting `pad_token_id` to `eos_token_id`:50256 for open-end generation.\n"
     ]
    },
    {
     "name": "stdout",
     "output_type": "stream",
     "text": [
      "Just can't wait to get on the road again\n",
      "The time has come to get on the road again\n",
      "There's nobody\n",
      "Nobody\n",
      "\n"
     ]
    },
    {
     "name": "stderr",
     "output_type": "stream",
     "text": [
      "INFO:simpletransformers.language_generation.language_generation_model:=== GENERATED SEQUENCE 1 ===\n",
      "INFO:simpletransformers.language_generation.language_generation_model:Life  ñ You ain't no whore ñ You ain't no whore ñ When the devil \n",
      "Setting `pad_token_id` to `eos_token_id`:50256 for open-end generation.\n"
     ]
    },
    {
     "name": "stdout",
     "output_type": "stream",
     "text": [
      "Life \n",
      "You ain't no whore\n",
      "You ain't no whore\n",
      "When the devil \n",
      "\n"
     ]
    },
    {
     "name": "stderr",
     "output_type": "stream",
     "text": [
      "INFO:simpletransformers.language_generation.language_generation_model:=== GENERATED SEQUENCE 1 ===\n",
      "INFO:simpletransformers.language_generation.language_generation_model:White, like that flag, they're all going down ñ They don't know what's wrong with their way of doing\n",
      "Setting `pad_token_id` to `eos_token_id`:50256 for open-end generation.\n"
     ]
    },
    {
     "name": "stdout",
     "output_type": "stream",
     "text": [
      "White, like that flag, they're all going down\n",
      "They don't know what's wrong with their way of doing\n",
      "\n"
     ]
    },
    {
     "name": "stderr",
     "output_type": "stream",
     "text": [
      "INFO:simpletransformers.language_generation.language_generation_model:=== GENERATED SEQUENCE 1 ===\n",
      "INFO:simpletransformers.language_generation.language_generation_model:But you still hope to stand with the other ñ You've been told you'll be fine ñ But you still hope to\n",
      "Setting `pad_token_id` to `eos_token_id`:50256 for open-end generation.\n"
     ]
    },
    {
     "name": "stdout",
     "output_type": "stream",
     "text": [
      "But you still hope to stand with the other\n",
      "You've been told you'll be fine\n",
      "But you still hope to\n",
      "\n"
     ]
    },
    {
     "name": "stderr",
     "output_type": "stream",
     "text": [
      "INFO:simpletransformers.language_generation.language_generation_model:=== GENERATED SEQUENCE 1 ===\n",
      "INFO:simpletransformers.language_generation.language_generation_model:You're lost, a stranger ñ Where are you gonna go ñ What's in your pocket ñ Just what will\n",
      "Setting `pad_token_id` to `eos_token_id`:50256 for open-end generation.\n"
     ]
    },
    {
     "name": "stdout",
     "output_type": "stream",
     "text": [
      "You're lost, a stranger\n",
      "Where are you gonna go\n",
      "What's in your pocket\n",
      "Just what will\n",
      "\n"
     ]
    },
    {
     "name": "stderr",
     "output_type": "stream",
     "text": [
      "INFO:simpletransformers.language_generation.language_generation_model:=== GENERATED SEQUENCE 1 ===\n",
      "INFO:simpletransformers.language_generation.language_generation_model:The air attack warning sounds like, they're really not that important ñ I am not so blind that I cannot see. I\n",
      "Setting `pad_token_id` to `eos_token_id`:50256 for open-end generation.\n"
     ]
    },
    {
     "name": "stdout",
     "output_type": "stream",
     "text": [
      "The air attack warning sounds like, they're really not that important\n",
      "I am not so blind that I cannot see. I\n",
      "\n"
     ]
    },
    {
     "name": "stderr",
     "output_type": "stream",
     "text": [
      "INFO:simpletransformers.language_generation.language_generation_model:=== GENERATED SEQUENCE 1 ===\n",
      "INFO:simpletransformers.language_generation.language_generation_model:This is the sound of love and peace ñ And life on the earth is joy ñ The morning of love and\n",
      "Setting `pad_token_id` to `eos_token_id`:50256 for open-end generation.\n"
     ]
    },
    {
     "name": "stdout",
     "output_type": "stream",
     "text": [
      "This is the sound of love and peace\n",
      "And life on the earth is joy\n",
      "The morning of love and\n",
      "\n"
     ]
    },
    {
     "name": "stderr",
     "output_type": "stream",
     "text": [
      "INFO:simpletransformers.language_generation.language_generation_model:=== GENERATED SEQUENCE 1 ===\n",
      "INFO:simpletransformers.language_generation.language_generation_model:When you he said, do you think ñ Yes or no?\" ñ She was, I was, I\n",
      "Setting `pad_token_id` to `eos_token_id`:50256 for open-end generation.\n"
     ]
    },
    {
     "name": "stdout",
     "output_type": "stream",
     "text": [
      "When you he said, do you think\n",
      "Yes or no?\"\n",
      "She was, I was, I\n",
      "\n"
     ]
    },
    {
     "name": "stderr",
     "output_type": "stream",
     "text": [
      "INFO:simpletransformers.language_generation.language_generation_model:=== GENERATED SEQUENCE 1 ===\n",
      "INFO:simpletransformers.language_generation.language_generation_model:There is dancing in the sea of tears ñ There is dancing in the sea of tears ñ There is dancing in the sea\n",
      "Setting `pad_token_id` to `eos_token_id`:50256 for open-end generation.\n"
     ]
    },
    {
     "name": "stdout",
     "output_type": "stream",
     "text": [
      "There is dancing in the sea of tears\n",
      "There is dancing in the sea of tears\n",
      "There is dancing in the sea\n",
      "\n"
     ]
    },
    {
     "name": "stderr",
     "output_type": "stream",
     "text": [
      "INFO:simpletransformers.language_generation.language_generation_model:=== GENERATED SEQUENCE 1 ===\n",
      "INFO:simpletransformers.language_generation.language_generation_model:Shadows move they just cannot be real ñ So here we are, one second to the end ñ You'll say it's too\n",
      "Setting `pad_token_id` to `eos_token_id`:50256 for open-end generation.\n"
     ]
    },
    {
     "name": "stdout",
     "output_type": "stream",
     "text": [
      "Shadows move they just cannot be real\n",
      "So here we are, one second to the end\n",
      "You'll say it's too\n",
      "\n"
     ]
    },
    {
     "name": "stderr",
     "output_type": "stream",
     "text": [
      "INFO:simpletransformers.language_generation.language_generation_model:=== GENERATED SEQUENCE 1 ===\n",
      "INFO:simpletransformers.language_generation.language_generation_model:It knocks at the door - no ones been there before ñ Come inside, let's do it for real ñ Let's make it real - let\n",
      "Setting `pad_token_id` to `eos_token_id`:50256 for open-end generation.\n"
     ]
    },
    {
     "name": "stdout",
     "output_type": "stream",
     "text": [
      "It knocks at the door - no ones been there before\n",
      "Come inside, let's do it for real\n",
      "Let's make it real - let\n",
      "\n"
     ]
    },
    {
     "name": "stderr",
     "output_type": "stream",
     "text": [
      "INFO:simpletransformers.language_generation.language_generation_model:=== GENERATED SEQUENCE 1 ===\n",
      "INFO:simpletransformers.language_generation.language_generation_model:Questions and  ñ Will I see you again ñ In the morning light ñ You were mine ñ\n",
      "Setting `pad_token_id` to `eos_token_id`:50256 for open-end generation.\n"
     ]
    },
    {
     "name": "stdout",
     "output_type": "stream",
     "text": [
      "Questions and \n",
      "Will I see you again\n",
      "In the morning light\n",
      "You were mine\n",
      "\n"
     ]
    },
    {
     "name": "stderr",
     "output_type": "stream",
     "text": [
      "INFO:simpletransformers.language_generation.language_generation_model:=== GENERATED SEQUENCE 1 ===\n",
      "INFO:simpletransformers.language_generation.language_generation_model:Young and strong, Hollywood son ñ They give me a million dollars ñ They give me a million dollars ñ To get\n",
      "Setting `pad_token_id` to `eos_token_id`:50256 for open-end generation.\n"
     ]
    },
    {
     "name": "stdout",
     "output_type": "stream",
     "text": [
      "Young and strong, Hollywood son\n",
      "They give me a million dollars\n",
      "They give me a million dollars\n",
      "To get\n",
      "\n"
     ]
    },
    {
     "name": "stderr",
     "output_type": "stream",
     "text": [
      "INFO:simpletransformers.language_generation.language_generation_model:=== GENERATED SEQUENCE 1 ===\n",
      "INFO:simpletransformers.language_generation.language_generation_model:In the early morning light ñ I'll run for cover ñ Until the sun sets ñ Now and forever ñ\n",
      "Setting `pad_token_id` to `eos_token_id`:50256 for open-end generation.\n"
     ]
    },
    {
     "name": "stdout",
     "output_type": "stream",
     "text": [
      "In the early morning light\n",
      "I'll run for cover\n",
      "Until the sun sets\n",
      "Now and forever\n",
      "\n"
     ]
    },
    {
     "name": "stderr",
     "output_type": "stream",
     "text": [
      "INFO:simpletransformers.language_generation.language_generation_model:=== GENERATED SEQUENCE 1 ===\n",
      "INFO:simpletransformers.language_generation.language_generation_model:This  and my ñ We gotta make it stop ñ Don't wanna do  or do it �\n",
      "Setting `pad_token_id` to `eos_token_id`:50256 for open-end generation.\n"
     ]
    },
    {
     "name": "stdout",
     "output_type": "stream",
     "text": [
      "This  and my\n",
      "We gotta make it stop\n",
      "Don't wanna do  or do it �\n",
      "\n"
     ]
    },
    {
     "name": "stderr",
     "output_type": "stream",
     "text": [
      "INFO:simpletransformers.language_generation.language_generation_model:=== GENERATED SEQUENCE 1 ===\n",
      "INFO:simpletransformers.language_generation.language_generation_model:I know when I think of you then my heart goes to You again ñ My soul is open and my mind is free ñ You\n",
      "Setting `pad_token_id` to `eos_token_id`:50256 for open-end generation.\n"
     ]
    },
    {
     "name": "stdout",
     "output_type": "stream",
     "text": [
      "I know when I think of you then my heart goes to You again\n",
      "My soul is open and my mind is free\n",
      "You\n",
      "\n"
     ]
    },
    {
     "name": "stderr",
     "output_type": "stream",
     "text": [
      "INFO:simpletransformers.language_generation.language_generation_model:=== GENERATED SEQUENCE 1 ===\n",
      "INFO:simpletransformers.language_generation.language_generation_model:Everything I feel is a tear ñ I could give to you any day ñ We might be there on Friday\n",
      "Setting `pad_token_id` to `eos_token_id`:50256 for open-end generation.\n"
     ]
    },
    {
     "name": "stdout",
     "output_type": "stream",
     "text": [
      "Everything I feel is a tear\n",
      "I could give to you any day\n",
      "We might be there on Friday\n",
      "\n"
     ]
    },
    {
     "name": "stderr",
     "output_type": "stream",
     "text": [
      "INFO:simpletransformers.language_generation.language_generation_model:=== GENERATED SEQUENCE 1 ===\n",
      "INFO:simpletransformers.language_generation.language_generation_model:Ayo, 9th of December, in a room full of money ñ I got money in my pocket but I got\n",
      "Setting `pad_token_id` to `eos_token_id`:50256 for open-end generation.\n"
     ]
    },
    {
     "name": "stdout",
     "output_type": "stream",
     "text": [
      "Ayo, 9th of December, in a room full of money\n",
      "I got money in my pocket but I got\n",
      "\n"
     ]
    },
    {
     "name": "stderr",
     "output_type": "stream",
     "text": [
      "INFO:simpletransformers.language_generation.language_generation_model:=== GENERATED SEQUENCE 1 ===\n",
      "INFO:simpletransformers.language_generation.language_generation_model:They got a long way to go, homie ñ All they do is play on the crowd and talk shitYou want me, so fuck you\n",
      "Setting `pad_token_id` to `eos_token_id`:50256 for open-end generation.\n"
     ]
    },
    {
     "name": "stdout",
     "output_type": "stream",
     "text": [
      "They got a long way to go, homie\n",
      "All they do is play on the crowd and talk shitYou want me, so fuck you\n",
      "\n"
     ]
    },
    {
     "name": "stderr",
     "output_type": "stream",
     "text": [
      "INFO:simpletransformers.language_generation.language_generation_model:=== GENERATED SEQUENCE 1 ===\n",
      "INFO:simpletransformers.language_generation.language_generation_model:Awake sleeper, arise ñ You can see how deep my sleep ñ All is night ñ Your feet never grow\n",
      "Setting `pad_token_id` to `eos_token_id`:50256 for open-end generation.\n"
     ]
    },
    {
     "name": "stdout",
     "output_type": "stream",
     "text": [
      "Awake sleeper, arise\n",
      "You can see how deep my sleep\n",
      "All is night\n",
      "Your feet never grow\n",
      "\n"
     ]
    },
    {
     "name": "stderr",
     "output_type": "stream",
     "text": [
      "INFO:simpletransformers.language_generation.language_generation_model:=== GENERATED SEQUENCE 1 ===\n",
      "INFO:simpletransformers.language_generation.language_generation_model:Up from the grave into the light ñ From the ashes into the fire ñ You will know me as I am ñ I\n",
      "Setting `pad_token_id` to `eos_token_id`:50256 for open-end generation.\n"
     ]
    },
    {
     "name": "stdout",
     "output_type": "stream",
     "text": [
      "Up from the grave into the light\n",
      "From the ashes into the fire\n",
      "You will know me as I am\n",
      "I\n",
      "\n"
     ]
    },
    {
     "name": "stderr",
     "output_type": "stream",
     "text": [
      "INFO:simpletransformers.language_generation.language_generation_model:=== GENERATED SEQUENCE 1 ===\n",
      "INFO:simpletransformers.language_generation.language_generation_model:Rejoice we hear your praises ñ We love you above all the saints ñ Praise be to you and\n",
      "Setting `pad_token_id` to `eos_token_id`:50256 for open-end generation.\n"
     ]
    },
    {
     "name": "stdout",
     "output_type": "stream",
     "text": [
      "Rejoice we hear your praises\n",
      "We love you above all the saints\n",
      "Praise be to you and\n",
      "\n"
     ]
    },
    {
     "name": "stderr",
     "output_type": "stream",
     "text": [
      "INFO:simpletransformers.language_generation.language_generation_model:=== GENERATED SEQUENCE 1 ===\n",
      "INFO:simpletransformers.language_generation.language_generation_model:If you think I'm crazy ñ I'm fine ñ I'm fine ñ I'm alright ñ I'm alright\n",
      "Setting `pad_token_id` to `eos_token_id`:50256 for open-end generation.\n"
     ]
    },
    {
     "name": "stdout",
     "output_type": "stream",
     "text": [
      "If you think I'm crazy\n",
      "I'm fine\n",
      "I'm fine\n",
      "I'm alright\n",
      "I'm alright\n",
      "\n"
     ]
    },
    {
     "name": "stderr",
     "output_type": "stream",
     "text": [
      "INFO:simpletransformers.language_generation.language_generation_model:=== GENERATED SEQUENCE 1 ===\n",
      "INFO:simpletransformers.language_generation.language_generation_model:By the look that's in my eyes ñ He's waiting for my lips ñ He's going nowhere ñ  ñ Come\n",
      "Setting `pad_token_id` to `eos_token_id`:50256 for open-end generation.\n"
     ]
    },
    {
     "name": "stdout",
     "output_type": "stream",
     "text": [
      "By the look that's in my eyes\n",
      "He's waiting for my lips\n",
      "He's going nowhere\n",
      "Come\n",
      "\n"
     ]
    },
    {
     "name": "stderr",
     "output_type": "stream",
     "text": [
      "INFO:simpletransformers.language_generation.language_generation_model:=== GENERATED SEQUENCE 1 ===\n",
      "INFO:simpletransformers.language_generation.language_generation_model:When it comin', my heart goes out to you ñ I miss you so dear, that I give my\n",
      "Setting `pad_token_id` to `eos_token_id`:50256 for open-end generation.\n"
     ]
    },
    {
     "name": "stdout",
     "output_type": "stream",
     "text": [
      "When it comin', my heart goes out to you\n",
      "I miss you so dear, that I give my\n",
      "\n"
     ]
    },
    {
     "name": "stderr",
     "output_type": "stream",
     "text": [
      "INFO:simpletransformers.language_generation.language_generation_model:=== GENERATED SEQUENCE 1 ===\n",
      "INFO:simpletransformers.language_generation.language_generation_model:Think I'll bag that trip for two ñ If not for my wife she'd stay on top of that ñ I'd do my\n",
      "Setting `pad_token_id` to `eos_token_id`:50256 for open-end generation.\n"
     ]
    },
    {
     "name": "stdout",
     "output_type": "stream",
     "text": [
      "Think I'll bag that trip for two\n",
      "If not for my wife she'd stay on top of that\n",
      "I'd do my\n",
      "\n"
     ]
    },
    {
     "name": "stderr",
     "output_type": "stream",
     "text": [
      "INFO:simpletransformers.language_generation.language_generation_model:=== GENERATED SEQUENCE 1 ===\n",
      "INFO:simpletransformers.language_generation.language_generation_model:Pack it up to Kakadu, go on and eat the man.\"You don't understand, why you say you wanna take a\n",
      "Setting `pad_token_id` to `eos_token_id`:50256 for open-end generation.\n"
     ]
    },
    {
     "name": "stdout",
     "output_type": "stream",
     "text": [
      "Pack it up to Kakadu, go on and eat the man.\"You don't understand, why you say you wanna take a\n",
      "\n"
     ]
    },
    {
     "name": "stderr",
     "output_type": "stream",
     "text": [
      "INFO:simpletransformers.language_generation.language_generation_model:=== GENERATED SEQUENCE 1 ===\n",
      "INFO:simpletransformers.language_generation.language_generation_model:Honey, don't get lonely ñ If you've never seen ñ All that the world has to\n",
      "Setting `pad_token_id` to `eos_token_id`:50256 for open-end generation.\n"
     ]
    },
    {
     "name": "stdout",
     "output_type": "stream",
     "text": [
      "Honey, don't get lonely\n",
      "If you've never seen\n",
      "All that the world has to\n",
      "\n"
     ]
    },
    {
     "name": "stderr",
     "output_type": "stream",
     "text": [
      "INFO:simpletransformers.language_generation.language_generation_model:=== GENERATED SEQUENCE 1 ===\n",
      "INFO:simpletransformers.language_generation.language_generation_model:I wanna pretty baby ñ But I can't get her down ñ Yeah, yeah, baby ñ No,\n",
      "Setting `pad_token_id` to `eos_token_id`:50256 for open-end generation.\n"
     ]
    },
    {
     "name": "stdout",
     "output_type": "stream",
     "text": [
      "I wanna pretty baby\n",
      "But I can't get her down\n",
      "Yeah, yeah, baby\n",
      "No,\n",
      "\n"
     ]
    },
    {
     "name": "stderr",
     "output_type": "stream",
     "text": [
      "INFO:simpletransformers.language_generation.language_generation_model:=== GENERATED SEQUENCE 1 ===\n",
      "INFO:simpletransformers.language_generation.language_generation_model:2002 ñ 1.1k ñ - 665 ñ B, Q, P, U\n",
      "Setting `pad_token_id` to `eos_token_id`:50256 for open-end generation.\n"
     ]
    },
    {
     "name": "stdout",
     "output_type": "stream",
     "text": [
      "2002\n",
      "1.1k\n",
      "- 665\n",
      "B, Q, P, U\n",
      "\n"
     ]
    },
    {
     "name": "stderr",
     "output_type": "stream",
     "text": [
      "INFO:simpletransformers.language_generation.language_generation_model:=== GENERATED SEQUENCE 1 ===\n",
      "INFO:simpletransformers.language_generation.language_generation_model:I wanna love, cause I now know, I've got a mind to ñ 'Cause I now know, I know, I\n",
      "Setting `pad_token_id` to `eos_token_id`:50256 for open-end generation.\n"
     ]
    },
    {
     "name": "stdout",
     "output_type": "stream",
     "text": [
      "I wanna love, cause I now know, I've got a mind to\n",
      "'Cause I now know, I know, I\n",
      "\n"
     ]
    },
    {
     "name": "stderr",
     "output_type": "stream",
     "text": [
      "INFO:simpletransformers.language_generation.language_generation_model:=== GENERATED SEQUENCE 1 ===\n",
      "INFO:simpletransformers.language_generation.language_generation_model:Sleeve cut just off the shoulder ñ Tore apart my knee ñ I'm gonna need a good thing to carry on �\n",
      "Setting `pad_token_id` to `eos_token_id`:50256 for open-end generation.\n"
     ]
    },
    {
     "name": "stdout",
     "output_type": "stream",
     "text": [
      "Sleeve cut just off the shoulder\n",
      "Tore apart my knee\n",
      "I'm gonna need a good thing to carry on �\n",
      "\n"
     ]
    },
    {
     "name": "stderr",
     "output_type": "stream",
     "text": [
      "INFO:simpletransformers.language_generation.language_generation_model:=== GENERATED SEQUENCE 1 ===\n",
      "INFO:simpletransformers.language_generation.language_generation_model:You are christening the shape of my heart, Lord, I'm not afraid ñ I'm not afraid, I'm not\n",
      "Setting `pad_token_id` to `eos_token_id`:50256 for open-end generation.\n"
     ]
    },
    {
     "name": "stdout",
     "output_type": "stream",
     "text": [
      "You are christening the shape of my heart, Lord, I'm not afraid\n",
      "I'm not afraid, I'm not\n",
      "\n"
     ]
    },
    {
     "name": "stderr",
     "output_type": "stream",
     "text": [
      "INFO:simpletransformers.language_generation.language_generation_model:=== GENERATED SEQUENCE 1 ===\n",
      "INFO:simpletransformers.language_generation.language_generation_model:You might believe in heaven and hell ñ Maybe you don't know ñ Your God is a liar ñ But I\n",
      "Setting `pad_token_id` to `eos_token_id`:50256 for open-end generation.\n"
     ]
    },
    {
     "name": "stdout",
     "output_type": "stream",
     "text": [
      "You might believe in heaven and hell\n",
      "Maybe you don't know\n",
      "Your God is a liar\n",
      "But I\n",
      "\n"
     ]
    },
    {
     "name": "stderr",
     "output_type": "stream",
     "text": [
      "INFO:simpletransformers.language_generation.language_generation_model:=== GENERATED SEQUENCE 1 ===\n",
      "INFO:simpletransformers.language_generation.language_generation_model:I would not care to say ñ If I was still alive ñ I might think ñ That the future might well have\n",
      "Setting `pad_token_id` to `eos_token_id`:50256 for open-end generation.\n"
     ]
    },
    {
     "name": "stdout",
     "output_type": "stream",
     "text": [
      "I would not care to say\n",
      "If I was still alive\n",
      "I might think\n",
      "That the future might well have\n",
      "\n"
     ]
    },
    {
     "name": "stderr",
     "output_type": "stream",
     "text": [
      "INFO:simpletransformers.language_generation.language_generation_model:=== GENERATED SEQUENCE 1 ===\n",
      "INFO:simpletransformers.language_generation.language_generation_model:For every thing that we have ñ I'll say: \"May all our joy be filled with Your presence\n",
      "Setting `pad_token_id` to `eos_token_id`:50256 for open-end generation.\n"
     ]
    },
    {
     "name": "stdout",
     "output_type": "stream",
     "text": [
      "For every thing that we have\n",
      "I'll say: \"May all our joy be filled with Your presence\n",
      "\n"
     ]
    },
    {
     "name": "stderr",
     "output_type": "stream",
     "text": [
      "INFO:simpletransformers.language_generation.language_generation_model:=== GENERATED SEQUENCE 1 ===\n",
      "INFO:simpletransformers.language_generation.language_generation_model:\"This is the Rocket Powered Space Capsule. All systems are go.\"We love the way you look ñ We love the way you feel ñ We love the way\n",
      "Setting `pad_token_id` to `eos_token_id`:50256 for open-end generation.\n"
     ]
    },
    {
     "name": "stdout",
     "output_type": "stream",
     "text": [
      "\"This is the Rocket Powered Space Capsule. All systems are go.\"We love the way you look\n",
      "We love the way you feel\n",
      "We love the way\n",
      "\n"
     ]
    },
    {
     "name": "stderr",
     "output_type": "stream",
     "text": [
      "INFO:simpletransformers.language_generation.language_generation_model:=== GENERATED SEQUENCE 1 ===\n",
      "INFO:simpletransformers.language_generation.language_generation_model:Came up and they know it ñ And we're all alone ñ I know they're all going round and round ñ\n",
      "Setting `pad_token_id` to `eos_token_id`:50256 for open-end generation.\n"
     ]
    },
    {
     "name": "stdout",
     "output_type": "stream",
     "text": [
      "Came up and they know it\n",
      "And we're all alone\n",
      "I know they're all going round and round\n",
      "\n"
     ]
    },
    {
     "name": "stderr",
     "output_type": "stream",
     "text": [
      "INFO:simpletransformers.language_generation.language_generation_model:=== GENERATED SEQUENCE 1 ===\n",
      "INFO:simpletransformers.language_generation.language_generation_model:Drinks up and they pour it out ñ They pour it on me and they drown me ñ Yeah, Yeah, Yeah,\n",
      "Setting `pad_token_id` to `eos_token_id`:50256 for open-end generation.\n"
     ]
    },
    {
     "name": "stdout",
     "output_type": "stream",
     "text": [
      "Drinks up and they pour it out\n",
      "They pour it on me and they drown me\n",
      "Yeah, Yeah, Yeah,\n",
      "\n"
     ]
    },
    {
     "name": "stderr",
     "output_type": "stream",
     "text": [
      "INFO:simpletransformers.language_generation.language_generation_model:=== GENERATED SEQUENCE 1 ===\n",
      "INFO:simpletransformers.language_generation.language_generation_model:I keep a pistol loaded, yeah ñ I keep a gun loaded, yeah ñ I keep my.44 in my coat,\n",
      "Setting `pad_token_id` to `eos_token_id`:50256 for open-end generation.\n"
     ]
    },
    {
     "name": "stdout",
     "output_type": "stream",
     "text": [
      "I keep a pistol loaded, yeah\n",
      "I keep a gun loaded, yeah\n",
      "I keep my.44 in my coat,\n",
      "\n"
     ]
    },
    {
     "name": "stderr",
     "output_type": "stream",
     "text": [
      "INFO:simpletransformers.language_generation.language_generation_model:=== GENERATED SEQUENCE 1 ===\n",
      "INFO:simpletransformers.language_generation.language_generation_model:I keep a pis in my hand ñ What a thing to believe in ñ And every word has an end �\n",
      "Setting `pad_token_id` to `eos_token_id`:50256 for open-end generation.\n"
     ]
    },
    {
     "name": "stdout",
     "output_type": "stream",
     "text": [
      "I keep a pis in my hand\n",
      "What a thing to believe in\n",
      "And every word has an end �\n",
      "\n"
     ]
    },
    {
     "name": "stderr",
     "output_type": "stream",
     "text": [
      "INFO:simpletransformers.language_generation.language_generation_model:=== GENERATED SEQUENCE 1 ===\n",
      "INFO:simpletransformers.language_generation.language_generation_model:The stars in the heavens still shine at the present time ñ And the moon is still shining now.\" ñ \"And the earth\n",
      "Setting `pad_token_id` to `eos_token_id`:50256 for open-end generation.\n"
     ]
    },
    {
     "name": "stdout",
     "output_type": "stream",
     "text": [
      "The stars in the heavens still shine at the present time\n",
      "And the moon is still shining now.\"\n",
      "\"And the earth\n",
      "\n"
     ]
    },
    {
     "name": "stderr",
     "output_type": "stream",
     "text": [
      "INFO:simpletransformers.language_generation.language_generation_model:=== GENERATED SEQUENCE 1 ===\n",
      "INFO:simpletransformers.language_generation.language_generation_model:Up above me ñ I want to speak with you ñ I've been so sad, so blind ñ\n",
      "Setting `pad_token_id` to `eos_token_id`:50256 for open-end generation.\n"
     ]
    },
    {
     "name": "stdout",
     "output_type": "stream",
     "text": [
      "Up above me\n",
      "I want to speak with you\n",
      "I've been so sad, so blind\n",
      "\n"
     ]
    },
    {
     "name": "stderr",
     "output_type": "stream",
     "text": [
      "INFO:simpletransformers.language_generation.language_generation_model:=== GENERATED SEQUENCE 1 ===\n",
      "INFO:simpletransformers.language_generation.language_generation_model:How lovely the days ñ When every flower ñ A new love bloom in bloom ñ Yes, the day\n",
      "Setting `pad_token_id` to `eos_token_id`:50256 for open-end generation.\n"
     ]
    },
    {
     "name": "stdout",
     "output_type": "stream",
     "text": [
      "How lovely the days\n",
      "When every flower\n",
      "A new love bloom in bloom\n",
      "Yes, the day\n",
      "\n"
     ]
    },
    {
     "name": "stderr",
     "output_type": "stream",
     "text": [
      "INFO:simpletransformers.language_generation.language_generation_model:=== GENERATED SEQUENCE 1 ===\n",
      "INFO:simpletransformers.language_generation.language_generation_model:\"The bones of man. The brittle remnants of cosmic torment that ossify and multiply all existence.\" ñ \"The bodies of hell.\" ñ \"The spirits\n",
      "Setting `pad_token_id` to `eos_token_id`:50256 for open-end generation.\n"
     ]
    },
    {
     "name": "stdout",
     "output_type": "stream",
     "text": [
      "\"The bones of man. The brittle remnants of cosmic torment that ossify and multiply all existence.\"\n",
      "\"The bodies of hell.\"\n",
      "\"The spirits\n",
      "\n"
     ]
    },
    {
     "name": "stderr",
     "output_type": "stream",
     "text": [
      "INFO:simpletransformers.language_generation.language_generation_model:=== GENERATED SEQUENCE 1 ===\n",
      "INFO:simpletransformers.language_generation.language_generation_model:My name is Shola, I'm from around the way, I'm a hipster, I'm the best friend of a hipster, and I want\n",
      "Setting `pad_token_id` to `eos_token_id`:50256 for open-end generation.\n"
     ]
    },
    {
     "name": "stdout",
     "output_type": "stream",
     "text": [
      "My name is Shola, I'm from around the way, I'm a hipster, I'm the best friend of a hipster, and I want\n",
      "\n"
     ]
    },
    {
     "name": "stderr",
     "output_type": "stream",
     "text": [
      "INFO:simpletransformers.language_generation.language_generation_model:=== GENERATED SEQUENCE 1 ===\n",
      "INFO:simpletransformers.language_generation.language_generation_model:Before you slip into unconsciousness ñ There's no more fear ñ From your hands and your ears, you can hear me\n",
      "Setting `pad_token_id` to `eos_token_id`:50256 for open-end generation.\n"
     ]
    },
    {
     "name": "stdout",
     "output_type": "stream",
     "text": [
      "Before you slip into unconsciousness\n",
      "There's no more fear\n",
      "From your hands and your ears, you can hear me\n",
      "\n"
     ]
    },
    {
     "name": "stderr",
     "output_type": "stream",
     "text": [
      "INFO:simpletransformers.language_generation.language_generation_model:=== GENERATED SEQUENCE 1 ===\n",
      "INFO:simpletransformers.language_generation.language_generation_model:Through the window of inquisitiveness, a total view of the night ñ The moon appears to take us by surprise, a total surprise ñ \n",
      "Setting `pad_token_id` to `eos_token_id`:50256 for open-end generation.\n"
     ]
    },
    {
     "name": "stdout",
     "output_type": "stream",
     "text": [
      "Through the window of inquisitiveness, a total view of the night\n",
      "The moon appears to take us by surprise, a total surprise\n",
      "\n"
     ]
    },
    {
     "name": "stderr",
     "output_type": "stream",
     "text": [
      "INFO:simpletransformers.language_generation.language_generation_model:=== GENERATED SEQUENCE 1 ===\n",
      "INFO:simpletransformers.language_generation.language_generation_model:Travels the  to a new place ñ The heart is alive with joy ñ Nothing is new ñ Every\n",
      "Setting `pad_token_id` to `eos_token_id`:50256 for open-end generation.\n"
     ]
    },
    {
     "name": "stdout",
     "output_type": "stream",
     "text": [
      "Travels the  to a new place\n",
      "The heart is alive with joy\n",
      "Nothing is new\n",
      "Every\n",
      "\n"
     ]
    },
    {
     "name": "stderr",
     "output_type": "stream",
     "text": [
      "INFO:simpletransformers.language_generation.language_generation_model:=== GENERATED SEQUENCE 1 ===\n",
      "INFO:simpletransformers.language_generation.language_generation_model:Guess, I was waitin' for you ñ Guess, I was waitin' for you ñ Guess, I was wait\n",
      "Setting `pad_token_id` to `eos_token_id`:50256 for open-end generation.\n"
     ]
    },
    {
     "name": "stdout",
     "output_type": "stream",
     "text": [
      "Guess, I was waitin' for you\n",
      "Guess, I was waitin' for you\n",
      "Guess, I was wait\n",
      "\n"
     ]
    },
    {
     "name": "stderr",
     "output_type": "stream",
     "text": [
      "INFO:simpletransformers.language_generation.language_generation_model:=== GENERATED SEQUENCE 1 ===\n",
      "INFO:simpletransformers.language_generation.language_generation_model:For somethin' better to come? ñ And you're on your own ñ And you're goin' nowhere ñ\n",
      "Setting `pad_token_id` to `eos_token_id`:50256 for open-end generation.\n"
     ]
    },
    {
     "name": "stdout",
     "output_type": "stream",
     "text": [
      "For somethin' better to come?\n",
      "And you're on your own\n",
      "And you're goin' nowhere\n",
      "\n"
     ]
    },
    {
     "name": "stderr",
     "output_type": "stream",
     "text": [
      "INFO:simpletransformers.language_generation.language_generation_model:=== GENERATED SEQUENCE 1 ===\n",
      "INFO:simpletransformers.language_generation.language_generation_model:Some sort of pain) ñ (Instrumental break) ñ (Instrumental breakdown) ñ\n",
      "Setting `pad_token_id` to `eos_token_id`:50256 for open-end generation.\n"
     ]
    },
    {
     "name": "stdout",
     "output_type": "stream",
     "text": [
      "Some sort of pain)\n",
      "(Instrumental break)\n",
      "(Instrumental breakdown)\n",
      "\n"
     ]
    },
    {
     "name": "stderr",
     "output_type": "stream",
     "text": [
      "INFO:simpletransformers.language_generation.language_generation_model:=== GENERATED SEQUENCE 1 ===\n",
      "INFO:simpletransformers.language_generation.language_generation_model:That's how much I love youI'm here ñ And no one knows ñ You are not there ñ I'm here\n",
      "Setting `pad_token_id` to `eos_token_id`:50256 for open-end generation.\n"
     ]
    },
    {
     "name": "stdout",
     "output_type": "stream",
     "text": [
      "That's how much I love youI'm here\n",
      "And no one knows\n",
      "You are not there\n",
      "I'm here\n",
      "\n"
     ]
    },
    {
     "name": "stderr",
     "output_type": "stream",
     "text": [
      "INFO:simpletransformers.language_generation.language_generation_model:=== GENERATED SEQUENCE 1 ===\n",
      "INFO:simpletransformers.language_generation.language_generation_model:And I can't find a place where I will say anything else ñ I've been so bored ñ Can\n",
      "Setting `pad_token_id` to `eos_token_id`:50256 for open-end generation.\n"
     ]
    },
    {
     "name": "stdout",
     "output_type": "stream",
     "text": [
      "And I can't find a place where I will say anything else\n",
      "I've been so bored\n",
      "Can\n",
      "\n"
     ]
    },
    {
     "name": "stderr",
     "output_type": "stream",
     "text": [
      "INFO:simpletransformers.language_generation.language_generation_model:=== GENERATED SEQUENCE 1 ===\n",
      "INFO:simpletransformers.language_generation.language_generation_model:Slow down ñ There's no time left ñ I'm not wasting my time ñ In the house\n",
      "Setting `pad_token_id` to `eos_token_id`:50256 for open-end generation.\n"
     ]
    },
    {
     "name": "stdout",
     "output_type": "stream",
     "text": [
      "Slow down\n",
      "There's no time left\n",
      "I'm not wasting my time\n",
      "In the house\n",
      "\n"
     ]
    },
    {
     "name": "stderr",
     "output_type": "stream",
     "text": [
      "INFO:simpletransformers.language_generation.language_generation_model:=== GENERATED SEQUENCE 1 ===\n",
      "INFO:simpletransformers.language_generation.language_generation_model:Can't you feel this place here is solid ground for us to be free? ñ Can't you feel this place here is solid ground for us\n",
      "Setting `pad_token_id` to `eos_token_id`:50256 for open-end generation.\n"
     ]
    },
    {
     "name": "stdout",
     "output_type": "stream",
     "text": [
      "Can't you feel this place here is solid ground for us to be free?\n",
      "Can't you feel this place here is solid ground for us\n",
      "\n"
     ]
    },
    {
     "name": "stderr",
     "output_type": "stream",
     "text": [
      "INFO:simpletransformers.language_generation.language_generation_model:=== GENERATED SEQUENCE 1 ===\n",
      "INFO:simpletransformers.language_generation.language_generation_model:Don't try to hide ñ Don't try to hide ñ Don't try to hide ñ Don\n",
      "Setting `pad_token_id` to `eos_token_id`:50256 for open-end generation.\n"
     ]
    },
    {
     "name": "stdout",
     "output_type": "stream",
     "text": [
      "Don't try to hide\n",
      "Don't try to hide\n",
      "Don't try to hide\n",
      "Don\n",
      "\n"
     ]
    },
    {
     "name": "stderr",
     "output_type": "stream",
     "text": [
      "INFO:simpletransformers.language_generation.language_generation_model:=== GENERATED SEQUENCE 1 ===\n",
      "INFO:simpletransformers.language_generation.language_generation_model:Everybody ..... everybody ..... everybody ñ Everybody ñ Everybody ñ Everybody ñ Everybody ñ Everybody.. everybody �\n",
      "Setting `pad_token_id` to `eos_token_id`:50256 for open-end generation.\n"
     ]
    },
    {
     "name": "stdout",
     "output_type": "stream",
     "text": [
      "Everybody ..... everybody ..... everybody\n",
      "Everybody\n",
      "Everybody\n",
      "Everybody\n",
      "Everybody\n",
      "Everybody.. everybody �\n",
      "\n"
     ]
    },
    {
     "name": "stderr",
     "output_type": "stream",
     "text": [
      "INFO:simpletransformers.language_generation.language_generation_model:=== GENERATED SEQUENCE 1 ===\n",
      "INFO:simpletransformers.language_generation.language_generation_model:Lyrics from Snippets ñ  ñ Yeah, yeah, yeah, yeah ñ You know, you know,\n",
      "Setting `pad_token_id` to `eos_token_id`:50256 for open-end generation.\n"
     ]
    },
    {
     "name": "stdout",
     "output_type": "stream",
     "text": [
      "Lyrics from Snippets\n",
      "Yeah, yeah, yeah, yeah\n",
      "You know, you know,\n",
      "\n"
     ]
    },
    {
     "name": "stderr",
     "output_type": "stream",
     "text": [
      "INFO:simpletransformers.language_generation.language_generation_model:=== GENERATED SEQUENCE 1 ===\n",
      "INFO:simpletransformers.language_generation.language_generation_model:Damn, you're so fucking nice ñ You're so nice, honey ñ What's with all\n",
      "Setting `pad_token_id` to `eos_token_id`:50256 for open-end generation.\n"
     ]
    },
    {
     "name": "stdout",
     "output_type": "stream",
     "text": [
      "Damn, you're so fucking nice\n",
      "You're so nice, honey\n",
      "What's with all\n",
      "\n"
     ]
    },
    {
     "name": "stderr",
     "output_type": "stream",
     "text": [
      "INFO:simpletransformers.language_generation.language_generation_model:=== GENERATED SEQUENCE 1 ===\n",
      "INFO:simpletransformers.language_generation.language_generation_model:Goodbye, goodbye, farewell ñ Goodbye, goodbye, farewell ñ Goodbye, goodbye, goodbye ñ\n",
      "Setting `pad_token_id` to `eos_token_id`:50256 for open-end generation.\n"
     ]
    },
    {
     "name": "stdout",
     "output_type": "stream",
     "text": [
      "Goodbye, goodbye, farewell\n",
      "Goodbye, goodbye, farewell\n",
      "Goodbye, goodbye, goodbye\n",
      "\n"
     ]
    },
    {
     "name": "stderr",
     "output_type": "stream",
     "text": [
      "INFO:simpletransformers.language_generation.language_generation_model:=== GENERATED SEQUENCE 1 ===\n",
      "INFO:simpletransformers.language_generation.language_generation_model:It's time to get our hair tied off ñ We'll never learn ñ It's time to get our\n",
      "Setting `pad_token_id` to `eos_token_id`:50256 for open-end generation.\n"
     ]
    },
    {
     "name": "stdout",
     "output_type": "stream",
     "text": [
      "It's time to get our hair tied off\n",
      "We'll never learn\n",
      "It's time to get our\n",
      "\n"
     ]
    },
    {
     "name": "stderr",
     "output_type": "stream",
     "text": [
      "INFO:simpletransformers.language_generation.language_generation_model:=== GENERATED SEQUENCE 1 ===\n",
      "INFO:simpletransformers.language_generation.language_generation_model:Let go, I know you're so mad you don't know how ñ Come in, let go, I know you\n",
      "Setting `pad_token_id` to `eos_token_id`:50256 for open-end generation.\n"
     ]
    },
    {
     "name": "stdout",
     "output_type": "stream",
     "text": [
      "Let go, I know you're so mad you don't know how\n",
      "Come in, let go, I know you\n",
      "\n"
     ]
    },
    {
     "name": "stderr",
     "output_type": "stream",
     "text": [
      "INFO:simpletransformers.language_generation.language_generation_model:=== GENERATED SEQUENCE 1 ===\n",
      "INFO:simpletransformers.language_generation.language_generation_model:I tried motherfucking try to get you off the phone!I was looking in every one's bedroom for a\n",
      "Setting `pad_token_id` to `eos_token_id`:50256 for open-end generation.\n"
     ]
    },
    {
     "name": "stdout",
     "output_type": "stream",
     "text": [
      "I tried motherfucking try to get you off the phone!I was looking in every one's bedroom for a\n",
      "\n"
     ]
    },
    {
     "name": "stderr",
     "output_type": "stream",
     "text": [
      "INFO:simpletransformers.language_generation.language_generation_model:=== GENERATED SEQUENCE 1 ===\n",
      "INFO:simpletransformers.language_generation.language_generation_model:Here I stand, blind to all we face ñ And that's all it takes for me to fall asleep again\n",
      "Setting `pad_token_id` to `eos_token_id`:50256 for open-end generation.\n"
     ]
    },
    {
     "name": "stdout",
     "output_type": "stream",
     "text": [
      "Here I stand, blind to all we face\n",
      "And that's all it takes for me to fall asleep again\n",
      "\n"
     ]
    },
    {
     "name": "stderr",
     "output_type": "stream",
     "text": [
      "INFO:simpletransformers.language_generation.language_generation_model:=== GENERATED SEQUENCE 1 ===\n",
      "INFO:simpletransformers.language_generation.language_generation_model:No one will ever reach my pain, blood is the answer ñ It's all in my soul, love is the answer ñ Love is the answerWhen\n",
      "Setting `pad_token_id` to `eos_token_id`:50256 for open-end generation.\n"
     ]
    },
    {
     "name": "stdout",
     "output_type": "stream",
     "text": [
      "No one will ever reach my pain, blood is the answer\n",
      "It's all in my soul, love is the answer\n",
      "Love is the answerWhen\n",
      "\n"
     ]
    },
    {
     "name": "stderr",
     "output_type": "stream",
     "text": [
      "INFO:simpletransformers.language_generation.language_generation_model:=== GENERATED SEQUENCE 1 ===\n",
      "INFO:simpletransformers.language_generation.language_generation_model:We've got the ingredients ñ Make it all right ñ We're prepared ñ We're ready ñ We're\n",
      "Setting `pad_token_id` to `eos_token_id`:50256 for open-end generation.\n"
     ]
    },
    {
     "name": "stdout",
     "output_type": "stream",
     "text": [
      "We've got the ingredients\n",
      "Make it all right\n",
      "We're prepared\n",
      "We're ready\n",
      "We're\n",
      "\n"
     ]
    },
    {
     "name": "stderr",
     "output_type": "stream",
     "text": [
      "INFO:simpletransformers.language_generation.language_generation_model:=== GENERATED SEQUENCE 1 ===\n",
      "INFO:simpletransformers.language_generation.language_generation_model:To uplift your music and experience your music... ñ You will be able to get your own CD by ourselves ñ (If\n",
      "Setting `pad_token_id` to `eos_token_id`:50256 for open-end generation.\n"
     ]
    },
    {
     "name": "stdout",
     "output_type": "stream",
     "text": [
      "To uplift your music and experience your music...\n",
      "You will be able to get your own CD by ourselves\n",
      "(If\n",
      "\n"
     ]
    },
    {
     "name": "stderr",
     "output_type": "stream",
     "text": [
      "INFO:simpletransformers.language_generation.language_generation_model:=== GENERATED SEQUENCE 1 ===\n",
      "INFO:simpletransformers.language_generation.language_generation_model:10. Bite the Hand ñ 11. Come On Take Me Away ñ 12. Take Me Away ñ 13.\n",
      "Setting `pad_token_id` to `eos_token_id`:50256 for open-end generation.\n"
     ]
    },
    {
     "name": "stdout",
     "output_type": "stream",
     "text": [
      "10. Bite the Hand\n",
      "11. Come On Take Me Away\n",
      "12. Take Me Away\n",
      "13.\n",
      "\n"
     ]
    },
    {
     "name": "stderr",
     "output_type": "stream",
     "text": [
      "INFO:simpletransformers.language_generation.language_generation_model:=== GENERATED SEQUENCE 1 ===\n",
      "INFO:simpletransformers.language_generation.language_generation_model:Stripped down and the ground is so damp ñ My lungs have dried out ñ My soul is so dead ñ And when the rain\n",
      "Setting `pad_token_id` to `eos_token_id`:50256 for open-end generation.\n"
     ]
    },
    {
     "name": "stdout",
     "output_type": "stream",
     "text": [
      "Stripped down and the ground is so damp\n",
      "My lungs have dried out\n",
      "My soul is so dead\n",
      "And when the rain\n",
      "\n"
     ]
    },
    {
     "name": "stderr",
     "output_type": "stream",
     "text": [
      "INFO:simpletransformers.language_generation.language_generation_model:=== GENERATED SEQUENCE 1 ===\n",
      "INFO:simpletransformers.language_generation.language_generation_model:Hey you've got me crying ñ Because you feel the same ñ You've got me crying ñ\n",
      "Setting `pad_token_id` to `eos_token_id`:50256 for open-end generation.\n"
     ]
    },
    {
     "name": "stdout",
     "output_type": "stream",
     "text": [
      "Hey you've got me crying\n",
      "Because you feel the same\n",
      "You've got me crying\n",
      "\n"
     ]
    },
    {
     "name": "stderr",
     "output_type": "stream",
     "text": [
      "INFO:simpletransformers.language_generation.language_generation_model:=== GENERATED SEQUENCE 1 ===\n",
      "INFO:simpletransformers.language_generation.language_generation_model:All dressed in black ñ We're ready to kill ñ It's time to kill ñ We're ready to\n",
      "Setting `pad_token_id` to `eos_token_id`:50256 for open-end generation.\n"
     ]
    },
    {
     "name": "stdout",
     "output_type": "stream",
     "text": [
      "All dressed in black\n",
      "We're ready to kill\n",
      "It's time to kill\n",
      "We're ready to\n",
      "\n"
     ]
    },
    {
     "name": "stderr",
     "output_type": "stream",
     "text": [
      "INFO:simpletransformers.language_generation.language_generation_model:=== GENERATED SEQUENCE 1 ===\n",
      "INFO:simpletransformers.language_generation.language_generation_model:In your gravedigger clothes, with your skull and crossbones ñ You're so fucked ñ How's your family �\n",
      "Setting `pad_token_id` to `eos_token_id`:50256 for open-end generation.\n"
     ]
    },
    {
     "name": "stdout",
     "output_type": "stream",
     "text": [
      "In your gravedigger clothes, with your skull and crossbones\n",
      "You're so fucked\n",
      "How's your family �\n",
      "\n"
     ]
    },
    {
     "name": "stderr",
     "output_type": "stream",
     "text": [
      "INFO:simpletransformers.language_generation.language_generation_model:=== GENERATED SEQUENCE 1 ===\n",
      "INFO:simpletransformers.language_generation.language_generation_model:Are you sorry for taking the pain away ñ I can see it in your eyes now ñ I can\n",
      "Setting `pad_token_id` to `eos_token_id`:50256 for open-end generation.\n"
     ]
    },
    {
     "name": "stdout",
     "output_type": "stream",
     "text": [
      "Are you sorry for taking the pain away\n",
      "I can see it in your eyes now\n",
      "I can\n",
      "\n"
     ]
    },
    {
     "name": "stderr",
     "output_type": "stream",
     "text": [
      "INFO:simpletransformers.language_generation.language_generation_model:=== GENERATED SEQUENCE 1 ===\n",
      "INFO:simpletransformers.language_generation.language_generation_model:Every time I get my hands on a boy from our age ñ I see him smile and it brings me so much joy ñ\n",
      "Setting `pad_token_id` to `eos_token_id`:50256 for open-end generation.\n"
     ]
    },
    {
     "name": "stdout",
     "output_type": "stream",
     "text": [
      "Every time I get my hands on a boy from our age\n",
      "I see him smile and it brings me so much joy\n",
      "\n"
     ]
    },
    {
     "name": "stderr",
     "output_type": "stream",
     "text": [
      "INFO:simpletransformers.language_generation.language_generation_model:=== GENERATED SEQUENCE 1 ===\n",
      "INFO:simpletransformers.language_generation.language_generation_model:I got this new thing, but it's still bad ñ And I am sorry my friends have a lot to say �\n",
      "Setting `pad_token_id` to `eos_token_id`:50256 for open-end generation.\n"
     ]
    },
    {
     "name": "stdout",
     "output_type": "stream",
     "text": [
      "I got this new thing, but it's still bad\n",
      "And I am sorry my friends have a lot to say �\n",
      "\n"
     ]
    },
    {
     "name": "stderr",
     "output_type": "stream",
     "text": [
      "INFO:simpletransformers.language_generation.language_generation_model:=== GENERATED SEQUENCE 1 ===\n",
      "INFO:simpletransformers.language_generation.language_generation_model:I'll make you fall to you ñ And you'll fall to me ñ And I'll make you fall to me ñ\n",
      "Setting `pad_token_id` to `eos_token_id`:50256 for open-end generation.\n"
     ]
    },
    {
     "name": "stdout",
     "output_type": "stream",
     "text": [
      "I'll make you fall to you\n",
      "And you'll fall to me\n",
      "And I'll make you fall to me\n",
      "\n"
     ]
    },
    {
     "name": "stderr",
     "output_type": "stream",
     "text": [
      "INFO:simpletransformers.language_generation.language_generation_model:=== GENERATED SEQUENCE 1 ===\n",
      "INFO:simpletransformers.language_generation.language_generation_model:Caged in delight, wailing happily through the nuclear fog ñ Your lips kiss the light of the day ñ To me it appears your love for me\n",
      "Setting `pad_token_id` to `eos_token_id`:50256 for open-end generation.\n"
     ]
    },
    {
     "name": "stdout",
     "output_type": "stream",
     "text": [
      "Caged in delight, wailing happily through the nuclear fog\n",
      "Your lips kiss the light of the day\n",
      "To me it appears your love for me\n",
      "\n"
     ]
    },
    {
     "name": "stderr",
     "output_type": "stream",
     "text": [
      "INFO:simpletransformers.language_generation.language_generation_model:=== GENERATED SEQUENCE 1 ===\n",
      "INFO:simpletransformers.language_generation.language_generation_model:Slave !!The city is quiet. We can all think of things that will happen ñ There's no\n",
      "Setting `pad_token_id` to `eos_token_id`:50256 for open-end generation.\n"
     ]
    },
    {
     "name": "stdout",
     "output_type": "stream",
     "text": [
      "Slave !!The city is quiet. We can all think of things that will happen\n",
      "There's no\n",
      "\n"
     ]
    },
    {
     "name": "stderr",
     "output_type": "stream",
     "text": [
      "INFO:simpletransformers.language_generation.language_generation_model:=== GENERATED SEQUENCE 1 ===\n",
      "INFO:simpletransformers.language_generation.language_generation_model:Because you know I'm all about that bass ñ And I'm all about that bass ñ And I'm all about that bass ñ\n",
      "Setting `pad_token_id` to `eos_token_id`:50256 for open-end generation.\n"
     ]
    },
    {
     "name": "stdout",
     "output_type": "stream",
     "text": [
      "Because you know I'm all about that bass\n",
      "And I'm all about that bass\n",
      "And I'm all about that bass\n",
      "\n"
     ]
    },
    {
     "name": "stderr",
     "output_type": "stream",
     "text": [
      "INFO:simpletransformers.language_generation.language_generation_model:=== GENERATED SEQUENCE 1 ===\n",
      "INFO:simpletransformers.language_generation.language_generation_model:USA, S.A. ñ BAND: The Black Eyed Peas ñ Bands\n",
      "Setting `pad_token_id` to `eos_token_id`:50256 for open-end generation.\n"
     ]
    },
    {
     "name": "stdout",
     "output_type": "stream",
     "text": [
      "USA, S.A.\n",
      "BAND: The Black Eyed Peas\n",
      "Bands\n",
      "\n"
     ]
    },
    {
     "name": "stderr",
     "output_type": "stream",
     "text": [
      "INFO:simpletransformers.language_generation.language_generation_model:=== GENERATED SEQUENCE 1 ===\n",
      "INFO:simpletransformers.language_generation.language_generation_model:Alongside your girl, my friend is dead and gone ñ You're a little scared, scared of what might happen\n",
      "Setting `pad_token_id` to `eos_token_id`:50256 for open-end generation.\n"
     ]
    },
    {
     "name": "stdout",
     "output_type": "stream",
     "text": [
      "Alongside your girl, my friend is dead and gone\n",
      "You're a little scared, scared of what might happen\n",
      "\n"
     ]
    },
    {
     "name": "stderr",
     "output_type": "stream",
     "text": [
      "INFO:simpletransformers.language_generation.language_generation_model:=== GENERATED SEQUENCE 1 ===\n",
      "INFO:simpletransformers.language_generation.language_generation_model:(Wreck and strip, the house of bricks and concrete) ñ \"Are you alright, darling?\" ñ And I asked\n",
      "Setting `pad_token_id` to `eos_token_id`:50256 for open-end generation.\n"
     ]
    },
    {
     "name": "stdout",
     "output_type": "stream",
     "text": [
      "(Wreck and strip, the house of bricks and concrete)\n",
      "\"Are you alright, darling?\"\n",
      "And I asked\n",
      "\n"
     ]
    },
    {
     "name": "stderr",
     "output_type": "stream",
     "text": [
      "INFO:simpletransformers.language_generation.language_generation_model:=== GENERATED SEQUENCE 1 ===\n",
      "INFO:simpletransformers.language_generation.language_generation_model:When you're lying tenderly beside me ñ  ñ So close together that we know how to love ñ So dear with tender\n",
      "Setting `pad_token_id` to `eos_token_id`:50256 for open-end generation.\n"
     ]
    },
    {
     "name": "stdout",
     "output_type": "stream",
     "text": [
      "When you're lying tenderly beside me\n",
      "So close together that we know how to love\n",
      "So dear with tender\n",
      "\n"
     ]
    },
    {
     "name": "stderr",
     "output_type": "stream",
     "text": [
      "INFO:simpletransformers.language_generation.language_generation_model:=== GENERATED SEQUENCE 1 ===\n",
      "INFO:simpletransformers.language_generation.language_generation_model:And I feel your breath so sizzling, so strong ñ And your scent so inviting, so inviting ñ My heart starts\n",
      "Setting `pad_token_id` to `eos_token_id`:50256 for open-end generation.\n"
     ]
    },
    {
     "name": "stdout",
     "output_type": "stream",
     "text": [
      "And I feel your breath so sizzling, so strong\n",
      "And your scent so inviting, so inviting\n",
      "My heart starts\n",
      "\n"
     ]
    },
    {
     "name": "stderr",
     "output_type": "stream",
     "text": [
      "INFO:simpletransformers.language_generation.language_generation_model:=== GENERATED SEQUENCE 1 ===\n",
      "INFO:simpletransformers.language_generation.language_generation_model:I gave you truth and now you hate it ñ Now your love is empty and your love is lost ñ And\n",
      "Setting `pad_token_id` to `eos_token_id`:50256 for open-end generation.\n"
     ]
    },
    {
     "name": "stdout",
     "output_type": "stream",
     "text": [
      "I gave you truth and now you hate it\n",
      "Now your love is empty and your love is lost\n",
      "And\n",
      "\n"
     ]
    },
    {
     "name": "stderr",
     "output_type": "stream",
     "text": [
      "INFO:simpletransformers.language_generation.language_generation_model:=== GENERATED SEQUENCE 1 ===\n",
      "INFO:simpletransformers.language_generation.language_generation_model:You gave me nothing but a shadow ñ Now I can't go on ñ I don't know why it's\n",
      "Setting `pad_token_id` to `eos_token_id`:50256 for open-end generation.\n"
     ]
    },
    {
     "name": "stdout",
     "output_type": "stream",
     "text": [
      "You gave me nothing but a shadow\n",
      "Now I can't go on\n",
      "I don't know why it's\n",
      "\n"
     ]
    },
    {
     "name": "stderr",
     "output_type": "stream",
     "text": [
      "INFO:simpletransformers.language_generation.language_generation_model:=== GENERATED SEQUENCE 1 ===\n",
      "INFO:simpletransformers.language_generation.language_generation_model:18rd on the tune up list ñ The best song gets stuck on the bottom of the chart ñ The hardest song gets\n",
      "Setting `pad_token_id` to `eos_token_id`:50256 for open-end generation.\n"
     ]
    },
    {
     "name": "stdout",
     "output_type": "stream",
     "text": [
      "18rd on the tune up list\n",
      "The best song gets stuck on the bottom of the chart\n",
      "The hardest song gets\n",
      "\n"
     ]
    },
    {
     "name": "stderr",
     "output_type": "stream",
     "text": [
      "INFO:simpletransformers.language_generation.language_generation_model:=== GENERATED SEQUENCE 1 ===\n",
      "INFO:simpletransformers.language_generation.language_generation_model:Who else wanna check it out? ñ Everybody's in love with you, everybody! ñ It's all love you\n",
      "Setting `pad_token_id` to `eos_token_id`:50256 for open-end generation.\n"
     ]
    },
    {
     "name": "stdout",
     "output_type": "stream",
     "text": [
      "Who else wanna check it out?\n",
      "Everybody's in love with you, everybody!\n",
      "It's all love you\n",
      "\n"
     ]
    },
    {
     "name": "stderr",
     "output_type": "stream",
     "text": [
      "INFO:simpletransformers.language_generation.language_generation_model:=== GENERATED SEQUENCE 1 ===\n",
      "INFO:simpletransformers.language_generation.language_generation_model:I'd like to touch y'all, I'd like to touch y'all ñ I'm not a big boy and\n",
      "Setting `pad_token_id` to `eos_token_id`:50256 for open-end generation.\n"
     ]
    },
    {
     "name": "stdout",
     "output_type": "stream",
     "text": [
      "I'd like to touch y'all, I'd like to touch y'all\n",
      "I'm not a big boy and\n",
      "\n"
     ]
    },
    {
     "name": "stderr",
     "output_type": "stream",
     "text": [
      "INFO:simpletransformers.language_generation.language_generation_model:=== GENERATED SEQUENCE 1 ===\n",
      "INFO:simpletransformers.language_generation.language_generation_model:I was a girl ñ For you would have loved me ñ You would have loved me ñ My dream girl\n",
      "Setting `pad_token_id` to `eos_token_id`:50256 for open-end generation.\n"
     ]
    },
    {
     "name": "stdout",
     "output_type": "stream",
     "text": [
      "I was a girl\n",
      "For you would have loved me\n",
      "You would have loved me\n",
      "My dream girl\n",
      "\n"
     ]
    },
    {
     "name": "stderr",
     "output_type": "stream",
     "text": [
      "INFO:simpletransformers.language_generation.language_generation_model:=== GENERATED SEQUENCE 1 ===\n",
      "INFO:simpletransformers.language_generation.language_generation_model:I was the only kid in the world, I thought I knew ñ I was the only kid in the world, I thought I knew what it meant ñ\n",
      "Setting `pad_token_id` to `eos_token_id`:50256 for open-end generation.\n"
     ]
    },
    {
     "name": "stdout",
     "output_type": "stream",
     "text": [
      "I was the only kid in the world, I thought I knew\n",
      "I was the only kid in the world, I thought I knew what it meant\n",
      "\n"
     ]
    },
    {
     "name": "stderr",
     "output_type": "stream",
     "text": [
      "INFO:simpletransformers.language_generation.language_generation_model:=== GENERATED SEQUENCE 1 ===\n",
      "INFO:simpletransformers.language_generation.language_generation_model:Shut my eyes when I do ñ You don't have any friends in my room ñ Just a friend in your room �\n",
      "Setting `pad_token_id` to `eos_token_id`:50256 for open-end generation.\n"
     ]
    },
    {
     "name": "stdout",
     "output_type": "stream",
     "text": [
      "Shut my eyes when I do\n",
      "You don't have any friends in my room\n",
      "Just a friend in your room �\n",
      "\n"
     ]
    },
    {
     "name": "stderr",
     "output_type": "stream",
     "text": [
      "INFO:simpletransformers.language_generation.language_generation_model:=== GENERATED SEQUENCE 1 ===\n",
      "INFO:simpletransformers.language_generation.language_generation_model:I'm close to you ñ But I don't wanna be ñ I'm still in love with you ñ But\n",
      "Setting `pad_token_id` to `eos_token_id`:50256 for open-end generation.\n"
     ]
    },
    {
     "name": "stdout",
     "output_type": "stream",
     "text": [
      "I'm close to you\n",
      "But I don't wanna be\n",
      "I'm still in love with you\n",
      "But\n",
      "\n"
     ]
    },
    {
     "name": "stderr",
     "output_type": "stream",
     "text": [
      "INFO:simpletransformers.language_generation.language_generation_model:=== GENERATED SEQUENCE 1 ===\n",
      "INFO:simpletransformers.language_generation.language_generation_model:With the center of the Ectoplasmic ñ Star of the Maelstrom of the Entangled Mind ñ In\n",
      "Setting `pad_token_id` to `eos_token_id`:50256 for open-end generation.\n"
     ]
    },
    {
     "name": "stdout",
     "output_type": "stream",
     "text": [
      "With the center of the Ectoplasmic\n",
      "Star of the Maelstrom of the Entangled Mind\n",
      "In\n",
      "\n"
     ]
    },
    {
     "name": "stderr",
     "output_type": "stream",
     "text": [
      "INFO:simpletransformers.language_generation.language_generation_model:=== GENERATED SEQUENCE 1 ===\n",
      "INFO:simpletransformers.language_generation.language_generation_model:He walked the halls of that wretched place ñ In one breath ñ On his hands ñ I was lost in his arms ñ\n",
      "Setting `pad_token_id` to `eos_token_id`:50256 for open-end generation.\n"
     ]
    },
    {
     "name": "stdout",
     "output_type": "stream",
     "text": [
      "He walked the halls of that wretched place\n",
      "In one breath\n",
      "On his hands\n",
      "I was lost in his arms\n",
      "\n"
     ]
    },
    {
     "name": "stderr",
     "output_type": "stream",
     "text": [
      "INFO:simpletransformers.language_generation.language_generation_model:=== GENERATED SEQUENCE 1 ===\n",
      "INFO:simpletransformers.language_generation.language_generation_model:Where the soon-to-be \" ñ Oh my gosh ñ There's no time for reflection ñ Now we're\n",
      "Setting `pad_token_id` to `eos_token_id`:50256 for open-end generation.\n"
     ]
    },
    {
     "name": "stdout",
     "output_type": "stream",
     "text": [
      "Where the soon-to-be \"\n",
      "Oh my gosh\n",
      "There's no time for reflection\n",
      "Now we're\n",
      "\n"
     ]
    },
    {
     "name": "stderr",
     "output_type": "stream",
     "text": [
      "INFO:simpletransformers.language_generation.language_generation_model:=== GENERATED SEQUENCE 1 ===\n",
      "INFO:simpletransformers.language_generation.language_generation_model:I don't need you ñ There's nothing you could do for me ñ I don't need you ñ I\n",
      "Setting `pad_token_id` to `eos_token_id`:50256 for open-end generation.\n"
     ]
    },
    {
     "name": "stdout",
     "output_type": "stream",
     "text": [
      "I don't need you\n",
      "There's nothing you could do for me\n",
      "I don't need you\n",
      "I\n",
      "\n"
     ]
    },
    {
     "name": "stderr",
     "output_type": "stream",
     "text": [
      "INFO:simpletransformers.language_generation.language_generation_model:=== GENERATED SEQUENCE 1 ===\n",
      "INFO:simpletransformers.language_generation.language_generation_model:You're like see through the wall ñ But I'm the ones you have to blame ñ Don't ask me why\n",
      "Setting `pad_token_id` to `eos_token_id`:50256 for open-end generation.\n"
     ]
    },
    {
     "name": "stdout",
     "output_type": "stream",
     "text": [
      "You're like see through the wall\n",
      "But I'm the ones you have to blame\n",
      "Don't ask me why\n",
      "\n"
     ]
    },
    {
     "name": "stderr",
     "output_type": "stream",
     "text": [
      "INFO:simpletransformers.language_generation.language_generation_model:=== GENERATED SEQUENCE 1 ===\n",
      "INFO:simpletransformers.language_generation.language_generation_model:Oooooooooooooooooh...This a test of The Emergency Broadcast System, it is possible that the voice of this test was different from the voice of the system recorded in\n",
      "Setting `pad_token_id` to `eos_token_id`:50256 for open-end generation.\n"
     ]
    },
    {
     "name": "stdout",
     "output_type": "stream",
     "text": [
      "Oooooooooooooooooh...This a test of The Emergency Broadcast System, it is possible that the voice of this test was different from the voice of the system recorded in\n",
      "\n"
     ]
    },
    {
     "name": "stderr",
     "output_type": "stream",
     "text": [
      "INFO:simpletransformers.language_generation.language_generation_model:=== GENERATED SEQUENCE 1 ===\n",
      "INFO:simpletransformers.language_generation.language_generation_model:I'm in this bitch and trying to get it over ñ I don't know what to do ñ  ñ I'll be in heaven\n",
      "Setting `pad_token_id` to `eos_token_id`:50256 for open-end generation.\n"
     ]
    },
    {
     "name": "stdout",
     "output_type": "stream",
     "text": [
      "I'm in this bitch and trying to get it over\n",
      "I don't know what to do\n",
      "I'll be in heaven\n",
      "\n"
     ]
    },
    {
     "name": "stderr",
     "output_type": "stream",
     "text": [
      "INFO:simpletransformers.language_generation.language_generation_model:=== GENERATED SEQUENCE 1 ===\n",
      "INFO:simpletransformers.language_generation.language_generation_model:And boy Mister haaard boy! ñ You are all that I can see ñ And boy Mister haaard boy!\n",
      "Setting `pad_token_id` to `eos_token_id`:50256 for open-end generation.\n"
     ]
    },
    {
     "name": "stdout",
     "output_type": "stream",
     "text": [
      "And boy Mister haaard boy!\n",
      "You are all that I can see\n",
      "And boy Mister haaard boy!\n",
      "\n"
     ]
    },
    {
     "name": "stderr",
     "output_type": "stream",
     "text": [
      "INFO:simpletransformers.language_generation.language_generation_model:=== GENERATED SEQUENCE 1 ===\n",
      "INFO:simpletransformers.language_generation.language_generation_model:I'm only flying DT for a suite tour (suite) ñ I've never been higher (higher) ñ I like that shit (like that)\n",
      "Setting `pad_token_id` to `eos_token_id`:50256 for open-end generation.\n"
     ]
    },
    {
     "name": "stdout",
     "output_type": "stream",
     "text": [
      "I'm only flying DT for a suite tour (suite)\n",
      "I've never been higher (higher)\n",
      "I like that shit (like that)\n",
      "\n"
     ]
    },
    {
     "name": "stderr",
     "output_type": "stream",
     "text": [
      "INFO:simpletransformers.language_generation.language_generation_model:=== GENERATED SEQUENCE 1 ===\n",
      "INFO:simpletransformers.language_generation.language_generation_model:They live in my ends, I feel guilty ñ All of my time for them's crimesI'm gonna go, I\n",
      "Setting `pad_token_id` to `eos_token_id`:50256 for open-end generation.\n"
     ]
    },
    {
     "name": "stdout",
     "output_type": "stream",
     "text": [
      "They live in my ends, I feel guilty\n",
      "All of my time for them's crimesI'm gonna go, I\n",
      "\n"
     ]
    },
    {
     "name": "stderr",
     "output_type": "stream",
     "text": [
      "INFO:simpletransformers.language_generation.language_generation_model:=== GENERATED SEQUENCE 1 ===\n",
      "INFO:simpletransformers.language_generation.language_generation_model:Nothing is real ñ So why don't I get it? ñ Because I live in a dream ñ\n",
      "Setting `pad_token_id` to `eos_token_id`:50256 for open-end generation.\n"
     ]
    },
    {
     "name": "stdout",
     "output_type": "stream",
     "text": [
      "Nothing is real\n",
      "So why don't I get it?\n",
      "Because I live in a dream\n",
      "\n"
     ]
    },
    {
     "name": "stderr",
     "output_type": "stream",
     "text": [
      "INFO:simpletransformers.language_generation.language_generation_model:=== GENERATED SEQUENCE 1 ===\n",
      "INFO:simpletransformers.language_generation.language_generation_model:But it's real if you want it to be ñ This is not real ñ I can feel it coming ñ And it's happening to\n",
      "Setting `pad_token_id` to `eos_token_id`:50256 for open-end generation.\n"
     ]
    },
    {
     "name": "stdout",
     "output_type": "stream",
     "text": [
      "But it's real if you want it to be\n",
      "This is not real\n",
      "I can feel it coming\n",
      "And it's happening to\n",
      "\n"
     ]
    },
    {
     "name": "stderr",
     "output_type": "stream",
     "text": [
      "INFO:simpletransformers.language_generation.language_generation_model:=== GENERATED SEQUENCE 1 ===\n",
      "INFO:simpletransformers.language_generation.language_generation_model:(Ideas in my  Ayy), they's all of my money, they's all of my life ñ I\n",
      "Setting `pad_token_id` to `eos_token_id`:50256 for open-end generation.\n"
     ]
    },
    {
     "name": "stdout",
     "output_type": "stream",
     "text": [
      "(Ideas in my  Ayy), they's all of my money, they's all of my life\n",
      "I\n",
      "\n"
     ]
    },
    {
     "name": "stderr",
     "output_type": "stream",
     "text": [
      "INFO:simpletransformers.language_generation.language_generation_model:=== GENERATED SEQUENCE 1 ===\n",
      "INFO:simpletransformers.language_generation.language_generation_model:The following program deals with controversial subjects, and due to the nature of the show, we will not discuss the contents of the programmes:] ñ\n",
      "Setting `pad_token_id` to `eos_token_id`:50256 for open-end generation.\n"
     ]
    },
    {
     "name": "stdout",
     "output_type": "stream",
     "text": [
      "The following program deals with controversial subjects, and due to the nature of the show, we will not discuss the contents of the programmes:]\n",
      "\n"
     ]
    },
    {
     "name": "stderr",
     "output_type": "stream",
     "text": [
      "INFO:simpletransformers.language_generation.language_generation_model:=== GENERATED SEQUENCE 1 ===\n",
      "INFO:simpletransformers.language_generation.language_generation_model:Got my work clothes on for love, sweat and dirt ñ Now I just need a little attention, a little help ñ And I need you to\n",
      "Setting `pad_token_id` to `eos_token_id`:50256 for open-end generation.\n"
     ]
    },
    {
     "name": "stdout",
     "output_type": "stream",
     "text": [
      "Got my work clothes on for love, sweat and dirt\n",
      "Now I just need a little attention, a little help\n",
      "And I need you to\n",
      "\n"
     ]
    },
    {
     "name": "stderr",
     "output_type": "stream",
     "text": [
      "INFO:simpletransformers.language_generation.language_generation_model:=== GENERATED SEQUENCE 1 ===\n",
      "INFO:simpletransformers.language_generation.language_generation_model:All this holy duet ñ All this holy duet ñ So much so that I need ñ Somebody say\n",
      "Setting `pad_token_id` to `eos_token_id`:50256 for open-end generation.\n"
     ]
    },
    {
     "name": "stdout",
     "output_type": "stream",
     "text": [
      "All this holy duet\n",
      "All this holy duet\n",
      "So much so that I need\n",
      "Somebody say\n",
      "\n"
     ]
    },
    {
     "name": "stderr",
     "output_type": "stream",
     "text": [
      "INFO:simpletransformers.language_generation.language_generation_model:=== GENERATED SEQUENCE 1 ===\n",
      "INFO:simpletransformers.language_generation.language_generation_model:Baby, oh, baby, oh, baby, oh, baby ñ I've been watching you, yeah, baby �\n",
      "Setting `pad_token_id` to `eos_token_id`:50256 for open-end generation.\n"
     ]
    },
    {
     "name": "stdout",
     "output_type": "stream",
     "text": [
      "Baby, oh, baby, oh, baby, oh, baby\n",
      "I've been watching you, yeah, baby �\n",
      "\n"
     ]
    },
    {
     "name": "stderr",
     "output_type": "stream",
     "text": [
      "INFO:simpletransformers.language_generation.language_generation_model:=== GENERATED SEQUENCE 1 ===\n",
      "INFO:simpletransformers.language_generation.language_generation_model:Where are you? ñ I wanna find you ñ So I'll be happy ñ So I'll be happy\n",
      "Setting `pad_token_id` to `eos_token_id`:50256 for open-end generation.\n"
     ]
    },
    {
     "name": "stdout",
     "output_type": "stream",
     "text": [
      "Where are you?\n",
      "I wanna find you\n",
      "So I'll be happy\n",
      "So I'll be happy\n",
      "\n"
     ]
    },
    {
     "name": "stderr",
     "output_type": "stream",
     "text": [
      "INFO:simpletransformers.language_generation.language_generation_model:=== GENERATED SEQUENCE 1 ===\n",
      "INFO:simpletransformers.language_generation.language_generation_model:(Ooo-woo) ñ  ñ My body's getting tired ñ I'm not feeling well ñ My\n",
      "Setting `pad_token_id` to `eos_token_id`:50256 for open-end generation.\n"
     ]
    },
    {
     "name": "stdout",
     "output_type": "stream",
     "text": [
      "(Ooo-woo)\n",
      "My body's getting tired\n",
      "I'm not feeling well\n",
      "My\n",
      "\n"
     ]
    },
    {
     "name": "stderr",
     "output_type": "stream",
     "text": [
      "INFO:simpletransformers.language_generation.language_generation_model:=== GENERATED SEQUENCE 1 ===\n",
      "INFO:simpletransformers.language_generation.language_generation_model:Oh now, that I need, I niggas, a-and I'm really mean to ya, a-so I'ma make\n",
      "Setting `pad_token_id` to `eos_token_id`:50256 for open-end generation.\n"
     ]
    },
    {
     "name": "stdout",
     "output_type": "stream",
     "text": [
      "Oh now, that I need, I niggas, a-and I'm really mean to ya, a-so I'ma make\n",
      "\n"
     ]
    },
    {
     "name": "stderr",
     "output_type": "stream",
     "text": [
      "INFO:simpletransformers.language_generation.language_generation_model:=== GENERATED SEQUENCE 1 ===\n",
      "INFO:simpletransformers.language_generation.language_generation_model:Those days when I would sit around with you ñ There were times when I would think of the things you do ñ There are ways you\n",
      "Setting `pad_token_id` to `eos_token_id`:50256 for open-end generation.\n"
     ]
    },
    {
     "name": "stdout",
     "output_type": "stream",
     "text": [
      "Those days when I would sit around with you\n",
      "There were times when I would think of the things you do\n",
      "There are ways you\n",
      "\n"
     ]
    },
    {
     "name": "stderr",
     "output_type": "stream",
     "text": [
      "INFO:simpletransformers.language_generation.language_generation_model:=== GENERATED SEQUENCE 1 ===\n",
      "INFO:simpletransformers.language_generation.language_generation_model:There's nothing like the feeling of a love that lasts ñ Maybe you've felt it too ñ Maybe you've\n",
      "Setting `pad_token_id` to `eos_token_id`:50256 for open-end generation.\n"
     ]
    },
    {
     "name": "stdout",
     "output_type": "stream",
     "text": [
      "There's nothing like the feeling of a love that lasts\n",
      "Maybe you've felt it too\n",
      "Maybe you've\n",
      "\n"
     ]
    },
    {
     "name": "stderr",
     "output_type": "stream",
     "text": [
      "INFO:simpletransformers.language_generation.language_generation_model:=== GENERATED SEQUENCE 1 ===\n",
      "INFO:simpletransformers.language_generation.language_generation_model:I'm drunk and I'm sick, I'm sick and I'm blind ñ I'm drunk and I'm\n",
      "Setting `pad_token_id` to `eos_token_id`:50256 for open-end generation.\n"
     ]
    },
    {
     "name": "stdout",
     "output_type": "stream",
     "text": [
      "I'm drunk and I'm sick, I'm sick and I'm blind\n",
      "I'm drunk and I'm\n",
      "\n"
     ]
    },
    {
     "name": "stderr",
     "output_type": "stream",
     "text": [
      "INFO:simpletransformers.language_generation.language_generation_model:=== GENERATED SEQUENCE 1 ===\n",
      "INFO:simpletransformers.language_generation.language_generation_model:Girl, you know I had a bit too much, Yeah) ñ If you don't mind ñ I'd be doing a bit more ñ Well\n",
      "Setting `pad_token_id` to `eos_token_id`:50256 for open-end generation.\n"
     ]
    },
    {
     "name": "stdout",
     "output_type": "stream",
     "text": [
      "Girl, you know I had a bit too much, Yeah)\n",
      "If you don't mind\n",
      "I'd be doing a bit more\n",
      "Well\n",
      "\n"
     ]
    },
    {
     "name": "stderr",
     "output_type": "stream",
     "text": [
      "INFO:simpletransformers.language_generation.language_generation_model:=== GENERATED SEQUENCE 1 ===\n",
      "INFO:simpletransformers.language_generation.language_generation_model:Hindsight is a very clever guy ñ Sometimes I feel it will never end ñ But I think that's not true ñ\n",
      "Setting `pad_token_id` to `eos_token_id`:50256 for open-end generation.\n"
     ]
    },
    {
     "name": "stdout",
     "output_type": "stream",
     "text": [
      "Hindsight is a very clever guy\n",
      "Sometimes I feel it will never end\n",
      "But I think that's not true\n",
      "\n"
     ]
    },
    {
     "name": "stderr",
     "output_type": "stream",
     "text": [
      "INFO:simpletransformers.language_generation.language_generation_model:=== GENERATED SEQUENCE 1 ===\n",
      "INFO:simpletransformers.language_generation.language_generation_model:But not as clever as I! ñ It's too much like you ñ Too many mistakes, too much trouble, too much\n",
      "Setting `pad_token_id` to `eos_token_id`:50256 for open-end generation.\n"
     ]
    },
    {
     "name": "stdout",
     "output_type": "stream",
     "text": [
      "But not as clever as I!\n",
      "It's too much like you\n",
      "Too many mistakes, too much trouble, too much\n",
      "\n"
     ]
    },
    {
     "name": "stderr",
     "output_type": "stream",
     "text": [
      "INFO:simpletransformers.language_generation.language_generation_model:=== GENERATED SEQUENCE 1 ===\n",
      "INFO:simpletransformers.language_generation.language_generation_model:He can on his own ñ Not in his name ñ I just wanna be by his side ñ But\n",
      "Setting `pad_token_id` to `eos_token_id`:50256 for open-end generation.\n"
     ]
    },
    {
     "name": "stdout",
     "output_type": "stream",
     "text": [
      "He can on his own\n",
      "Not in his name\n",
      "I just wanna be by his side\n",
      "But\n",
      "\n"
     ]
    },
    {
     "name": "stderr",
     "output_type": "stream",
     "text": [
      "INFO:simpletransformers.language_generation.language_generation_model:=== GENERATED SEQUENCE 1 ===\n",
      "INFO:simpletransformers.language_generation.language_generation_model:I remember a time so long ago when ñ I was not afraid to fall ñ I remember a time when ñ Every day\n",
      "Setting `pad_token_id` to `eos_token_id`:50256 for open-end generation.\n"
     ]
    },
    {
     "name": "stdout",
     "output_type": "stream",
     "text": [
      "I remember a time so long ago when\n",
      "I was not afraid to fall\n",
      "I remember a time when\n",
      "Every day\n",
      "\n"
     ]
    },
    {
     "name": "stderr",
     "output_type": "stream",
     "text": [
      "INFO:simpletransformers.language_generation.language_generation_model:=== GENERATED SEQUENCE 1 ===\n",
      "INFO:simpletransformers.language_generation.language_generation_model:Seems like a lifetime - guess you  don't know ñ What they are really gonna get ñ I don't know... - guess\n",
      "Setting `pad_token_id` to `eos_token_id`:50256 for open-end generation.\n"
     ]
    },
    {
     "name": "stdout",
     "output_type": "stream",
     "text": [
      "Seems like a lifetime - guess you  don't know\n",
      "What they are really gonna get\n",
      "I don't know... - guess\n",
      "\n"
     ]
    },
    {
     "name": "stderr",
     "output_type": "stream",
     "text": [
      "INFO:simpletransformers.language_generation.language_generation_model:=== GENERATED SEQUENCE 1 ===\n",
      "INFO:simpletransformers.language_generation.language_generation_model:City life just leaves me weak, can't find a reason to go out and get the job ñ There's nothing wrong with\n",
      "Setting `pad_token_id` to `eos_token_id`:50256 for open-end generation.\n"
     ]
    },
    {
     "name": "stdout",
     "output_type": "stream",
     "text": [
      "City life just leaves me weak, can't find a reason to go out and get the job\n",
      "There's nothing wrong with\n",
      "\n"
     ]
    },
    {
     "name": "stderr",
     "output_type": "stream",
     "text": [
      "INFO:simpletransformers.language_generation.language_generation_model:=== GENERATED SEQUENCE 1 ===\n",
      "INFO:simpletransformers.language_generation.language_generation_model:All this madness on the street...I'm lost in my mind ñ I've never felt so alone ñ As this is\n",
      "Setting `pad_token_id` to `eos_token_id`:50256 for open-end generation.\n"
     ]
    },
    {
     "name": "stdout",
     "output_type": "stream",
     "text": [
      "All this madness on the street...I'm lost in my mind\n",
      "I've never felt so alone\n",
      "As this is\n",
      "\n"
     ]
    },
    {
     "name": "stderr",
     "output_type": "stream",
     "text": [
      "INFO:simpletransformers.language_generation.language_generation_model:=== GENERATED SEQUENCE 1 ===\n",
      "INFO:simpletransformers.language_generation.language_generation_model:Nee-nee ñ I'm a sucker, a sucker on my knees ñ My stomach is\n",
      "Setting `pad_token_id` to `eos_token_id`:50256 for open-end generation.\n"
     ]
    },
    {
     "name": "stdout",
     "output_type": "stream",
     "text": [
      "Nee-nee\n",
      "I'm a sucker, a sucker on my knees\n",
      "My stomach is\n",
      "\n"
     ]
    },
    {
     "name": "stderr",
     "output_type": "stream",
     "text": [
      "INFO:simpletransformers.language_generation.language_generation_model:=== GENERATED SEQUENCE 1 ===\n",
      "INFO:simpletransformers.language_generation.language_generation_model:Alexander... ñ She's so fine, I love her ñ  ñ You gotta make it on\n",
      "Setting `pad_token_id` to `eos_token_id`:50256 for open-end generation.\n"
     ]
    },
    {
     "name": "stdout",
     "output_type": "stream",
     "text": [
      "Alexander...\n",
      "She's so fine, I love her\n",
      "You gotta make it on\n",
      "\n"
     ]
    },
    {
     "name": "stderr",
     "output_type": "stream",
     "text": [
      "INFO:simpletransformers.language_generation.language_generation_model:=== GENERATED SEQUENCE 1 ===\n",
      "INFO:simpletransformers.language_generation.language_generation_model:Congratulations!(Music: DJ Rave & DJ Rave) ñ  ñ (Instrumental\n",
      "Setting `pad_token_id` to `eos_token_id`:50256 for open-end generation.\n"
     ]
    },
    {
     "name": "stdout",
     "output_type": "stream",
     "text": [
      "Congratulations!(Music: DJ Rave & DJ Rave)\n",
      "(Instrumental\n",
      "\n"
     ]
    },
    {
     "name": "stderr",
     "output_type": "stream",
     "text": [
      "INFO:simpletransformers.language_generation.language_generation_model:=== GENERATED SEQUENCE 1 ===\n",
      "INFO:simpletransformers.language_generation.language_generation_model:You have invented a  ñ A  in one ñ  ñ Yes!You are a  ñ You\n",
      "Setting `pad_token_id` to `eos_token_id`:50256 for open-end generation.\n"
     ]
    },
    {
     "name": "stdout",
     "output_type": "stream",
     "text": [
      "You have invented a \n",
      "A  in one\n",
      "Yes!You are a \n",
      "You\n",
      "\n"
     ]
    },
    {
     "name": "stderr",
     "output_type": "stream",
     "text": [
      "INFO:simpletransformers.language_generation.language_generation_model:=== GENERATED SEQUENCE 1 ===\n",
      "INFO:simpletransformers.language_generation.language_generation_model:Everyone is carrying on in this house ñ When everyone is holding on and hoping for some luck ñ But there is no one that\n",
      "Setting `pad_token_id` to `eos_token_id`:50256 for open-end generation.\n"
     ]
    },
    {
     "name": "stdout",
     "output_type": "stream",
     "text": [
      "Everyone is carrying on in this house\n",
      "When everyone is holding on and hoping for some luck\n",
      "But there is no one that\n",
      "\n"
     ]
    },
    {
     "name": "stderr",
     "output_type": "stream",
     "text": [
      "INFO:simpletransformers.language_generation.language_generation_model:=== GENERATED SEQUENCE 1 ===\n",
      "INFO:simpletransformers.language_generation.language_generation_model:Afraid to move back there, for fear it's too soon ñ We don't need to know if we love or we fear\n",
      "Setting `pad_token_id` to `eos_token_id`:50256 for open-end generation.\n"
     ]
    },
    {
     "name": "stdout",
     "output_type": "stream",
     "text": [
      "Afraid to move back there, for fear it's too soon\n",
      "We don't need to know if we love or we fear\n",
      "\n"
     ]
    },
    {
     "name": "stderr",
     "output_type": "stream",
     "text": [
      "INFO:simpletransformers.language_generation.language_generation_model:=== GENERATED SEQUENCE 1 ===\n",
      "INFO:simpletransformers.language_generation.language_generation_model:I don't need a reason to smile as I walk down the street ñ I don't need anything at all ñ I don't want a picture or any kind\n",
      "Setting `pad_token_id` to `eos_token_id`:50256 for open-end generation.\n"
     ]
    },
    {
     "name": "stdout",
     "output_type": "stream",
     "text": [
      "I don't need a reason to smile as I walk down the street\n",
      "I don't need anything at all\n",
      "I don't want a picture or any kind\n",
      "\n"
     ]
    },
    {
     "name": "stderr",
     "output_type": "stream",
     "text": [
      "INFO:simpletransformers.language_generation.language_generation_model:=== GENERATED SEQUENCE 1 ===\n",
      "INFO:simpletransformers.language_generation.language_generation_model:The fruit from the tree was so pleasing to my eye ñ And from my humble lips the praise and praise ñ We praised and praised God, the\n",
      "Setting `pad_token_id` to `eos_token_id`:50256 for open-end generation.\n"
     ]
    },
    {
     "name": "stdout",
     "output_type": "stream",
     "text": [
      "The fruit from the tree was so pleasing to my eye\n",
      "And from my humble lips the praise and praise\n",
      "We praised and praised God, the\n",
      "\n"
     ]
    },
    {
     "name": "stderr",
     "output_type": "stream",
     "text": [
      "INFO:simpletransformers.language_generation.language_generation_model:=== GENERATED SEQUENCE 1 ===\n",
      "INFO:simpletransformers.language_generation.language_generation_model:Fuck these fuck ills!!! ñ No other man will be stronger ñ!!!In his way ñ\n",
      "Setting `pad_token_id` to `eos_token_id`:50256 for open-end generation.\n"
     ]
    },
    {
     "name": "stdout",
     "output_type": "stream",
     "text": [
      "Fuck these fuck ills!!!\n",
      "No other man will be stronger!!!In his way\n",
      "\n"
     ]
    },
    {
     "name": "stderr",
     "output_type": "stream",
     "text": [
      "INFO:simpletransformers.language_generation.language_generation_model:=== GENERATED SEQUENCE 1 ===\n",
      "INFO:simpletransformers.language_generation.language_generation_model:Color the trees, color the ocean ñ We will never look the same ñ But someday the time will come ñ We will\n",
      "Setting `pad_token_id` to `eos_token_id`:50256 for open-end generation.\n"
     ]
    },
    {
     "name": "stdout",
     "output_type": "stream",
     "text": [
      "Color the trees, color the ocean\n",
      "We will never look the same\n",
      "But someday the time will come\n",
      "We will\n",
      "\n"
     ]
    },
    {
     "name": "stderr",
     "output_type": "stream",
     "text": [
      "INFO:simpletransformers.language_generation.language_generation_model:=== GENERATED SEQUENCE 1 ===\n",
      "INFO:simpletransformers.language_generation.language_generation_model:Speak your mind, it's time for  ñ I don't think I need to, I don't think that's the way it is\n",
      "Setting `pad_token_id` to `eos_token_id`:50256 for open-end generation.\n"
     ]
    },
    {
     "name": "stdout",
     "output_type": "stream",
     "text": [
      "Speak your mind, it's time for \n",
      "I don't think I need to, I don't think that's the way it is\n",
      "\n"
     ]
    },
    {
     "name": "stderr",
     "output_type": "stream",
     "text": [
      "INFO:simpletransformers.language_generation.language_generation_model:=== GENERATED SEQUENCE 1 ===\n",
      "INFO:simpletransformers.language_generation.language_generation_model:You find yourself devoured by woodland creatures ñ The forest is not so vast ñ And your body so small, that even the bones\n",
      "Setting `pad_token_id` to `eos_token_id`:50256 for open-end generation.\n"
     ]
    },
    {
     "name": "stdout",
     "output_type": "stream",
     "text": [
      "You find yourself devoured by woodland creatures\n",
      "The forest is not so vast\n",
      "And your body so small, that even the bones\n",
      "\n"
     ]
    },
    {
     "name": "stderr",
     "output_type": "stream",
     "text": [
      "INFO:simpletransformers.language_generation.language_generation_model:=== GENERATED SEQUENCE 1 ===\n",
      "INFO:simpletransformers.language_generation.language_generation_model:I saw your eyes ñ I saw the flames ñ I saw your face ñ I saw the fire ñ\n",
      "Setting `pad_token_id` to `eos_token_id`:50256 for open-end generation.\n"
     ]
    },
    {
     "name": "stdout",
     "output_type": "stream",
     "text": [
      "I saw your eyes\n",
      "I saw the flames\n",
      "I saw your face\n",
      "I saw the fire\n",
      "\n"
     ]
    },
    {
     "name": "stderr",
     "output_type": "stream",
     "text": [
      "INFO:simpletransformers.language_generation.language_generation_model:=== GENERATED SEQUENCE 1 ===\n",
      "INFO:simpletransformers.language_generation.language_generation_model:And you made me smile ñ For the first time ñ You made me cry ñ I never had a feeling like\n",
      "Setting `pad_token_id` to `eos_token_id`:50256 for open-end generation.\n"
     ]
    },
    {
     "name": "stdout",
     "output_type": "stream",
     "text": [
      "And you made me smile\n",
      "For the first time\n",
      "You made me cry\n",
      "I never had a feeling like\n",
      "\n"
     ]
    },
    {
     "name": "stderr",
     "output_type": "stream",
     "text": [
      "INFO:simpletransformers.language_generation.language_generation_model:=== GENERATED SEQUENCE 1 ===\n",
      "INFO:simpletransformers.language_generation.language_generation_model:For a little while ñ I just wanted to see you ñ And I wanted to have a little time ñ\n",
      "Setting `pad_token_id` to `eos_token_id`:50256 for open-end generation.\n"
     ]
    },
    {
     "name": "stdout",
     "output_type": "stream",
     "text": [
      "For a little while\n",
      "I just wanted to see you\n",
      "And I wanted to have a little time\n",
      "\n"
     ]
    },
    {
     "name": "stderr",
     "output_type": "stream",
     "text": [
      "INFO:simpletransformers.language_generation.language_generation_model:=== GENERATED SEQUENCE 1 ===\n",
      "INFO:simpletransformers.language_generation.language_generation_model:I was an artist on a hill ñ To give some money ñ To buy a big house ñ\n",
      "Setting `pad_token_id` to `eos_token_id`:50256 for open-end generation.\n"
     ]
    },
    {
     "name": "stdout",
     "output_type": "stream",
     "text": [
      "I was an artist on a hill\n",
      "To give some money\n",
      "To buy a big house\n",
      "\n"
     ]
    },
    {
     "name": "stderr",
     "output_type": "stream",
     "text": [
      "INFO:simpletransformers.language_generation.language_generation_model:=== GENERATED SEQUENCE 1 ===\n",
      "INFO:simpletransformers.language_generation.language_generation_model:If you feel transition to your other life, I will be here in the darkness ñ I have known you since my first step across the\n",
      "Setting `pad_token_id` to `eos_token_id`:50256 for open-end generation.\n"
     ]
    },
    {
     "name": "stdout",
     "output_type": "stream",
     "text": [
      "If you feel transition to your other life, I will be here in the darkness\n",
      "I have known you since my first step across the\n",
      "\n"
     ]
    },
    {
     "name": "stderr",
     "output_type": "stream",
     "text": [
      "INFO:simpletransformers.language_generation.language_generation_model:=== GENERATED SEQUENCE 1 ===\n",
      "INFO:simpletransformers.language_generation.language_generation_model:Don't need money to be a king ñ And we all know ñ You better stop thinking just how much money you have\n",
      "Setting `pad_token_id` to `eos_token_id`:50256 for open-end generation.\n"
     ]
    },
    {
     "name": "stdout",
     "output_type": "stream",
     "text": [
      "Don't need money to be a king\n",
      "And we all know\n",
      "You better stop thinking just how much money you have\n",
      "\n"
     ]
    },
    {
     "name": "stderr",
     "output_type": "stream",
     "text": [
      "INFO:simpletransformers.language_generation.language_generation_model:=== GENERATED SEQUENCE 1 ===\n",
      "INFO:simpletransformers.language_generation.language_generation_model:Shake it up with me ñ Shake it up with me ñ With me ñ With me (\n",
      "Setting `pad_token_id` to `eos_token_id`:50256 for open-end generation.\n"
     ]
    },
    {
     "name": "stdout",
     "output_type": "stream",
     "text": [
      "Shake it up with me\n",
      "Shake it up with me\n",
      "With me\n",
      "With me (\n",
      "\n"
     ]
    },
    {
     "name": "stderr",
     "output_type": "stream",
     "text": [
      "INFO:simpletransformers.language_generation.language_generation_model:=== GENERATED SEQUENCE 1 ===\n",
      "INFO:simpletransformers.language_generation.language_generation_model:Another saturday another saturday alone ooh this thin like the moon ñ Saturday again and we'll be here again for a month ñ That\n",
      "Setting `pad_token_id` to `eos_token_id`:50256 for open-end generation.\n"
     ]
    },
    {
     "name": "stdout",
     "output_type": "stream",
     "text": [
      "Another saturday another saturday alone ooh this thin like the moon\n",
      "Saturday again and we'll be here again for a month\n",
      "That\n",
      "\n"
     ]
    },
    {
     "name": "stderr",
     "output_type": "stream",
     "text": [
      "INFO:simpletransformers.language_generation.language_generation_model:=== GENERATED SEQUENCE 1 ===\n",
      "INFO:simpletransformers.language_generation.language_generation_model:Never wished another man problem ñ And I'm always looking for another man problem ñ I can't stop thinking about what\n",
      "Setting `pad_token_id` to `eos_token_id`:50256 for open-end generation.\n"
     ]
    },
    {
     "name": "stdout",
     "output_type": "stream",
     "text": [
      "Never wished another man problem\n",
      "And I'm always looking for another man problem\n",
      "I can't stop thinking about what\n",
      "\n"
     ]
    },
    {
     "name": "stderr",
     "output_type": "stream",
     "text": [
      "INFO:simpletransformers.language_generation.language_generation_model:=== GENERATED SEQUENCE 1 ===\n",
      "INFO:simpletransformers.language_generation.language_generation_model:Even when the trouble was knockin' on my door ñ And I did the same thing ñ I never had to pay\n",
      "Setting `pad_token_id` to `eos_token_id`:50256 for open-end generation.\n"
     ]
    },
    {
     "name": "stdout",
     "output_type": "stream",
     "text": [
      "Even when the trouble was knockin' on my door\n",
      "And I did the same thing\n",
      "I never had to pay\n",
      "\n"
     ]
    },
    {
     "name": "stderr",
     "output_type": "stream",
     "text": [
      "INFO:simpletransformers.language_generation.language_generation_model:=== GENERATED SEQUENCE 1 ===\n",
      "INFO:simpletransformers.language_generation.language_generation_model:I'm gonna be somebody tonight ñ I'm gonna be somebody tonight ñ I'm gonna be somebody ñ I'm\n",
      "Setting `pad_token_id` to `eos_token_id`:50256 for open-end generation.\n"
     ]
    },
    {
     "name": "stdout",
     "output_type": "stream",
     "text": [
      "I'm gonna be somebody tonight\n",
      "I'm gonna be somebody tonight\n",
      "I'm gonna be somebody\n",
      "I'm\n",
      "\n"
     ]
    },
    {
     "name": "stderr",
     "output_type": "stream",
     "text": [
      "INFO:simpletransformers.language_generation.language_generation_model:=== GENERATED SEQUENCE 1 ===\n",
      "INFO:simpletransformers.language_generation.language_generation_model:Don't think about what it means ñ Never say you'll feel right ñ Never try to save ñ Don't be afraid\n",
      "Setting `pad_token_id` to `eos_token_id`:50256 for open-end generation.\n"
     ]
    },
    {
     "name": "stdout",
     "output_type": "stream",
     "text": [
      "Don't think about what it means\n",
      "Never say you'll feel right\n",
      "Never try to save\n",
      "Don't be afraid\n",
      "\n"
     ]
    },
    {
     "name": "stderr",
     "output_type": "stream",
     "text": [
      "INFO:simpletransformers.language_generation.language_generation_model:=== GENERATED SEQUENCE 1 ===\n",
      "INFO:simpletransformers.language_generation.language_generation_model:Just grab yourself an old tee shanty ñ Gotta dig the hole up ñ But you can dig your own hole ñ\n",
      "Setting `pad_token_id` to `eos_token_id`:50256 for open-end generation.\n"
     ]
    },
    {
     "name": "stdout",
     "output_type": "stream",
     "text": [
      "Just grab yourself an old tee shanty\n",
      "Gotta dig the hole up\n",
      "But you can dig your own hole\n",
      "\n"
     ]
    },
    {
     "name": "stderr",
     "output_type": "stream",
     "text": [
      "INFO:simpletransformers.language_generation.language_generation_model:=== GENERATED SEQUENCE 1 ===\n",
      "INFO:simpletransformers.language_generation.language_generation_model:Where have all the blue skies gone? ñ And where have all the blue rivers gone? ñ And where is the night sky?\n",
      "Setting `pad_token_id` to `eos_token_id`:50256 for open-end generation.\n"
     ]
    },
    {
     "name": "stdout",
     "output_type": "stream",
     "text": [
      "Where have all the blue skies gone?\n",
      "And where have all the blue rivers gone?\n",
      "And where is the night sky?\n",
      "\n"
     ]
    },
    {
     "name": "stderr",
     "output_type": "stream",
     "text": [
      "INFO:simpletransformers.language_generation.language_generation_model:=== GENERATED SEQUENCE 1 ===\n",
      "INFO:simpletransformers.language_generation.language_generation_model:And to the East, a toxic dawg ñ Come join us and get drunk with me ñ Go get funky and get funky with\n",
      "Setting `pad_token_id` to `eos_token_id`:50256 for open-end generation.\n"
     ]
    },
    {
     "name": "stdout",
     "output_type": "stream",
     "text": [
      "And to the East, a toxic dawg\n",
      "Come join us and get drunk with me\n",
      "Go get funky and get funky with\n",
      "\n"
     ]
    },
    {
     "name": "stderr",
     "output_type": "stream",
     "text": [
      "INFO:simpletransformers.language_generation.language_generation_model:=== GENERATED SEQUENCE 1 ===\n",
      "INFO:simpletransformers.language_generation.language_generation_model:Once a pillar in the ground ñ No man ever left it ñ And I won't believe I'm in love ñ\n",
      "Setting `pad_token_id` to `eos_token_id`:50256 for open-end generation.\n"
     ]
    },
    {
     "name": "stdout",
     "output_type": "stream",
     "text": [
      "Once a pillar in the ground\n",
      "No man ever left it\n",
      "And I won't believe I'm in love\n",
      "\n"
     ]
    },
    {
     "name": "stderr",
     "output_type": "stream",
     "text": [
      "INFO:simpletransformers.language_generation.language_generation_model:=== GENERATED SEQUENCE 1 ===\n",
      "INFO:simpletransformers.language_generation.language_generation_model:My ceaseless gaze behind the sky ñ In the darkness of night ñ I am the night-time master of the moon �\n",
      "Setting `pad_token_id` to `eos_token_id`:50256 for open-end generation.\n"
     ]
    },
    {
     "name": "stdout",
     "output_type": "stream",
     "text": [
      "My ceaseless gaze behind the sky\n",
      "In the darkness of night\n",
      "I am the night-time master of the moon �\n",
      "\n"
     ]
    },
    {
     "name": "stderr",
     "output_type": "stream",
     "text": [
      "INFO:simpletransformers.language_generation.language_generation_model:=== GENERATED SEQUENCE 1 ===\n",
      "INFO:simpletransformers.language_generation.language_generation_model:As  this ñ I know for sure ñ  ñ Is that you ñ If the world\n",
      "Setting `pad_token_id` to `eos_token_id`:50256 for open-end generation.\n"
     ]
    },
    {
     "name": "stdout",
     "output_type": "stream",
     "text": [
      "As  this\n",
      "I know for sure\n",
      "Is that you\n",
      "If the world\n",
      "\n"
     ]
    },
    {
     "name": "stderr",
     "output_type": "stream",
     "text": [
      "INFO:simpletransformers.language_generation.language_generation_model:=== GENERATED SEQUENCE 1 ===\n",
      "INFO:simpletransformers.language_generation.language_generation_model:I called you up all night until morning ñ But I was afraid I'd see you in the morning ñ Cause that's when I\n",
      "Setting `pad_token_id` to `eos_token_id`:50256 for open-end generation.\n"
     ]
    },
    {
     "name": "stdout",
     "output_type": "stream",
     "text": [
      "I called you up all night until morning\n",
      "But I was afraid I'd see you in the morning\n",
      "Cause that's when I\n",
      "\n"
     ]
    },
    {
     "name": "stderr",
     "output_type": "stream",
     "text": [
      "INFO:simpletransformers.language_generation.language_generation_model:=== GENERATED SEQUENCE 1 ===\n",
      "INFO:simpletransformers.language_generation.language_generation_model:Left my house by noon to find I just can't stand ñ There's no time to play a game so grand I can\n",
      "Setting `pad_token_id` to `eos_token_id`:50256 for open-end generation.\n"
     ]
    },
    {
     "name": "stdout",
     "output_type": "stream",
     "text": [
      "Left my house by noon to find I just can't stand\n",
      "There's no time to play a game so grand I can\n",
      "\n"
     ]
    },
    {
     "name": "stderr",
     "output_type": "stream",
     "text": [
      "INFO:simpletransformers.language_generation.language_generation_model:=== GENERATED SEQUENCE 1 ===\n",
      "INFO:simpletransformers.language_generation.language_generation_model:Down in the gutter, heart's in the dumps ñ  ñ You don't deserve it, you're so pathetic ñ You don't\n",
      "Setting `pad_token_id` to `eos_token_id`:50256 for open-end generation.\n"
     ]
    },
    {
     "name": "stdout",
     "output_type": "stream",
     "text": [
      "Down in the gutter, heart's in the dumps\n",
      "You don't deserve it, you're so pathetic\n",
      "You don't\n",
      "\n"
     ]
    },
    {
     "name": "stderr",
     "output_type": "stream",
     "text": [
      "INFO:simpletransformers.language_generation.language_generation_model:=== GENERATED SEQUENCE 1 ===\n",
      "INFO:simpletransformers.language_generation.language_generation_model:Suicide blues, pour me  ñ I'm so tired ñ I can't sleep ñ I don't know how to\n",
      "Setting `pad_token_id` to `eos_token_id`:50256 for open-end generation.\n"
     ]
    },
    {
     "name": "stdout",
     "output_type": "stream",
     "text": [
      "Suicide blues, pour me \n",
      "I'm so tired\n",
      "I can't sleep\n",
      "I don't know how to\n",
      "\n"
     ]
    },
    {
     "name": "stderr",
     "output_type": "stream",
     "text": [
      "INFO:simpletransformers.language_generation.language_generation_model:=== GENERATED SEQUENCE 1 ===\n",
      "INFO:simpletransformers.language_generation.language_generation_model:American rock ooh yeah yeah) ñ You don't ever make me feel better ñ But I'm still feeling bad\n",
      "Setting `pad_token_id` to `eos_token_id`:50256 for open-end generation.\n"
     ]
    },
    {
     "name": "stdout",
     "output_type": "stream",
     "text": [
      "American rock ooh yeah yeah)\n",
      "You don't ever make me feel better\n",
      "But I'm still feeling bad\n",
      "\n"
     ]
    },
    {
     "name": "stderr",
     "output_type": "stream",
     "text": [
      "INFO:simpletransformers.language_generation.language_generation_model:=== GENERATED SEQUENCE 1 ===\n",
      "INFO:simpletransformers.language_generation.language_generation_model:Don't you ever wonder why the whole world loves you? ñ And the way you treat me is better than they do ñ And love\n",
      "Setting `pad_token_id` to `eos_token_id`:50256 for open-end generation.\n"
     ]
    },
    {
     "name": "stdout",
     "output_type": "stream",
     "text": [
      "Don't you ever wonder why the whole world loves you?\n",
      "And the way you treat me is better than they do\n",
      "And love\n",
      "\n"
     ]
    },
    {
     "name": "stderr",
     "output_type": "stream",
     "text": [
      "INFO:simpletransformers.language_generation.language_generation_model:=== GENERATED SEQUENCE 1 ===\n",
      "INFO:simpletransformers.language_generation.language_generation_model:The taste of victory takes on it's hold. Round 'n round the world its an open secret but you know we ain't going nowhere ñ Its an open secret but its\n",
      "Setting `pad_token_id` to `eos_token_id`:50256 for open-end generation.\n"
     ]
    },
    {
     "name": "stdout",
     "output_type": "stream",
     "text": [
      "The taste of victory takes on it's hold. Round 'n round the world its an open secret but you know we ain't going nowhere\n",
      "Its an open secret but its\n",
      "\n"
     ]
    },
    {
     "name": "stderr",
     "output_type": "stream",
     "text": [
      "INFO:simpletransformers.language_generation.language_generation_model:=== GENERATED SEQUENCE 1 ===\n",
      "INFO:simpletransformers.language_generation.language_generation_model:Do my thing ñ 'Cause I'ma give you a little taste, no no-oblivion ñ\n",
      "Setting `pad_token_id` to `eos_token_id`:50256 for open-end generation.\n"
     ]
    },
    {
     "name": "stdout",
     "output_type": "stream",
     "text": [
      "Do my thing\n",
      "'Cause I'ma give you a little taste, no no-oblivion\n",
      "\n"
     ]
    },
    {
     "name": "stderr",
     "output_type": "stream",
     "text": [
      "INFO:simpletransformers.language_generation.language_generation_model:=== GENERATED SEQUENCE 1 ===\n",
      "INFO:simpletransformers.language_generation.language_generation_model:True story ñ When I was a young man and you were a young man ñ We were lovers of\n",
      "Setting `pad_token_id` to `eos_token_id`:50256 for open-end generation.\n"
     ]
    },
    {
     "name": "stdout",
     "output_type": "stream",
     "text": [
      "True story\n",
      "When I was a young man and you were a young man\n",
      "We were lovers of\n",
      "\n"
     ]
    },
    {
     "name": "stderr",
     "output_type": "stream",
     "text": [
      "INFO:simpletransformers.language_generation.language_generation_model:=== GENERATED SEQUENCE 1 ===\n",
      "INFO:simpletransformers.language_generation.language_generation_model:Ayy, ayy, ayy ñ Ain't no such thing as peace ñ I'm not a king,\n",
      "Setting `pad_token_id` to `eos_token_id`:50256 for open-end generation.\n"
     ]
    },
    {
     "name": "stdout",
     "output_type": "stream",
     "text": [
      "Ayy, ayy, ayy\n",
      "Ain't no such thing as peace\n",
      "I'm not a king,\n",
      "\n"
     ]
    },
    {
     "name": "stderr",
     "output_type": "stream",
     "text": [
      "INFO:simpletransformers.language_generation.language_generation_model:=== GENERATED SEQUENCE 1 ===\n",
      "INFO:simpletransformers.language_generation.language_generation_model:Lost in my thoughts, guess that's what I'm all about ñ I ain't afraid to live, don't be afraid to\n",
      "Setting `pad_token_id` to `eos_token_id`:50256 for open-end generation.\n"
     ]
    },
    {
     "name": "stdout",
     "output_type": "stream",
     "text": [
      "Lost in my thoughts, guess that's what I'm all about\n",
      "I ain't afraid to live, don't be afraid to\n",
      "\n"
     ]
    },
    {
     "name": "stderr",
     "output_type": "stream",
     "text": [
      "INFO:simpletransformers.language_generation.language_generation_model:=== GENERATED SEQUENCE 1 ===\n",
      "INFO:simpletransformers.language_generation.language_generation_model:Neon roses after my mind ñ  ñ You've left me so alone ñ You've gone and left me out\n",
      "Setting `pad_token_id` to `eos_token_id`:50256 for open-end generation.\n"
     ]
    },
    {
     "name": "stdout",
     "output_type": "stream",
     "text": [
      "Neon roses after my mind\n",
      "You've left me so alone\n",
      "You've gone and left me out\n",
      "\n"
     ]
    },
    {
     "name": "stderr",
     "output_type": "stream",
     "text": [
      "INFO:simpletransformers.language_generation.language_generation_model:=== GENERATED SEQUENCE 1 ===\n",
      "INFO:simpletransformers.language_generation.language_generation_model:Wanna feel like you feel tonight ñ I'm going down to the studio and get you out of my headYou think you got\n",
      "Setting `pad_token_id` to `eos_token_id`:50256 for open-end generation.\n"
     ]
    },
    {
     "name": "stdout",
     "output_type": "stream",
     "text": [
      "Wanna feel like you feel tonight\n",
      "I'm going down to the studio and get you out of my headYou think you got\n",
      "\n"
     ]
    },
    {
     "name": "stderr",
     "output_type": "stream",
     "text": [
      "INFO:simpletransformers.language_generation.language_generation_model:=== GENERATED SEQUENCE 1 ===\n",
      "INFO:simpletransformers.language_generation.language_generation_model:Tonight ñ (yeah) ñ You mean my life is still here for you ñ Yeah I\n",
      "Setting `pad_token_id` to `eos_token_id`:50256 for open-end generation.\n"
     ]
    },
    {
     "name": "stdout",
     "output_type": "stream",
     "text": [
      "Tonight\n",
      "(yeah)\n",
      "You mean my life is still here for you\n",
      "Yeah I\n",
      "\n"
     ]
    },
    {
     "name": "stderr",
     "output_type": "stream",
     "text": [
      "INFO:simpletransformers.language_generation.language_generation_model:=== GENERATED SEQUENCE 1 ===\n",
      "INFO:simpletransformers.language_generation.language_generation_model:I can't cum unless you kiss me too fast ñ Come and take a taste of my cumI wanna be loved and wanted, loved\n",
      "Setting `pad_token_id` to `eos_token_id`:50256 for open-end generation.\n"
     ]
    },
    {
     "name": "stdout",
     "output_type": "stream",
     "text": [
      "I can't cum unless you kiss me too fast\n",
      "Come and take a taste of my cumI wanna be loved and wanted, loved\n",
      "\n"
     ]
    },
    {
     "name": "stderr",
     "output_type": "stream",
     "text": [
      "INFO:simpletransformers.language_generation.language_generation_model:=== GENERATED SEQUENCE 1 ===\n",
      "INFO:simpletransformers.language_generation.language_generation_model:I don't know her but she saying ñ  ñ That her little little baby and her big baby ñ  ñ And\n",
      "Setting `pad_token_id` to `eos_token_id`:50256 for open-end generation.\n"
     ]
    },
    {
     "name": "stdout",
     "output_type": "stream",
     "text": [
      "I don't know her but she saying\n",
      "That her little little baby and her big baby\n",
      "And\n",
      "\n"
     ]
    },
    {
     "name": "stderr",
     "output_type": "stream",
     "text": [
      "INFO:simpletransformers.language_generation.language_generation_model:=== GENERATED SEQUENCE 1 ===\n",
      "INFO:simpletransformers.language_generation.language_generation_model:I was climbing the ladder ñ I wasn't happy with it ñ I was laughing at the ladder ñ\n",
      "Setting `pad_token_id` to `eos_token_id`:50256 for open-end generation.\n"
     ]
    },
    {
     "name": "stdout",
     "output_type": "stream",
     "text": [
      "I was climbing the ladder\n",
      "I wasn't happy with it\n",
      "I was laughing at the ladder\n",
      "\n"
     ]
    },
    {
     "name": "stderr",
     "output_type": "stream",
     "text": [
      "INFO:simpletransformers.language_generation.language_generation_model:=== GENERATED SEQUENCE 1 ===\n",
      "INFO:simpletransformers.language_generation.language_generation_model:YOUR WISH IS MY COMMAND MIND OVER MECHANICS...ONLY THE WAY YOU MAKE ME THINK OF YOU.THE BORN SO WE CAN FE\n",
      "Setting `pad_token_id` to `eos_token_id`:50256 for open-end generation.\n"
     ]
    },
    {
     "name": "stdout",
     "output_type": "stream",
     "text": [
      "YOUR WISH IS MY COMMAND MIND OVER MECHANICS...ONLY THE WAY YOU MAKE ME THINK OF YOU.THE BORN SO WE CAN FE\n",
      "\n"
     ]
    },
    {
     "name": "stderr",
     "output_type": "stream",
     "text": [
      "INFO:simpletransformers.language_generation.language_generation_model:=== GENERATED SEQUENCE 1 ===\n",
      "INFO:simpletransformers.language_generation.language_generation_model:WITH CONTROL I CAN OUSABLY DO TO YOU ñ Ooh, oh ñ WITH CONTROL I CAN OUS\n",
      "Setting `pad_token_id` to `eos_token_id`:50256 for open-end generation.\n"
     ]
    },
    {
     "name": "stdout",
     "output_type": "stream",
     "text": [
      "WITH CONTROL I CAN OUSABLY DO TO YOU\n",
      "Ooh, oh\n",
      "WITH CONTROL I CAN OUS\n",
      "\n"
     ]
    },
    {
     "name": "stderr",
     "output_type": "stream",
     "text": [
      "INFO:simpletransformers.language_generation.language_generation_model:=== GENERATED SEQUENCE 1 ===\n",
      "INFO:simpletransformers.language_generation.language_generation_model:Out we go, we've been ruthless, yeah! ñ We don't like the world, we're never gonna grow ñ We\n",
      "Setting `pad_token_id` to `eos_token_id`:50256 for open-end generation.\n"
     ]
    },
    {
     "name": "stdout",
     "output_type": "stream",
     "text": [
      "Out we go, we've been ruthless, yeah!\n",
      "We don't like the world, we're never gonna grow\n",
      "We\n",
      "\n"
     ]
    },
    {
     "name": "stderr",
     "output_type": "stream",
     "text": [
      "INFO:simpletransformers.language_generation.language_generation_model:=== GENERATED SEQUENCE 1 ===\n",
      "INFO:simpletransformers.language_generation.language_generation_model:The tears of time, makes it endless ñ Nothingness, nothingness has been created ñ Nothingness, nothingness is all that\n",
      "Setting `pad_token_id` to `eos_token_id`:50256 for open-end generation.\n"
     ]
    },
    {
     "name": "stdout",
     "output_type": "stream",
     "text": [
      "The tears of time, makes it endless\n",
      "Nothingness, nothingness has been created\n",
      "Nothingness, nothingness is all that\n",
      "\n"
     ]
    },
    {
     "name": "stderr",
     "output_type": "stream",
     "text": [
      "INFO:simpletransformers.language_generation.language_generation_model:=== GENERATED SEQUENCE 1 ===\n",
      "INFO:simpletransformers.language_generation.language_generation_model:If not for the Holy Ghost ñ If not for the Spirit ñ I have not been worthy ñ You are worthy �\n",
      "Setting `pad_token_id` to `eos_token_id`:50256 for open-end generation.\n"
     ]
    },
    {
     "name": "stdout",
     "output_type": "stream",
     "text": [
      "If not for the Holy Ghost\n",
      "If not for the Spirit\n",
      "I have not been worthy\n",
      "You are worthy �\n",
      "\n"
     ]
    },
    {
     "name": "stderr",
     "output_type": "stream",
     "text": [
      "INFO:simpletransformers.language_generation.language_generation_model:=== GENERATED SEQUENCE 1 ===\n",
      "INFO:simpletransformers.language_generation.language_generation_model:If not for the rescue team, you would be dead and gone ñ And you still walk, and you still talk ñ\n",
      "Setting `pad_token_id` to `eos_token_id`:50256 for open-end generation.\n"
     ]
    },
    {
     "name": "stdout",
     "output_type": "stream",
     "text": [
      "If not for the rescue team, you would be dead and gone\n",
      "And you still walk, and you still talk\n",
      "\n"
     ]
    },
    {
     "name": "stderr",
     "output_type": "stream",
     "text": [
      "INFO:simpletransformers.language_generation.language_generation_model:=== GENERATED SEQUENCE 1 ===\n",
      "INFO:simpletransformers.language_generation.language_generation_model:I'm gonna mow you down ñ My baby ain't got no horses in sight ñ My baby ain't\n",
      "Setting `pad_token_id` to `eos_token_id`:50256 for open-end generation.\n"
     ]
    },
    {
     "name": "stdout",
     "output_type": "stream",
     "text": [
      "I'm gonna mow you down\n",
      "My baby ain't got no horses in sight\n",
      "My baby ain't\n",
      "\n"
     ]
    },
    {
     "name": "stderr",
     "output_type": "stream",
     "text": [
      "INFO:simpletransformers.language_generation.language_generation_model:=== GENERATED SEQUENCE 1 ===\n",
      "INFO:simpletransformers.language_generation.language_generation_model:Tread fast my darkness calls I must answer to thee ñ In the valley of the shadow of my father's shadow ñ No need for hope,\n",
      "Setting `pad_token_id` to `eos_token_id`:50256 for open-end generation.\n"
     ]
    },
    {
     "name": "stdout",
     "output_type": "stream",
     "text": [
      "Tread fast my darkness calls I must answer to thee\n",
      "In the valley of the shadow of my father's shadow\n",
      "No need for hope,\n",
      "\n"
     ]
    },
    {
     "name": "stderr",
     "output_type": "stream",
     "text": [
      "INFO:simpletransformers.language_generation.language_generation_model:=== GENERATED SEQUENCE 1 ===\n",
      "INFO:simpletransformers.language_generation.language_generation_model:Lay in this mending, my love ñ And I'll always sing for you and sing for you too ñ\n",
      "Setting `pad_token_id` to `eos_token_id`:50256 for open-end generation.\n"
     ]
    },
    {
     "name": "stdout",
     "output_type": "stream",
     "text": [
      "Lay in this mending, my love\n",
      "And I'll always sing for you and sing for you too\n",
      "\n"
     ]
    },
    {
     "name": "stderr",
     "output_type": "stream",
     "text": [
      "INFO:simpletransformers.language_generation.language_generation_model:=== GENERATED SEQUENCE 1 ===\n",
      "INFO:simpletransformers.language_generation.language_generation_model:In the river where I been weeping all day long ñ In the water where I have not felt the thrill of life ñ In\n",
      "Setting `pad_token_id` to `eos_token_id`:50256 for open-end generation.\n"
     ]
    },
    {
     "name": "stdout",
     "output_type": "stream",
     "text": [
      "In the river where I been weeping all day long\n",
      "In the water where I have not felt the thrill of life\n",
      "In\n",
      "\n"
     ]
    },
    {
     "name": "stderr",
     "output_type": "stream",
     "text": [
      "INFO:simpletransformers.language_generation.language_generation_model:=== GENERATED SEQUENCE 1 ===\n",
      "INFO:simpletransformers.language_generation.language_generation_model: I'm / too sexy for my cat, / too sexy for my cat, / too sexy for my cat, / too sexy for my cat... ñ / too sexy for my\n",
      "Setting `pad_token_id` to `eos_token_id`:50256 for open-end generation.\n"
     ]
    },
    {
     "name": "stdout",
     "output_type": "stream",
     "text": [
      " I'm / too sexy for my cat, / too sexy for my cat, / too sexy for my cat, / too sexy for my cat...\n",
      "/ too sexy for my\n",
      "\n"
     ]
    },
    {
     "name": "stderr",
     "output_type": "stream",
     "text": [
      "INFO:simpletransformers.language_generation.language_generation_model:=== GENERATED SEQUENCE 1 ===\n",
      "INFO:simpletransformers.language_generation.language_generation_model:Have Thine own way Lord have Thine own way ñ But have it all the way ñ Have it all the way!Thriller (\n",
      "Setting `pad_token_id` to `eos_token_id`:50256 for open-end generation.\n"
     ]
    },
    {
     "name": "stdout",
     "output_type": "stream",
     "text": [
      "Have Thine own way Lord have Thine own way\n",
      "But have it all the way\n",
      "Have it all the way!Thriller (\n",
      "\n"
     ]
    },
    {
     "name": "stderr",
     "output_type": "stream",
     "text": [
      "INFO:simpletransformers.language_generation.language_generation_model:=== GENERATED SEQUENCE 1 ===\n",
      "INFO:simpletransformers.language_generation.language_generation_model:Thou art the potter I need ñ You keep the potter's love from falling out ñ Thou art the potter\n",
      "Setting `pad_token_id` to `eos_token_id`:50256 for open-end generation.\n"
     ]
    },
    {
     "name": "stdout",
     "output_type": "stream",
     "text": [
      "Thou art the potter I need\n",
      "You keep the potter's love from falling out\n",
      "Thou art the potter\n",
      "\n"
     ]
    },
    {
     "name": "stderr",
     "output_type": "stream",
     "text": [
      "INFO:simpletransformers.language_generation.language_generation_model:=== GENERATED SEQUENCE 1 ===\n",
      "INFO:simpletransformers.language_generation.language_generation_model:Roadkill, guts are spilled ñ No, no, no ñ What am i supposed to do ñ You can smell\n",
      "Setting `pad_token_id` to `eos_token_id`:50256 for open-end generation.\n"
     ]
    },
    {
     "name": "stdout",
     "output_type": "stream",
     "text": [
      "Roadkill, guts are spilled\n",
      "No, no, no\n",
      "What am i supposed to do\n",
      "You can smell\n",
      "\n"
     ]
    },
    {
     "name": "stderr",
     "output_type": "stream",
     "text": [
      "INFO:simpletransformers.language_generation.language_generation_model:=== GENERATED SEQUENCE 1 ===\n",
      "INFO:simpletransformers.language_generation.language_generation_model:A flattened form of death ñ When I am alive ñ I am dying ñ I am bleeding ñ You have\n",
      "Setting `pad_token_id` to `eos_token_id`:50256 for open-end generation.\n"
     ]
    },
    {
     "name": "stdout",
     "output_type": "stream",
     "text": [
      "A flattened form of death\n",
      "When I am alive\n",
      "I am dying\n",
      "I am bleeding\n",
      "You have\n",
      "\n"
     ]
    },
    {
     "name": "stderr",
     "output_type": "stream",
     "text": [
      "INFO:simpletransformers.language_generation.language_generation_model:=== GENERATED SEQUENCE 1 ===\n",
      "INFO:simpletransformers.language_generation.language_generation_model:A heavenly light ñ A heaven so bright ñ Heaven so bright ñ But now the starlight �\n",
      "Setting `pad_token_id` to `eos_token_id`:50256 for open-end generation.\n"
     ]
    },
    {
     "name": "stdout",
     "output_type": "stream",
     "text": [
      "A heavenly light\n",
      "A heaven so bright\n",
      "Heaven so bright\n",
      "But now the starlight �\n",
      "\n"
     ]
    },
    {
     "name": "stderr",
     "output_type": "stream",
     "text": [
      "INFO:simpletransformers.language_generation.language_generation_model:=== GENERATED SEQUENCE 1 ===\n",
      "INFO:simpletransformers.language_generation.language_generation_model:He wakes up in the morning ñ When the lights are burning ñ Then he comes up crying ñ 'What is wrong\n",
      "Setting `pad_token_id` to `eos_token_id`:50256 for open-end generation.\n"
     ]
    },
    {
     "name": "stdout",
     "output_type": "stream",
     "text": [
      "He wakes up in the morning\n",
      "When the lights are burning\n",
      "Then he comes up crying\n",
      "'What is wrong\n",
      "\n"
     ]
    },
    {
     "name": "stderr",
     "output_type": "stream",
     "text": [
      "INFO:simpletransformers.language_generation.language_generation_model:=== GENERATED SEQUENCE 1 ===\n",
      "INFO:simpletransformers.language_generation.language_generation_model:Lights bursting on his eyes ñ Shadows in the trees ñ A light in the sky ñ But for all we know\n",
      "Setting `pad_token_id` to `eos_token_id`:50256 for open-end generation.\n"
     ]
    },
    {
     "name": "stdout",
     "output_type": "stream",
     "text": [
      "Lights bursting on his eyes\n",
      "Shadows in the trees\n",
      "A light in the sky\n",
      "But for all we know\n",
      "\n"
     ]
    },
    {
     "name": "stderr",
     "output_type": "stream",
     "text": [
      "INFO:simpletransformers.language_generation.language_generation_model:=== GENERATED SEQUENCE 1 ===\n",
      "INFO:simpletransformers.language_generation.language_generation_model:Wide open skies ñ I'm floating on nothing ñ I'm floating on nothingLyrics for this song\n",
      "Setting `pad_token_id` to `eos_token_id`:50256 for open-end generation.\n"
     ]
    },
    {
     "name": "stdout",
     "output_type": "stream",
     "text": [
      "Wide open skies\n",
      "I'm floating on nothing\n",
      "I'm floating on nothingLyrics for this song\n",
      "\n"
     ]
    },
    {
     "name": "stderr",
     "output_type": "stream",
     "text": [
      "INFO:simpletransformers.language_generation.language_generation_model:=== GENERATED SEQUENCE 1 ===\n",
      "INFO:simpletransformers.language_generation.language_generation_model:Sorry I called again, the night just seemed way too long ñ And I called again, it wasn't that I didn't love you ñ Or that\n",
      "Setting `pad_token_id` to `eos_token_id`:50256 for open-end generation.\n"
     ]
    },
    {
     "name": "stdout",
     "output_type": "stream",
     "text": [
      "Sorry I called again, the night just seemed way too long\n",
      "And I called again, it wasn't that I didn't love you\n",
      "Or that\n",
      "\n"
     ]
    },
    {
     "name": "stderr",
     "output_type": "stream",
     "text": [
      "INFO:simpletransformers.language_generation.language_generation_model:=== GENERATED SEQUENCE 1 ===\n",
      "INFO:simpletransformers.language_generation.language_generation_model:I'm don't wanna hear no more ñ I'm don't wanna get me on a down ñ We\n",
      "Setting `pad_token_id` to `eos_token_id`:50256 for open-end generation.\n"
     ]
    },
    {
     "name": "stdout",
     "output_type": "stream",
     "text": [
      "I'm don't wanna hear no more\n",
      "I'm don't wanna get me on a down\n",
      "We\n",
      "\n"
     ]
    },
    {
     "name": "stderr",
     "output_type": "stream",
     "text": [
      "INFO:simpletransformers.language_generation.language_generation_model:=== GENERATED SEQUENCE 1 ===\n",
      "INFO:simpletransformers.language_generation.language_generation_model:It comes as a surprise, it does not surprise us ñ That there is a song on the radio ñ The song\n",
      "Setting `pad_token_id` to `eos_token_id`:50256 for open-end generation.\n"
     ]
    },
    {
     "name": "stdout",
     "output_type": "stream",
     "text": [
      "It comes as a surprise, it does not surprise us\n",
      "That there is a song on the radio\n",
      "The song\n",
      "\n"
     ]
    },
    {
     "name": "stderr",
     "output_type": "stream",
     "text": [
      "INFO:simpletransformers.language_generation.language_generation_model:=== GENERATED SEQUENCE 1 ===\n",
      "INFO:simpletransformers.language_generation.language_generation_model:This strange uncertain heatwave that's burning me ñ There's no time to fight ñ Now I must face the day\n",
      "Setting `pad_token_id` to `eos_token_id`:50256 for open-end generation.\n"
     ]
    },
    {
     "name": "stdout",
     "output_type": "stream",
     "text": [
      "This strange uncertain heatwave that's burning me\n",
      "There's no time to fight\n",
      "Now I must face the day\n",
      "\n"
     ]
    },
    {
     "name": "stderr",
     "output_type": "stream",
     "text": [
      "INFO:simpletransformers.language_generation.language_generation_model:=== GENERATED SEQUENCE 1 ===\n",
      "INFO:simpletransformers.language_generation.language_generation_model:And the birds of the air will sing, singing the sweetest song ñ There will be light everywhere �\n",
      "Setting `pad_token_id` to `eos_token_id`:50256 for open-end generation.\n"
     ]
    },
    {
     "name": "stdout",
     "output_type": "stream",
     "text": [
      "And the birds of the air will sing, singing the sweetest song\n",
      "There will be light everywhere �\n",
      "\n"
     ]
    },
    {
     "name": "stderr",
     "output_type": "stream",
     "text": [
      "INFO:simpletransformers.language_generation.language_generation_model:=== GENERATED SEQUENCE 1 ===\n",
      "INFO:simpletransformers.language_generation.language_generation_model:I don't want nothing from you ñ But we'll be having a great time ñ We're gonna do what we want to\n",
      "Setting `pad_token_id` to `eos_token_id`:50256 for open-end generation.\n"
     ]
    },
    {
     "name": "stdout",
     "output_type": "stream",
     "text": [
      "I don't want nothing from you\n",
      "But we'll be having a great time\n",
      "We're gonna do what we want to\n",
      "\n"
     ]
    },
    {
     "name": "stderr",
     "output_type": "stream",
     "text": [
      "INFO:simpletransformers.language_generation.language_generation_model:=== GENERATED SEQUENCE 1 ===\n",
      "INFO:simpletransformers.language_generation.language_generation_model:What are our choices? ñ It seems that it would be best if we had none ñ And the\n",
      "Setting `pad_token_id` to `eos_token_id`:50256 for open-end generation.\n"
     ]
    },
    {
     "name": "stdout",
     "output_type": "stream",
     "text": [
      "What are our choices?\n",
      "It seems that it would be best if we had none\n",
      "And the\n",
      "\n"
     ]
    },
    {
     "name": "stderr",
     "output_type": "stream",
     "text": [
      "INFO:simpletransformers.language_generation.language_generation_model:=== GENERATED SEQUENCE 1 ===\n",
      "INFO:simpletransformers.language_generation.language_generation_model:You enter the hocus pocus, perhaps the dopest thing you've ever seen. \"Hocus pocus\" is the term that describes a scene when\n",
      "Setting `pad_token_id` to `eos_token_id`:50256 for open-end generation.\n"
     ]
    },
    {
     "name": "stdout",
     "output_type": "stream",
     "text": [
      "You enter the hocus pocus, perhaps the dopest thing you've ever seen. \"Hocus pocus\" is the term that describes a scene when\n",
      "\n"
     ]
    },
    {
     "name": "stderr",
     "output_type": "stream",
     "text": [
      "INFO:simpletransformers.language_generation.language_generation_model:=== GENERATED SEQUENCE 1 ===\n",
      "INFO:simpletransformers.language_generation.language_generation_model:Tote this, but don't you know you've already spent? ñ So try and keep it together, but don't\n",
      "Setting `pad_token_id` to `eos_token_id`:50256 for open-end generation.\n"
     ]
    },
    {
     "name": "stdout",
     "output_type": "stream",
     "text": [
      "Tote this, but don't you know you've already spent?\n",
      "So try and keep it together, but don't\n",
      "\n"
     ]
    },
    {
     "name": "stderr",
     "output_type": "stream",
     "text": [
      "INFO:simpletransformers.language_generation.language_generation_model:=== GENERATED SEQUENCE 1 ===\n",
      "INFO:simpletransformers.language_generation.language_generation_model:Rise and shine, it's the break of day ñ What's this dream, we're all dreaming ñ And in our hearts, our hearts\n",
      "Setting `pad_token_id` to `eos_token_id`:50256 for open-end generation.\n"
     ]
    },
    {
     "name": "stdout",
     "output_type": "stream",
     "text": [
      "Rise and shine, it's the break of day\n",
      "What's this dream, we're all dreaming\n",
      "And in our hearts, our hearts\n",
      "\n"
     ]
    },
    {
     "name": "stderr",
     "output_type": "stream",
     "text": [
      "INFO:simpletransformers.language_generation.language_generation_model:=== GENERATED SEQUENCE 1 ===\n",
      "INFO:simpletransformers.language_generation.language_generation_model:Pack the car and we're on  ñ When we get out of line, we will do it our way ñ We are the\n",
      "Setting `pad_token_id` to `eos_token_id`:50256 for open-end generation.\n"
     ]
    },
    {
     "name": "stdout",
     "output_type": "stream",
     "text": [
      "Pack the car and we're on \n",
      "When we get out of line, we will do it our way\n",
      "We are the\n",
      "\n"
     ]
    },
    {
     "name": "stderr",
     "output_type": "stream",
     "text": [
      "INFO:simpletransformers.language_generation.language_generation_model:=== GENERATED SEQUENCE 1 ===\n",
      "INFO:simpletransformers.language_generation.language_generation_model:We don't have to say a word ñ We don't need to be seen ñ But we should all try ñ For every\n",
      "Setting `pad_token_id` to `eos_token_id`:50256 for open-end generation.\n"
     ]
    },
    {
     "name": "stdout",
     "output_type": "stream",
     "text": [
      "We don't have to say a word\n",
      "We don't need to be seen\n",
      "But we should all try\n",
      "For every\n",
      "\n"
     ]
    },
    {
     "name": "stderr",
     "output_type": "stream",
     "text": [
      "INFO:simpletransformers.language_generation.language_generation_model:=== GENERATED SEQUENCE 1 ===\n",
      "INFO:simpletransformers.language_generation.language_generation_model:Sometimes its better when we don't have no friends ñ That's when we get things that we likeWe got on our knees and\n",
      "Setting `pad_token_id` to `eos_token_id`:50256 for open-end generation.\n"
     ]
    },
    {
     "name": "stdout",
     "output_type": "stream",
     "text": [
      "Sometimes its better when we don't have no friends\n",
      "That's when we get things that we likeWe got on our knees and\n",
      "\n"
     ]
    },
    {
     "name": "stderr",
     "output_type": "stream",
     "text": [
      "INFO:simpletransformers.language_generation.language_generation_model:=== GENERATED SEQUENCE 1 ===\n",
      "INFO:simpletransformers.language_generation.language_generation_model:A ñ R ñ R ñ R ñ R ñ R ñ R ñ\n",
      "Setting `pad_token_id` to `eos_token_id`:50256 for open-end generation.\n"
     ]
    },
    {
     "name": "stdout",
     "output_type": "stream",
     "text": [
      "A\n",
      "R\n",
      "R\n",
      "R\n",
      "R\n",
      "R\n",
      "R\n",
      "\n"
     ]
    },
    {
     "name": "stderr",
     "output_type": "stream",
     "text": [
      "INFO:simpletransformers.language_generation.language_generation_model:=== GENERATED SEQUENCE 1 ===\n",
      "INFO:simpletransformers.language_generation.language_generation_model:What you looking at Butthead? ñ We might need a little more help from you ñ Cause there's still too much smoke\n",
      "Setting `pad_token_id` to `eos_token_id`:50256 for open-end generation.\n"
     ]
    },
    {
     "name": "stdout",
     "output_type": "stream",
     "text": [
      "What you looking at Butthead?\n",
      "We might need a little more help from you\n",
      "Cause there's still too much smoke\n",
      "\n"
     ]
    },
    {
     "name": "stderr",
     "output_type": "stream",
     "text": [
      "INFO:simpletransformers.language_generation.language_generation_model:=== GENERATED SEQUENCE 1 ===\n",
      "INFO:simpletransformers.language_generation.language_generation_model:All hype, no heart ñ Get out of that trance! ñ No-body needs you now, so fuck the\n",
      "Setting `pad_token_id` to `eos_token_id`:50256 for open-end generation.\n"
     ]
    },
    {
     "name": "stdout",
     "output_type": "stream",
     "text": [
      "All hype, no heart\n",
      "Get out of that trance!\n",
      "No-body needs you now, so fuck the\n",
      "\n"
     ]
    },
    {
     "name": "stderr",
     "output_type": "stream",
     "text": [
      "INFO:simpletransformers.language_generation.language_generation_model:=== GENERATED SEQUENCE 1 ===\n",
      "INFO:simpletransformers.language_generation.language_generation_model:Brain dead as f**king shit ñ Fuck the rest of the worldThis shit just blows my mind ñ Fuck\n",
      "Setting `pad_token_id` to `eos_token_id`:50256 for open-end generation.\n"
     ]
    },
    {
     "name": "stdout",
     "output_type": "stream",
     "text": [
      "Brain dead as f**king shit\n",
      "Fuck the rest of the worldThis shit just blows my mind\n",
      "Fuck\n",
      "\n"
     ]
    },
    {
     "name": "stderr",
     "output_type": "stream",
     "text": [
      "INFO:simpletransformers.language_generation.language_generation_model:=== GENERATED SEQUENCE 1 ===\n",
      "INFO:simpletransformers.language_generation.language_generation_model:When the road in front of you takes you down ñ It's not your fault that the way you got here is wrong ñ\n",
      "Setting `pad_token_id` to `eos_token_id`:50256 for open-end generation.\n"
     ]
    },
    {
     "name": "stdout",
     "output_type": "stream",
     "text": [
      "When the road in front of you takes you down\n",
      "It's not your fault that the way you got here is wrong\n",
      "\n"
     ]
    },
    {
     "name": "stderr",
     "output_type": "stream",
     "text": [
      "INFO:simpletransformers.language_generation.language_generation_model:=== GENERATED SEQUENCE 1 ===\n",
      "INFO:simpletransformers.language_generation.language_generation_model:Is filled with darkness ñ With darkness, darkness ñ  ñ But you still need ñ To feel in\n",
      "Setting `pad_token_id` to `eos_token_id`:50256 for open-end generation.\n"
     ]
    },
    {
     "name": "stdout",
     "output_type": "stream",
     "text": [
      "Is filled with darkness\n",
      "With darkness, darkness\n",
      "But you still need\n",
      "To feel in\n",
      "\n"
     ]
    },
    {
     "name": "stderr",
     "output_type": "stream",
     "text": [
      "INFO:simpletransformers.language_generation.language_generation_model:=== GENERATED SEQUENCE 1 ===\n",
      "INFO:simpletransformers.language_generation.language_generation_model:When your   has just got the end ñ There's nowhere you wanna go ñ And no reason to\n",
      "Setting `pad_token_id` to `eos_token_id`:50256 for open-end generation.\n"
     ]
    },
    {
     "name": "stdout",
     "output_type": "stream",
     "text": [
      "When your   has just got the end\n",
      "There's nowhere you wanna go\n",
      "And no reason to\n",
      "\n"
     ]
    },
    {
     "name": "stderr",
     "output_type": "stream",
     "text": [
      "INFO:simpletransformers.language_generation.language_generation_model:=== GENERATED SEQUENCE 1 ===\n",
      "INFO:simpletransformers.language_generation.language_generation_model:Magic magic magic Magic magic ñ Magic magic magic magic Magic magic magic ñ magic magic magic magic magic magic Magic\n",
      "Setting `pad_token_id` to `eos_token_id`:50256 for open-end generation.\n"
     ]
    },
    {
     "name": "stdout",
     "output_type": "stream",
     "text": [
      "Magic magic magic Magic magic\n",
      "Magic magic magic magic Magic magic magic\n",
      "magic magic magic magic magic magic Magic\n",
      "\n"
     ]
    },
    {
     "name": "stderr",
     "output_type": "stream",
     "text": [
      "INFO:simpletransformers.language_generation.language_generation_model:=== GENERATED SEQUENCE 1 ===\n",
      "INFO:simpletransformers.language_generation.language_generation_model:Is that magic? ñ I don't believe it, I don't believe in what you have done ñ\n",
      "Setting `pad_token_id` to `eos_token_id`:50256 for open-end generation.\n"
     ]
    },
    {
     "name": "stdout",
     "output_type": "stream",
     "text": [
      "Is that magic?\n",
      "I don't believe it, I don't believe in what you have done\n",
      "\n"
     ]
    },
    {
     "name": "stderr",
     "output_type": "stream",
     "text": [
      "INFO:simpletransformers.language_generation.language_generation_model:=== GENERATED SEQUENCE 1 ===\n",
      "INFO:simpletransformers.language_generation.language_generation_model:Another lonely day ñ When I found that our love is only a game ñ I thought that we're all\n",
      "Setting `pad_token_id` to `eos_token_id`:50256 for open-end generation.\n"
     ]
    },
    {
     "name": "stdout",
     "output_type": "stream",
     "text": [
      "Another lonely day\n",
      "When I found that our love is only a game\n",
      "I thought that we're all\n",
      "\n"
     ]
    },
    {
     "name": "stderr",
     "output_type": "stream",
     "text": [
      "INFO:simpletransformers.language_generation.language_generation_model:=== GENERATED SEQUENCE 1 ===\n",
      "INFO:simpletransformers.language_generation.language_generation_model:Now an unexpected peace comes to the day ñ For I'm not alone anymore ñ I have nothing ñ I have nothing to say\n",
      "Setting `pad_token_id` to `eos_token_id`:50256 for open-end generation.\n"
     ]
    },
    {
     "name": "stdout",
     "output_type": "stream",
     "text": [
      "Now an unexpected peace comes to the day\n",
      "For I'm not alone anymore\n",
      "I have nothing\n",
      "I have nothing to say\n",
      "\n"
     ]
    },
    {
     "name": "stderr",
     "output_type": "stream",
     "text": [
      "INFO:simpletransformers.language_generation.language_generation_model:=== GENERATED SEQUENCE 1 ===\n",
      "INFO:simpletransformers.language_generation.language_generation_model:As the howling dimmed tundra, their last words ñ Of fear, and joy, they spoke their final words �\n",
      "Setting `pad_token_id` to `eos_token_id`:50256 for open-end generation.\n"
     ]
    },
    {
     "name": "stdout",
     "output_type": "stream",
     "text": [
      "As the howling dimmed tundra, their last words\n",
      "Of fear, and joy, they spoke their final words �\n",
      "\n"
     ]
    },
    {
     "name": "stderr",
     "output_type": "stream",
     "text": [
      "INFO:simpletransformers.language_generation.language_generation_model:=== GENERATED SEQUENCE 1 ===\n",
      "INFO:simpletransformers.language_generation.language_generation_model:And some days I'm only half my size ñ A little sad, a little sad, a little sad ñ A little sad, a\n",
      "Setting `pad_token_id` to `eos_token_id`:50256 for open-end generation.\n"
     ]
    },
    {
     "name": "stdout",
     "output_type": "stream",
     "text": [
      "And some days I'm only half my size\n",
      "A little sad, a little sad, a little sad\n",
      "A little sad, a\n",
      "\n"
     ]
    },
    {
     "name": "stderr",
     "output_type": "stream",
     "text": [
      "INFO:simpletransformers.language_generation.language_generation_model:=== GENERATED SEQUENCE 1 ===\n",
      "INFO:simpletransformers.language_generation.language_generation_model:Being broke is probably the best luxury ñ If you just want to eat ñ If it's a cheap laugh ñ No one\n",
      "Setting `pad_token_id` to `eos_token_id`:50256 for open-end generation.\n"
     ]
    },
    {
     "name": "stdout",
     "output_type": "stream",
     "text": [
      "Being broke is probably the best luxury\n",
      "If you just want to eat\n",
      "If it's a cheap laugh\n",
      "No one\n",
      "\n"
     ]
    },
    {
     "name": "stderr",
     "output_type": "stream",
     "text": [
      "INFO:simpletransformers.language_generation.language_generation_model:=== GENERATED SEQUENCE 1 ===\n",
      "INFO:simpletransformers.language_generation.language_generation_model:And burning holes through the dark ñ  ñ She is the queen of the night ñ She is the queen\n",
      "Setting `pad_token_id` to `eos_token_id`:50256 for open-end generation.\n"
     ]
    },
    {
     "name": "stdout",
     "output_type": "stream",
     "text": [
      "And burning holes through the dark\n",
      "She is the queen of the night\n",
      "She is the queen\n",
      "\n"
     ]
    },
    {
     "name": "stderr",
     "output_type": "stream",
     "text": [
      "INFO:simpletransformers.language_generation.language_generation_model:=== GENERATED SEQUENCE 1 ===\n",
      "INFO:simpletransformers.language_generation.language_generation_model:Step up, from the ground up, I don't want to lose my friend ñ It's not as if I need it,\n",
      "Setting `pad_token_id` to `eos_token_id`:50256 for open-end generation.\n"
     ]
    },
    {
     "name": "stdout",
     "output_type": "stream",
     "text": [
      "Step up, from the ground up, I don't want to lose my friend\n",
      "It's not as if I need it,\n",
      "\n"
     ]
    },
    {
     "name": "stderr",
     "output_type": "stream",
     "text": [
      "INFO:simpletransformers.language_generation.language_generation_model:=== GENERATED SEQUENCE 1 ===\n",
      "INFO:simpletransformers.language_generation.language_generation_model:You said you'd help me stay ñ But the day I heard what you had to say ñ I gave you all\n",
      "Setting `pad_token_id` to `eos_token_id`:50256 for open-end generation.\n"
     ]
    },
    {
     "name": "stdout",
     "output_type": "stream",
     "text": [
      "You said you'd help me stay\n",
      "But the day I heard what you had to say\n",
      "I gave you all\n",
      "\n"
     ]
    },
    {
     "name": "stderr",
     "output_type": "stream",
     "text": [
      "INFO:simpletransformers.language_generation.language_generation_model:=== GENERATED SEQUENCE 1 ===\n",
      "INFO:simpletransformers.language_generation.language_generation_model:You keep replaying through the days? ñ I hear you laughing over again? ñ So I just don't believe you anymore\n",
      "Setting `pad_token_id` to `eos_token_id`:50256 for open-end generation.\n"
     ]
    },
    {
     "name": "stdout",
     "output_type": "stream",
     "text": [
      "You keep replaying through the days?\n",
      "I hear you laughing over again?\n",
      "So I just don't believe you anymore\n",
      "\n"
     ]
    },
    {
     "name": "stderr",
     "output_type": "stream",
     "text": [
      "INFO:simpletransformers.language_generation.language_generation_model:=== GENERATED SEQUENCE 1 ===\n",
      "INFO:simpletransformers.language_generation.language_generation_model:That have brought you to the grave? ñ The last of your days is in doubt ñ The time has come to\n",
      "Setting `pad_token_id` to `eos_token_id`:50256 for open-end generation.\n"
     ]
    },
    {
     "name": "stdout",
     "output_type": "stream",
     "text": [
      "That have brought you to the grave?\n",
      "The last of your days is in doubt\n",
      "The time has come to\n",
      "\n"
     ]
    },
    {
     "name": "stderr",
     "output_type": "stream",
     "text": [
      "INFO:simpletransformers.language_generation.language_generation_model:=== GENERATED SEQUENCE 1 ===\n",
      "INFO:simpletransformers.language_generation.language_generation_model:My dear, how did you come to lose your way? ñ I've never been so alone in my heart ñ I was in love with a girl\n",
      "Setting `pad_token_id` to `eos_token_id`:50256 for open-end generation.\n"
     ]
    },
    {
     "name": "stdout",
     "output_type": "stream",
     "text": [
      "My dear, how did you come to lose your way?\n",
      "I've never been so alone in my heart\n",
      "I was in love with a girl\n",
      "\n"
     ]
    },
    {
     "name": "stderr",
     "output_type": "stream",
     "text": [
      "INFO:simpletransformers.language_generation.language_generation_model:=== GENERATED SEQUENCE 1 ===\n",
      "INFO:simpletransformers.language_generation.language_generation_model:You spent the best pining for you ñ And you still wait for you ñ You will see them come ñ\n",
      "Setting `pad_token_id` to `eos_token_id`:50256 for open-end generation.\n"
     ]
    },
    {
     "name": "stdout",
     "output_type": "stream",
     "text": [
      "You spent the best pining for you\n",
      "And you still wait for you\n",
      "You will see them come\n",
      "\n"
     ]
    },
    {
     "name": "stderr",
     "output_type": "stream",
     "text": [
      "INFO:simpletransformers.language_generation.language_generation_model:=== GENERATED SEQUENCE 1 ===\n",
      "INFO:simpletransformers.language_generation.language_generation_model:I got a black magic woman ñ I know she knows what I am ñ And she's the one I see at night\n",
      "Setting `pad_token_id` to `eos_token_id`:50256 for open-end generation.\n"
     ]
    },
    {
     "name": "stdout",
     "output_type": "stream",
     "text": [
      "I got a black magic woman\n",
      "I know she knows what I am\n",
      "And she's the one I see at night\n",
      "\n"
     ]
    },
    {
     "name": "stderr",
     "output_type": "stream",
     "text": [
      "INFO:simpletransformers.language_generation.language_generation_model:=== GENERATED SEQUENCE 1 ===\n",
      "INFO:simpletransformers.language_generation.language_generation_model:I've got a place for you ñ But the place has never been so empty ñ You don't know where\n",
      "Setting `pad_token_id` to `eos_token_id`:50256 for open-end generation.\n"
     ]
    },
    {
     "name": "stdout",
     "output_type": "stream",
     "text": [
      "I've got a place for you\n",
      "But the place has never been so empty\n",
      "You don't know where\n",
      "\n"
     ]
    },
    {
     "name": "stderr",
     "output_type": "stream",
     "text": [
      "INFO:simpletransformers.language_generation.language_generation_model:=== GENERATED SEQUENCE 1 ===\n",
      "INFO:simpletransformers.language_generation.language_generation_model:Well I'm so lonely I could die with no regrets ñ I'm so lonely I could die with no regrets ñ  ñ\n",
      "Setting `pad_token_id` to `eos_token_id`:50256 for open-end generation.\n"
     ]
    },
    {
     "name": "stdout",
     "output_type": "stream",
     "text": [
      "Well I'm so lonely I could die with no regrets\n",
      "I'm so lonely I could die with no regrets\n",
      "\n"
     ]
    },
    {
     "name": "stderr",
     "output_type": "stream",
     "text": [
      "INFO:simpletransformers.language_generation.language_generation_model:=== GENERATED SEQUENCE 1 ===\n",
      "INFO:simpletransformers.language_generation.language_generation_model:Put the fingernails in my eyes ñ A small note, something I'm hoping I'm doing right ñ Something more than everything\n",
      "Setting `pad_token_id` to `eos_token_id`:50256 for open-end generation.\n"
     ]
    },
    {
     "name": "stdout",
     "output_type": "stream",
     "text": [
      "Put the fingernails in my eyes\n",
      "A small note, something I'm hoping I'm doing right\n",
      "Something more than everything\n",
      "\n"
     ]
    },
    {
     "name": "stderr",
     "output_type": "stream",
     "text": [
      "INFO:simpletransformers.language_generation.language_generation_model:=== GENERATED SEQUENCE 1 ===\n",
      "INFO:simpletransformers.language_generation.language_generation_model:Feel the rhythm in your heart? ñ And you're a ghost ñ The only song that I'm going to play �\n",
      "Setting `pad_token_id` to `eos_token_id`:50256 for open-end generation.\n"
     ]
    },
    {
     "name": "stdout",
     "output_type": "stream",
     "text": [
      "Feel the rhythm in your heart?\n",
      "And you're a ghost\n",
      "The only song that I'm going to play �\n",
      "\n"
     ]
    },
    {
     "name": "stderr",
     "output_type": "stream",
     "text": [
      "INFO:simpletransformers.language_generation.language_generation_model:=== GENERATED SEQUENCE 1 ===\n",
      "INFO:simpletransformers.language_generation.language_generation_model:And put your mind into it ñ I don't really care ñ You're out of sight and out of mind ñ\n",
      "Setting `pad_token_id` to `eos_token_id`:50256 for open-end generation.\n"
     ]
    },
    {
     "name": "stdout",
     "output_type": "stream",
     "text": [
      "And put your mind into it\n",
      "I don't really care\n",
      "You're out of sight and out of mind\n",
      "\n"
     ]
    },
    {
     "name": "stderr",
     "output_type": "stream",
     "text": [
      "INFO:simpletransformers.language_generation.language_generation_model:=== GENERATED SEQUENCE 1 ===\n",
      "INFO:simpletransformers.language_generation.language_generation_model:Feel the rush ñ Your face a ghost ñ This feeling inside me is real ñ This is my\n",
      "Setting `pad_token_id` to `eos_token_id`:50256 for open-end generation.\n"
     ]
    },
    {
     "name": "stdout",
     "output_type": "stream",
     "text": [
      "Feel the rush\n",
      "Your face a ghost\n",
      "This feeling inside me is real\n",
      "This is my\n",
      "\n"
     ]
    },
    {
     "name": "stderr",
     "output_type": "stream",
     "text": [
      "INFO:simpletransformers.language_generation.language_generation_model:=== GENERATED SEQUENCE 1 ===\n",
      "INFO:simpletransformers.language_generation.language_generation_model:While you were sleeping ñ The dream that brought you to me ñ You woke me in the night ñ And\n",
      "Setting `pad_token_id` to `eos_token_id`:50256 for open-end generation.\n"
     ]
    },
    {
     "name": "stdout",
     "output_type": "stream",
     "text": [
      "While you were sleeping\n",
      "The dream that brought you to me\n",
      "You woke me in the night\n",
      "And\n",
      "\n"
     ]
    },
    {
     "name": "stderr",
     "output_type": "stream",
     "text": [
      "INFO:simpletransformers.language_generation.language_generation_model:=== GENERATED SEQUENCE 1 ===\n",
      "INFO:simpletransformers.language_generation.language_generation_model:We've been waiting for you ñ We've been waiting for you ñ We've been waiting for you ñ\n",
      "Setting `pad_token_id` to `eos_token_id`:50256 for open-end generation.\n"
     ]
    },
    {
     "name": "stdout",
     "output_type": "stream",
     "text": [
      "We've been waiting for you\n",
      "We've been waiting for you\n",
      "We've been waiting for you\n",
      "\n"
     ]
    },
    {
     "name": "stderr",
     "output_type": "stream",
     "text": [
      "INFO:simpletransformers.language_generation.language_generation_model:=== GENERATED SEQUENCE 1 ===\n",
      "INFO:simpletransformers.language_generation.language_generation_model:Biting our time ñ We know you are not the man we want to believe ñ I got it all �\n",
      "Setting `pad_token_id` to `eos_token_id`:50256 for open-end generation.\n"
     ]
    },
    {
     "name": "stdout",
     "output_type": "stream",
     "text": [
      "Biting our time\n",
      "We know you are not the man we want to believe\n",
      "I got it all �\n",
      "\n"
     ]
    },
    {
     "name": "stderr",
     "output_type": "stream",
     "text": [
      "INFO:simpletransformers.language_generation.language_generation_model:=== GENERATED SEQUENCE 1 ===\n",
      "INFO:simpletransformers.language_generation.language_generation_model:How do you describe a feeling? ñ I can't tell ñ It's not that I'm alone, but I think I\n",
      "Setting `pad_token_id` to `eos_token_id`:50256 for open-end generation.\n"
     ]
    },
    {
     "name": "stdout",
     "output_type": "stream",
     "text": [
      "How do you describe a feeling?\n",
      "I can't tell\n",
      "It's not that I'm alone, but I think I\n",
      "\n"
     ]
    },
    {
     "name": "stderr",
     "output_type": "stream",
     "text": [
      "INFO:simpletransformers.language_generation.language_generation_model:=== GENERATED SEQUENCE 1 ===\n",
      "INFO:simpletransformers.language_generation.language_generation_model:I've... only ever dreamt of this ñ In a... place ñ But the... I... I've... only ever dreamt\n",
      "Setting `pad_token_id` to `eos_token_id`:50256 for open-end generation.\n"
     ]
    },
    {
     "name": "stdout",
     "output_type": "stream",
     "text": [
      "I've... only ever dreamt of this\n",
      "In a... place\n",
      "But the... I... I've... only ever dreamt\n",
      "\n"
     ]
    },
    {
     "name": "stderr",
     "output_type": "stream",
     "text": [
      "INFO:simpletransformers.language_generation.language_generation_model:=== GENERATED SEQUENCE 1 ===\n",
      "INFO:simpletransformers.language_generation.language_generation_model:This may be my last time ñ It's not my last time ñ No more than this ñ But I'm not\n",
      "Setting `pad_token_id` to `eos_token_id`:50256 for open-end generation.\n"
     ]
    },
    {
     "name": "stdout",
     "output_type": "stream",
     "text": [
      "This may be my last time\n",
      "It's not my last time\n",
      "No more than this\n",
      "But I'm not\n",
      "\n"
     ]
    },
    {
     "name": "stderr",
     "output_type": "stream",
     "text": [
      "INFO:simpletransformers.language_generation.language_generation_model:=== GENERATED SEQUENCE 1 ===\n",
      "INFO:simpletransformers.language_generation.language_generation_model:On July 27, 1973 ñ I'll be the only one to sing on the moon ñ I'll be the only\n",
      "Setting `pad_token_id` to `eos_token_id`:50256 for open-end generation.\n"
     ]
    },
    {
     "name": "stdout",
     "output_type": "stream",
     "text": [
      "On July 27, 1973\n",
      "I'll be the only one to sing on the moon\n",
      "I'll be the only\n",
      "\n"
     ]
    },
    {
     "name": "stderr",
     "output_type": "stream",
     "text": [
      "INFO:simpletransformers.language_generation.language_generation_model:=== GENERATED SEQUENCE 1 ===\n",
      "INFO:simpletransformers.language_generation.language_generation_model:I was servin' time for armed robbery ñ It's time for this fucking war, to end ñ Don't fuck with the boss\n",
      "Setting `pad_token_id` to `eos_token_id`:50256 for open-end generation.\n"
     ]
    },
    {
     "name": "stdout",
     "output_type": "stream",
     "text": [
      "I was servin' time for armed robbery\n",
      "It's time for this fucking war, to end\n",
      "Don't fuck with the boss\n",
      "\n"
     ]
    },
    {
     "name": "stderr",
     "output_type": "stream",
     "text": [
      "INFO:simpletransformers.language_generation.language_generation_model:=== GENERATED SEQUENCE 1 ===\n",
      "INFO:simpletransformers.language_generation.language_generation_model:Look, don't give a fuck if they put ten million on you ñ And you're gonna pay for it ñ And you're gonna go on and buy it\n",
      "Setting `pad_token_id` to `eos_token_id`:50256 for open-end generation.\n"
     ]
    },
    {
     "name": "stdout",
     "output_type": "stream",
     "text": [
      "Look, don't give a fuck if they put ten million on you\n",
      "And you're gonna pay for it\n",
      "And you're gonna go on and buy it\n",
      "\n"
     ]
    },
    {
     "name": "stderr",
     "output_type": "stream",
     "text": [
      "INFO:simpletransformers.language_generation.language_generation_model:=== GENERATED SEQUENCE 1 ===\n",
      "INFO:simpletransformers.language_generation.language_generation_model:I'ma stil hear ya' ñ I'ma get a little better ñ 'Cause if I had love\n",
      "Setting `pad_token_id` to `eos_token_id`:50256 for open-end generation.\n"
     ]
    },
    {
     "name": "stdout",
     "output_type": "stream",
     "text": [
      "I'ma stil hear ya'\n",
      "I'ma get a little better\n",
      "'Cause if I had love\n",
      "\n"
     ]
    },
    {
     "name": "stderr",
     "output_type": "stream",
     "text": [
      "INFO:simpletransformers.language_generation.language_generation_model:=== GENERATED SEQUENCE 1 ===\n",
      "INFO:simpletransformers.language_generation.language_generation_model:Set me down on the Delta honey baby let me be your king bee and you, uh ohhhh ñ We will be there soon oh baby please come\n",
      "Setting `pad_token_id` to `eos_token_id`:50256 for open-end generation.\n"
     ]
    },
    {
     "name": "stdout",
     "output_type": "stream",
     "text": [
      "Set me down on the Delta honey baby let me be your king bee and you, uh ohhhh\n",
      "We will be there soon oh baby please come\n",
      "\n"
     ]
    },
    {
     "name": "stderr",
     "output_type": "stream",
     "text": [
      "INFO:simpletransformers.language_generation.language_generation_model:=== GENERATED SEQUENCE 1 ===\n",
      "INFO:simpletransformers.language_generation.language_generation_model:Walk my ass up 51   ñ In a house with no windows ñ I got the windows open and my little lady\n",
      "Setting `pad_token_id` to `eos_token_id`:50256 for open-end generation.\n"
     ]
    },
    {
     "name": "stdout",
     "output_type": "stream",
     "text": [
      "Walk my ass up 51  \n",
      "In a house with no windows\n",
      "I got the windows open and my little lady\n",
      "\n"
     ]
    },
    {
     "name": "stderr",
     "output_type": "stream",
     "text": [
      "INFO:simpletransformers.language_generation.language_generation_model:=== GENERATED SEQUENCE 1 ===\n",
      "INFO:simpletransformers.language_generation.language_generation_model:It's cold outside ñ I'm in love with the cold ñ I'm in love with the cold ñ\n",
      "Setting `pad_token_id` to `eos_token_id`:50256 for open-end generation.\n"
     ]
    },
    {
     "name": "stdout",
     "output_type": "stream",
     "text": [
      "It's cold outside\n",
      "I'm in love with the cold\n",
      "I'm in love with the cold\n",
      "\n"
     ]
    },
    {
     "name": "stderr",
     "output_type": "stream",
     "text": [
      "INFO:simpletransformers.language_generation.language_generation_model:=== GENERATED SEQUENCE 1 ===\n",
      "INFO:simpletransformers.language_generation.language_generation_model:Just like the year before ñ We're going away ñ We're going away ñ We're gonna be free �\n",
      "Setting `pad_token_id` to `eos_token_id`:50256 for open-end generation.\n"
     ]
    },
    {
     "name": "stdout",
     "output_type": "stream",
     "text": [
      "Just like the year before\n",
      "We're going away\n",
      "We're going away\n",
      "We're gonna be free �\n",
      "\n"
     ]
    },
    {
     "name": "stderr",
     "output_type": "stream",
     "text": [
      "INFO:simpletransformers.language_generation.language_generation_model:=== GENERATED SEQUENCE 1 ===\n",
      "INFO:simpletransformers.language_generation.language_generation_model:But I can't help but feel the same ñ I've got too much ñ I'm just nothin' to blame\n",
      "Setting `pad_token_id` to `eos_token_id`:50256 for open-end generation.\n"
     ]
    },
    {
     "name": "stdout",
     "output_type": "stream",
     "text": [
      "But I can't help but feel the same\n",
      "I've got too much\n",
      "I'm just nothin' to blame\n",
      "\n"
     ]
    },
    {
     "name": "stderr",
     "output_type": "stream",
     "text": [
      "INFO:simpletransformers.language_generation.language_generation_model:=== GENERATED SEQUENCE 1 ===\n",
      "INFO:simpletransformers.language_generation.language_generation_model:I am so high, I can't look back ñ And we're falling apart ñ Like our hearts cannot stand this pressure ñ This pressure\n",
      "Setting `pad_token_id` to `eos_token_id`:50256 for open-end generation.\n"
     ]
    },
    {
     "name": "stdout",
     "output_type": "stream",
     "text": [
      "I am so high, I can't look back\n",
      "And we're falling apart\n",
      "Like our hearts cannot stand this pressure\n",
      "This pressure\n",
      "\n"
     ]
    },
    {
     "name": "stderr",
     "output_type": "stream",
     "text": [
      "INFO:simpletransformers.language_generation.language_generation_model:=== GENERATED SEQUENCE 1 ===\n",
      "INFO:simpletransformers.language_generation.language_generation_model:I'm ready for what comes next ñ When you're standing there with your empty head hanging down ñ I'm ready for what\n",
      "Setting `pad_token_id` to `eos_token_id`:50256 for open-end generation.\n"
     ]
    },
    {
     "name": "stdout",
     "output_type": "stream",
     "text": [
      "I'm ready for what comes next\n",
      "When you're standing there with your empty head hanging down\n",
      "I'm ready for what\n",
      "\n"
     ]
    },
    {
     "name": "stderr",
     "output_type": "stream",
     "text": [
      "INFO:simpletransformers.language_generation.language_generation_model:=== GENERATED SEQUENCE 1 ===\n",
      "INFO:simpletransformers.language_generation.language_generation_model:Such a high price ñ A thousand years ago ñ I could not help it ñ For I was just another\n",
      "Setting `pad_token_id` to `eos_token_id`:50256 for open-end generation.\n"
     ]
    },
    {
     "name": "stdout",
     "output_type": "stream",
     "text": [
      "Such a high price\n",
      "A thousand years ago\n",
      "I could not help it\n",
      "For I was just another\n",
      "\n"
     ]
    },
    {
     "name": "stderr",
     "output_type": "stream",
     "text": [
      "INFO:simpletransformers.language_generation.language_generation_model:=== GENERATED SEQUENCE 1 ===\n",
      "INFO:simpletransformers.language_generation.language_generation_model:On everything that I had, everything, everything ñ Everything that we did, we had it allLyrics\n",
      "Setting `pad_token_id` to `eos_token_id`:50256 for open-end generation.\n"
     ]
    },
    {
     "name": "stdout",
     "output_type": "stream",
     "text": [
      "On everything that I had, everything, everything\n",
      "Everything that we did, we had it allLyrics\n",
      "\n"
     ]
    },
    {
     "name": "stderr",
     "output_type": "stream",
     "text": [
      "INFO:simpletransformers.language_generation.language_generation_model:=== GENERATED SEQUENCE 1 ===\n",
      "INFO:simpletransformers.language_generation.language_generation_model:It's no fine mystery ñ You needn't fear ñ What's right ñ Is in the eye of the\n",
      "Setting `pad_token_id` to `eos_token_id`:50256 for open-end generation.\n"
     ]
    },
    {
     "name": "stdout",
     "output_type": "stream",
     "text": [
      "It's no fine mystery\n",
      "You needn't fear\n",
      "What's right\n",
      "Is in the eye of the\n",
      "\n"
     ]
    },
    {
     "name": "stderr",
     "output_type": "stream",
     "text": [
      "INFO:simpletransformers.language_generation.language_generation_model:=== GENERATED SEQUENCE 1 ===\n",
      "INFO:simpletransformers.language_generation.language_generation_model:Power that  and power the way ñ But I know who's  ñ Who's the friend and \n",
      "Setting `pad_token_id` to `eos_token_id`:50256 for open-end generation.\n"
     ]
    },
    {
     "name": "stdout",
     "output_type": "stream",
     "text": [
      "Power that  and power the way\n",
      "But I know who's \n",
      "Who's the friend and \n",
      "\n"
     ]
    },
    {
     "name": "stderr",
     "output_type": "stream",
     "text": [
      "INFO:simpletransformers.language_generation.language_generation_model:=== GENERATED SEQUENCE 1 ===\n",
      "INFO:simpletransformers.language_generation.language_generation_model:I know you're waiting for so long, waiting for a sign. a sign thorns in your soul. a sign that you're still alive.\" ñ It's true. what\n",
      "Setting `pad_token_id` to `eos_token_id`:50256 for open-end generation.\n"
     ]
    },
    {
     "name": "stdout",
     "output_type": "stream",
     "text": [
      "I know you're waiting for so long, waiting for a sign. a sign thorns in your soul. a sign that you're still alive.\"\n",
      "It's true. what\n",
      "\n"
     ]
    },
    {
     "name": "stderr",
     "output_type": "stream",
     "text": [
      "INFO:simpletransformers.language_generation.language_generation_model:=== GENERATED SEQUENCE 1 ===\n",
      "INFO:simpletransformers.language_generation.language_generation_model:Once I dwelled in the animal kingdom, you and I ñ I'm like that all over the place now ñ I'm so\n",
      "Setting `pad_token_id` to `eos_token_id`:50256 for open-end generation.\n"
     ]
    },
    {
     "name": "stdout",
     "output_type": "stream",
     "text": [
      "Once I dwelled in the animal kingdom, you and I\n",
      "I'm like that all over the place now\n",
      "I'm so\n",
      "\n"
     ]
    },
    {
     "name": "stderr",
     "output_type": "stream",
     "text": [
      "INFO:simpletransformers.language_generation.language_generation_model:=== GENERATED SEQUENCE 1 ===\n",
      "INFO:simpletransformers.language_generation.language_generation_model:Neon lights, neon lights, neon lights ñ Neon lights, neon lights, neon lights, neon lights ñ Neon lights, neon lights\n",
      "Setting `pad_token_id` to `eos_token_id`:50256 for open-end generation.\n"
     ]
    },
    {
     "name": "stdout",
     "output_type": "stream",
     "text": [
      "Neon lights, neon lights, neon lights\n",
      "Neon lights, neon lights, neon lights, neon lights\n",
      "Neon lights, neon lights\n",
      "\n"
     ]
    },
    {
     "name": "stderr",
     "output_type": "stream",
     "text": [
      "INFO:simpletransformers.language_generation.language_generation_model:=== GENERATED SEQUENCE 1 ===\n",
      "INFO:simpletransformers.language_generation.language_generation_model:I stand astounded by your unfailing love ñ And in this hour of need ñ All I ask of you is to be kind �\n",
      "Setting `pad_token_id` to `eos_token_id`:50256 for open-end generation.\n"
     ]
    },
    {
     "name": "stdout",
     "output_type": "stream",
     "text": [
      "I stand astounded by your unfailing love\n",
      "And in this hour of need\n",
      "All I ask of you is to be kind �\n",
      "\n"
     ]
    },
    {
     "name": "stderr",
     "output_type": "stream",
     "text": [
      "INFO:simpletransformers.language_generation.language_generation_model:=== GENERATED SEQUENCE 1 ===\n",
      "INFO:simpletransformers.language_generation.language_generation_model:Feels so cold to be abandoned and not know what is to come ñ I feel so blue, but it's not that I\n",
      "Setting `pad_token_id` to `eos_token_id`:50256 for open-end generation.\n"
     ]
    },
    {
     "name": "stdout",
     "output_type": "stream",
     "text": [
      "Feels so cold to be abandoned and not know what is to come\n",
      "I feel so blue, but it's not that I\n",
      "\n"
     ]
    },
    {
     "name": "stderr",
     "output_type": "stream",
     "text": [
      "INFO:simpletransformers.language_generation.language_generation_model:=== GENERATED SEQUENCE 1 ===\n",
      "INFO:simpletransformers.language_generation.language_generation_model:I can't see past what you have don't know just how you've been deceived ñ Do you feel sorry now, I know you're\n",
      "Setting `pad_token_id` to `eos_token_id`:50256 for open-end generation.\n"
     ]
    },
    {
     "name": "stdout",
     "output_type": "stream",
     "text": [
      "I can't see past what you have don't know just how you've been deceived\n",
      "Do you feel sorry now, I know you're\n",
      "\n"
     ]
    },
    {
     "name": "stderr",
     "output_type": "stream",
     "text": [
      "INFO:simpletransformers.language_generation.language_generation_model:=== GENERATED SEQUENCE 1 ===\n",
      "INFO:simpletransformers.language_generation.language_generation_model:A rich man met a carpenter ñ Who was a poor man ñ And they said hello and goodbye ñ They talked about\n",
      "Setting `pad_token_id` to `eos_token_id`:50256 for open-end generation.\n"
     ]
    },
    {
     "name": "stdout",
     "output_type": "stream",
     "text": [
      "A rich man met a carpenter\n",
      "Who was a poor man\n",
      "And they said hello and goodbye\n",
      "They talked about\n",
      "\n"
     ]
    },
    {
     "name": "stderr",
     "output_type": "stream",
     "text": [
      "INFO:simpletransformers.language_generation.language_generation_model:=== GENERATED SEQUENCE 1 ===\n",
      "INFO:simpletransformers.language_generation.language_generation_model:Their minds were world's apart ñ And my mind was world's ñ I have a love for you ñ I love\n",
      "Setting `pad_token_id` to `eos_token_id`:50256 for open-end generation.\n"
     ]
    },
    {
     "name": "stdout",
     "output_type": "stream",
     "text": [
      "Their minds were world's apart\n",
      "And my mind was world's\n",
      "I have a love for you\n",
      "I love\n",
      "\n"
     ]
    },
    {
     "name": "stderr",
     "output_type": "stream",
     "text": [
      "INFO:simpletransformers.language_generation.language_generation_model:=== GENERATED SEQUENCE 1 ===\n",
      "INFO:simpletransformers.language_generation.language_generation_model:I wanted everything for a little while ñ You're not alone, you're not alone ñ You're not alone, there's\n",
      "Setting `pad_token_id` to `eos_token_id`:50256 for open-end generation.\n"
     ]
    },
    {
     "name": "stdout",
     "output_type": "stream",
     "text": [
      "I wanted everything for a little while\n",
      "You're not alone, you're not alone\n",
      "You're not alone, there's\n",
      "\n"
     ]
    },
    {
     "name": "stderr",
     "output_type": "stream",
     "text": [
      "INFO:simpletransformers.language_generation.language_generation_model:=== GENERATED SEQUENCE 1 ===\n",
      "INFO:simpletransformers.language_generation.language_generation_model:Why shouldn't I? ñ You've got a dream to tell ñ I want to know what's inside ñ\n",
      "Setting `pad_token_id` to `eos_token_id`:50256 for open-end generation.\n"
     ]
    },
    {
     "name": "stdout",
     "output_type": "stream",
     "text": [
      "Why shouldn't I?\n",
      "You've got a dream to tell\n",
      "I want to know what's inside\n",
      "\n"
     ]
    },
    {
     "name": "stderr",
     "output_type": "stream",
     "text": [
      "INFO:simpletransformers.language_generation.language_generation_model:=== GENERATED SEQUENCE 1 ===\n",
      "INFO:simpletransformers.language_generation.language_generation_model:I wanted to believe in everything ñ I wanted to believe in everything I saw and felt and loved and heard\n",
      "Setting `pad_token_id` to `eos_token_id`:50256 for open-end generation.\n"
     ]
    },
    {
     "name": "stdout",
     "output_type": "stream",
     "text": [
      "I wanted to believe in everything\n",
      "I wanted to believe in everything I saw and felt and loved and heard\n",
      "\n"
     ]
    },
    {
     "name": "stderr",
     "output_type": "stream",
     "text": [
      "INFO:simpletransformers.language_generation.language_generation_model:=== GENERATED SEQUENCE 1 ===\n",
      "INFO:simpletransformers.language_generation.language_generation_model:Count that cash, we might all find it's not a bad thing ñ Cash, we'll try to keep\n",
      "Setting `pad_token_id` to `eos_token_id`:50256 for open-end generation.\n"
     ]
    },
    {
     "name": "stdout",
     "output_type": "stream",
     "text": [
      "Count that cash, we might all find it's not a bad thing\n",
      "Cash, we'll try to keep\n",
      "\n"
     ]
    },
    {
     "name": "stderr",
     "output_type": "stream",
     "text": [
      "INFO:simpletransformers.language_generation.language_generation_model:=== GENERATED SEQUENCE 1 ===\n",
      "INFO:simpletransformers.language_generation.language_generation_model:Count that dough into the doughnut shell ñ You'll just get a brown paper bag ñ But just don\n",
      "Setting `pad_token_id` to `eos_token_id`:50256 for open-end generation.\n"
     ]
    },
    {
     "name": "stdout",
     "output_type": "stream",
     "text": [
      "Count that dough into the doughnut shell\n",
      "You'll just get a brown paper bag\n",
      "But just don\n",
      "\n"
     ]
    },
    {
     "name": "stderr",
     "output_type": "stream",
     "text": [
      "INFO:simpletransformers.language_generation.language_generation_model:=== GENERATED SEQUENCE 1 ===\n",
      "INFO:simpletransformers.language_generation.language_generation_model:Bounce that ass ñ Get this ass on fire, get it on fire ñ We just don't fuck anymore\n",
      "Setting `pad_token_id` to `eos_token_id`:50256 for open-end generation.\n"
     ]
    },
    {
     "name": "stdout",
     "output_type": "stream",
     "text": [
      "Bounce that ass\n",
      "Get this ass on fire, get it on fire\n",
      "We just don't fuck anymore\n",
      "\n"
     ]
    },
    {
     "name": "stderr",
     "output_type": "stream",
     "text": [
      "INFO:simpletransformers.language_generation.language_generation_model:=== GENERATED SEQUENCE 1 ===\n",
      "INFO:simpletransformers.language_generation.language_generation_model:That's my ho ñ No-no no-no no-no ñ No-no ñ No-\n",
      "Setting `pad_token_id` to `eos_token_id`:50256 for open-end generation.\n"
     ]
    },
    {
     "name": "stdout",
     "output_type": "stream",
     "text": [
      "That's my ho\n",
      "No-no no-no no-no\n",
      "No-no\n",
      "No-\n",
      "\n"
     ]
    },
    {
     "name": "stderr",
     "output_type": "stream",
     "text": [
      "INFO:simpletransformers.language_generation.language_generation_model:=== GENERATED SEQUENCE 1 ===\n",
      "INFO:simpletransformers.language_generation.language_generation_model:Sometimes i watch you when you sleep. watch your eyes move while you do sleep ñ your eyes moving in time and space ñ when you're lying and still\n",
      "Setting `pad_token_id` to `eos_token_id`:50256 for open-end generation.\n"
     ]
    },
    {
     "name": "stdout",
     "output_type": "stream",
     "text": [
      "Sometimes i watch you when you sleep. watch your eyes move while you do sleep\n",
      "your eyes moving in time and space\n",
      "when you're lying and still\n",
      "\n"
     ]
    },
    {
     "name": "stderr",
     "output_type": "stream",
     "text": [
      "INFO:simpletransformers.language_generation.language_generation_model:=== GENERATED SEQUENCE 1 ===\n",
      "INFO:simpletransformers.language_generation.language_generation_model:24hrs ñ 5, 6 and 7th days ñ And you have never ñ Seen ñ\n",
      "Setting `pad_token_id` to `eos_token_id`:50256 for open-end generation.\n"
     ]
    },
    {
     "name": "stdout",
     "output_type": "stream",
     "text": [
      "24hrs\n",
      "5, 6 and 7th days\n",
      "And you have never\n",
      "Seen\n",
      "\n"
     ]
    },
    {
     "name": "stderr",
     "output_type": "stream",
     "text": [
      "INFO:simpletransformers.language_generation.language_generation_model:=== GENERATED SEQUENCE 1 ===\n",
      "INFO:simpletransformers.language_generation.language_generation_model:(I love the private club) ñ The crowd has no place to go ñ But here we stand here with a loud crowd\n",
      "Setting `pad_token_id` to `eos_token_id`:50256 for open-end generation.\n"
     ]
    },
    {
     "name": "stdout",
     "output_type": "stream",
     "text": [
      "(I love the private club)\n",
      "The crowd has no place to go\n",
      "But here we stand here with a loud crowd\n",
      "\n"
     ]
    },
    {
     "name": "stderr",
     "output_type": "stream",
     "text": [
      "INFO:simpletransformers.language_generation.language_generation_model:=== GENERATED SEQUENCE 1 ===\n",
      "INFO:simpletransformers.language_generation.language_generation_model:And you know it's Apex in the heart of town ñ And you know it's Apex in the heart of town ñ\n",
      "Setting `pad_token_id` to `eos_token_id`:50256 for open-end generation.\n"
     ]
    },
    {
     "name": "stdout",
     "output_type": "stream",
     "text": [
      "And you know it's Apex in the heart of town\n",
      "And you know it's Apex in the heart of town\n",
      "\n"
     ]
    },
    {
     "name": "stderr",
     "output_type": "stream",
     "text": [
      "INFO:simpletransformers.language_generation.language_generation_model:=== GENERATED SEQUENCE 1 ===\n",
      "INFO:simpletransformers.language_generation.language_generation_model:There's no time for us to be here ñ They said we'd never leave ñ You look at me and I'm\n",
      "Setting `pad_token_id` to `eos_token_id`:50256 for open-end generation.\n"
     ]
    },
    {
     "name": "stdout",
     "output_type": "stream",
     "text": [
      "There's no time for us to be here\n",
      "They said we'd never leave\n",
      "You look at me and I'm\n",
      "\n"
     ]
    },
    {
     "name": "stderr",
     "output_type": "stream",
     "text": [
      "INFO:simpletransformers.language_generation.language_generation_model:=== GENERATED SEQUENCE 1 ===\n",
      "INFO:simpletransformers.language_generation.language_generation_model:Saw me on the corner of the street when I first started getting fucked ñ Fuck that shit, I can't keep it\n",
      "Setting `pad_token_id` to `eos_token_id`:50256 for open-end generation.\n"
     ]
    },
    {
     "name": "stdout",
     "output_type": "stream",
     "text": [
      "Saw me on the corner of the street when I first started getting fucked\n",
      "Fuck that shit, I can't keep it\n",
      "\n"
     ]
    },
    {
     "name": "stderr",
     "output_type": "stream",
     "text": [
      "INFO:simpletransformers.language_generation.language_generation_model:=== GENERATED SEQUENCE 1 ===\n",
      "INFO:simpletransformers.language_generation.language_generation_model:Swear you hit me like a vision ñ I'm like a piece of trash ñ And I'll keep your shit, forever �\n",
      "Setting `pad_token_id` to `eos_token_id`:50256 for open-end generation.\n"
     ]
    },
    {
     "name": "stdout",
     "output_type": "stream",
     "text": [
      "Swear you hit me like a vision\n",
      "I'm like a piece of trash\n",
      "And I'll keep your shit, forever �\n",
      "\n"
     ]
    },
    {
     "name": "stderr",
     "output_type": "stream",
     "text": [
      "INFO:simpletransformers.language_generation.language_generation_model:=== GENERATED SEQUENCE 1 ===\n",
      "INFO:simpletransformers.language_generation.language_generation_model:I, I, I, I, I, I, I, I, I ñ I, I, I,\n",
      "Setting `pad_token_id` to `eos_token_id`:50256 for open-end generation.\n"
     ]
    },
    {
     "name": "stdout",
     "output_type": "stream",
     "text": [
      "I, I, I, I, I, I, I, I, I\n",
      "I, I, I,\n",
      "\n"
     ]
    },
    {
     "name": "stderr",
     "output_type": "stream",
     "text": [
      "INFO:simpletransformers.language_generation.language_generation_model:=== GENERATED SEQUENCE 1 ===\n",
      "INFO:simpletransformers.language_generation.language_generation_model:Ohhh-oh-oh, oh-oh! ñ Ohhhhhh! ñ I've got my heart full, it's all I\n",
      "Setting `pad_token_id` to `eos_token_id`:50256 for open-end generation.\n"
     ]
    },
    {
     "name": "stdout",
     "output_type": "stream",
     "text": [
      "Ohhh-oh-oh, oh-oh!\n",
      "Ohhhhhh!\n",
      "I've got my heart full, it's all I\n",
      "\n"
     ]
    },
    {
     "name": "stderr",
     "output_type": "stream",
     "text": [
      "INFO:simpletransformers.language_generation.language_generation_model:=== GENERATED SEQUENCE 1 ===\n",
      "INFO:simpletransformers.language_generation.language_generation_model:I'm coming up against my brother and he's coming up against his friends ñ I'm going to get me a\n",
      "Setting `pad_token_id` to `eos_token_id`:50256 for open-end generation.\n"
     ]
    },
    {
     "name": "stdout",
     "output_type": "stream",
     "text": [
      "I'm coming up against my brother and he's coming up against his friends\n",
      "I'm going to get me a\n",
      "\n"
     ]
    },
    {
     "name": "stderr",
     "output_type": "stream",
     "text": [
      "INFO:simpletransformers.language_generation.language_generation_model:=== GENERATED SEQUENCE 1 ===\n",
      "INFO:simpletransformers.language_generation.language_generation_model:Mean ass bitch, give a fuck if you like me ñ Or put me in a place that ain't no place where I belong ñ Bitch\n",
      "Setting `pad_token_id` to `eos_token_id`:50256 for open-end generation.\n"
     ]
    },
    {
     "name": "stdout",
     "output_type": "stream",
     "text": [
      "Mean ass bitch, give a fuck if you like me\n",
      "Or put me in a place that ain't no place where I belong\n",
      "Bitch\n",
      "\n"
     ]
    },
    {
     "name": "stderr",
     "output_type": "stream",
     "text": [
      "INFO:simpletransformers.language_generation.language_generation_model:=== GENERATED SEQUENCE 1 ===\n",
      "INFO:simpletransformers.language_generation.language_generation_model:I'll beat a bitch on the mic ñ She's so fucking good at how she do that ñ So she gotta\n",
      "Setting `pad_token_id` to `eos_token_id`:50256 for open-end generation.\n"
     ]
    },
    {
     "name": "stdout",
     "output_type": "stream",
     "text": [
      "I'll beat a bitch on the mic\n",
      "She's so fucking good at how she do that\n",
      "So she gotta\n",
      "\n"
     ]
    },
    {
     "name": "stderr",
     "output_type": "stream",
     "text": [
      "INFO:simpletransformers.language_generation.language_generation_model:=== GENERATED SEQUENCE 1 ===\n",
      "INFO:simpletransformers.language_generation.language_generation_model:Really be in my own zone ñ Be in my own zone ñ You never really belong ñ Be in my zone �\n",
      "Setting `pad_token_id` to `eos_token_id`:50256 for open-end generation.\n"
     ]
    },
    {
     "name": "stdout",
     "output_type": "stream",
     "text": [
      "Really be in my own zone\n",
      "Be in my own zone\n",
      "You never really belong\n",
      "Be in my zone �\n",
      "\n"
     ]
    },
    {
     "name": "stderr",
     "output_type": "stream",
     "text": [
      "INFO:simpletransformers.language_generation.language_generation_model:=== GENERATED SEQUENCE 1 ===\n",
      "INFO:simpletransformers.language_generation.language_generation_model:Phone ringing, act like I ain't got no  ñ So why the hell don't you go? ñ And I'll just say, I\n",
      "Setting `pad_token_id` to `eos_token_id`:50256 for open-end generation.\n"
     ]
    },
    {
     "name": "stdout",
     "output_type": "stream",
     "text": [
      "Phone ringing, act like I ain't got no \n",
      "So why the hell don't you go?\n",
      "And I'll just say, I\n",
      "\n"
     ]
    },
    {
     "name": "stderr",
     "output_type": "stream",
     "text": [
      "INFO:simpletransformers.language_generation.language_generation_model:=== GENERATED SEQUENCE 1 ===\n",
      "INFO:simpletransformers.language_generation.language_generation_model:This pitiful pettiness is not for me ñ I can live it ñ No, it is not the end ñ Your hatred is\n",
      "Setting `pad_token_id` to `eos_token_id`:50256 for open-end generation.\n"
     ]
    },
    {
     "name": "stdout",
     "output_type": "stream",
     "text": [
      "This pitiful pettiness is not for me\n",
      "I can live it\n",
      "No, it is not the end\n",
      "Your hatred is\n",
      "\n"
     ]
    },
    {
     "name": "stderr",
     "output_type": "stream",
     "text": [
      "INFO:simpletransformers.language_generation.language_generation_model:=== GENERATED SEQUENCE 1 ===\n",
      "INFO:simpletransformers.language_generation.language_generation_model:I don't care, about your past, you know ñ And it hurts me, too ñ I don't care, about your\n",
      "Setting `pad_token_id` to `eos_token_id`:50256 for open-end generation.\n"
     ]
    },
    {
     "name": "stdout",
     "output_type": "stream",
     "text": [
      "I don't care, about your past, you know\n",
      "And it hurts me, too\n",
      "I don't care, about your\n",
      "\n"
     ]
    },
    {
     "name": "stderr",
     "output_type": "stream",
     "text": [
      "INFO:simpletransformers.language_generation.language_generation_model:=== GENERATED SEQUENCE 1 ===\n",
      "INFO:simpletransformers.language_generation.language_generation_model:I just want, our love to last ñ  ñ It feels good to see you smile ñ I'm feeling good with my\n",
      "Setting `pad_token_id` to `eos_token_id`:50256 for open-end generation.\n"
     ]
    },
    {
     "name": "stdout",
     "output_type": "stream",
     "text": [
      "I just want, our love to last\n",
      "It feels good to see you smile\n",
      "I'm feeling good with my\n",
      "\n"
     ]
    },
    {
     "name": "stderr",
     "output_type": "stream",
     "text": [
      "INFO:simpletransformers.language_generation.language_generation_model:=== GENERATED SEQUENCE 1 ===\n",
      "INFO:simpletransformers.language_generation.language_generation_model:I do not feel so far from you ñ You can't reach me ñ You are not to blame\n",
      "Setting `pad_token_id` to `eos_token_id`:50256 for open-end generation.\n"
     ]
    },
    {
     "name": "stdout",
     "output_type": "stream",
     "text": [
      "I do not feel so far from you\n",
      "You can't reach me\n",
      "You are not to blame\n",
      "\n"
     ]
    },
    {
     "name": "stderr",
     "output_type": "stream",
     "text": [
      "INFO:simpletransformers.language_generation.language_generation_model:=== GENERATED SEQUENCE 1 ===\n",
      "INFO:simpletransformers.language_generation.language_generation_model:(Are you ready, hey, are you ready for this?) ñ No, don't give up ñ  ñ I'm only 13 and my mind\n",
      "Setting `pad_token_id` to `eos_token_id`:50256 for open-end generation.\n"
     ]
    },
    {
     "name": "stdout",
     "output_type": "stream",
     "text": [
      "(Are you ready, hey, are you ready for this?)\n",
      "No, don't give up\n",
      "I'm only 13 and my mind\n",
      "\n"
     ]
    },
    {
     "name": "stderr",
     "output_type": "stream",
     "text": [
      "INFO:simpletransformers.language_generation.language_generation_model:=== GENERATED SEQUENCE 1 ===\n",
      "INFO:simpletransformers.language_generation.language_generation_model:I see the sun much brighter since you went away ñ  ñ I've been doing this for years, so I'll do it for you\n",
      "Setting `pad_token_id` to `eos_token_id`:50256 for open-end generation.\n"
     ]
    },
    {
     "name": "stdout",
     "output_type": "stream",
     "text": [
      "I see the sun much brighter since you went away\n",
      "I've been doing this for years, so I'll do it for you\n",
      "\n"
     ]
    },
    {
     "name": "stderr",
     "output_type": "stream",
     "text": [
      "INFO:simpletransformers.language_generation.language_generation_model:=== GENERATED SEQUENCE 1 ===\n",
      "INFO:simpletransformers.language_generation.language_generation_model:I'm doing better than you could ever imagine ñ It's not what you'd expect from someone so deep in love\n",
      "Setting `pad_token_id` to `eos_token_id`:50256 for open-end generation.\n"
     ]
    },
    {
     "name": "stdout",
     "output_type": "stream",
     "text": [
      "I'm doing better than you could ever imagine\n",
      "It's not what you'd expect from someone so deep in love\n",
      "\n"
     ]
    },
    {
     "name": "stderr",
     "output_type": "stream",
     "text": [
      "INFO:simpletransformers.language_generation.language_generation_model:=== GENERATED SEQUENCE 1 ===\n",
      "INFO:simpletransformers.language_generation.language_generation_model:Es gibt nur wenige von uns. ñ In der gegen denkenenen ñ Vennenhilige\n",
      "Setting `pad_token_id` to `eos_token_id`:50256 for open-end generation.\n"
     ]
    },
    {
     "name": "stdout",
     "output_type": "stream",
     "text": [
      "Es gibt nur wenige von uns.\n",
      "In der gegen denkenenen\n",
      "Vennenhilige\n",
      "\n"
     ]
    },
    {
     "name": "stderr",
     "output_type": "stream",
     "text": [
      "INFO:simpletransformers.language_generation.language_generation_model:=== GENERATED SEQUENCE 1 ===\n",
      "INFO:simpletransformers.language_generation.language_generation_model:Deshalb muessen wir zusammen stehen ñ Wollen sieg die schreiben unmercifully ñ Wollen s\n",
      "Setting `pad_token_id` to `eos_token_id`:50256 for open-end generation.\n"
     ]
    },
    {
     "name": "stdout",
     "output_type": "stream",
     "text": [
      "Deshalb muessen wir zusammen stehen\n",
      "Wollen sieg die schreiben unmercifully\n",
      "Wollen s\n",
      "\n"
     ]
    },
    {
     "name": "stderr",
     "output_type": "stream",
     "text": [
      "INFO:simpletransformers.language_generation.language_generation_model:=== GENERATED SEQUENCE 1 ===\n",
      "INFO:simpletransformers.language_generation.language_generation_model:Silent night, holy night ñ Where the angels sing and the saints pray ñ And the days are bright and the nights\n",
      "Setting `pad_token_id` to `eos_token_id`:50256 for open-end generation.\n"
     ]
    },
    {
     "name": "stdout",
     "output_type": "stream",
     "text": [
      "Silent night, holy night\n",
      "Where the angels sing and the saints pray\n",
      "And the days are bright and the nights\n",
      "\n"
     ]
    },
    {
     "name": "stderr",
     "output_type": "stream",
     "text": [
      "INFO:simpletransformers.language_generation.language_generation_model:=== GENERATED SEQUENCE 1 ===\n",
      "INFO:simpletransformers.language_generation.language_generation_model:All is calm, all is bright ñ We lift our hands for joy and praise ñ And we thank God for His love �\n",
      "Setting `pad_token_id` to `eos_token_id`:50256 for open-end generation.\n"
     ]
    },
    {
     "name": "stdout",
     "output_type": "stream",
     "text": [
      "All is calm, all is bright\n",
      "We lift our hands for joy and praise\n",
      "And we thank God for His love �\n",
      "\n"
     ]
    },
    {
     "name": "stderr",
     "output_type": "stream",
     "text": [
      "INFO:simpletransformers.language_generation.language_generation_model:=== GENERATED SEQUENCE 1 ===\n",
      "INFO:simpletransformers.language_generation.language_generation_model:Round yon Viennese palace ñ No, oh, no! ñ No, oh, no! �\n",
      "Setting `pad_token_id` to `eos_token_id`:50256 for open-end generation.\n"
     ]
    },
    {
     "name": "stdout",
     "output_type": "stream",
     "text": [
      "Round yon Viennese palace\n",
      "No, oh, no!\n",
      "No, oh, no! �\n",
      "\n"
     ]
    },
    {
     "name": "stderr",
     "output_type": "stream",
     "text": [
      "INFO:simpletransformers.language_generation.language_generation_model:=== GENERATED SEQUENCE 1 ===\n",
      "INFO:simpletransformers.language_generation.language_generation_model:New pistol with a trigger like a hairpin, it's all right ñ With a big bang of the shotgun ñ The bullets shoot straight\n",
      "Setting `pad_token_id` to `eos_token_id`:50256 for open-end generation.\n"
     ]
    },
    {
     "name": "stdout",
     "output_type": "stream",
     "text": [
      "New pistol with a trigger like a hairpin, it's all right\n",
      "With a big bang of the shotgun\n",
      "The bullets shoot straight\n",
      "\n"
     ]
    },
    {
     "name": "stderr",
     "output_type": "stream",
     "text": [
      "INFO:simpletransformers.language_generation.language_generation_model:=== GENERATED SEQUENCE 1 ===\n",
      "INFO:simpletransformers.language_generation.language_generation_model:Said he got the sniffle, she got the pain ñ But that isn't how it happens ñ She is too cold\n",
      "Setting `pad_token_id` to `eos_token_id`:50256 for open-end generation.\n"
     ]
    },
    {
     "name": "stdout",
     "output_type": "stream",
     "text": [
      "Said he got the sniffle, she got the pain\n",
      "But that isn't how it happens\n",
      "She is too cold\n",
      "\n"
     ]
    },
    {
     "name": "stderr",
     "output_type": "stream",
     "text": [
      "INFO:simpletransformers.language_generation.language_generation_model:=== GENERATED SEQUENCE 1 ===\n",
      "INFO:simpletransformers.language_generation.language_generation_model:So a crowd has gathered round us ñ And I'm trying to find your name ñ I don't want you to care �\n",
      "Setting `pad_token_id` to `eos_token_id`:50256 for open-end generation.\n"
     ]
    },
    {
     "name": "stdout",
     "output_type": "stream",
     "text": [
      "So a crowd has gathered round us\n",
      "And I'm trying to find your name\n",
      "I don't want you to care �\n",
      "\n"
     ]
    },
    {
     "name": "stderr",
     "output_type": "stream",
     "text": [
      "INFO:simpletransformers.language_generation.language_generation_model:=== GENERATED SEQUENCE 1 ===\n",
      "INFO:simpletransformers.language_generation.language_generation_model:I'm pining one last kiss ñ To be with you again ñ I'm hoping you will forget me ñ So farewell\n",
      "Setting `pad_token_id` to `eos_token_id`:50256 for open-end generation.\n"
     ]
    },
    {
     "name": "stdout",
     "output_type": "stream",
     "text": [
      "I'm pining one last kiss\n",
      "To be with you again\n",
      "I'm hoping you will forget me\n",
      "So farewell\n",
      "\n"
     ]
    },
    {
     "name": "stderr",
     "output_type": "stream",
     "text": [
      "INFO:simpletransformers.language_generation.language_generation_model:=== GENERATED SEQUENCE 1 ===\n",
      "INFO:simpletransformers.language_generation.language_generation_model:I don't ever pass the blunt ñ I just wanna see you smiling ñ I don't ever pass the blunt ñ I\n",
      "Setting `pad_token_id` to `eos_token_id`:50256 for open-end generation.\n"
     ]
    },
    {
     "name": "stdout",
     "output_type": "stream",
     "text": [
      "I don't ever pass the blunt\n",
      "I just wanna see you smiling\n",
      "I don't ever pass the blunt\n",
      "I\n",
      "\n"
     ]
    },
    {
     "name": "stderr",
     "output_type": "stream",
     "text": [
      "INFO:simpletransformers.language_generation.language_generation_model:=== GENERATED SEQUENCE 1 ===\n",
      "INFO:simpletransformers.language_generation.language_generation_model:This ain't no track meet up ñ My mom's got a job at that bank, my dad's got his own place\n",
      "Setting `pad_token_id` to `eos_token_id`:50256 for open-end generation.\n"
     ]
    },
    {
     "name": "stdout",
     "output_type": "stream",
     "text": [
      "This ain't no track meet up\n",
      "My mom's got a job at that bank, my dad's got his own place\n",
      "\n"
     ]
    },
    {
     "name": "stderr",
     "output_type": "stream",
     "text": [
      "INFO:simpletransformers.language_generation.language_generation_model:=== GENERATED SEQUENCE 1 ===\n",
      "INFO:simpletransformers.language_generation.language_generation_model:I'm being marked ñ I'm being judged ñ The other side ñ I'm being treated like shit �\n",
      "Setting `pad_token_id` to `eos_token_id`:50256 for open-end generation.\n"
     ]
    },
    {
     "name": "stdout",
     "output_type": "stream",
     "text": [
      "I'm being marked\n",
      "I'm being judged\n",
      "The other side\n",
      "I'm being treated like shit �\n",
      "\n"
     ]
    },
    {
     "name": "stderr",
     "output_type": "stream",
     "text": [
      "INFO:simpletransformers.language_generation.language_generation_model:=== GENERATED SEQUENCE 1 ===\n",
      "INFO:simpletransformers.language_generation.language_generation_model:Our story's old ñ Your story's cold ñ But I'm still ñ Always remembering you ñ Forever\n",
      "Setting `pad_token_id` to `eos_token_id`:50256 for open-end generation.\n"
     ]
    },
    {
     "name": "stdout",
     "output_type": "stream",
     "text": [
      "Our story's old\n",
      "Your story's cold\n",
      "But I'm still\n",
      "Always remembering you\n",
      "Forever\n",
      "\n"
     ]
    },
    {
     "name": "stderr",
     "output_type": "stream",
     "text": [
      "INFO:simpletransformers.language_generation.language_generation_model:=== GENERATED SEQUENCE 1 ===\n",
      "INFO:simpletransformers.language_generation.language_generation_model:Older than the wind they say ñ I've become quite the wild bird, a man in his way ñ When\n",
      "Setting `pad_token_id` to `eos_token_id`:50256 for open-end generation.\n"
     ]
    },
    {
     "name": "stdout",
     "output_type": "stream",
     "text": [
      "Older than the wind they say\n",
      "I've become quite the wild bird, a man in his way\n",
      "When\n",
      "\n"
     ]
    },
    {
     "name": "stderr",
     "output_type": "stream",
     "text": [
      "INFO:simpletransformers.language_generation.language_generation_model:=== GENERATED SEQUENCE 1 ===\n",
      "INFO:simpletransformers.language_generation.language_generation_model:It's been sad for years to get there ñ You can take it no more ñ I need you more than anyone �\n",
      "Setting `pad_token_id` to `eos_token_id`:50256 for open-end generation.\n"
     ]
    },
    {
     "name": "stdout",
     "output_type": "stream",
     "text": [
      "It's been sad for years to get there\n",
      "You can take it no more\n",
      "I need you more than anyone �\n",
      "\n"
     ]
    },
    {
     "name": "stderr",
     "output_type": "stream",
     "text": [
      "INFO:simpletransformers.language_generation.language_generation_model:=== GENERATED SEQUENCE 1 ===\n",
      "INFO:simpletransformers.language_generation.language_generation_model:I don't mind the flowers and the trees ñ I don't mind the flowers and the trees ñ I don't mind the flowers and\n",
      "Setting `pad_token_id` to `eos_token_id`:50256 for open-end generation.\n"
     ]
    },
    {
     "name": "stdout",
     "output_type": "stream",
     "text": [
      "I don't mind the flowers and the trees\n",
      "I don't mind the flowers and the trees\n",
      "I don't mind the flowers and\n",
      "\n"
     ]
    },
    {
     "name": "stderr",
     "output_type": "stream",
     "text": [
      "INFO:simpletransformers.language_generation.language_generation_model:=== GENERATED SEQUENCE 1 ===\n",
      "INFO:simpletransformers.language_generation.language_generation_model:All these girls that fall in love with me end up hating me ñ  ñ They call me the bad guy ñ You know you like it hot �\n",
      "Setting `pad_token_id` to `eos_token_id`:50256 for open-end generation.\n"
     ]
    },
    {
     "name": "stdout",
     "output_type": "stream",
     "text": [
      "All these girls that fall in love with me end up hating me\n",
      "They call me the bad guy\n",
      "You know you like it hot �\n",
      "\n"
     ]
    },
    {
     "name": "stderr",
     "output_type": "stream",
     "text": [
      "INFO:simpletransformers.language_generation.language_generation_model:=== GENERATED SEQUENCE 1 ===\n",
      "INFO:simpletransformers.language_generation.language_generation_model:I see, I see ñ She don't understand me ñ I'm so happy, I can't\n",
      "Setting `pad_token_id` to `eos_token_id`:50256 for open-end generation.\n"
     ]
    },
    {
     "name": "stdout",
     "output_type": "stream",
     "text": [
      "I see, I see\n",
      "She don't understand me\n",
      "I'm so happy, I can't\n",
      "\n"
     ]
    },
    {
     "name": "stderr",
     "output_type": "stream",
     "text": [
      "INFO:simpletransformers.language_generation.language_generation_model:=== GENERATED SEQUENCE 1 ===\n",
      "INFO:simpletransformers.language_generation.language_generation_model:Hey yo muthafuckas ñ What's up, what's up man? ñ I'm\n",
      "Setting `pad_token_id` to `eos_token_id`:50256 for open-end generation.\n"
     ]
    },
    {
     "name": "stdout",
     "output_type": "stream",
     "text": [
      "Hey yo muthafuckas\n",
      "What's up, what's up man?\n",
      "I'm\n",
      "\n"
     ]
    },
    {
     "name": "stderr",
     "output_type": "stream",
     "text": [
      "INFO:simpletransformers.language_generation.language_generation_model:=== GENERATED SEQUENCE 1 ===\n",
      "INFO:simpletransformers.language_generation.language_generation_model:This is my girls song ñ They just keep playing like its a show ñ No we don't know the lyricsI\n",
      "Setting `pad_token_id` to `eos_token_id`:50256 for open-end generation.\n"
     ]
    },
    {
     "name": "stdout",
     "output_type": "stream",
     "text": [
      "This is my girls song\n",
      "They just keep playing like its a show\n",
      "No we don't know the lyricsI\n",
      "\n"
     ]
    },
    {
     "name": "stderr",
     "output_type": "stream",
     "text": [
      "INFO:simpletransformers.language_generation.language_generation_model:=== GENERATED SEQUENCE 1 ===\n",
      "INFO:simpletransformers.language_generation.language_generation_model:Its called my lady, yes, it's called my lady ñ Well, it's called my lady, yes,\n",
      "Setting `pad_token_id` to `eos_token_id`:50256 for open-end generation.\n"
     ]
    },
    {
     "name": "stdout",
     "output_type": "stream",
     "text": [
      "Its called my lady, yes, it's called my lady\n",
      "Well, it's called my lady, yes,\n",
      "\n"
     ]
    },
    {
     "name": "stderr",
     "output_type": "stream",
     "text": [
      "INFO:simpletransformers.language_generation.language_generation_model:=== GENERATED SEQUENCE 1 ===\n",
      "INFO:simpletransformers.language_generation.language_generation_model:Lets do it! ñ Don't wanna go ñ Let's do it! ñ Let's do it!\n",
      "Setting `pad_token_id` to `eos_token_id`:50256 for open-end generation.\n"
     ]
    },
    {
     "name": "stdout",
     "output_type": "stream",
     "text": [
      "Lets do it!\n",
      "Don't wanna go\n",
      "Let's do it!\n",
      "Let's do it!\n",
      "\n"
     ]
    },
    {
     "name": "stderr",
     "output_type": "stream",
     "text": [
      "INFO:simpletransformers.language_generation.language_generation_model:=== GENERATED SEQUENCE 1 ===\n",
      "INFO:simpletransformers.language_generation.language_generation_model:Wading through a river of stars ñ With a shadow in my back ñ The way my hands reach inside your dreams ñ\n",
      "Setting `pad_token_id` to `eos_token_id`:50256 for open-end generation.\n"
     ]
    },
    {
     "name": "stdout",
     "output_type": "stream",
     "text": [
      "Wading through a river of stars\n",
      "With a shadow in my back\n",
      "The way my hands reach inside your dreams\n",
      "\n"
     ]
    },
    {
     "name": "stderr",
     "output_type": "stream",
     "text": [
      "INFO:simpletransformers.language_generation.language_generation_model:=== GENERATED SEQUENCE 1 ===\n",
      "INFO:simpletransformers.language_generation.language_generation_model:Our lips touch like butterflies  ñ I love your lips like butterflies  ñ Oh, I love your lips like butterflies �\n",
      "Setting `pad_token_id` to `eos_token_id`:50256 for open-end generation.\n"
     ]
    },
    {
     "name": "stdout",
     "output_type": "stream",
     "text": [
      "Our lips touch like butterflies \n",
      "I love your lips like butterflies \n",
      "Oh, I love your lips like butterflies �\n",
      "\n"
     ]
    },
    {
     "name": "stderr",
     "output_type": "stream",
     "text": [
      "INFO:simpletransformers.language_generation.language_generation_model:=== GENERATED SEQUENCE 1 ===\n",
      "INFO:simpletransformers.language_generation.language_generation_model:People and cars on the avenue ñ And there were people talking to me ñ And there was a woman there ñ And\n",
      "Setting `pad_token_id` to `eos_token_id`:50256 for open-end generation.\n"
     ]
    },
    {
     "name": "stdout",
     "output_type": "stream",
     "text": [
      "People and cars on the avenue\n",
      "And there were people talking to me\n",
      "And there was a woman there\n",
      "And\n",
      "\n"
     ]
    },
    {
     "name": "stderr",
     "output_type": "stream",
     "text": [
      "INFO:simpletransformers.language_generation.language_generation_model:=== GENERATED SEQUENCE 1 ===\n",
      "INFO:simpletransformers.language_generation.language_generation_model:But I can't hear a thing 'cause I' can't ñ I'm running so low, I'll drown ñ When there's nothing else\n",
      "Setting `pad_token_id` to `eos_token_id`:50256 for open-end generation.\n"
     ]
    },
    {
     "name": "stdout",
     "output_type": "stream",
     "text": [
      "But I can't hear a thing 'cause I' can't\n",
      "I'm running so low, I'll drown\n",
      "When there's nothing else\n",
      "\n"
     ]
    },
    {
     "name": "stderr",
     "output_type": "stream",
     "text": [
      "INFO:simpletransformers.language_generation.language_generation_model:=== GENERATED SEQUENCE 1 ===\n",
      "INFO:simpletransformers.language_generation.language_generation_model:I've been waiting in line ñ Waiting for the day ñ I've been waiting for the day ñ I've been\n",
      "Setting `pad_token_id` to `eos_token_id`:50256 for open-end generation.\n"
     ]
    },
    {
     "name": "stdout",
     "output_type": "stream",
     "text": [
      "I've been waiting in line\n",
      "Waiting for the day\n",
      "I've been waiting for the day\n",
      "I've been\n",
      "\n"
     ]
    },
    {
     "name": "stderr",
     "output_type": "stream",
     "text": [
      "INFO:simpletransformers.language_generation.language_generation_model:=== GENERATED SEQUENCE 1 ===\n",
      "INFO:simpletransformers.language_generation.language_generation_model:I don't have the heart to say goodbye ñ In this life, I don't have the heart to say goodbye ñ In this life\n",
      "Setting `pad_token_id` to `eos_token_id`:50256 for open-end generation.\n"
     ]
    },
    {
     "name": "stdout",
     "output_type": "stream",
     "text": [
      "I don't have the heart to say goodbye\n",
      "In this life, I don't have the heart to say goodbye\n",
      "In this life\n",
      "\n"
     ]
    },
    {
     "name": "stderr",
     "output_type": "stream",
     "text": [
      "INFO:simpletransformers.language_generation.language_generation_model:=== GENERATED SEQUENCE 1 ===\n",
      "INFO:simpletransformers.language_generation.language_generation_model:I saw your tear fall from your grace ñ You fell from your grace ñ But all I remember is the way you used to come\n",
      "Setting `pad_token_id` to `eos_token_id`:50256 for open-end generation.\n"
     ]
    },
    {
     "name": "stdout",
     "output_type": "stream",
     "text": [
      "I saw your tear fall from your grace\n",
      "You fell from your grace\n",
      "But all I remember is the way you used to come\n",
      "\n"
     ]
    },
    {
     "name": "stderr",
     "output_type": "stream",
     "text": [
      "INFO:simpletransformers.language_generation.language_generation_model:=== GENERATED SEQUENCE 1 ===\n",
      "INFO:simpletransformers.language_generation.language_generation_model:I fell in love with you ñ My mind was blind to this ñ I fell in love with you ñ\n",
      "Setting `pad_token_id` to `eos_token_id`:50256 for open-end generation.\n"
     ]
    },
    {
     "name": "stdout",
     "output_type": "stream",
     "text": [
      "I fell in love with you\n",
      "My mind was blind to this\n",
      "I fell in love with you\n",
      "\n"
     ]
    },
    {
     "name": "stderr",
     "output_type": "stream",
     "text": [
      "INFO:simpletransformers.language_generation.language_generation_model:=== GENERATED SEQUENCE 1 ===\n",
      "INFO:simpletransformers.language_generation.language_generation_model:The horses are asleep in their homes ñ They are waiting, oh they are waiting ñ The horses are asleep in\n",
      "Setting `pad_token_id` to `eos_token_id`:50256 for open-end generation.\n"
     ]
    },
    {
     "name": "stdout",
     "output_type": "stream",
     "text": [
      "The horses are asleep in their homes\n",
      "They are waiting, oh they are waiting\n",
      "The horses are asleep in\n",
      "\n"
     ]
    },
    {
     "name": "stderr",
     "output_type": "stream",
     "text": [
      "INFO:simpletransformers.language_generation.language_generation_model:=== GENERATED SEQUENCE 1 ===\n",
      "INFO:simpletransformers.language_generation.language_generation_model:With heavy eyes that close ñ We have seen a hundred ñ Years ñ All we could say is you've been\n",
      "Setting `pad_token_id` to `eos_token_id`:50256 for open-end generation.\n"
     ]
    },
    {
     "name": "stdout",
     "output_type": "stream",
     "text": [
      "With heavy eyes that close\n",
      "We have seen a hundred\n",
      "Years\n",
      "All we could say is you've been\n",
      "\n"
     ]
    },
    {
     "name": "stderr",
     "output_type": "stream",
     "text": [
      "INFO:simpletransformers.language_generation.language_generation_model:=== GENERATED SEQUENCE 1 ===\n",
      "INFO:simpletransformers.language_generation.language_generation_model:In dreams they  will fall ñ In the light ñ We shall not go down ñ The light ñ\n",
      "Setting `pad_token_id` to `eos_token_id`:50256 for open-end generation.\n"
     ]
    },
    {
     "name": "stdout",
     "output_type": "stream",
     "text": [
      "In dreams they  will fall\n",
      "In the light\n",
      "We shall not go down\n",
      "The light\n",
      "\n"
     ]
    },
    {
     "name": "stderr",
     "output_type": "stream",
     "text": [
      "INFO:simpletransformers.language_generation.language_generation_model:=== GENERATED SEQUENCE 1 ===\n",
      "INFO:simpletransformers.language_generation.language_generation_model:1, 2, 3, 4, 5, 6, 7, 8, 9, 10, 11, 12, 13, 14\n",
      "Setting `pad_token_id` to `eos_token_id`:50256 for open-end generation.\n"
     ]
    },
    {
     "name": "stdout",
     "output_type": "stream",
     "text": [
      "1, 2, 3, 4, 5, 6, 7, 8, 9, 10, 11, 12, 13, 14\n",
      "\n"
     ]
    },
    {
     "name": "stderr",
     "output_type": "stream",
     "text": [
      "INFO:simpletransformers.language_generation.language_generation_model:=== GENERATED SEQUENCE 1 ===\n",
      "INFO:simpletransformers.language_generation.language_generation_model:I get to know myself every weekend and I'm weak ñ And I'm just trying to feel like a real man ñ But I can't find\n",
      "Setting `pad_token_id` to `eos_token_id`:50256 for open-end generation.\n"
     ]
    },
    {
     "name": "stdout",
     "output_type": "stream",
     "text": [
      "I get to know myself every weekend and I'm weak\n",
      "And I'm just trying to feel like a real man\n",
      "But I can't find\n",
      "\n"
     ]
    },
    {
     "name": "stderr",
     "output_type": "stream",
     "text": [
      "INFO:simpletransformers.language_generation.language_generation_model:=== GENERATED SEQUENCE 1 ===\n",
      "INFO:simpletransformers.language_generation.language_generation_model:Hang around for another three, three, three, three minute set-up ñ There, there's\n",
      "Setting `pad_token_id` to `eos_token_id`:50256 for open-end generation.\n"
     ]
    },
    {
     "name": "stdout",
     "output_type": "stream",
     "text": [
      "Hang around for another three, three, three, three minute set-up\n",
      "There, there's\n",
      "\n"
     ]
    },
    {
     "name": "stderr",
     "output_type": "stream",
     "text": [
      "INFO:simpletransformers.language_generation.language_generation_model:=== GENERATED SEQUENCE 1 ===\n",
      "INFO:simpletransformers.language_generation.language_generation_model:I've been known to flip on niggas, spaz on bitches, no drugs, and when I hear the name of our label it's always a positive, positive\n",
      "Setting `pad_token_id` to `eos_token_id`:50256 for open-end generation.\n"
     ]
    },
    {
     "name": "stdout",
     "output_type": "stream",
     "text": [
      "I've been known to flip on niggas, spaz on bitches, no drugs, and when I hear the name of our label it's always a positive, positive\n",
      "\n"
     ]
    },
    {
     "name": "stderr",
     "output_type": "stream",
     "text": [
      "INFO:simpletransformers.language_generation.language_generation_model:=== GENERATED SEQUENCE 1 ===\n",
      "INFO:simpletransformers.language_generation.language_generation_model:One state of  ñ But I'm in your car, I'm in your car ñ I'm in your\n",
      "Setting `pad_token_id` to `eos_token_id`:50256 for open-end generation.\n"
     ]
    },
    {
     "name": "stdout",
     "output_type": "stream",
     "text": [
      "One state of \n",
      "But I'm in your car, I'm in your car\n",
      "I'm in your\n",
      "\n"
     ]
    },
    {
     "name": "stderr",
     "output_type": "stream",
     "text": [
      "INFO:simpletransformers.language_generation.language_generation_model:=== GENERATED SEQUENCE 1 ===\n",
      "INFO:simpletransformers.language_generation.language_generation_model:I don't wanna kick this at all ñ I'm gonna live this whole life in this fucking world in which I've grown so accustomed\n",
      "Setting `pad_token_id` to `eos_token_id`:50256 for open-end generation.\n"
     ]
    },
    {
     "name": "stdout",
     "output_type": "stream",
     "text": [
      "I don't wanna kick this at all\n",
      "I'm gonna live this whole life in this fucking world in which I've grown so accustomed\n",
      "\n"
     ]
    },
    {
     "name": "stderr",
     "output_type": "stream",
     "text": [
      "INFO:simpletransformers.language_generation.language_generation_model:=== GENERATED SEQUENCE 1 ===\n",
      "INFO:simpletransformers.language_generation.language_generation_model:I want you to want me, that's all it's all about ñ You want to want me, no, you don't want me �\n",
      "Setting `pad_token_id` to `eos_token_id`:50256 for open-end generation.\n"
     ]
    },
    {
     "name": "stdout",
     "output_type": "stream",
     "text": [
      "I want you to want me, that's all it's all about\n",
      "You want to want me, no, you don't want me �\n",
      "\n"
     ]
    },
    {
     "name": "stderr",
     "output_type": "stream",
     "text": [
      "INFO:simpletransformers.language_generation.language_generation_model:=== GENERATED SEQUENCE 1 ===\n",
      "INFO:simpletransformers.language_generation.language_generation_model:Watching Breaking, watching Breaking Bad ñ I'm doing what we can, watching Breaking Bad ñ I'm doing what we can\n",
      "Setting `pad_token_id` to `eos_token_id`:50256 for open-end generation.\n"
     ]
    },
    {
     "name": "stdout",
     "output_type": "stream",
     "text": [
      "Watching Breaking, watching Breaking Bad\n",
      "I'm doing what we can, watching Breaking Bad\n",
      "I'm doing what we can\n",
      "\n"
     ]
    },
    {
     "name": "stderr",
     "output_type": "stream",
     "text": [
      "INFO:simpletransformers.language_generation.language_generation_model:=== GENERATED SEQUENCE 1 ===\n",
      "INFO:simpletransformers.language_generation.language_generation_model:In A Sentimental Mood ñ No Sittin' Still 'Bout Love ñ I Ain't Got No Way\n",
      "Setting `pad_token_id` to `eos_token_id`:50256 for open-end generation.\n"
     ]
    },
    {
     "name": "stdout",
     "output_type": "stream",
     "text": [
      "In A Sentimental Mood\n",
      "No Sittin' Still 'Bout Love\n",
      "I Ain't Got No Way\n",
      "\n"
     ]
    },
    {
     "name": "stderr",
     "output_type": "stream",
     "text": [
      "INFO:simpletransformers.language_generation.language_generation_model:=== GENERATED SEQUENCE 1 ===\n",
      "INFO:simpletransformers.language_generation.language_generation_model:I can see the stars come thru my room and I could feel the heat rise ñ But I never thought I would love her ñ And\n",
      "Setting `pad_token_id` to `eos_token_id`:50256 for open-end generation.\n"
     ]
    },
    {
     "name": "stdout",
     "output_type": "stream",
     "text": [
      "I can see the stars come thru my room and I could feel the heat rise\n",
      "But I never thought I would love her\n",
      "And\n",
      "\n"
     ]
    },
    {
     "name": "stderr",
     "output_type": "stream",
     "text": [
      "INFO:simpletransformers.language_generation.language_generation_model:=== GENERATED SEQUENCE 1 ===\n",
      "INFO:simpletransformers.language_generation.language_generation_model:What Is Strong? ñ In the Name of my Father, and of my Lord ñ Jesus Christ\"This ain\n",
      "Setting `pad_token_id` to `eos_token_id`:50256 for open-end generation.\n"
     ]
    },
    {
     "name": "stdout",
     "output_type": "stream",
     "text": [
      "What Is Strong?\n",
      "In the Name of my Father, and of my Lord\n",
      "Jesus Christ\"This ain\n",
      "\n"
     ]
    },
    {
     "name": "stderr",
     "output_type": "stream",
     "text": [
      "INFO:simpletransformers.language_generation.language_generation_model:=== GENERATED SEQUENCE 1 ===\n",
      "INFO:simpletransformers.language_generation.language_generation_model:Here to take you across the serene Atlantic sea ñ I don't think of you ñ I only wanna know you ñ\n",
      "Setting `pad_token_id` to `eos_token_id`:50256 for open-end generation.\n"
     ]
    },
    {
     "name": "stdout",
     "output_type": "stream",
     "text": [
      "Here to take you across the serene Atlantic sea\n",
      "I don't think of you\n",
      "I only wanna know you\n",
      "\n"
     ]
    },
    {
     "name": "stderr",
     "output_type": "stream",
     "text": [
      "INFO:simpletransformers.language_generation.language_generation_model:=== GENERATED SEQUENCE 1 ===\n",
      "INFO:simpletransformers.language_generation.language_generation_model:Follow the road in the middle of the day ñ Don't ask me for money ñ Don't tell me\n",
      "Setting `pad_token_id` to `eos_token_id`:50256 for open-end generation.\n"
     ]
    },
    {
     "name": "stdout",
     "output_type": "stream",
     "text": [
      "Follow the road in the middle of the day\n",
      "Don't ask me for money\n",
      "Don't tell me\n",
      "\n"
     ]
    },
    {
     "name": "stderr",
     "output_type": "stream",
     "text": [
      "INFO:simpletransformers.language_generation.language_generation_model:=== GENERATED SEQUENCE 1 ===\n",
      "INFO:simpletransformers.language_generation.language_generation_model:It turns like leaves on my skin ñ You remind me that you're not here ñ And I know that you\n",
      "Setting `pad_token_id` to `eos_token_id`:50256 for open-end generation.\n"
     ]
    },
    {
     "name": "stdout",
     "output_type": "stream",
     "text": [
      "It turns like leaves on my skin\n",
      "You remind me that you're not here\n",
      "And I know that you\n",
      "\n"
     ]
    },
    {
     "name": "stderr",
     "output_type": "stream",
     "text": [
      "INFO:simpletransformers.language_generation.language_generation_model:=== GENERATED SEQUENCE 1 ===\n",
      "INFO:simpletransformers.language_generation.language_generation_model:My wife, shiny lady ñ I love you with all my heartI know you and I love you ñ Yes we\n",
      "Setting `pad_token_id` to `eos_token_id`:50256 for open-end generation.\n"
     ]
    },
    {
     "name": "stdout",
     "output_type": "stream",
     "text": [
      "My wife, shiny lady\n",
      "I love you with all my heartI know you and I love you\n",
      "Yes we\n",
      "\n"
     ]
    },
    {
     "name": "stderr",
     "output_type": "stream",
     "text": [
      "INFO:simpletransformers.language_generation.language_generation_model:=== GENERATED SEQUENCE 1 ===\n",
      "INFO:simpletransformers.language_generation.language_generation_model:Bad boys / Sad girls ñ Sad boys / Sad girls ñ Sad boys / Sad girls ñ Sad boys / Sad\n",
      "Setting `pad_token_id` to `eos_token_id`:50256 for open-end generation.\n"
     ]
    },
    {
     "name": "stdout",
     "output_type": "stream",
     "text": [
      "Bad boys / Sad girls\n",
      "Sad boys / Sad girls\n",
      "Sad boys / Sad girls\n",
      "Sad boys / Sad\n",
      "\n"
     ]
    },
    {
     "name": "stderr",
     "output_type": "stream",
     "text": [
      "INFO:simpletransformers.language_generation.language_generation_model:=== GENERATED SEQUENCE 1 ===\n",
      "INFO:simpletransformers.language_generation.language_generation_model:Death sure makes a fuss) ñ Don't you care if it makes a fuss? ñ Well, I'm here\n",
      "Setting `pad_token_id` to `eos_token_id`:50256 for open-end generation.\n"
     ]
    },
    {
     "name": "stdout",
     "output_type": "stream",
     "text": [
      "Death sure makes a fuss)\n",
      "Don't you care if it makes a fuss?\n",
      "Well, I'm here\n",
      "\n"
     ]
    },
    {
     "name": "stderr",
     "output_type": "stream",
     "text": [
      "INFO:simpletransformers.language_generation.language_generation_model:=== GENERATED SEQUENCE 1 ===\n",
      "INFO:simpletransformers.language_generation.language_generation_model:What are we gonna do? ñ I don't know what to do ñ I don't know what to say\n",
      "Setting `pad_token_id` to `eos_token_id`:50256 for open-end generation.\n"
     ]
    },
    {
     "name": "stdout",
     "output_type": "stream",
     "text": [
      "What are we gonna do?\n",
      "I don't know what to do\n",
      "I don't know what to say\n",
      "\n"
     ]
    },
    {
     "name": "stderr",
     "output_type": "stream",
     "text": [
      "INFO:simpletransformers.language_generation.language_generation_model:=== GENERATED SEQUENCE 1 ===\n",
      "INFO:simpletransformers.language_generation.language_generation_model:My love is your love is your love is your love, your love, your love, your love, your love, your\n",
      "Setting `pad_token_id` to `eos_token_id`:50256 for open-end generation.\n"
     ]
    },
    {
     "name": "stdout",
     "output_type": "stream",
     "text": [
      "My love is your love is your love is your love, your love, your love, your love, your love, your\n",
      "\n"
     ]
    },
    {
     "name": "stderr",
     "output_type": "stream",
     "text": [
      "INFO:simpletransformers.language_generation.language_generation_model:=== GENERATED SEQUENCE 1 ===\n",
      "INFO:simpletransformers.language_generation.language_generation_model:And there is nothing I want more ñ Than to have you love me too ñ I've got to make it on my own\n",
      "Setting `pad_token_id` to `eos_token_id`:50256 for open-end generation.\n"
     ]
    },
    {
     "name": "stdout",
     "output_type": "stream",
     "text": [
      "And there is nothing I want more\n",
      "Than to have you love me too\n",
      "I've got to make it on my own\n",
      "\n"
     ]
    },
    {
     "name": "stderr",
     "output_type": "stream",
     "text": [
      "INFO:simpletransformers.language_generation.language_generation_model:=== GENERATED SEQUENCE 1 ===\n",
      "INFO:simpletransformers.language_generation.language_generation_model:Ooh, if I  do love it ñ Oh, if I  do love it ñ And what if it's\n",
      "Setting `pad_token_id` to `eos_token_id`:50256 for open-end generation.\n"
     ]
    },
    {
     "name": "stdout",
     "output_type": "stream",
     "text": [
      "Ooh, if I  do love it\n",
      "Oh, if I  do love it\n",
      "And what if it's\n",
      "\n"
     ]
    },
    {
     "name": "stderr",
     "output_type": "stream",
     "text": [
      "INFO:simpletransformers.language_generation.language_generation_model:=== GENERATED SEQUENCE 1 ===\n",
      "INFO:simpletransformers.language_generation.language_generation_model:Sometimes when I'm  ñ I wish I had the guts ñ To say, \"I want to leave here,\n",
      "Setting `pad_token_id` to `eos_token_id`:50256 for open-end generation.\n"
     ]
    },
    {
     "name": "stdout",
     "output_type": "stream",
     "text": [
      "Sometimes when I'm \n",
      "I wish I had the guts\n",
      "To say, \"I want to leave here,\n",
      "\n"
     ]
    },
    {
     "name": "stderr",
     "output_type": "stream",
     "text": [
      "INFO:simpletransformers.language_generation.language_generation_model:=== GENERATED SEQUENCE 1 ===\n",
      "INFO:simpletransformers.language_generation.language_generation_model:And I'm far away from home ñ I don't wanna stay ñ I can't stay ñ It's not me but\n",
      "Setting `pad_token_id` to `eos_token_id`:50256 for open-end generation.\n"
     ]
    },
    {
     "name": "stdout",
     "output_type": "stream",
     "text": [
      "And I'm far away from home\n",
      "I don't wanna stay\n",
      "I can't stay\n",
      "It's not me but\n",
      "\n"
     ]
    },
    {
     "name": "stderr",
     "output_type": "stream",
     "text": [
      "INFO:simpletransformers.language_generation.language_generation_model:=== GENERATED SEQUENCE 1 ===\n",
      "INFO:simpletransformers.language_generation.language_generation_model:I kind of liked it but ñ I said, \"What? Fuck, that's not cool.\" ñ\n",
      "Setting `pad_token_id` to `eos_token_id`:50256 for open-end generation.\n"
     ]
    },
    {
     "name": "stdout",
     "output_type": "stream",
     "text": [
      "I kind of liked it but\n",
      "I said, \"What? Fuck, that's not cool.\"\n",
      "\n"
     ]
    },
    {
     "name": "stderr",
     "output_type": "stream",
     "text": [
      "INFO:simpletransformers.language_generation.language_generation_model:=== GENERATED SEQUENCE 1 ===\n",
      "INFO:simpletransformers.language_generation.language_generation_model:As I step outside into the world that's wide open ñ I'm not a god but a man ñ And I wonder if I'll get\n",
      "Setting `pad_token_id` to `eos_token_id`:50256 for open-end generation.\n"
     ]
    },
    {
     "name": "stdout",
     "output_type": "stream",
     "text": [
      "As I step outside into the world that's wide open\n",
      "I'm not a god but a man\n",
      "And I wonder if I'll get\n",
      "\n"
     ]
    },
    {
     "name": "stderr",
     "output_type": "stream",
     "text": [
      "INFO:simpletransformers.language_generation.language_generation_model:=== GENERATED SEQUENCE 1 ===\n",
      "INFO:simpletransformers.language_generation.language_generation_model:With the sun so bright on the mountainside ñ I look forward with the thought that I ñ Could find love,\n",
      "Setting `pad_token_id` to `eos_token_id`:50256 for open-end generation.\n"
     ]
    },
    {
     "name": "stdout",
     "output_type": "stream",
     "text": [
      "With the sun so bright on the mountainside\n",
      "I look forward with the thought that I\n",
      "Could find love,\n",
      "\n"
     ]
    },
    {
     "name": "stderr",
     "output_type": "stream",
     "text": [
      "INFO:simpletransformers.language_generation.language_generation_model:=== GENERATED SEQUENCE 1 ===\n",
      "INFO:simpletransformers.language_generation.language_generation_model:And I feel my face is numb ñ When I hold you in my arms ñ I've come too far to die without your\n",
      "Setting `pad_token_id` to `eos_token_id`:50256 for open-end generation.\n"
     ]
    },
    {
     "name": "stdout",
     "output_type": "stream",
     "text": [
      "And I feel my face is numb\n",
      "When I hold you in my arms\n",
      "I've come too far to die without your\n",
      "\n"
     ]
    },
    {
     "name": "stderr",
     "output_type": "stream",
     "text": [
      "INFO:simpletransformers.language_generation.language_generation_model:=== GENERATED SEQUENCE 1 ===\n",
      "INFO:simpletransformers.language_generation.language_generation_model:You're on the other side ñ No more fear, no more fear ñ No more fear, no more fear ñ\n",
      "Setting `pad_token_id` to `eos_token_id`:50256 for open-end generation.\n"
     ]
    },
    {
     "name": "stdout",
     "output_type": "stream",
     "text": [
      "You're on the other side\n",
      "No more fear, no more fear\n",
      "No more fear, no more fear\n",
      "\n"
     ]
    },
    {
     "name": "stderr",
     "output_type": "stream",
     "text": [
      "INFO:simpletransformers.language_generation.language_generation_model:=== GENERATED SEQUENCE 1 ===\n",
      "INFO:simpletransformers.language_generation.language_generation_model:But you text me, too ñ I go, I text you, too ñ I don't give a\n",
      "Setting `pad_token_id` to `eos_token_id`:50256 for open-end generation.\n"
     ]
    },
    {
     "name": "stdout",
     "output_type": "stream",
     "text": [
      "But you text me, too\n",
      "I go, I text you, too\n",
      "I don't give a\n",
      "\n"
     ]
    },
    {
     "name": "stderr",
     "output_type": "stream",
     "text": [
      "INFO:simpletransformers.language_generation.language_generation_model:=== GENERATED SEQUENCE 1 ===\n",
      "INFO:simpletransformers.language_generation.language_generation_model:Well, into the desert we must go ñ There must be an ending ñ There is something more, something more ñ Something more\n",
      "Setting `pad_token_id` to `eos_token_id`:50256 for open-end generation.\n"
     ]
    },
    {
     "name": "stdout",
     "output_type": "stream",
     "text": [
      "Well, into the desert we must go\n",
      "There must be an ending\n",
      "There is something more, something more\n",
      "Something more\n",
      "\n"
     ]
    },
    {
     "name": "stderr",
     "output_type": "stream",
     "text": [
      "INFO:simpletransformers.language_generation.language_generation_model:=== GENERATED SEQUENCE 1 ===\n",
      "INFO:simpletransformers.language_generation.language_generation_model:So into the desert we go, into the desert ñ With our hearts full of love to the end ñ  ñ\n",
      "Setting `pad_token_id` to `eos_token_id`:50256 for open-end generation.\n"
     ]
    },
    {
     "name": "stdout",
     "output_type": "stream",
     "text": [
      "So into the desert we go, into the desert\n",
      "With our hearts full of love to the end\n",
      "\n"
     ]
    },
    {
     "name": "stderr",
     "output_type": "stream",
     "text": [
      "INFO:simpletransformers.language_generation.language_generation_model:=== GENERATED SEQUENCE 1 ===\n",
      "INFO:simpletransformers.language_generation.language_generation_model:Call me back and i'm glad for you ñ That's all it is, all it is,\n",
      "Setting `pad_token_id` to `eos_token_id`:50256 for open-end generation.\n"
     ]
    },
    {
     "name": "stdout",
     "output_type": "stream",
     "text": [
      "Call me back and i'm glad for you\n",
      "That's all it is, all it is,\n",
      "\n"
     ]
    },
    {
     "name": "stderr",
     "output_type": "stream",
     "text": [
      "INFO:simpletransformers.language_generation.language_generation_model:=== GENERATED SEQUENCE 1 ===\n",
      "INFO:simpletransformers.language_generation.language_generation_model:Well, I got my mind out of sight ñ But I ain't gonna stop no time ñ And I have to do what's right\n",
      "Setting `pad_token_id` to `eos_token_id`:50256 for open-end generation.\n"
     ]
    },
    {
     "name": "stdout",
     "output_type": "stream",
     "text": [
      "Well, I got my mind out of sight\n",
      "But I ain't gonna stop no time\n",
      "And I have to do what's right\n",
      "\n"
     ]
    },
    {
     "name": "stderr",
     "output_type": "stream",
     "text": [
      "INFO:simpletransformers.language_generation.language_generation_model:=== GENERATED SEQUENCE 1 ===\n",
      "INFO:simpletransformers.language_generation.language_generation_model:Lost the common sense ñ Of the way things are ñ Nowhere to run ñ We all lie ñ\n",
      "Setting `pad_token_id` to `eos_token_id`:50256 for open-end generation.\n"
     ]
    },
    {
     "name": "stdout",
     "output_type": "stream",
     "text": [
      "Lost the common sense\n",
      "Of the way things are\n",
      "Nowhere to run\n",
      "We all lie\n",
      "\n"
     ]
    },
    {
     "name": "stderr",
     "output_type": "stream",
     "text": [
      "INFO:simpletransformers.language_generation.language_generation_model:=== GENERATED SEQUENCE 1 ===\n",
      "INFO:simpletransformers.language_generation.language_generation_model:You found out you went wrong ñ You got in touch with somebody new ñ You found out, but you still can't\n",
      "Setting `pad_token_id` to `eos_token_id`:50256 for open-end generation.\n"
     ]
    },
    {
     "name": "stdout",
     "output_type": "stream",
     "text": [
      "You found out you went wrong\n",
      "You got in touch with somebody new\n",
      "You found out, but you still can't\n",
      "\n"
     ]
    },
    {
     "name": "stderr",
     "output_type": "stream",
     "text": [
      "INFO:simpletransformers.language_generation.language_generation_model:=== GENERATED SEQUENCE 1 ===\n",
      "INFO:simpletransformers.language_generation.language_generation_model:So I tried to keep you from pain ñ I just couldn't stand the weight of you ñ And so my love will survive until\n",
      "Setting `pad_token_id` to `eos_token_id`:50256 for open-end generation.\n"
     ]
    },
    {
     "name": "stdout",
     "output_type": "stream",
     "text": [
      "So I tried to keep you from pain\n",
      "I just couldn't stand the weight of you\n",
      "And so my love will survive until\n",
      "\n"
     ]
    },
    {
     "name": "stderr",
     "output_type": "stream",
     "text": [
      "INFO:simpletransformers.language_generation.language_generation_model:=== GENERATED SEQUENCE 1 ===\n",
      "INFO:simpletransformers.language_generation.language_generation_model:Why they hating on me, hating on me? ñ Yeah, they hated on me, yeah, they hating on me, yeah ñ Yeah\n",
      "Setting `pad_token_id` to `eos_token_id`:50256 for open-end generation.\n"
     ]
    },
    {
     "name": "stdout",
     "output_type": "stream",
     "text": [
      "Why they hating on me, hating on me?\n",
      "Yeah, they hated on me, yeah, they hating on me, yeah\n",
      "Yeah\n",
      "\n"
     ]
    },
    {
     "name": "stderr",
     "output_type": "stream",
     "text": [
      "INFO:simpletransformers.language_generation.language_generation_model:=== GENERATED SEQUENCE 1 ===\n",
      "INFO:simpletransformers.language_generation.language_generation_model:In the corner of the bar there stands a jukebox. The words 'Love's the word' echo, until a song starts at an unannounced spot\n",
      "Setting `pad_token_id` to `eos_token_id`:50256 for open-end generation.\n"
     ]
    },
    {
     "name": "stdout",
     "output_type": "stream",
     "text": [
      "In the corner of the bar there stands a jukebox. The words 'Love's the word' echo, until a song starts at an unannounced spot\n",
      "\n"
     ]
    },
    {
     "name": "stderr",
     "output_type": "stream",
     "text": [
      "INFO:simpletransformers.language_generation.language_generation_model:=== GENERATED SEQUENCE 1 ===\n",
      "INFO:simpletransformers.language_generation.language_generation_model:With the best of souls ñ We sing a song of hope ñ For the oppressed ñ Come to the Kingdom\n",
      "Setting `pad_token_id` to `eos_token_id`:50256 for open-end generation.\n"
     ]
    },
    {
     "name": "stdout",
     "output_type": "stream",
     "text": [
      "With the best of souls\n",
      "We sing a song of hope\n",
      "For the oppressed\n",
      "Come to the Kingdom\n",
      "\n"
     ]
    },
    {
     "name": "stderr",
     "output_type": "stream",
     "text": [
      "INFO:simpletransformers.language_generation.language_generation_model:=== GENERATED SEQUENCE 1 ===\n",
      "INFO:simpletransformers.language_generation.language_generation_model:Come, come let's sleep together ñ Sleep, do you know we miss each other? ñ I'm not feeling much\n",
      "Setting `pad_token_id` to `eos_token_id`:50256 for open-end generation.\n"
     ]
    },
    {
     "name": "stdout",
     "output_type": "stream",
     "text": [
      "Come, come let's sleep together\n",
      "Sleep, do you know we miss each other?\n",
      "I'm not feeling much\n",
      "\n"
     ]
    },
    {
     "name": "stderr",
     "output_type": "stream",
     "text": [
      "INFO:simpletransformers.language_generation.language_generation_model:=== GENERATED SEQUENCE 1 ===\n",
      "INFO:simpletransformers.language_generation.language_generation_model:And in the morning ñ I'll be home for Christmas ñ No Christmas tree to see ñ If only in\n",
      "Setting `pad_token_id` to `eos_token_id`:50256 for open-end generation.\n"
     ]
    },
    {
     "name": "stdout",
     "output_type": "stream",
     "text": [
      "And in the morning\n",
      "I'll be home for Christmas\n",
      "No Christmas tree to see\n",
      "If only in\n",
      "\n"
     ]
    },
    {
     "name": "stderr",
     "output_type": "stream",
     "text": [
      "INFO:simpletransformers.language_generation.language_generation_model:=== GENERATED SEQUENCE 1 ===\n",
      "INFO:simpletransformers.language_generation.language_generation_model:You went to my head, I did nothing but look at you ñ And it was just like when we met ñ\n",
      "Setting `pad_token_id` to `eos_token_id`:50256 for open-end generation.\n"
     ]
    },
    {
     "name": "stdout",
     "output_type": "stream",
     "text": [
      "You went to my head, I did nothing but look at you\n",
      "And it was just like when we met\n",
      "\n"
     ]
    },
    {
     "name": "stderr",
     "output_type": "stream",
     "text": [
      "INFO:simpletransformers.language_generation.language_generation_model:=== GENERATED SEQUENCE 1 ===\n",
      "INFO:simpletransformers.language_generation.language_generation_model:All the things that you said ñ Don't mean anything to me ñ I just want to believeYou're an angel �\n",
      "Setting `pad_token_id` to `eos_token_id`:50256 for open-end generation.\n"
     ]
    },
    {
     "name": "stdout",
     "output_type": "stream",
     "text": [
      "All the things that you said\n",
      "Don't mean anything to me\n",
      "I just want to believeYou're an angel �\n",
      "\n"
     ]
    },
    {
     "name": "stderr",
     "output_type": "stream",
     "text": [
      "INFO:simpletransformers.language_generation.language_generation_model:=== GENERATED SEQUENCE 1 ===\n",
      "INFO:simpletransformers.language_generation.language_generation_model:Straight to my  ñ But I can't take the pain ñ So I give myself up ñ I do\n",
      "Setting `pad_token_id` to `eos_token_id`:50256 for open-end generation.\n"
     ]
    },
    {
     "name": "stdout",
     "output_type": "stream",
     "text": [
      "Straight to my \n",
      "But I can't take the pain\n",
      "So I give myself up\n",
      "I do\n",
      "\n"
     ]
    },
    {
     "name": "stderr",
     "output_type": "stream",
     "text": [
      "INFO:simpletransformers.language_generation.language_generation_model:=== GENERATED SEQUENCE 1 ===\n",
      "INFO:simpletransformers.language_generation.language_generation_model:You already know, yea, you already know ñ Do you know how much I miss you ñ My sweet sweet,\n",
      "Setting `pad_token_id` to `eos_token_id`:50256 for open-end generation.\n"
     ]
    },
    {
     "name": "stdout",
     "output_type": "stream",
     "text": [
      "You already know, yea, you already know\n",
      "Do you know how much I miss you\n",
      "My sweet sweet,\n",
      "\n"
     ]
    },
    {
     "name": "stderr",
     "output_type": "stream",
     "text": [
      "INFO:simpletransformers.language_generation.language_generation_model:=== GENERATED SEQUENCE 1 ===\n",
      "INFO:simpletransformers.language_generation.language_generation_model:I am next, no friends left behind ñ I am next, no friends left behind ñ No friends left behind!L\n",
      "Setting `pad_token_id` to `eos_token_id`:50256 for open-end generation.\n"
     ]
    },
    {
     "name": "stdout",
     "output_type": "stream",
     "text": [
      "I am next, no friends left behind\n",
      "I am next, no friends left behind\n",
      "No friends left behind!L\n",
      "\n"
     ]
    },
    {
     "name": "stderr",
     "output_type": "stream",
     "text": [
      "INFO:simpletransformers.language_generation.language_generation_model:=== GENERATED SEQUENCE 1 ===\n",
      "INFO:simpletransformers.language_generation.language_generation_model:Due to my chain, you can't stay inside my heart ñ The fire never burns the pain ñ No, the fire\n",
      "Setting `pad_token_id` to `eos_token_id`:50256 for open-end generation.\n"
     ]
    },
    {
     "name": "stdout",
     "output_type": "stream",
     "text": [
      "Due to my chain, you can't stay inside my heart\n",
      "The fire never burns the pain\n",
      "No, the fire\n",
      "\n"
     ]
    },
    {
     "name": "stderr",
     "output_type": "stream",
     "text": [
      "INFO:simpletransformers.language_generation.language_generation_model:=== GENERATED SEQUENCE 1 ===\n",
      "INFO:simpletransformers.language_generation.language_generation_model:This I swear is true ñ 'Cause it's all right to try ñ To make it last ñ When the\n",
      "Setting `pad_token_id` to `eos_token_id`:50256 for open-end generation.\n"
     ]
    },
    {
     "name": "stdout",
     "output_type": "stream",
     "text": [
      "This I swear is true\n",
      "'Cause it's all right to try\n",
      "To make it last\n",
      "When the\n",
      "\n"
     ]
    },
    {
     "name": "stderr",
     "output_type": "stream",
     "text": [
      "INFO:simpletransformers.language_generation.language_generation_model:=== GENERATED SEQUENCE 1 ===\n",
      "INFO:simpletransformers.language_generation.language_generation_model:My love for you will last ñ The way you love me now ñ Is forever and forever ñ And the one who\n",
      "Setting `pad_token_id` to `eos_token_id`:50256 for open-end generation.\n"
     ]
    },
    {
     "name": "stdout",
     "output_type": "stream",
     "text": [
      "My love for you will last\n",
      "The way you love me now\n",
      "Is forever and forever\n",
      "And the one who\n",
      "\n"
     ]
    },
    {
     "name": "stderr",
     "output_type": "stream",
     "text": [
      "INFO:simpletransformers.language_generation.language_generation_model:=== GENERATED SEQUENCE 1 ===\n",
      "INFO:simpletransformers.language_generation.language_generation_model:Till time itself  will fade ñ And nothing can take it away from us ñ And nothing takes it away from\n",
      "Setting `pad_token_id` to `eos_token_id`:50256 for open-end generation.\n"
     ]
    },
    {
     "name": "stdout",
     "output_type": "stream",
     "text": [
      "Till time itself  will fade\n",
      "And nothing can take it away from us\n",
      "And nothing takes it away from\n",
      "\n"
     ]
    },
    {
     "name": "stderr",
     "output_type": "stream",
     "text": [
      "INFO:simpletransformers.language_generation.language_generation_model:=== GENERATED SEQUENCE 1 ===\n",
      "INFO:simpletransformers.language_generation.language_generation_model:Rejoice the Lord with all your heart and soul ñ Praise the Lord with all your heart and soul\n",
      "Setting `pad_token_id` to `eos_token_id`:50256 for open-end generation.\n"
     ]
    },
    {
     "name": "stdout",
     "output_type": "stream",
     "text": [
      "Rejoice the Lord with all your heart and soul\n",
      "Praise the Lord with all your heart and soul\n",
      "\n"
     ]
    },
    {
     "name": "stderr",
     "output_type": "stream",
     "text": [
      "INFO:simpletransformers.language_generation.language_generation_model:=== GENERATED SEQUENCE 1 ===\n",
      "INFO:simpletransformers.language_generation.language_generation_model:The Lord has birthed a brand-new day ñ Where love is the name of the living Lord ñ And there is no end of creation\n",
      "Setting `pad_token_id` to `eos_token_id`:50256 for open-end generation.\n"
     ]
    },
    {
     "name": "stdout",
     "output_type": "stream",
     "text": [
      "The Lord has birthed a brand-new day\n",
      "Where love is the name of the living Lord\n",
      "And there is no end of creation\n",
      "\n"
     ]
    },
    {
     "name": "stderr",
     "output_type": "stream",
     "text": [
      "INFO:simpletransformers.language_generation.language_generation_model:=== GENERATED SEQUENCE 1 ===\n",
      "INFO:simpletransformers.language_generation.language_generation_model:Rejoice in all that we have ñ And be lifted up ñ And be lifted up on high �\n",
      "Setting `pad_token_id` to `eos_token_id`:50256 for open-end generation.\n"
     ]
    },
    {
     "name": "stdout",
     "output_type": "stream",
     "text": [
      "Rejoice in all that we have\n",
      "And be lifted up\n",
      "And be lifted up on high �\n",
      "\n"
     ]
    },
    {
     "name": "stderr",
     "output_type": "stream",
     "text": [
      "INFO:simpletransformers.language_generation.language_generation_model:=== GENERATED SEQUENCE 1 ===\n",
      "INFO:simpletransformers.language_generation.language_generation_model:Open up you little world ñ Tell me what to be ñ You're a new kind of heartbreaker �\n",
      "Setting `pad_token_id` to `eos_token_id`:50256 for open-end generation.\n"
     ]
    },
    {
     "name": "stdout",
     "output_type": "stream",
     "text": [
      "Open up you little world\n",
      "Tell me what to be\n",
      "You're a new kind of heartbreaker �\n",
      "\n"
     ]
    },
    {
     "name": "stderr",
     "output_type": "stream",
     "text": [
      "INFO:simpletransformers.language_generation.language_generation_model:=== GENERATED SEQUENCE 1 ===\n",
      "INFO:simpletransformers.language_generation.language_generation_model:Shawty Fresh on the track, he's on the radio, he's on the stage ñ Shawty Fresh on the track\n",
      "Setting `pad_token_id` to `eos_token_id`:50256 for open-end generation.\n"
     ]
    },
    {
     "name": "stdout",
     "output_type": "stream",
     "text": [
      "Shawty Fresh on the track, he's on the radio, he's on the stage\n",
      "Shawty Fresh on the track\n",
      "\n"
     ]
    },
    {
     "name": "stderr",
     "output_type": "stream",
     "text": [
      "INFO:simpletransformers.language_generation.language_generation_model:=== GENERATED SEQUENCE 1 ===\n",
      "INFO:simpletransformers.language_generation.language_generation_model:Switch it up and out ñ With an iron fist ñ So why should I bother? ñ A man\n",
      "Setting `pad_token_id` to `eos_token_id`:50256 for open-end generation.\n"
     ]
    },
    {
     "name": "stdout",
     "output_type": "stream",
     "text": [
      "Switch it up and out\n",
      "With an iron fist\n",
      "So why should I bother?\n",
      "A man\n",
      "\n"
     ]
    },
    {
     "name": "stderr",
     "output_type": "stream",
     "text": [
      "INFO:simpletransformers.language_generation.language_generation_model:=== GENERATED SEQUENCE 1 ===\n",
      "INFO:simpletransformers.language_generation.language_generation_model:This one for the bitches! ñ We're gonna make you wanna sing, oh oh oh ohoh yeah! ñ\n",
      "Setting `pad_token_id` to `eos_token_id`:50256 for open-end generation.\n"
     ]
    },
    {
     "name": "stdout",
     "output_type": "stream",
     "text": [
      "This one for the bitches!\n",
      "We're gonna make you wanna sing, oh oh oh ohoh yeah!\n",
      "\n"
     ]
    },
    {
     "name": "stderr",
     "output_type": "stream",
     "text": [
      "INFO:simpletransformers.language_generation.language_generation_model:=== GENERATED SEQUENCE 1 ===\n",
      "INFO:simpletransformers.language_generation.language_generation_model:We gotta watch, we gotta pray ñ Let's not be afraid of our future ñ Let's pray, let's pray �\n",
      "Setting `pad_token_id` to `eos_token_id`:50256 for open-end generation.\n"
     ]
    },
    {
     "name": "stdout",
     "output_type": "stream",
     "text": [
      "We gotta watch, we gotta pray\n",
      "Let's not be afraid of our future\n",
      "Let's pray, let's pray �\n",
      "\n"
     ]
    },
    {
     "name": "stderr",
     "output_type": "stream",
     "text": [
      "INFO:simpletransformers.language_generation.language_generation_model:=== GENERATED SEQUENCE 1 ===\n",
      "INFO:simpletransformers.language_generation.language_generation_model:We gotta keep on looking ñ We gotta keep on looking ñ 'Cause, when I see you walking alone ñ\n",
      "Setting `pad_token_id` to `eos_token_id`:50256 for open-end generation.\n"
     ]
    },
    {
     "name": "stdout",
     "output_type": "stream",
     "text": [
      "We gotta keep on looking\n",
      "We gotta keep on looking\n",
      "'Cause, when I see you walking alone\n",
      "\n"
     ]
    },
    {
     "name": "stderr",
     "output_type": "stream",
     "text": [
      "INFO:simpletransformers.language_generation.language_generation_model:=== GENERATED SEQUENCE 1 ===\n",
      "INFO:simpletransformers.language_generation.language_generation_model:For that  ñ To hear someone sing so loud ñ To love another once ñ All of the things\n",
      "Setting `pad_token_id` to `eos_token_id`:50256 for open-end generation.\n"
     ]
    },
    {
     "name": "stdout",
     "output_type": "stream",
     "text": [
      "For that \n",
      "To hear someone sing so loud\n",
      "To love another once\n",
      "All of the things\n",
      "\n"
     ]
    },
    {
     "name": "stderr",
     "output_type": "stream",
     "text": [
      "INFO:simpletransformers.language_generation.language_generation_model:=== GENERATED SEQUENCE 1 ===\n",
      "INFO:simpletransformers.language_generation.language_generation_model:Got nightmare walking on two legs ñ And I need to learn how to walk fast ñ But I'll get in between you\n",
      "Setting `pad_token_id` to `eos_token_id`:50256 for open-end generation.\n"
     ]
    },
    {
     "name": "stdout",
     "output_type": "stream",
     "text": [
      "Got nightmare walking on two legs\n",
      "And I need to learn how to walk fast\n",
      "But I'll get in between you\n",
      "\n"
     ]
    },
    {
     "name": "stderr",
     "output_type": "stream",
     "text": [
      "INFO:simpletransformers.language_generation.language_generation_model:=== GENERATED SEQUENCE 1 ===\n",
      "INFO:simpletransformers.language_generation.language_generation_model:There's a word for people like you ñ But my friend just said ñ \"It's all right, it's all right\n",
      "Setting `pad_token_id` to `eos_token_id`:50256 for open-end generation.\n"
     ]
    },
    {
     "name": "stdout",
     "output_type": "stream",
     "text": [
      "There's a word for people like you\n",
      "But my friend just said\n",
      "\"It's all right, it's all right\n",
      "\n"
     ]
    },
    {
     "name": "stderr",
     "output_type": "stream",
     "text": [
      "INFO:simpletransformers.language_generation.language_generation_model:=== GENERATED SEQUENCE 1 ===\n",
      "INFO:simpletransformers.language_generation.language_generation_model:I'm ridin' slow off in that Cadillac Triple black ñ It looks like a big old Rolls Royce ñ You can't call that an M\n",
      "Setting `pad_token_id` to `eos_token_id`:50256 for open-end generation.\n"
     ]
    },
    {
     "name": "stdout",
     "output_type": "stream",
     "text": [
      "I'm ridin' slow off in that Cadillac Triple black\n",
      "It looks like a big old Rolls Royce\n",
      "You can't call that an M\n",
      "\n"
     ]
    },
    {
     "name": "stderr",
     "output_type": "stream",
     "text": [
      "INFO:simpletransformers.language_generation.language_generation_model:=== GENERATED SEQUENCE 1 ===\n",
      "INFO:simpletransformers.language_generation.language_generation_model:Stack money in my hand ñ All right, good job ñ I'll be glad when I get this\n",
      "Setting `pad_token_id` to `eos_token_id`:50256 for open-end generation.\n"
     ]
    },
    {
     "name": "stdout",
     "output_type": "stream",
     "text": [
      "Stack money in my hand\n",
      "All right, good job\n",
      "I'll be glad when I get this\n",
      "\n"
     ]
    },
    {
     "name": "stderr",
     "output_type": "stream",
     "text": [
      "INFO:simpletransformers.language_generation.language_generation_model:=== GENERATED SEQUENCE 1 ===\n",
      "INFO:simpletransformers.language_generation.language_generation_model:I can't bear the roosters crow ñ All I am is a bird of prey ñ They can kill us all ñ Or\n",
      "Setting `pad_token_id` to `eos_token_id`:50256 for open-end generation.\n"
     ]
    },
    {
     "name": "stdout",
     "output_type": "stream",
     "text": [
      "I can't bear the roosters crow\n",
      "All I am is a bird of prey\n",
      "They can kill us all\n",
      "Or\n",
      "\n"
     ]
    },
    {
     "name": "stderr",
     "output_type": "stream",
     "text": [
      "INFO:simpletransformers.language_generation.language_generation_model:=== GENERATED SEQUENCE 1 ===\n",
      "INFO:simpletransformers.language_generation.language_generation_model:I guess it's something that you a have not seen in a long, long, long time ñ It's something you don't want\n",
      "Setting `pad_token_id` to `eos_token_id`:50256 for open-end generation.\n"
     ]
    },
    {
     "name": "stdout",
     "output_type": "stream",
     "text": [
      "I guess it's something that you a have not seen in a long, long, long time\n",
      "It's something you don't want\n",
      "\n"
     ]
    },
    {
     "name": "stderr",
     "output_type": "stream",
     "text": [
      "INFO:simpletransformers.language_generation.language_generation_model:=== GENERATED SEQUENCE 1 ===\n",
      "INFO:simpletransformers.language_generation.language_generation_model:Chestnuts roasting on an open fire ñ I'm not ready ñ I am not ready ñ I'm never willing ñ\n",
      "Setting `pad_token_id` to `eos_token_id`:50256 for open-end generation.\n"
     ]
    },
    {
     "name": "stdout",
     "output_type": "stream",
     "text": [
      "Chestnuts roasting on an open fire\n",
      "I'm not ready\n",
      "I am not ready\n",
      "I'm never willing\n",
      "\n"
     ]
    },
    {
     "name": "stderr",
     "output_type": "stream",
     "text": [
      "INFO:simpletransformers.language_generation.language_generation_model:=== GENERATED SEQUENCE 1 ===\n",
      "INFO:simpletransformers.language_generation.language_generation_model:Jack Frost nipping at your noose, babe ñ You're never mine ñ Don't know why you care, babe �\n",
      "Setting `pad_token_id` to `eos_token_id`:50256 for open-end generation.\n"
     ]
    },
    {
     "name": "stdout",
     "output_type": "stream",
     "text": [
      "Jack Frost nipping at your noose, babe\n",
      "You're never mine\n",
      "Don't know why you care, babe �\n",
      "\n"
     ]
    },
    {
     "name": "stderr",
     "output_type": "stream",
     "text": [
      "INFO:simpletransformers.language_generation.language_generation_model:=== GENERATED SEQUENCE 1 ===\n",
      "INFO:simpletransformers.language_generation.language_generation_model:Living out in the sea of umbrella-waving ñ Is that the place you're always meant to be?I need you �\n",
      "Setting `pad_token_id` to `eos_token_id`:50256 for open-end generation.\n"
     ]
    },
    {
     "name": "stdout",
     "output_type": "stream",
     "text": [
      "Living out in the sea of umbrella-waving\n",
      "Is that the place you're always meant to be?I need you �\n",
      "\n"
     ]
    },
    {
     "name": "stderr",
     "output_type": "stream",
     "text": [
      "INFO:simpletransformers.language_generation.language_generation_model:=== GENERATED SEQUENCE 1 ===\n",
      "INFO:simpletransformers.language_generation.language_generation_model:Crowded by clouds, but on tiptoes ñ  ñ I'm not too sure where I'm going, I'm not\n",
      "Setting `pad_token_id` to `eos_token_id`:50256 for open-end generation.\n"
     ]
    },
    {
     "name": "stdout",
     "output_type": "stream",
     "text": [
      "Crowded by clouds, but on tiptoes\n",
      "I'm not too sure where I'm going, I'm not\n",
      "\n"
     ]
    },
    {
     "name": "stderr",
     "output_type": "stream",
     "text": [
      "INFO:simpletransformers.language_generation.language_generation_model:=== GENERATED SEQUENCE 1 ===\n",
      "INFO:simpletransformers.language_generation.language_generation_model:You may never understand what this means to me. All the endless   ñ Your presence is the weight of my heart. I've been a part ñ This\n",
      "Setting `pad_token_id` to `eos_token_id`:50256 for open-end generation.\n"
     ]
    },
    {
     "name": "stdout",
     "output_type": "stream",
     "text": [
      "You may never understand what this means to me. All the endless  \n",
      "Your presence is the weight of my heart. I've been a part\n",
      "This\n",
      "\n"
     ]
    },
    {
     "name": "stderr",
     "output_type": "stream",
     "text": [
      "INFO:simpletransformers.language_generation.language_generation_model:=== GENERATED SEQUENCE 1 ===\n",
      "INFO:simpletransformers.language_generation.language_generation_model:Escape the trap of time ñ And let the earth breathe ñ Let the angels sing of your grace, O God,\n",
      "Setting `pad_token_id` to `eos_token_id`:50256 for open-end generation.\n"
     ]
    },
    {
     "name": "stdout",
     "output_type": "stream",
     "text": [
      "Escape the trap of time\n",
      "And let the earth breathe\n",
      "Let the angels sing of your grace, O God,\n",
      "\n"
     ]
    },
    {
     "name": "stderr",
     "output_type": "stream",
     "text": [
      "INFO:simpletransformers.language_generation.language_generation_model:=== GENERATED SEQUENCE 1 ===\n",
      "INFO:simpletransformers.language_generation.language_generation_model:The cage of materialism is what you need ñ To be the one you belong ñ The mind that is not\n",
      "Setting `pad_token_id` to `eos_token_id`:50256 for open-end generation.\n"
     ]
    },
    {
     "name": "stdout",
     "output_type": "stream",
     "text": [
      "The cage of materialism is what you need\n",
      "To be the one you belong\n",
      "The mind that is not\n",
      "\n"
     ]
    },
    {
     "name": "stderr",
     "output_type": "stream",
     "text": [
      "INFO:simpletransformers.language_generation.language_generation_model:=== GENERATED SEQUENCE 1 ===\n",
      "INFO:simpletransformers.language_generation.language_generation_model:Enter Balance ñ I believe in You, Lord ñ I believe in You, Lord ñ I believe\n",
      "Setting `pad_token_id` to `eos_token_id`:50256 for open-end generation.\n"
     ]
    },
    {
     "name": "stdout",
     "output_type": "stream",
     "text": [
      "Enter Balance\n",
      "I believe in You, Lord\n",
      "I believe in You, Lord\n",
      "I believe\n",
      "\n"
     ]
    },
    {
     "name": "stderr",
     "output_type": "stream",
     "text": [
      "INFO:simpletransformers.language_generation.language_generation_model:=== GENERATED SEQUENCE 1 ===\n",
      "INFO:simpletransformers.language_generation.language_generation_model:Acceptly ñ I need you more and more ñ Oh, for I'm alone ñ What\n",
      "Setting `pad_token_id` to `eos_token_id`:50256 for open-end generation.\n"
     ]
    },
    {
     "name": "stdout",
     "output_type": "stream",
     "text": [
      "Acceptly\n",
      "I need you more and more\n",
      "Oh, for I'm alone\n",
      "What\n",
      "\n"
     ]
    },
    {
     "name": "stderr",
     "output_type": "stream",
     "text": [
      "INFO:simpletransformers.language_generation.language_generation_model:=== GENERATED SEQUENCE 1 ===\n",
      "INFO:simpletransformers.language_generation.language_generation_model:This heart will not ache it is too tired ñ The pain to be in love ñ Is too bitter in my mind ñ My only\n",
      "Setting `pad_token_id` to `eos_token_id`:50256 for open-end generation.\n"
     ]
    },
    {
     "name": "stdout",
     "output_type": "stream",
     "text": [
      "This heart will not ache it is too tired\n",
      "The pain to be in love\n",
      "Is too bitter in my mind\n",
      "My only\n",
      "\n"
     ]
    },
    {
     "name": "stderr",
     "output_type": "stream",
     "text": [
      "INFO:simpletransformers.language_generation.language_generation_model:=== GENERATED SEQUENCE 1 ===\n",
      "INFO:simpletransformers.language_generation.language_generation_model:Close your eyes ñ This is where we are ñ Now it's time for a long run ñ '\n",
      "Setting `pad_token_id` to `eos_token_id`:50256 for open-end generation.\n"
     ]
    },
    {
     "name": "stdout",
     "output_type": "stream",
     "text": [
      "Close your eyes\n",
      "This is where we are\n",
      "Now it's time for a long run\n",
      "'\n",
      "\n"
     ]
    },
    {
     "name": "stderr",
     "output_type": "stream",
     "text": [
      "INFO:simpletransformers.language_generation.language_generation_model:=== GENERATED SEQUENCE 1 ===\n",
      "INFO:simpletransformers.language_generation.language_generation_model:What she wondered about a boy in the village ñ But she'd have told it to his father ñ So she'll tell\n",
      "Setting `pad_token_id` to `eos_token_id`:50256 for open-end generation.\n"
     ]
    },
    {
     "name": "stdout",
     "output_type": "stream",
     "text": [
      "What she wondered about a boy in the village\n",
      "But she'd have told it to his father\n",
      "So she'll tell\n",
      "\n"
     ]
    },
    {
     "name": "stderr",
     "output_type": "stream",
     "text": [
      "INFO:simpletransformers.language_generation.language_generation_model:=== GENERATED SEQUENCE 1 ===\n",
      "INFO:simpletransformers.language_generation.language_generation_model:smash a radio, break a t-shirt ñ My job is the fucking boss, bitch, I just want to rock ñ\n",
      "Setting `pad_token_id` to `eos_token_id`:50256 for open-end generation.\n"
     ]
    },
    {
     "name": "stdout",
     "output_type": "stream",
     "text": [
      "smash a radio, break a t-shirt\n",
      "My job is the fucking boss, bitch, I just want to rock\n",
      "\n"
     ]
    },
    {
     "name": "stderr",
     "output_type": "stream",
     "text": [
      "INFO:simpletransformers.language_generation.language_generation_model:=== GENERATED SEQUENCE 1 ===\n",
      "INFO:simpletransformers.language_generation.language_generation_model:We played the game of 'Stay away' ñ The world has gone 'round ñ And we've turned it into a circus ñ\n",
      "Setting `pad_token_id` to `eos_token_id`:50256 for open-end generation.\n"
     ]
    },
    {
     "name": "stdout",
     "output_type": "stream",
     "text": [
      "We played the game of 'Stay away'\n",
      "The world has gone 'round\n",
      "And we've turned it into a circus\n",
      "\n"
     ]
    },
    {
     "name": "stderr",
     "output_type": "stream",
     "text": [
      "INFO:simpletransformers.language_generation.language_generation_model:=== GENERATED SEQUENCE 1 ===\n",
      "INFO:simpletransformers.language_generation.language_generation_model:But it costs more than I can pry from your mouth ñ It costs more than I can pry from your mouth ñ No\n",
      "Setting `pad_token_id` to `eos_token_id`:50256 for open-end generation.\n"
     ]
    },
    {
     "name": "stdout",
     "output_type": "stream",
     "text": [
      "But it costs more than I can pry from your mouth\n",
      "It costs more than I can pry from your mouth\n",
      "No\n",
      "\n"
     ]
    },
    {
     "name": "stderr",
     "output_type": "stream",
     "text": [
      "INFO:simpletransformers.language_generation.language_generation_model:=== GENERATED SEQUENCE 1 ===\n",
      "INFO:simpletransformers.language_generation.language_generation_model:This is as close as you and I ever get to the ocean ñ This is as close as you and I ever get to the sea ñ For I've\n",
      "Setting `pad_token_id` to `eos_token_id`:50256 for open-end generation.\n"
     ]
    },
    {
     "name": "stdout",
     "output_type": "stream",
     "text": [
      "This is as close as you and I ever get to the ocean\n",
      "This is as close as you and I ever get to the sea\n",
      "For I've\n",
      "\n"
     ]
    },
    {
     "name": "stderr",
     "output_type": "stream",
     "text": [
      "INFO:simpletransformers.language_generation.language_generation_model:=== GENERATED SEQUENCE 1 ===\n",
      "INFO:simpletransformers.language_generation.language_generation_model:Yeah woman, I'm still dreaming ñ It's no wonder we are having a party ñ We will be hanging up on you\n",
      "Setting `pad_token_id` to `eos_token_id`:50256 for open-end generation.\n"
     ]
    },
    {
     "name": "stdout",
     "output_type": "stream",
     "text": [
      "Yeah woman, I'm still dreaming\n",
      "It's no wonder we are having a party\n",
      "We will be hanging up on you\n",
      "\n"
     ]
    },
    {
     "name": "stderr",
     "output_type": "stream",
     "text": [
      "INFO:simpletransformers.language_generation.language_generation_model:=== GENERATED SEQUENCE 1 ===\n",
      "INFO:simpletransformers.language_generation.language_generation_model:About your sister, the love of my life ñ You've really taken me down ñ You've really taken me on a trip �\n",
      "Setting `pad_token_id` to `eos_token_id`:50256 for open-end generation.\n"
     ]
    },
    {
     "name": "stdout",
     "output_type": "stream",
     "text": [
      "About your sister, the love of my life\n",
      "You've really taken me down\n",
      "You've really taken me on a trip �\n",
      "\n"
     ]
    },
    {
     "name": "stderr",
     "output_type": "stream",
     "text": [
      "INFO:simpletransformers.language_generation.language_generation_model:=== GENERATED SEQUENCE 1 ===\n",
      "INFO:simpletransformers.language_generation.language_generation_model:Try to save  ñ With the fire ñ You will only find the place ñ Where you belong ñ\n",
      "Setting `pad_token_id` to `eos_token_id`:50256 for open-end generation.\n"
     ]
    },
    {
     "name": "stdout",
     "output_type": "stream",
     "text": [
      "Try to save \n",
      "With the fire\n",
      "You will only find the place\n",
      "Where you belong\n",
      "\n"
     ]
    },
    {
     "name": "stderr",
     "output_type": "stream",
     "text": [
      "INFO:simpletransformers.language_generation.language_generation_model:=== GENERATED SEQUENCE 1 ===\n",
      "INFO:simpletransformers.language_generation.language_generation_model:Said I'd try to save the world ñ But you're still all alone ñ So leave me here ñ To dream of all\n",
      "Setting `pad_token_id` to `eos_token_id`:50256 for open-end generation.\n"
     ]
    },
    {
     "name": "stdout",
     "output_type": "stream",
     "text": [
      "Said I'd try to save the world\n",
      "But you're still all alone\n",
      "So leave me here\n",
      "To dream of all\n",
      "\n"
     ]
    },
    {
     "name": "stderr",
     "output_type": "stream",
     "text": [
      "INFO:simpletransformers.language_generation.language_generation_model:=== GENERATED SEQUENCE 1 ===\n",
      "INFO:simpletransformers.language_generation.language_generation_model:If I could  ñ I could be all you need for a night of fun, yeah ñ  ñ\n",
      "Setting `pad_token_id` to `eos_token_id`:50256 for open-end generation.\n"
     ]
    },
    {
     "name": "stdout",
     "output_type": "stream",
     "text": [
      "If I could \n",
      "I could be all you need for a night of fun, yeah\n",
      "\n"
     ]
    },
    {
     "name": "stderr",
     "output_type": "stream",
     "text": [
      "INFO:simpletransformers.language_generation.language_generation_model:=== GENERATED SEQUENCE 1 ===\n",
      "INFO:simpletransformers.language_generation.language_generation_model:The one you wanted to be your love ñ I saw your eyes so angry and deep ñ I was so lonely when I\n",
      "Setting `pad_token_id` to `eos_token_id`:50256 for open-end generation.\n"
     ]
    },
    {
     "name": "stdout",
     "output_type": "stream",
     "text": [
      "The one you wanted to be your love\n",
      "I saw your eyes so angry and deep\n",
      "I was so lonely when I\n",
      "\n"
     ]
    },
    {
     "name": "stderr",
     "output_type": "stream",
     "text": [
      "INFO:simpletransformers.language_generation.language_generation_model:=== GENERATED SEQUENCE 1 ===\n",
      "INFO:simpletransformers.language_generation.language_generation_model:Is now the one you see? ñ Is now the one you know? ñ Is now the one you love? �\n",
      "Setting `pad_token_id` to `eos_token_id`:50256 for open-end generation.\n"
     ]
    },
    {
     "name": "stdout",
     "output_type": "stream",
     "text": [
      "Is now the one you see?\n",
      "Is now the one you know?\n",
      "Is now the one you love? �\n",
      "\n"
     ]
    },
    {
     "name": "stderr",
     "output_type": "stream",
     "text": [
      "INFO:simpletransformers.language_generation.language_generation_model:=== GENERATED SEQUENCE 1 ===\n",
      "INFO:simpletransformers.language_generation.language_generation_model:The one you want ñ In the night ñ Where the stars shine ñ Where the stars shine ñ Where\n",
      "Setting `pad_token_id` to `eos_token_id`:50256 for open-end generation.\n"
     ]
    },
    {
     "name": "stdout",
     "output_type": "stream",
     "text": [
      "The one you want\n",
      "In the night\n",
      "Where the stars shine\n",
      "Where the stars shine\n",
      "Where\n",
      "\n"
     ]
    },
    {
     "name": "stderr",
     "output_type": "stream",
     "text": [
      "INFO:simpletransformers.language_generation.language_generation_model:=== GENERATED SEQUENCE 1 ===\n",
      "INFO:simpletransformers.language_generation.language_generation_model:It's hard to say what you mean to me ñ When you act so unfailingly cruel ñ And you're just too damn nice �\n",
      "Setting `pad_token_id` to `eos_token_id`:50256 for open-end generation.\n"
     ]
    },
    {
     "name": "stdout",
     "output_type": "stream",
     "text": [
      "It's hard to say what you mean to me\n",
      "When you act so unfailingly cruel\n",
      "And you're just too damn nice �\n",
      "\n"
     ]
    },
    {
     "name": "stderr",
     "output_type": "stream",
     "text": [
      "INFO:simpletransformers.language_generation.language_generation_model:=== GENERATED SEQUENCE 1 ===\n",
      "INFO:simpletransformers.language_generation.language_generation_model:Everyone is scenery ñ Nothing left to say ñ It's not gonna work ñ I'd go ñ\n",
      "Setting `pad_token_id` to `eos_token_id`:50256 for open-end generation.\n"
     ]
    },
    {
     "name": "stdout",
     "output_type": "stream",
     "text": [
      "Everyone is scenery\n",
      "Nothing left to say\n",
      "It's not gonna work\n",
      "I'd go\n",
      "\n"
     ]
    },
    {
     "name": "stderr",
     "output_type": "stream",
     "text": [
      "INFO:simpletransformers.language_generation.language_generation_model:=== GENERATED SEQUENCE 1 ===\n",
      "INFO:simpletransformers.language_generation.language_generation_model:So you  ñ I wish you were still ñ I wish I were still ñ  ñ \n",
      "Setting `pad_token_id` to `eos_token_id`:50256 for open-end generation.\n"
     ]
    },
    {
     "name": "stdout",
     "output_type": "stream",
     "text": [
      "So you \n",
      "I wish you were still\n",
      "I wish I were still\n",
      "\n",
      "\n"
     ]
    },
    {
     "name": "stderr",
     "output_type": "stream",
     "text": [
      "INFO:simpletransformers.language_generation.language_generation_model:=== GENERATED SEQUENCE 1 ===\n",
      "INFO:simpletransformers.language_generation.language_generation_model:Baby, you ain't a man yet ñ Don't wanna be a man yet ñ Don't wanna be a man yet �\n",
      "Setting `pad_token_id` to `eos_token_id`:50256 for open-end generation.\n"
     ]
    },
    {
     "name": "stdout",
     "output_type": "stream",
     "text": [
      "Baby, you ain't a man yet\n",
      "Don't wanna be a man yet\n",
      "Don't wanna be a man yet �\n",
      "\n"
     ]
    },
    {
     "name": "stderr",
     "output_type": "stream",
     "text": [
      "INFO:simpletransformers.language_generation.language_generation_model:=== GENERATED SEQUENCE 1 ===\n",
      "INFO:simpletransformers.language_generation.language_generation_model:'cause my heart's carried in a thousand hands ñ I won't go, I won't go ñ I can't stay\n",
      "Setting `pad_token_id` to `eos_token_id`:50256 for open-end generation.\n"
     ]
    },
    {
     "name": "stdout",
     "output_type": "stream",
     "text": [
      "'cause my heart's carried in a thousand hands\n",
      "I won't go, I won't go\n",
      "I can't stay\n",
      "\n"
     ]
    },
    {
     "name": "stderr",
     "output_type": "stream",
     "text": [
      "INFO:simpletransformers.language_generation.language_generation_model:=== GENERATED SEQUENCE 1 ===\n",
      "INFO:simpletransformers.language_generation.language_generation_model:Your hand in mine ñ My hands in mine ñ  ñ But don't let go ñ\n",
      "Setting `pad_token_id` to `eos_token_id`:50256 for open-end generation.\n"
     ]
    },
    {
     "name": "stdout",
     "output_type": "stream",
     "text": [
      "Your hand in mine\n",
      "My hands in mine\n",
      "But don't let go\n",
      "\n"
     ]
    },
    {
     "name": "stderr",
     "output_type": "stream",
     "text": [
      "INFO:simpletransformers.language_generation.language_generation_model:=== GENERATED SEQUENCE 1 ===\n",
      "INFO:simpletransformers.language_generation.language_generation_model:Any song I sing is to you ñ If I do things you say I'll do ñ If\n",
      "Setting `pad_token_id` to `eos_token_id`:50256 for open-end generation.\n"
     ]
    },
    {
     "name": "stdout",
     "output_type": "stream",
     "text": [
      "Any song I sing is to you\n",
      "If I do things you say I'll do\n",
      "If\n",
      "\n"
     ]
    },
    {
     "name": "stderr",
     "output_type": "stream",
     "text": [
      "INFO:simpletransformers.language_generation.language_generation_model:=== GENERATED SEQUENCE 1 ===\n",
      "INFO:simpletransformers.language_generation.language_generation_model:May I tell you where I'm from?) ñ What's up with that? ñ Can you do me a favor and stop thinking\n",
      "Setting `pad_token_id` to `eos_token_id`:50256 for open-end generation.\n"
     ]
    },
    {
     "name": "stdout",
     "output_type": "stream",
     "text": [
      "May I tell you where I'm from?)\n",
      "What's up with that?\n",
      "Can you do me a favor and stop thinking\n",
      "\n"
     ]
    },
    {
     "name": "stderr",
     "output_type": "stream",
     "text": [
      "INFO:simpletransformers.language_generation.language_generation_model:=== GENERATED SEQUENCE 1 ===\n",
      "INFO:simpletransformers.language_generation.language_generation_model:Where my origin is and where I liv, ñ Is the heart of all I have ñ And we are one ñ And the\n",
      "Setting `pad_token_id` to `eos_token_id`:50256 for open-end generation.\n"
     ]
    },
    {
     "name": "stdout",
     "output_type": "stream",
     "text": [
      "Where my origin is and where I liv,\n",
      "Is the heart of all I have\n",
      "And we are one\n",
      "And the\n",
      "\n"
     ]
    },
    {
     "name": "stderr",
     "output_type": "stream",
     "text": [
      "INFO:simpletransformers.language_generation.language_generation_model:=== GENERATED SEQUENCE 1 ===\n",
      "INFO:simpletransformers.language_generation.language_generation_model:Still breathing ñ But no light from the stars ñ I'm not thinking ñ Or maybe we're\n",
      "Setting `pad_token_id` to `eos_token_id`:50256 for open-end generation.\n"
     ]
    },
    {
     "name": "stdout",
     "output_type": "stream",
     "text": [
      "Still breathing\n",
      "But no light from the stars\n",
      "I'm not thinking\n",
      "Or maybe we're\n",
      "\n"
     ]
    },
    {
     "name": "stderr",
     "output_type": "stream",
     "text": [
      "INFO:simpletransformers.language_generation.language_generation_model:=== GENERATED SEQUENCE 1 ===\n",
      "INFO:simpletransformers.language_generation.language_generation_model:You cold skin is  you don't know ñ,,,,,  ñ \n",
      "Setting `pad_token_id` to `eos_token_id`:50256 for open-end generation.\n"
     ]
    },
    {
     "name": "stdout",
     "output_type": "stream",
     "text": [
      "You cold skin is  you don't know,,,,, \n",
      "\n"
     ]
    },
    {
     "name": "stderr",
     "output_type": "stream",
     "text": [
      "INFO:simpletransformers.language_generation.language_generation_model:=== GENERATED SEQUENCE 1 ===\n",
      "INFO:simpletransformers.language_generation.language_generation_model:Wron: ñ No, that doesn't happen ñ I have no control over your mind, all\n"
     ]
    },
    {
     "name": "stdout",
     "output_type": "stream",
     "text": [
      "Wron:\n",
      "No, that doesn't happen\n",
      "I have no control over your mind, all\n",
      "\n"
     ]
    }
   ],
   "source": [
    "import json\n",
    "result_json = []\n",
    "with open(\"prompts_origin.txt\",\"r\") as read_f:\n",
    "    num = 0\n",
    "    for f in read_f:\n",
    "        generated = model.generate(f[:-1])\n",
    "        result = '\\n'.join(generated[0].split(' ñ ')) + '\\n'\n",
    "        result = result.replace(' ñ','')\n",
    "        result = result.replace('\\n\\n','\\n')\n",
    "        lyrics = {\"id\": num, \"lyrics\": result}\n",
    "        result_json.append(lyrics)\n",
    "with open ('500lyrics.json', 'w') as fout :\n",
    "    json.dump(result_json, fout, indent =4)"
   ]
  },
  {
   "cell_type": "markdown",
   "metadata": {},
   "source": [
    "# Part 3"
   ]
  },
  {
   "cell_type": "code",
   "execution_count": null,
   "metadata": {},
   "outputs": [],
   "source": [
    "train_file = \"train.csv\"\n",
    "test_file = \"test.csv\"\n",
    "dev_file = \"dev.csv\"\n",
    "my_file = \"500lyrics.csv\"\n",
    "\n",
    "train_df = pd.read_csv(train_file)\n",
    "test_df = pd.read_csv(test_file)\n",
    "dev_df = pd.read_csv(dev_file)\n",
    "my_df = pd.read_csv(my_file)\n"
   ]
  },
  {
   "cell_type": "code",
   "execution_count": null,
   "metadata": {
    "id": "mHGrr3mHR56V"
   },
   "outputs": [],
   "source": [
    "from simpletransformers.classification import ClassificationModel, ClassificationArgs\n",
    "model_args = ClassificationArgs(num_train_epochs=1)\n",
    "\n",
    "\n",
    "# Note here that we're saying to use CUDA, which has the model run on a GPU. If you don't have\n",
    "# a GPU, set this to False.\n",
    "model = ClassificationModel('distilbert', 'distilbert-base-uncased', args=model_args, use_cuda=False)\n",
    "\n",
    "\n",
    "# Train the model for a single epoch (a single pass through the data).\n",
    "# On my laptop with no GPU this would take around 90 minutes.\n",
    "model.train_model(train_df)\n",
    "\n",
    "\n"
   ]
  },
  {
   "cell_type": "code",
   "execution_count": null,
   "metadata": {},
   "outputs": [],
   "source": [
    "# Evaluate the model. We can pass in specific metrics that we want to use (e.g., the f1_score) as kwargs \n",
    "result, model_outputs, wrong_predictions = model.eval_model(train_df, f1=f1_score)\n",
    "\n",
    "\n",
    "# The results contain all the built-in metrics, as well as our kwarg metric\n",
    "print(result)"
   ]
  },
  {
   "cell_type": "code",
   "execution_count": null,
   "metadata": {},
   "outputs": [],
   "source": [
    "# Evaluate the model. We can pass in specific metrics that we want to use (e.g., the f1_score) as kwargs \n",
    "result, model_outputs, wrong_predictions = model.eval_model(dev_df, f1=f1_score)\n",
    "\n",
    "\n",
    "# The results contain all the built-in metrics, as well as our kwarg metric\n",
    "print(result)"
   ]
  },
  {
   "cell_type": "code",
   "execution_count": null,
   "metadata": {},
   "outputs": [],
   "source": [
    "# Evaluate the model. We can pass in specific metrics that we want to use (e.g., the f1_score) as kwargs \n",
    "result, model_outputs, wrong_predictions = model.eval_model(test_df, f1=f1_score)\n",
    "\n",
    "\n",
    "# The results contain all the built-in metrics, as well as our kwarg metric\n",
    "print(result)"
   ]
  },
  {
   "cell_type": "code",
   "execution_count": null,
   "metadata": {},
   "outputs": [],
   "source": [
    "# Evaluate the model. We can pass in specific metrics that we want to use (e.g., the f1_score) as kwargs \n",
    "result, model_outputs, wrong_predictions = model.eval_model(my_df, f1=f1_score)\n",
    "\n",
    "\n",
    "# The results contain all the built-in metrics, as well as our kwarg metric\n",
    "print(result)"
   ]
  }
 ],
 "metadata": {
  "accelerator": "GPU",
  "colab": {
   "collapsed_sections": [],
   "name": "Simple_Transformers_Classification.ipynb",
   "provenance": [],
   "toc_visible": true
  },
  "kernelspec": {
   "display_name": "Python 3",
   "language": "python",
   "name": "python3"
  },
  "language_info": {
   "codemirror_mode": {
    "name": "ipython",
    "version": 3
   },
   "file_extension": ".py",
   "mimetype": "text/x-python",
   "name": "python",
   "nbconvert_exporter": "python",
   "pygments_lexer": "ipython3",
   "version": "3.8.5"
  },
  "widgets": {
   "application/vnd.jupyter.widget-state+json": {
    "0000d2b3dc8746fd8719d9fdb953a039": {
     "model_module": "@jupyter-widgets/controls",
     "model_name": "HTMLModel",
     "state": {
      "_dom_classes": [],
      "_model_module": "@jupyter-widgets/controls",
      "_model_module_version": "1.5.0",
      "_model_name": "HTMLModel",
      "_view_count": null,
      "_view_module": "@jupyter-widgets/controls",
      "_view_module_version": "1.5.0",
      "_view_name": "HTMLView",
      "description": "",
      "description_tooltip": null,
      "layout": "IPY_MODEL_8a5ad2bdb57a4593b3d328aeaa2311e9",
      "placeholder": "​",
      "style": "IPY_MODEL_08a74fb9a3874043aa52344a8aaf6e3c",
      "value": "Epoch 1 of 1: 100%"
     }
    },
    "023da434fc604d72a0099abcb6adc062": {
     "model_module": "@jupyter-widgets/controls",
     "model_name": "HTMLModel",
     "state": {
      "_dom_classes": [],
      "_model_module": "@jupyter-widgets/controls",
      "_model_module_version": "1.5.0",
      "_model_name": "HTMLModel",
      "_view_count": null,
      "_view_module": "@jupyter-widgets/controls",
      "_view_module_version": "1.5.0",
      "_view_name": "HTMLView",
      "description": "",
      "description_tooltip": null,
      "layout": "IPY_MODEL_4c7911e4b33e4486a726f84d7c78d011",
      "placeholder": "​",
      "style": "IPY_MODEL_4f90b6f7f8784bd3a1825c238d51a82f",
      "value": "Running Evaluation: 100%"
     }
    },
    "0351ac40d9954a73822ea5c18302fabe": {
     "model_module": "@jupyter-widgets/base",
     "model_name": "LayoutModel",
     "state": {
      "_model_module": "@jupyter-widgets/base",
      "_model_module_version": "1.2.0",
      "_model_name": "LayoutModel",
      "_view_count": null,
      "_view_module": "@jupyter-widgets/base",
      "_view_module_version": "1.2.0",
      "_view_name": "LayoutView",
      "align_content": null,
      "align_items": null,
      "align_self": null,
      "border": null,
      "bottom": null,
      "display": null,
      "flex": null,
      "flex_flow": null,
      "grid_area": null,
      "grid_auto_columns": null,
      "grid_auto_flow": null,
      "grid_auto_rows": null,
      "grid_column": null,
      "grid_gap": null,
      "grid_row": null,
      "grid_template_areas": null,
      "grid_template_columns": null,
      "grid_template_rows": null,
      "height": null,
      "justify_content": null,
      "justify_items": null,
      "left": null,
      "margin": null,
      "max_height": null,
      "max_width": null,
      "min_height": null,
      "min_width": null,
      "object_fit": null,
      "object_position": null,
      "order": null,
      "overflow": null,
      "overflow_x": null,
      "overflow_y": null,
      "padding": null,
      "right": null,
      "top": null,
      "visibility": null,
      "width": null
     }
    },
    "03f9dc234772499ba277f9989556d65e": {
     "model_module": "@jupyter-widgets/controls",
     "model_name": "HTMLModel",
     "state": {
      "_dom_classes": [],
      "_model_module": "@jupyter-widgets/controls",
      "_model_module_version": "1.5.0",
      "_model_name": "HTMLModel",
      "_view_count": null,
      "_view_module": "@jupyter-widgets/controls",
      "_view_module_version": "1.5.0",
      "_view_name": "HTMLView",
      "description": "",
      "description_tooltip": null,
      "layout": "IPY_MODEL_b031930acc7b4e37a64a004fbab0150f",
      "placeholder": "​",
      "style": "IPY_MODEL_c4f724e21e244b64a8362cb1fc56f5a8",
      "value": " 40/40 [00:03&lt;00:00, 13.31it/s]"
     }
    },
    "05d73c65ac1e45978e9a00237d67a97b": {
     "model_module": "@jupyter-widgets/controls",
     "model_name": "HTMLModel",
     "state": {
      "_dom_classes": [],
      "_model_module": "@jupyter-widgets/controls",
      "_model_module_version": "1.5.0",
      "_model_name": "HTMLModel",
      "_view_count": null,
      "_view_module": "@jupyter-widgets/controls",
      "_view_module_version": "1.5.0",
      "_view_name": "HTMLView",
      "description": "",
      "description_tooltip": null,
      "layout": "IPY_MODEL_e6326ff9bddc497e8659453d200e0d17",
      "placeholder": "​",
      "style": "IPY_MODEL_79cbe199a05d4a0da1a9ce6bee24dd3b",
      "value": " 79/79 [00:00&lt;00:00, 2525.92it/s]"
     }
    },
    "08a74fb9a3874043aa52344a8aaf6e3c": {
     "model_module": "@jupyter-widgets/controls",
     "model_name": "DescriptionStyleModel",
     "state": {
      "_model_module": "@jupyter-widgets/controls",
      "_model_module_version": "1.5.0",
      "_model_name": "DescriptionStyleModel",
      "_view_count": null,
      "_view_module": "@jupyter-widgets/base",
      "_view_module_version": "1.2.0",
      "_view_name": "StyleView",
      "description_width": ""
     }
    },
    "0a045e7533954f30b905e10ffda68688": {
     "model_module": "@jupyter-widgets/base",
     "model_name": "LayoutModel",
     "state": {
      "_model_module": "@jupyter-widgets/base",
      "_model_module_version": "1.2.0",
      "_model_name": "LayoutModel",
      "_view_count": null,
      "_view_module": "@jupyter-widgets/base",
      "_view_module_version": "1.2.0",
      "_view_name": "LayoutView",
      "align_content": null,
      "align_items": null,
      "align_self": null,
      "border": null,
      "bottom": null,
      "display": null,
      "flex": null,
      "flex_flow": null,
      "grid_area": null,
      "grid_auto_columns": null,
      "grid_auto_flow": null,
      "grid_auto_rows": null,
      "grid_column": null,
      "grid_gap": null,
      "grid_row": null,
      "grid_template_areas": null,
      "grid_template_columns": null,
      "grid_template_rows": null,
      "height": null,
      "justify_content": null,
      "justify_items": null,
      "left": null,
      "margin": null,
      "max_height": null,
      "max_width": null,
      "min_height": null,
      "min_width": null,
      "object_fit": null,
      "object_position": null,
      "order": null,
      "overflow": null,
      "overflow_x": null,
      "overflow_y": null,
      "padding": null,
      "right": null,
      "top": null,
      "visibility": null,
      "width": null
     }
    },
    "0c66bbf591af4d77b99603a5bfffd9f5": {
     "model_module": "@jupyter-widgets/controls",
     "model_name": "HBoxModel",
     "state": {
      "_dom_classes": [],
      "_model_module": "@jupyter-widgets/controls",
      "_model_module_version": "1.5.0",
      "_model_name": "HBoxModel",
      "_view_count": null,
      "_view_module": "@jupyter-widgets/controls",
      "_view_module_version": "1.5.0",
      "_view_name": "HBoxView",
      "box_style": "",
      "children": [
       "IPY_MODEL_43d60866648e416c8000d58af57c2eec",
       "IPY_MODEL_70f0f76dea1a4e5ab2ba360c99963585",
       "IPY_MODEL_4ab47f2c60ea4327a7d2e983144fa225"
      ],
      "layout": "IPY_MODEL_0fc76ada0bdc4a129b6165578d943dfb"
     }
    },
    "0d8bfa848ea14e7c9210a78c19e8dfa2": {
     "model_module": "@jupyter-widgets/controls",
     "model_name": "DescriptionStyleModel",
     "state": {
      "_model_module": "@jupyter-widgets/controls",
      "_model_module_version": "1.5.0",
      "_model_name": "DescriptionStyleModel",
      "_view_count": null,
      "_view_module": "@jupyter-widgets/base",
      "_view_module_version": "1.2.0",
      "_view_name": "StyleView",
      "description_width": ""
     }
    },
    "0fc76ada0bdc4a129b6165578d943dfb": {
     "model_module": "@jupyter-widgets/base",
     "model_name": "LayoutModel",
     "state": {
      "_model_module": "@jupyter-widgets/base",
      "_model_module_version": "1.2.0",
      "_model_name": "LayoutModel",
      "_view_count": null,
      "_view_module": "@jupyter-widgets/base",
      "_view_module_version": "1.2.0",
      "_view_name": "LayoutView",
      "align_content": null,
      "align_items": null,
      "align_self": null,
      "border": null,
      "bottom": null,
      "display": null,
      "flex": null,
      "flex_flow": null,
      "grid_area": null,
      "grid_auto_columns": null,
      "grid_auto_flow": null,
      "grid_auto_rows": null,
      "grid_column": null,
      "grid_gap": null,
      "grid_row": null,
      "grid_template_areas": null,
      "grid_template_columns": null,
      "grid_template_rows": null,
      "height": null,
      "justify_content": null,
      "justify_items": null,
      "left": null,
      "margin": null,
      "max_height": null,
      "max_width": null,
      "min_height": null,
      "min_width": null,
      "object_fit": null,
      "object_position": null,
      "order": null,
      "overflow": null,
      "overflow_x": null,
      "overflow_y": null,
      "padding": null,
      "right": null,
      "top": null,
      "visibility": null,
      "width": null
     }
    },
    "15984f21da71413cb9b2247376940acb": {
     "model_module": "@jupyter-widgets/base",
     "model_name": "LayoutModel",
     "state": {
      "_model_module": "@jupyter-widgets/base",
      "_model_module_version": "1.2.0",
      "_model_name": "LayoutModel",
      "_view_count": null,
      "_view_module": "@jupyter-widgets/base",
      "_view_module_version": "1.2.0",
      "_view_name": "LayoutView",
      "align_content": null,
      "align_items": null,
      "align_self": null,
      "border": null,
      "bottom": null,
      "display": null,
      "flex": null,
      "flex_flow": null,
      "grid_area": null,
      "grid_auto_columns": null,
      "grid_auto_flow": null,
      "grid_auto_rows": null,
      "grid_column": null,
      "grid_gap": null,
      "grid_row": null,
      "grid_template_areas": null,
      "grid_template_columns": null,
      "grid_template_rows": null,
      "height": null,
      "justify_content": null,
      "justify_items": null,
      "left": null,
      "margin": null,
      "max_height": null,
      "max_width": null,
      "min_height": null,
      "min_width": null,
      "object_fit": null,
      "object_position": null,
      "order": null,
      "overflow": null,
      "overflow_x": null,
      "overflow_y": null,
      "padding": null,
      "right": null,
      "top": null,
      "visibility": null,
      "width": null
     }
    },
    "1b726021974642eda8866a8ed0108abf": {
     "model_module": "@jupyter-widgets/controls",
     "model_name": "FloatProgressModel",
     "state": {
      "_dom_classes": [],
      "_model_module": "@jupyter-widgets/controls",
      "_model_module_version": "1.5.0",
      "_model_name": "FloatProgressModel",
      "_view_count": null,
      "_view_module": "@jupyter-widgets/controls",
      "_view_module_version": "1.5.0",
      "_view_name": "ProgressView",
      "bar_style": "success",
      "description": "",
      "description_tooltip": null,
      "layout": "IPY_MODEL_cbaf624352ee47d791195a310e655bdc",
      "max": 1,
      "min": 0,
      "orientation": "horizontal",
      "style": "IPY_MODEL_843fbee87d714d10b235f9abc0384781",
      "value": 1
     }
    },
    "22492e6fb6d64d40b7fd1d9bf7d6b454": {
     "model_module": "@jupyter-widgets/base",
     "model_name": "LayoutModel",
     "state": {
      "_model_module": "@jupyter-widgets/base",
      "_model_module_version": "1.2.0",
      "_model_name": "LayoutModel",
      "_view_count": null,
      "_view_module": "@jupyter-widgets/base",
      "_view_module_version": "1.2.0",
      "_view_name": "LayoutView",
      "align_content": null,
      "align_items": null,
      "align_self": null,
      "border": null,
      "bottom": null,
      "display": null,
      "flex": null,
      "flex_flow": null,
      "grid_area": null,
      "grid_auto_columns": null,
      "grid_auto_flow": null,
      "grid_auto_rows": null,
      "grid_column": null,
      "grid_gap": null,
      "grid_row": null,
      "grid_template_areas": null,
      "grid_template_columns": null,
      "grid_template_rows": null,
      "height": null,
      "justify_content": null,
      "justify_items": null,
      "left": null,
      "margin": null,
      "max_height": null,
      "max_width": null,
      "min_height": null,
      "min_width": null,
      "object_fit": null,
      "object_position": null,
      "order": null,
      "overflow": null,
      "overflow_x": null,
      "overflow_y": null,
      "padding": null,
      "right": null,
      "top": null,
      "visibility": null,
      "width": null
     }
    },
    "2898d46613044de9a002367911bae9fe": {
     "model_module": "@jupyter-widgets/controls",
     "model_name": "HBoxModel",
     "state": {
      "_dom_classes": [],
      "_model_module": "@jupyter-widgets/controls",
      "_model_module_version": "1.5.0",
      "_model_name": "HBoxModel",
      "_view_count": null,
      "_view_module": "@jupyter-widgets/controls",
      "_view_module_version": "1.5.0",
      "_view_name": "HBoxView",
      "box_style": "",
      "children": [
       "IPY_MODEL_9b548f00ce264b7d9eff16f573b1b098",
       "IPY_MODEL_2e2e15626e304f1988d94b625b3000d9",
       "IPY_MODEL_05d73c65ac1e45978e9a00237d67a97b"
      ],
      "layout": "IPY_MODEL_bcfed9b5ff084029a40e970484a58561"
     }
    },
    "2c7d92e1a8a7476d819cbe6a4580f32a": {
     "model_module": "@jupyter-widgets/base",
     "model_name": "LayoutModel",
     "state": {
      "_model_module": "@jupyter-widgets/base",
      "_model_module_version": "1.2.0",
      "_model_name": "LayoutModel",
      "_view_count": null,
      "_view_module": "@jupyter-widgets/base",
      "_view_module_version": "1.2.0",
      "_view_name": "LayoutView",
      "align_content": null,
      "align_items": null,
      "align_self": null,
      "border": null,
      "bottom": null,
      "display": null,
      "flex": null,
      "flex_flow": null,
      "grid_area": null,
      "grid_auto_columns": null,
      "grid_auto_flow": null,
      "grid_auto_rows": null,
      "grid_column": null,
      "grid_gap": null,
      "grid_row": null,
      "grid_template_areas": null,
      "grid_template_columns": null,
      "grid_template_rows": null,
      "height": null,
      "justify_content": null,
      "justify_items": null,
      "left": null,
      "margin": null,
      "max_height": null,
      "max_width": null,
      "min_height": null,
      "min_width": null,
      "object_fit": null,
      "object_position": null,
      "order": null,
      "overflow": null,
      "overflow_x": null,
      "overflow_y": null,
      "padding": null,
      "right": null,
      "top": null,
      "visibility": null,
      "width": null
     }
    },
    "2e2e15626e304f1988d94b625b3000d9": {
     "model_module": "@jupyter-widgets/controls",
     "model_name": "FloatProgressModel",
     "state": {
      "_dom_classes": [],
      "_model_module": "@jupyter-widgets/controls",
      "_model_module_version": "1.5.0",
      "_model_name": "FloatProgressModel",
      "_view_count": null,
      "_view_module": "@jupyter-widgets/controls",
      "_view_module_version": "1.5.0",
      "_view_name": "ProgressView",
      "bar_style": "success",
      "description": "",
      "description_tooltip": null,
      "layout": "IPY_MODEL_0351ac40d9954a73822ea5c18302fabe",
      "max": 79,
      "min": 0,
      "orientation": "horizontal",
      "style": "IPY_MODEL_459ba79195864a10a56b2cf4b0621e1a",
      "value": 79
     }
    },
    "2e519bba4105431082610c8d2459bc80": {
     "model_module": "@jupyter-widgets/base",
     "model_name": "LayoutModel",
     "state": {
      "_model_module": "@jupyter-widgets/base",
      "_model_module_version": "1.2.0",
      "_model_name": "LayoutModel",
      "_view_count": null,
      "_view_module": "@jupyter-widgets/base",
      "_view_module_version": "1.2.0",
      "_view_name": "LayoutView",
      "align_content": null,
      "align_items": null,
      "align_self": null,
      "border": null,
      "bottom": null,
      "display": null,
      "flex": null,
      "flex_flow": null,
      "grid_area": null,
      "grid_auto_columns": null,
      "grid_auto_flow": null,
      "grid_auto_rows": null,
      "grid_column": null,
      "grid_gap": null,
      "grid_row": null,
      "grid_template_areas": null,
      "grid_template_columns": null,
      "grid_template_rows": null,
      "height": null,
      "justify_content": null,
      "justify_items": null,
      "left": null,
      "margin": null,
      "max_height": null,
      "max_width": null,
      "min_height": null,
      "min_width": null,
      "object_fit": null,
      "object_position": null,
      "order": null,
      "overflow": null,
      "overflow_x": null,
      "overflow_y": null,
      "padding": null,
      "right": null,
      "top": null,
      "visibility": null,
      "width": null
     }
    },
    "2fc8f66425cb441cae7eff051c4241e7": {
     "model_module": "@jupyter-widgets/controls",
     "model_name": "HTMLModel",
     "state": {
      "_dom_classes": [],
      "_model_module": "@jupyter-widgets/controls",
      "_model_module_version": "1.5.0",
      "_model_name": "HTMLModel",
      "_view_count": null,
      "_view_module": "@jupyter-widgets/controls",
      "_view_module_version": "1.5.0",
      "_view_name": "HTMLView",
      "description": "",
      "description_tooltip": null,
      "layout": "IPY_MODEL_2e519bba4105431082610c8d2459bc80",
      "placeholder": "​",
      "style": "IPY_MODEL_0d8bfa848ea14e7c9210a78c19e8dfa2",
      "value": " 1/1 [05:43&lt;00:00, 343.28s/it]"
     }
    },
    "3a43c3ae14794b6a8d3d0cd7a4d6a0a8": {
     "model_module": "@jupyter-widgets/controls",
     "model_name": "DescriptionStyleModel",
     "state": {
      "_model_module": "@jupyter-widgets/controls",
      "_model_module_version": "1.5.0",
      "_model_name": "DescriptionStyleModel",
      "_view_count": null,
      "_view_module": "@jupyter-widgets/base",
      "_view_module_version": "1.2.0",
      "_view_name": "StyleView",
      "description_width": ""
     }
    },
    "3a88bdc2fd214500a04e523b825c927e": {
     "model_module": "@jupyter-widgets/controls",
     "model_name": "FloatProgressModel",
     "state": {
      "_dom_classes": [],
      "_model_module": "@jupyter-widgets/controls",
      "_model_module_version": "1.5.0",
      "_model_name": "FloatProgressModel",
      "_view_count": null,
      "_view_module": "@jupyter-widgets/controls",
      "_view_module_version": "1.5.0",
      "_view_name": "ProgressView",
      "bar_style": "success",
      "description": "",
      "description_tooltip": null,
      "layout": "IPY_MODEL_0a045e7533954f30b905e10ffda68688",
      "max": 40,
      "min": 0,
      "orientation": "horizontal",
      "style": "IPY_MODEL_88fd4bda7dbd4c608b08a39bbb928ea6",
      "value": 40
     }
    },
    "40af996d96564712a7839ba008381a96": {
     "model_module": "@jupyter-widgets/base",
     "model_name": "LayoutModel",
     "state": {
      "_model_module": "@jupyter-widgets/base",
      "_model_module_version": "1.2.0",
      "_model_name": "LayoutModel",
      "_view_count": null,
      "_view_module": "@jupyter-widgets/base",
      "_view_module_version": "1.2.0",
      "_view_name": "LayoutView",
      "align_content": null,
      "align_items": null,
      "align_self": null,
      "border": null,
      "bottom": null,
      "display": null,
      "flex": null,
      "flex_flow": null,
      "grid_area": null,
      "grid_auto_columns": null,
      "grid_auto_flow": null,
      "grid_auto_rows": null,
      "grid_column": null,
      "grid_gap": null,
      "grid_row": null,
      "grid_template_areas": null,
      "grid_template_columns": null,
      "grid_template_rows": null,
      "height": null,
      "justify_content": null,
      "justify_items": null,
      "left": null,
      "margin": null,
      "max_height": null,
      "max_width": null,
      "min_height": null,
      "min_width": null,
      "object_fit": null,
      "object_position": null,
      "order": null,
      "overflow": null,
      "overflow_x": null,
      "overflow_y": null,
      "padding": null,
      "right": null,
      "top": null,
      "visibility": null,
      "width": null
     }
    },
    "424401dc29884da489ef7d0535664c38": {
     "model_module": "@jupyter-widgets/controls",
     "model_name": "HTMLModel",
     "state": {
      "_dom_classes": [],
      "_model_module": "@jupyter-widgets/controls",
      "_model_module_version": "1.5.0",
      "_model_name": "HTMLModel",
      "_view_count": null,
      "_view_module": "@jupyter-widgets/controls",
      "_view_module_version": "1.5.0",
      "_view_name": "HTMLView",
      "description": "",
      "description_tooltip": null,
      "layout": "IPY_MODEL_40af996d96564712a7839ba008381a96",
      "placeholder": "​",
      "style": "IPY_MODEL_630c7ec91d674095a909912bad49b181",
      "value": " 86/86 [00:00&lt;00:00, 3079.73it/s]"
     }
    },
    "43d60866648e416c8000d58af57c2eec": {
     "model_module": "@jupyter-widgets/controls",
     "model_name": "HTMLModel",
     "state": {
      "_dom_classes": [],
      "_model_module": "@jupyter-widgets/controls",
      "_model_module_version": "1.5.0",
      "_model_name": "HTMLModel",
      "_view_count": null,
      "_view_module": "@jupyter-widgets/controls",
      "_view_module_version": "1.5.0",
      "_view_name": "HTMLView",
      "description": "",
      "description_tooltip": null,
      "layout": "IPY_MODEL_a7d2a6475a6742e3a9aeb370bfaec904",
      "placeholder": "​",
      "style": "IPY_MODEL_cd39803c58af4884bc3c4ca2969844ee",
      "value": "100%"
     }
    },
    "44f5ad884e6240c7bace0ad186cce1d8": {
     "model_module": "@jupyter-widgets/controls",
     "model_name": "HTMLModel",
     "state": {
      "_dom_classes": [],
      "_model_module": "@jupyter-widgets/controls",
      "_model_module_version": "1.5.0",
      "_model_name": "HTMLModel",
      "_view_count": null,
      "_view_module": "@jupyter-widgets/controls",
      "_view_module_version": "1.5.0",
      "_view_name": "HTMLView",
      "description": "",
      "description_tooltip": null,
      "layout": "IPY_MODEL_b3e479359a38425f80e9d6d1b60bedf1",
      "placeholder": "​",
      "style": "IPY_MODEL_bb758a97bba94627a0d3b5d2bd798f2d",
      "value": "Epochs 0/1. Running Loss:    3.0854: 100%"
     }
    },
    "459ba79195864a10a56b2cf4b0621e1a": {
     "model_module": "@jupyter-widgets/controls",
     "model_name": "ProgressStyleModel",
     "state": {
      "_model_module": "@jupyter-widgets/controls",
      "_model_module_version": "1.5.0",
      "_model_name": "ProgressStyleModel",
      "_view_count": null,
      "_view_module": "@jupyter-widgets/base",
      "_view_module_version": "1.2.0",
      "_view_name": "StyleView",
      "bar_color": null,
      "description_width": ""
     }
    },
    "488c7ae7fd624c3487b98c895bce8951": {
     "model_module": "@jupyter-widgets/controls",
     "model_name": "ProgressStyleModel",
     "state": {
      "_model_module": "@jupyter-widgets/controls",
      "_model_module_version": "1.5.0",
      "_model_name": "ProgressStyleModel",
      "_view_count": null,
      "_view_module": "@jupyter-widgets/base",
      "_view_module_version": "1.2.0",
      "_view_name": "StyleView",
      "bar_color": null,
      "description_width": ""
     }
    },
    "48dd004ce33f4c2b8d980816aefce411": {
     "model_module": "@jupyter-widgets/controls",
     "model_name": "FloatProgressModel",
     "state": {
      "_dom_classes": [],
      "_model_module": "@jupyter-widgets/controls",
      "_model_module_version": "1.5.0",
      "_model_name": "FloatProgressModel",
      "_view_count": null,
      "_view_module": "@jupyter-widgets/controls",
      "_view_module_version": "1.5.0",
      "_view_name": "ProgressView",
      "bar_style": "success",
      "description": "",
      "description_tooltip": null,
      "layout": "IPY_MODEL_73129464d74642d0a1d9cd83a786767d",
      "max": 86,
      "min": 0,
      "orientation": "horizontal",
      "style": "IPY_MODEL_488c7ae7fd624c3487b98c895bce8951",
      "value": 86
     }
    },
    "492f8d2d64d440fea6cec1acc496bbe6": {
     "model_module": "@jupyter-widgets/controls",
     "model_name": "HTMLModel",
     "state": {
      "_dom_classes": [],
      "_model_module": "@jupyter-widgets/controls",
      "_model_module_version": "1.5.0",
      "_model_name": "HTMLModel",
      "_view_count": null,
      "_view_module": "@jupyter-widgets/controls",
      "_view_module_version": "1.5.0",
      "_view_name": "HTMLView",
      "description": "",
      "description_tooltip": null,
      "layout": "IPY_MODEL_54288f185c924f0ab16523cb01d4c895",
      "placeholder": "​",
      "style": "IPY_MODEL_3a43c3ae14794b6a8d3d0cd7a4d6a0a8",
      "value": " 100/100 [00:00&lt;00:00,  3.69it/s]"
     }
    },
    "4ab47f2c60ea4327a7d2e983144fa225": {
     "model_module": "@jupyter-widgets/controls",
     "model_name": "HTMLModel",
     "state": {
      "_dom_classes": [],
      "_model_module": "@jupyter-widgets/controls",
      "_model_module_version": "1.5.0",
      "_model_name": "HTMLModel",
      "_view_count": null,
      "_view_module": "@jupyter-widgets/controls",
      "_view_module_version": "1.5.0",
      "_view_name": "HTMLView",
      "description": "",
      "description_tooltip": null,
      "layout": "IPY_MODEL_f63ec97ba1bc466d96aaf08d5a208e2b",
      "placeholder": "​",
      "style": "IPY_MODEL_a3cacdf07d7646c39b2fd9912100880d",
      "value": " 100/100 [00:00&lt;00:00,  3.53it/s]"
     }
    },
    "4c261ae8940f4b94af94cd156e6f367e": {
     "model_module": "@jupyter-widgets/base",
     "model_name": "LayoutModel",
     "state": {
      "_model_module": "@jupyter-widgets/base",
      "_model_module_version": "1.2.0",
      "_model_name": "LayoutModel",
      "_view_count": null,
      "_view_module": "@jupyter-widgets/base",
      "_view_module_version": "1.2.0",
      "_view_name": "LayoutView",
      "align_content": null,
      "align_items": null,
      "align_self": null,
      "border": null,
      "bottom": null,
      "display": null,
      "flex": null,
      "flex_flow": null,
      "grid_area": null,
      "grid_auto_columns": null,
      "grid_auto_flow": null,
      "grid_auto_rows": null,
      "grid_column": null,
      "grid_gap": null,
      "grid_row": null,
      "grid_template_areas": null,
      "grid_template_columns": null,
      "grid_template_rows": null,
      "height": null,
      "justify_content": null,
      "justify_items": null,
      "left": null,
      "margin": null,
      "max_height": null,
      "max_width": null,
      "min_height": null,
      "min_width": null,
      "object_fit": null,
      "object_position": null,
      "order": null,
      "overflow": null,
      "overflow_x": null,
      "overflow_y": null,
      "padding": null,
      "right": null,
      "top": null,
      "visibility": null,
      "width": null
     }
    },
    "4c7911e4b33e4486a726f84d7c78d011": {
     "model_module": "@jupyter-widgets/base",
     "model_name": "LayoutModel",
     "state": {
      "_model_module": "@jupyter-widgets/base",
      "_model_module_version": "1.2.0",
      "_model_name": "LayoutModel",
      "_view_count": null,
      "_view_module": "@jupyter-widgets/base",
      "_view_module_version": "1.2.0",
      "_view_name": "LayoutView",
      "align_content": null,
      "align_items": null,
      "align_self": null,
      "border": null,
      "bottom": null,
      "display": null,
      "flex": null,
      "flex_flow": null,
      "grid_area": null,
      "grid_auto_columns": null,
      "grid_auto_flow": null,
      "grid_auto_rows": null,
      "grid_column": null,
      "grid_gap": null,
      "grid_row": null,
      "grid_template_areas": null,
      "grid_template_columns": null,
      "grid_template_rows": null,
      "height": null,
      "justify_content": null,
      "justify_items": null,
      "left": null,
      "margin": null,
      "max_height": null,
      "max_width": null,
      "min_height": null,
      "min_width": null,
      "object_fit": null,
      "object_position": null,
      "order": null,
      "overflow": null,
      "overflow_x": null,
      "overflow_y": null,
      "padding": null,
      "right": null,
      "top": null,
      "visibility": null,
      "width": null
     }
    },
    "4d4731cddb4d4a8e8622ad0f3cd4f715": {
     "model_module": "@jupyter-widgets/controls",
     "model_name": "ProgressStyleModel",
     "state": {
      "_model_module": "@jupyter-widgets/controls",
      "_model_module_version": "1.5.0",
      "_model_name": "ProgressStyleModel",
      "_view_count": null,
      "_view_module": "@jupyter-widgets/base",
      "_view_module_version": "1.2.0",
      "_view_name": "StyleView",
      "bar_color": null,
      "description_width": ""
     }
    },
    "4e3f3bb40aaa4002a92d75caf0bbebc0": {
     "model_module": "@jupyter-widgets/controls",
     "model_name": "ProgressStyleModel",
     "state": {
      "_model_module": "@jupyter-widgets/controls",
      "_model_module_version": "1.5.0",
      "_model_name": "ProgressStyleModel",
      "_view_count": null,
      "_view_module": "@jupyter-widgets/base",
      "_view_module_version": "1.2.0",
      "_view_name": "StyleView",
      "bar_color": null,
      "description_width": ""
     }
    },
    "4ed345fec2a2452fb1df8fddc1fdb8f8": {
     "model_module": "@jupyter-widgets/controls",
     "model_name": "ProgressStyleModel",
     "state": {
      "_model_module": "@jupyter-widgets/controls",
      "_model_module_version": "1.5.0",
      "_model_name": "ProgressStyleModel",
      "_view_count": null,
      "_view_module": "@jupyter-widgets/base",
      "_view_module_version": "1.2.0",
      "_view_name": "StyleView",
      "bar_color": null,
      "description_width": ""
     }
    },
    "4f90b6f7f8784bd3a1825c238d51a82f": {
     "model_module": "@jupyter-widgets/controls",
     "model_name": "DescriptionStyleModel",
     "state": {
      "_model_module": "@jupyter-widgets/controls",
      "_model_module_version": "1.5.0",
      "_model_name": "DescriptionStyleModel",
      "_view_count": null,
      "_view_module": "@jupyter-widgets/base",
      "_view_module_version": "1.2.0",
      "_view_name": "StyleView",
      "description_width": ""
     }
    },
    "5152dec5a3744bd6b49d08781a7ded0e": {
     "model_module": "@jupyter-widgets/controls",
     "model_name": "ProgressStyleModel",
     "state": {
      "_model_module": "@jupyter-widgets/controls",
      "_model_module_version": "1.5.0",
      "_model_name": "ProgressStyleModel",
      "_view_count": null,
      "_view_module": "@jupyter-widgets/base",
      "_view_module_version": "1.2.0",
      "_view_name": "StyleView",
      "bar_color": null,
      "description_width": ""
     }
    },
    "54288f185c924f0ab16523cb01d4c895": {
     "model_module": "@jupyter-widgets/base",
     "model_name": "LayoutModel",
     "state": {
      "_model_module": "@jupyter-widgets/base",
      "_model_module_version": "1.2.0",
      "_model_name": "LayoutModel",
      "_view_count": null,
      "_view_module": "@jupyter-widgets/base",
      "_view_module_version": "1.2.0",
      "_view_name": "LayoutView",
      "align_content": null,
      "align_items": null,
      "align_self": null,
      "border": null,
      "bottom": null,
      "display": null,
      "flex": null,
      "flex_flow": null,
      "grid_area": null,
      "grid_auto_columns": null,
      "grid_auto_flow": null,
      "grid_auto_rows": null,
      "grid_column": null,
      "grid_gap": null,
      "grid_row": null,
      "grid_template_areas": null,
      "grid_template_columns": null,
      "grid_template_rows": null,
      "height": null,
      "justify_content": null,
      "justify_items": null,
      "left": null,
      "margin": null,
      "max_height": null,
      "max_width": null,
      "min_height": null,
      "min_width": null,
      "object_fit": null,
      "object_position": null,
      "order": null,
      "overflow": null,
      "overflow_x": null,
      "overflow_y": null,
      "padding": null,
      "right": null,
      "top": null,
      "visibility": null,
      "width": null
     }
    },
    "57137e69e475453eb067d1415b403da8": {
     "model_module": "@jupyter-widgets/controls",
     "model_name": "HTMLModel",
     "state": {
      "_dom_classes": [],
      "_model_module": "@jupyter-widgets/controls",
      "_model_module_version": "1.5.0",
      "_model_name": "HTMLModel",
      "_view_count": null,
      "_view_module": "@jupyter-widgets/controls",
      "_view_module_version": "1.5.0",
      "_view_name": "HTMLView",
      "description": "",
      "description_tooltip": null,
      "layout": "IPY_MODEL_b47411982243427690d1ea02d018e2c9",
      "placeholder": "​",
      "style": "IPY_MODEL_ad4b9b2f524b4a2c84a15c772a7133c0",
      "value": " 1000/1000 [00:01&lt;00:00, 552.82it/s]"
     }
    },
    "5ef753a47f8f4ecbb9e5b48a0ef1415e": {
     "model_module": "@jupyter-widgets/controls",
     "model_name": "FloatProgressModel",
     "state": {
      "_dom_classes": [],
      "_model_module": "@jupyter-widgets/controls",
      "_model_module_version": "1.5.0",
      "_model_name": "FloatProgressModel",
      "_view_count": null,
      "_view_module": "@jupyter-widgets/controls",
      "_view_module_version": "1.5.0",
      "_view_name": "ProgressView",
      "bar_style": "success",
      "description": "",
      "description_tooltip": null,
      "layout": "IPY_MODEL_fc6096595bb945dabaf4b930ad0e3012",
      "max": 803,
      "min": 0,
      "orientation": "horizontal",
      "style": "IPY_MODEL_4ed345fec2a2452fb1df8fddc1fdb8f8",
      "value": 803
     }
    },
    "630c7ec91d674095a909912bad49b181": {
     "model_module": "@jupyter-widgets/controls",
     "model_name": "DescriptionStyleModel",
     "state": {
      "_model_module": "@jupyter-widgets/controls",
      "_model_module_version": "1.5.0",
      "_model_name": "DescriptionStyleModel",
      "_view_count": null,
      "_view_module": "@jupyter-widgets/base",
      "_view_module_version": "1.2.0",
      "_view_name": "StyleView",
      "description_width": ""
     }
    },
    "64e421064f234baf97749bbff6494bf0": {
     "model_module": "@jupyter-widgets/controls",
     "model_name": "FloatProgressModel",
     "state": {
      "_dom_classes": [],
      "_model_module": "@jupyter-widgets/controls",
      "_model_module_version": "1.5.0",
      "_model_name": "FloatProgressModel",
      "_view_count": null,
      "_view_module": "@jupyter-widgets/controls",
      "_view_module_version": "1.5.0",
      "_view_name": "ProgressView",
      "bar_style": "success",
      "description": "",
      "description_tooltip": null,
      "layout": "IPY_MODEL_a2ad600ff9f9447f9fb51b1c92042675",
      "max": 402,
      "min": 0,
      "orientation": "horizontal",
      "style": "IPY_MODEL_4e3f3bb40aaa4002a92d75caf0bbebc0",
      "value": 402
     }
    },
    "6597e35dde1b4579a49c19ff50803f30": {
     "model_module": "@jupyter-widgets/base",
     "model_name": "LayoutModel",
     "state": {
      "_model_module": "@jupyter-widgets/base",
      "_model_module_version": "1.2.0",
      "_model_name": "LayoutModel",
      "_view_count": null,
      "_view_module": "@jupyter-widgets/base",
      "_view_module_version": "1.2.0",
      "_view_name": "LayoutView",
      "align_content": null,
      "align_items": null,
      "align_self": null,
      "border": null,
      "bottom": null,
      "display": null,
      "flex": null,
      "flex_flow": null,
      "grid_area": null,
      "grid_auto_columns": null,
      "grid_auto_flow": null,
      "grid_auto_rows": null,
      "grid_column": null,
      "grid_gap": null,
      "grid_row": null,
      "grid_template_areas": null,
      "grid_template_columns": null,
      "grid_template_rows": null,
      "height": null,
      "justify_content": null,
      "justify_items": null,
      "left": null,
      "margin": null,
      "max_height": null,
      "max_width": null,
      "min_height": null,
      "min_width": null,
      "object_fit": null,
      "object_position": null,
      "order": null,
      "overflow": null,
      "overflow_x": null,
      "overflow_y": null,
      "padding": null,
      "right": null,
      "top": null,
      "visibility": null,
      "width": null
     }
    },
    "65d8557e27244d18a2180b762d24df78": {
     "model_module": "@jupyter-widgets/controls",
     "model_name": "DescriptionStyleModel",
     "state": {
      "_model_module": "@jupyter-widgets/controls",
      "_model_module_version": "1.5.0",
      "_model_name": "DescriptionStyleModel",
      "_view_count": null,
      "_view_module": "@jupyter-widgets/base",
      "_view_module_version": "1.2.0",
      "_view_name": "StyleView",
      "description_width": ""
     }
    },
    "677e67731e7a4bacb948b1b1907e89c8": {
     "model_module": "@jupyter-widgets/controls",
     "model_name": "HTMLModel",
     "state": {
      "_dom_classes": [],
      "_model_module": "@jupyter-widgets/controls",
      "_model_module_version": "1.5.0",
      "_model_name": "HTMLModel",
      "_view_count": null,
      "_view_module": "@jupyter-widgets/controls",
      "_view_module_version": "1.5.0",
      "_view_name": "HTMLView",
      "description": "",
      "description_tooltip": null,
      "layout": "IPY_MODEL_d993b6bfb99e41738cbd1720b27bca7a",
      "placeholder": "​",
      "style": "IPY_MODEL_876c5e395971414b91be4e758c96415c",
      "value": "100%"
     }
    },
    "6dfcf550f7a24a9aa995bdc734d0765e": {
     "model_module": "@jupyter-widgets/base",
     "model_name": "LayoutModel",
     "state": {
      "_model_module": "@jupyter-widgets/base",
      "_model_module_version": "1.2.0",
      "_model_name": "LayoutModel",
      "_view_count": null,
      "_view_module": "@jupyter-widgets/base",
      "_view_module_version": "1.2.0",
      "_view_name": "LayoutView",
      "align_content": null,
      "align_items": null,
      "align_self": null,
      "border": null,
      "bottom": null,
      "display": null,
      "flex": null,
      "flex_flow": null,
      "grid_area": null,
      "grid_auto_columns": null,
      "grid_auto_flow": null,
      "grid_auto_rows": null,
      "grid_column": null,
      "grid_gap": null,
      "grid_row": null,
      "grid_template_areas": null,
      "grid_template_columns": null,
      "grid_template_rows": null,
      "height": null,
      "justify_content": null,
      "justify_items": null,
      "left": null,
      "margin": null,
      "max_height": null,
      "max_width": null,
      "min_height": null,
      "min_width": null,
      "object_fit": null,
      "object_position": null,
      "order": null,
      "overflow": null,
      "overflow_x": null,
      "overflow_y": null,
      "padding": null,
      "right": null,
      "top": null,
      "visibility": null,
      "width": null
     }
    },
    "70f0f76dea1a4e5ab2ba360c99963585": {
     "model_module": "@jupyter-widgets/controls",
     "model_name": "FloatProgressModel",
     "state": {
      "_dom_classes": [],
      "_model_module": "@jupyter-widgets/controls",
      "_model_module_version": "1.5.0",
      "_model_name": "FloatProgressModel",
      "_view_count": null,
      "_view_module": "@jupyter-widgets/controls",
      "_view_module_version": "1.5.0",
      "_view_name": "ProgressView",
      "bar_style": "success",
      "description": "",
      "description_tooltip": null,
      "layout": "IPY_MODEL_6597e35dde1b4579a49c19ff50803f30",
      "max": 100,
      "min": 0,
      "orientation": "horizontal",
      "style": "IPY_MODEL_4d4731cddb4d4a8e8622ad0f3cd4f715",
      "value": 100
     }
    },
    "73129464d74642d0a1d9cd83a786767d": {
     "model_module": "@jupyter-widgets/base",
     "model_name": "LayoutModel",
     "state": {
      "_model_module": "@jupyter-widgets/base",
      "_model_module_version": "1.2.0",
      "_model_name": "LayoutModel",
      "_view_count": null,
      "_view_module": "@jupyter-widgets/base",
      "_view_module_version": "1.2.0",
      "_view_name": "LayoutView",
      "align_content": null,
      "align_items": null,
      "align_self": null,
      "border": null,
      "bottom": null,
      "display": null,
      "flex": null,
      "flex_flow": null,
      "grid_area": null,
      "grid_auto_columns": null,
      "grid_auto_flow": null,
      "grid_auto_rows": null,
      "grid_column": null,
      "grid_gap": null,
      "grid_row": null,
      "grid_template_areas": null,
      "grid_template_columns": null,
      "grid_template_rows": null,
      "height": null,
      "justify_content": null,
      "justify_items": null,
      "left": null,
      "margin": null,
      "max_height": null,
      "max_width": null,
      "min_height": null,
      "min_width": null,
      "object_fit": null,
      "object_position": null,
      "order": null,
      "overflow": null,
      "overflow_x": null,
      "overflow_y": null,
      "padding": null,
      "right": null,
      "top": null,
      "visibility": null,
      "width": null
     }
    },
    "79cbe199a05d4a0da1a9ce6bee24dd3b": {
     "model_module": "@jupyter-widgets/controls",
     "model_name": "DescriptionStyleModel",
     "state": {
      "_model_module": "@jupyter-widgets/controls",
      "_model_module_version": "1.5.0",
      "_model_name": "DescriptionStyleModel",
      "_view_count": null,
      "_view_module": "@jupyter-widgets/base",
      "_view_module_version": "1.2.0",
      "_view_name": "StyleView",
      "description_width": ""
     }
    },
    "7e169fef9653411081bb401442383364": {
     "model_module": "@jupyter-widgets/base",
     "model_name": "LayoutModel",
     "state": {
      "_model_module": "@jupyter-widgets/base",
      "_model_module_version": "1.2.0",
      "_model_name": "LayoutModel",
      "_view_count": null,
      "_view_module": "@jupyter-widgets/base",
      "_view_module_version": "1.2.0",
      "_view_name": "LayoutView",
      "align_content": null,
      "align_items": null,
      "align_self": null,
      "border": null,
      "bottom": null,
      "display": null,
      "flex": null,
      "flex_flow": null,
      "grid_area": null,
      "grid_auto_columns": null,
      "grid_auto_flow": null,
      "grid_auto_rows": null,
      "grid_column": null,
      "grid_gap": null,
      "grid_row": null,
      "grid_template_areas": null,
      "grid_template_columns": null,
      "grid_template_rows": null,
      "height": null,
      "justify_content": null,
      "justify_items": null,
      "left": null,
      "margin": null,
      "max_height": null,
      "max_width": null,
      "min_height": null,
      "min_width": null,
      "object_fit": null,
      "object_position": null,
      "order": null,
      "overflow": null,
      "overflow_x": null,
      "overflow_y": null,
      "padding": null,
      "right": null,
      "top": null,
      "visibility": null,
      "width": null
     }
    },
    "7f6016675f2842fbb052b11a0d94bf73": {
     "model_module": "@jupyter-widgets/controls",
     "model_name": "HBoxModel",
     "state": {
      "_dom_classes": [],
      "_model_module": "@jupyter-widgets/controls",
      "_model_module_version": "1.5.0",
      "_model_name": "HBoxModel",
      "_view_count": null,
      "_view_module": "@jupyter-widgets/controls",
      "_view_module_version": "1.5.0",
      "_view_name": "HBoxView",
      "box_style": "",
      "children": [
       "IPY_MODEL_0000d2b3dc8746fd8719d9fdb953a039",
       "IPY_MODEL_1b726021974642eda8866a8ed0108abf",
       "IPY_MODEL_2fc8f66425cb441cae7eff051c4241e7"
      ],
      "layout": "IPY_MODEL_e9e662787a5449c895736f42b3d4b525"
     }
    },
    "7f9064ae08d540bcb7f4946f718b10c5": {
     "model_module": "@jupyter-widgets/base",
     "model_name": "LayoutModel",
     "state": {
      "_model_module": "@jupyter-widgets/base",
      "_model_module_version": "1.2.0",
      "_model_name": "LayoutModel",
      "_view_count": null,
      "_view_module": "@jupyter-widgets/base",
      "_view_module_version": "1.2.0",
      "_view_name": "LayoutView",
      "align_content": null,
      "align_items": null,
      "align_self": null,
      "border": null,
      "bottom": null,
      "display": null,
      "flex": null,
      "flex_flow": null,
      "grid_area": null,
      "grid_auto_columns": null,
      "grid_auto_flow": null,
      "grid_auto_rows": null,
      "grid_column": null,
      "grid_gap": null,
      "grid_row": null,
      "grid_template_areas": null,
      "grid_template_columns": null,
      "grid_template_rows": null,
      "height": null,
      "justify_content": null,
      "justify_items": null,
      "left": null,
      "margin": null,
      "max_height": null,
      "max_width": null,
      "min_height": null,
      "min_width": null,
      "object_fit": null,
      "object_position": null,
      "order": null,
      "overflow": null,
      "overflow_x": null,
      "overflow_y": null,
      "padding": null,
      "right": null,
      "top": null,
      "visibility": null,
      "width": null
     }
    },
    "82f5d20247af4c10a7ea33ed821e74ed": {
     "model_module": "@jupyter-widgets/base",
     "model_name": "LayoutModel",
     "state": {
      "_model_module": "@jupyter-widgets/base",
      "_model_module_version": "1.2.0",
      "_model_name": "LayoutModel",
      "_view_count": null,
      "_view_module": "@jupyter-widgets/base",
      "_view_module_version": "1.2.0",
      "_view_name": "LayoutView",
      "align_content": null,
      "align_items": null,
      "align_self": null,
      "border": null,
      "bottom": null,
      "display": null,
      "flex": null,
      "flex_flow": null,
      "grid_area": null,
      "grid_auto_columns": null,
      "grid_auto_flow": null,
      "grid_auto_rows": null,
      "grid_column": null,
      "grid_gap": null,
      "grid_row": null,
      "grid_template_areas": null,
      "grid_template_columns": null,
      "grid_template_rows": null,
      "height": null,
      "justify_content": null,
      "justify_items": null,
      "left": null,
      "margin": null,
      "max_height": null,
      "max_width": null,
      "min_height": null,
      "min_width": null,
      "object_fit": null,
      "object_position": null,
      "order": null,
      "overflow": null,
      "overflow_x": null,
      "overflow_y": null,
      "padding": null,
      "right": null,
      "top": null,
      "visibility": null,
      "width": null
     }
    },
    "83718b3f3585454db51b015042ccedc7": {
     "model_module": "@jupyter-widgets/controls",
     "model_name": "HTMLModel",
     "state": {
      "_dom_classes": [],
      "_model_module": "@jupyter-widgets/controls",
      "_model_module_version": "1.5.0",
      "_model_name": "HTMLModel",
      "_view_count": null,
      "_view_module": "@jupyter-widgets/controls",
      "_view_module_version": "1.5.0",
      "_view_name": "HTMLView",
      "description": "",
      "description_tooltip": null,
      "layout": "IPY_MODEL_dc9f5f61dd984dd5b8130a88164d9f09",
      "placeholder": "​",
      "style": "IPY_MODEL_65d8557e27244d18a2180b762d24df78",
      "value": "100%"
     }
    },
    "843fbee87d714d10b235f9abc0384781": {
     "model_module": "@jupyter-widgets/controls",
     "model_name": "ProgressStyleModel",
     "state": {
      "_model_module": "@jupyter-widgets/controls",
      "_model_module_version": "1.5.0",
      "_model_name": "ProgressStyleModel",
      "_view_count": null,
      "_view_module": "@jupyter-widgets/base",
      "_view_module_version": "1.2.0",
      "_view_name": "StyleView",
      "bar_color": null,
      "description_width": ""
     }
    },
    "856870fd3e794e5a8b98bb69659c5dfd": {
     "model_module": "@jupyter-widgets/controls",
     "model_name": "DescriptionStyleModel",
     "state": {
      "_model_module": "@jupyter-widgets/controls",
      "_model_module_version": "1.5.0",
      "_model_name": "DescriptionStyleModel",
      "_view_count": null,
      "_view_module": "@jupyter-widgets/base",
      "_view_module_version": "1.2.0",
      "_view_name": "StyleView",
      "description_width": ""
     }
    },
    "876c5e395971414b91be4e758c96415c": {
     "model_module": "@jupyter-widgets/controls",
     "model_name": "DescriptionStyleModel",
     "state": {
      "_model_module": "@jupyter-widgets/controls",
      "_model_module_version": "1.5.0",
      "_model_name": "DescriptionStyleModel",
      "_view_count": null,
      "_view_module": "@jupyter-widgets/base",
      "_view_module_version": "1.2.0",
      "_view_name": "StyleView",
      "description_width": ""
     }
    },
    "87d5efab7fc6498986df95f2cda88fe6": {
     "model_module": "@jupyter-widgets/controls",
     "model_name": "HBoxModel",
     "state": {
      "_dom_classes": [],
      "_model_module": "@jupyter-widgets/controls",
      "_model_module_version": "1.5.0",
      "_model_name": "HBoxModel",
      "_view_count": null,
      "_view_module": "@jupyter-widgets/controls",
      "_view_module_version": "1.5.0",
      "_view_name": "HBoxView",
      "box_style": "",
      "children": [
       "IPY_MODEL_83718b3f3585454db51b015042ccedc7",
       "IPY_MODEL_5ef753a47f8f4ecbb9e5b48a0ef1415e",
       "IPY_MODEL_c88229c78171485ebc4332885628cc3e"
      ],
      "layout": "IPY_MODEL_22492e6fb6d64d40b7fd1d9bf7d6b454"
     }
    },
    "88fd4bda7dbd4c608b08a39bbb928ea6": {
     "model_module": "@jupyter-widgets/controls",
     "model_name": "ProgressStyleModel",
     "state": {
      "_model_module": "@jupyter-widgets/controls",
      "_model_module_version": "1.5.0",
      "_model_name": "ProgressStyleModel",
      "_view_count": null,
      "_view_module": "@jupyter-widgets/base",
      "_view_module_version": "1.2.0",
      "_view_name": "StyleView",
      "bar_color": null,
      "description_width": ""
     }
    },
    "8a5ad2bdb57a4593b3d328aeaa2311e9": {
     "model_module": "@jupyter-widgets/base",
     "model_name": "LayoutModel",
     "state": {
      "_model_module": "@jupyter-widgets/base",
      "_model_module_version": "1.2.0",
      "_model_name": "LayoutModel",
      "_view_count": null,
      "_view_module": "@jupyter-widgets/base",
      "_view_module_version": "1.2.0",
      "_view_name": "LayoutView",
      "align_content": null,
      "align_items": null,
      "align_self": null,
      "border": null,
      "bottom": null,
      "display": null,
      "flex": null,
      "flex_flow": null,
      "grid_area": null,
      "grid_auto_columns": null,
      "grid_auto_flow": null,
      "grid_auto_rows": null,
      "grid_column": null,
      "grid_gap": null,
      "grid_row": null,
      "grid_template_areas": null,
      "grid_template_columns": null,
      "grid_template_rows": null,
      "height": null,
      "justify_content": null,
      "justify_items": null,
      "left": null,
      "margin": null,
      "max_height": null,
      "max_width": null,
      "min_height": null,
      "min_width": null,
      "object_fit": null,
      "object_position": null,
      "order": null,
      "overflow": null,
      "overflow_x": null,
      "overflow_y": null,
      "padding": null,
      "right": null,
      "top": null,
      "visibility": null,
      "width": null
     }
    },
    "8c3512c328524df6b1a74eeee04c57ac": {
     "model_module": "@jupyter-widgets/controls",
     "model_name": "HTMLModel",
     "state": {
      "_dom_classes": [],
      "_model_module": "@jupyter-widgets/controls",
      "_model_module_version": "1.5.0",
      "_model_name": "HTMLModel",
      "_view_count": null,
      "_view_module": "@jupyter-widgets/controls",
      "_view_module_version": "1.5.0",
      "_view_name": "HTMLView",
      "description": "",
      "description_tooltip": null,
      "layout": "IPY_MODEL_c5cb52f5a0934cdb85475280777b5bf0",
      "placeholder": "​",
      "style": "IPY_MODEL_e7695f9788de448ab65fc1152ce92d36",
      "value": "100%"
     }
    },
    "9049f2d376aa4395ad9f409b8982d793": {
     "model_module": "@jupyter-widgets/base",
     "model_name": "LayoutModel",
     "state": {
      "_model_module": "@jupyter-widgets/base",
      "_model_module_version": "1.2.0",
      "_model_name": "LayoutModel",
      "_view_count": null,
      "_view_module": "@jupyter-widgets/base",
      "_view_module_version": "1.2.0",
      "_view_name": "LayoutView",
      "align_content": null,
      "align_items": null,
      "align_self": null,
      "border": null,
      "bottom": null,
      "display": null,
      "flex": null,
      "flex_flow": null,
      "grid_area": null,
      "grid_auto_columns": null,
      "grid_auto_flow": null,
      "grid_auto_rows": null,
      "grid_column": null,
      "grid_gap": null,
      "grid_row": null,
      "grid_template_areas": null,
      "grid_template_columns": null,
      "grid_template_rows": null,
      "height": null,
      "justify_content": null,
      "justify_items": null,
      "left": null,
      "margin": null,
      "max_height": null,
      "max_width": null,
      "min_height": null,
      "min_width": null,
      "object_fit": null,
      "object_position": null,
      "order": null,
      "overflow": null,
      "overflow_x": null,
      "overflow_y": null,
      "padding": null,
      "right": null,
      "top": null,
      "visibility": null,
      "width": null
     }
    },
    "9b548f00ce264b7d9eff16f573b1b098": {
     "model_module": "@jupyter-widgets/controls",
     "model_name": "HTMLModel",
     "state": {
      "_dom_classes": [],
      "_model_module": "@jupyter-widgets/controls",
      "_model_module_version": "1.5.0",
      "_model_name": "HTMLModel",
      "_view_count": null,
      "_view_module": "@jupyter-widgets/controls",
      "_view_module_version": "1.5.0",
      "_view_name": "HTMLView",
      "description": "",
      "description_tooltip": null,
      "layout": "IPY_MODEL_6dfcf550f7a24a9aa995bdc734d0765e",
      "placeholder": "​",
      "style": "IPY_MODEL_b0e7400a73f74efca61468325aae5731",
      "value": "100%"
     }
    },
    "9c7cc903237a4f44a3631483c51f2185": {
     "model_module": "@jupyter-widgets/base",
     "model_name": "LayoutModel",
     "state": {
      "_model_module": "@jupyter-widgets/base",
      "_model_module_version": "1.2.0",
      "_model_name": "LayoutModel",
      "_view_count": null,
      "_view_module": "@jupyter-widgets/base",
      "_view_module_version": "1.2.0",
      "_view_name": "LayoutView",
      "align_content": null,
      "align_items": null,
      "align_self": null,
      "border": null,
      "bottom": null,
      "display": null,
      "flex": null,
      "flex_flow": null,
      "grid_area": null,
      "grid_auto_columns": null,
      "grid_auto_flow": null,
      "grid_auto_rows": null,
      "grid_column": null,
      "grid_gap": null,
      "grid_row": null,
      "grid_template_areas": null,
      "grid_template_columns": null,
      "grid_template_rows": null,
      "height": null,
      "justify_content": null,
      "justify_items": null,
      "left": null,
      "margin": null,
      "max_height": null,
      "max_width": null,
      "min_height": null,
      "min_width": null,
      "object_fit": null,
      "object_position": null,
      "order": null,
      "overflow": null,
      "overflow_x": null,
      "overflow_y": null,
      "padding": null,
      "right": null,
      "top": null,
      "visibility": null,
      "width": null
     }
    },
    "9cee00a1a1f340dca4a3a494f622aa93": {
     "model_module": "@jupyter-widgets/controls",
     "model_name": "HBoxModel",
     "state": {
      "_dom_classes": [],
      "_model_module": "@jupyter-widgets/controls",
      "_model_module_version": "1.5.0",
      "_model_name": "HBoxModel",
      "_view_count": null,
      "_view_module": "@jupyter-widgets/controls",
      "_view_module_version": "1.5.0",
      "_view_name": "HBoxView",
      "box_style": "",
      "children": [
       "IPY_MODEL_44f5ad884e6240c7bace0ad186cce1d8",
       "IPY_MODEL_64e421064f234baf97749bbff6494bf0",
       "IPY_MODEL_e2b059c4c8174d1882c4eb44369c52ac"
      ],
      "layout": "IPY_MODEL_15984f21da71413cb9b2247376940acb"
     }
    },
    "a2ad600ff9f9447f9fb51b1c92042675": {
     "model_module": "@jupyter-widgets/base",
     "model_name": "LayoutModel",
     "state": {
      "_model_module": "@jupyter-widgets/base",
      "_model_module_version": "1.2.0",
      "_model_name": "LayoutModel",
      "_view_count": null,
      "_view_module": "@jupyter-widgets/base",
      "_view_module_version": "1.2.0",
      "_view_name": "LayoutView",
      "align_content": null,
      "align_items": null,
      "align_self": null,
      "border": null,
      "bottom": null,
      "display": null,
      "flex": null,
      "flex_flow": null,
      "grid_area": null,
      "grid_auto_columns": null,
      "grid_auto_flow": null,
      "grid_auto_rows": null,
      "grid_column": null,
      "grid_gap": null,
      "grid_row": null,
      "grid_template_areas": null,
      "grid_template_columns": null,
      "grid_template_rows": null,
      "height": null,
      "justify_content": null,
      "justify_items": null,
      "left": null,
      "margin": null,
      "max_height": null,
      "max_width": null,
      "min_height": null,
      "min_width": null,
      "object_fit": null,
      "object_position": null,
      "order": null,
      "overflow": null,
      "overflow_x": null,
      "overflow_y": null,
      "padding": null,
      "right": null,
      "top": null,
      "visibility": null,
      "width": null
     }
    },
    "a3cacdf07d7646c39b2fd9912100880d": {
     "model_module": "@jupyter-widgets/controls",
     "model_name": "DescriptionStyleModel",
     "state": {
      "_model_module": "@jupyter-widgets/controls",
      "_model_module_version": "1.5.0",
      "_model_name": "DescriptionStyleModel",
      "_view_count": null,
      "_view_module": "@jupyter-widgets/base",
      "_view_module_version": "1.2.0",
      "_view_name": "StyleView",
      "description_width": ""
     }
    },
    "a7d2a6475a6742e3a9aeb370bfaec904": {
     "model_module": "@jupyter-widgets/base",
     "model_name": "LayoutModel",
     "state": {
      "_model_module": "@jupyter-widgets/base",
      "_model_module_version": "1.2.0",
      "_model_name": "LayoutModel",
      "_view_count": null,
      "_view_module": "@jupyter-widgets/base",
      "_view_module_version": "1.2.0",
      "_view_name": "LayoutView",
      "align_content": null,
      "align_items": null,
      "align_self": null,
      "border": null,
      "bottom": null,
      "display": null,
      "flex": null,
      "flex_flow": null,
      "grid_area": null,
      "grid_auto_columns": null,
      "grid_auto_flow": null,
      "grid_auto_rows": null,
      "grid_column": null,
      "grid_gap": null,
      "grid_row": null,
      "grid_template_areas": null,
      "grid_template_columns": null,
      "grid_template_rows": null,
      "height": null,
      "justify_content": null,
      "justify_items": null,
      "left": null,
      "margin": null,
      "max_height": null,
      "max_width": null,
      "min_height": null,
      "min_width": null,
      "object_fit": null,
      "object_position": null,
      "order": null,
      "overflow": null,
      "overflow_x": null,
      "overflow_y": null,
      "padding": null,
      "right": null,
      "top": null,
      "visibility": null,
      "width": null
     }
    },
    "ac2fb971927c4f82a438fb13103007d1": {
     "model_module": "@jupyter-widgets/base",
     "model_name": "LayoutModel",
     "state": {
      "_model_module": "@jupyter-widgets/base",
      "_model_module_version": "1.2.0",
      "_model_name": "LayoutModel",
      "_view_count": null,
      "_view_module": "@jupyter-widgets/base",
      "_view_module_version": "1.2.0",
      "_view_name": "LayoutView",
      "align_content": null,
      "align_items": null,
      "align_self": null,
      "border": null,
      "bottom": null,
      "display": null,
      "flex": null,
      "flex_flow": null,
      "grid_area": null,
      "grid_auto_columns": null,
      "grid_auto_flow": null,
      "grid_auto_rows": null,
      "grid_column": null,
      "grid_gap": null,
      "grid_row": null,
      "grid_template_areas": null,
      "grid_template_columns": null,
      "grid_template_rows": null,
      "height": null,
      "justify_content": null,
      "justify_items": null,
      "left": null,
      "margin": null,
      "max_height": null,
      "max_width": null,
      "min_height": null,
      "min_width": null,
      "object_fit": null,
      "object_position": null,
      "order": null,
      "overflow": null,
      "overflow_x": null,
      "overflow_y": null,
      "padding": null,
      "right": null,
      "top": null,
      "visibility": null,
      "width": null
     }
    },
    "ad4b9b2f524b4a2c84a15c772a7133c0": {
     "model_module": "@jupyter-widgets/controls",
     "model_name": "DescriptionStyleModel",
     "state": {
      "_model_module": "@jupyter-widgets/controls",
      "_model_module_version": "1.5.0",
      "_model_name": "DescriptionStyleModel",
      "_view_count": null,
      "_view_module": "@jupyter-widgets/base",
      "_view_module_version": "1.2.0",
      "_view_name": "StyleView",
      "description_width": ""
     }
    },
    "b026bd028bc24ea7a3a461b01755be5b": {
     "model_module": "@jupyter-widgets/controls",
     "model_name": "DescriptionStyleModel",
     "state": {
      "_model_module": "@jupyter-widgets/controls",
      "_model_module_version": "1.5.0",
      "_model_name": "DescriptionStyleModel",
      "_view_count": null,
      "_view_module": "@jupyter-widgets/base",
      "_view_module_version": "1.2.0",
      "_view_name": "StyleView",
      "description_width": ""
     }
    },
    "b031930acc7b4e37a64a004fbab0150f": {
     "model_module": "@jupyter-widgets/base",
     "model_name": "LayoutModel",
     "state": {
      "_model_module": "@jupyter-widgets/base",
      "_model_module_version": "1.2.0",
      "_model_name": "LayoutModel",
      "_view_count": null,
      "_view_module": "@jupyter-widgets/base",
      "_view_module_version": "1.2.0",
      "_view_name": "LayoutView",
      "align_content": null,
      "align_items": null,
      "align_self": null,
      "border": null,
      "bottom": null,
      "display": null,
      "flex": null,
      "flex_flow": null,
      "grid_area": null,
      "grid_auto_columns": null,
      "grid_auto_flow": null,
      "grid_auto_rows": null,
      "grid_column": null,
      "grid_gap": null,
      "grid_row": null,
      "grid_template_areas": null,
      "grid_template_columns": null,
      "grid_template_rows": null,
      "height": null,
      "justify_content": null,
      "justify_items": null,
      "left": null,
      "margin": null,
      "max_height": null,
      "max_width": null,
      "min_height": null,
      "min_width": null,
      "object_fit": null,
      "object_position": null,
      "order": null,
      "overflow": null,
      "overflow_x": null,
      "overflow_y": null,
      "padding": null,
      "right": null,
      "top": null,
      "visibility": null,
      "width": null
     }
    },
    "b0e7400a73f74efca61468325aae5731": {
     "model_module": "@jupyter-widgets/controls",
     "model_name": "DescriptionStyleModel",
     "state": {
      "_model_module": "@jupyter-widgets/controls",
      "_model_module_version": "1.5.0",
      "_model_name": "DescriptionStyleModel",
      "_view_count": null,
      "_view_module": "@jupyter-widgets/base",
      "_view_module_version": "1.2.0",
      "_view_name": "StyleView",
      "description_width": ""
     }
    },
    "b3e479359a38425f80e9d6d1b60bedf1": {
     "model_module": "@jupyter-widgets/base",
     "model_name": "LayoutModel",
     "state": {
      "_model_module": "@jupyter-widgets/base",
      "_model_module_version": "1.2.0",
      "_model_name": "LayoutModel",
      "_view_count": null,
      "_view_module": "@jupyter-widgets/base",
      "_view_module_version": "1.2.0",
      "_view_name": "LayoutView",
      "align_content": null,
      "align_items": null,
      "align_self": null,
      "border": null,
      "bottom": null,
      "display": null,
      "flex": null,
      "flex_flow": null,
      "grid_area": null,
      "grid_auto_columns": null,
      "grid_auto_flow": null,
      "grid_auto_rows": null,
      "grid_column": null,
      "grid_gap": null,
      "grid_row": null,
      "grid_template_areas": null,
      "grid_template_columns": null,
      "grid_template_rows": null,
      "height": null,
      "justify_content": null,
      "justify_items": null,
      "left": null,
      "margin": null,
      "max_height": null,
      "max_width": null,
      "min_height": null,
      "min_width": null,
      "object_fit": null,
      "object_position": null,
      "order": null,
      "overflow": null,
      "overflow_x": null,
      "overflow_y": null,
      "padding": null,
      "right": null,
      "top": null,
      "visibility": null,
      "width": null
     }
    },
    "b4476ce342284ef58101bbe267d56c9d": {
     "model_module": "@jupyter-widgets/controls",
     "model_name": "FloatProgressModel",
     "state": {
      "_dom_classes": [],
      "_model_module": "@jupyter-widgets/controls",
      "_model_module_version": "1.5.0",
      "_model_name": "FloatProgressModel",
      "_view_count": null,
      "_view_module": "@jupyter-widgets/controls",
      "_view_module_version": "1.5.0",
      "_view_name": "ProgressView",
      "bar_style": "success",
      "description": "",
      "description_tooltip": null,
      "layout": "IPY_MODEL_ac2fb971927c4f82a438fb13103007d1",
      "max": 100,
      "min": 0,
      "orientation": "horizontal",
      "style": "IPY_MODEL_f8cbceead44f43db845b21a03d20fa8c",
      "value": 100
     }
    },
    "b47411982243427690d1ea02d018e2c9": {
     "model_module": "@jupyter-widgets/base",
     "model_name": "LayoutModel",
     "state": {
      "_model_module": "@jupyter-widgets/base",
      "_model_module_version": "1.2.0",
      "_model_name": "LayoutModel",
      "_view_count": null,
      "_view_module": "@jupyter-widgets/base",
      "_view_module_version": "1.2.0",
      "_view_name": "LayoutView",
      "align_content": null,
      "align_items": null,
      "align_self": null,
      "border": null,
      "bottom": null,
      "display": null,
      "flex": null,
      "flex_flow": null,
      "grid_area": null,
      "grid_auto_columns": null,
      "grid_auto_flow": null,
      "grid_auto_rows": null,
      "grid_column": null,
      "grid_gap": null,
      "grid_row": null,
      "grid_template_areas": null,
      "grid_template_columns": null,
      "grid_template_rows": null,
      "height": null,
      "justify_content": null,
      "justify_items": null,
      "left": null,
      "margin": null,
      "max_height": null,
      "max_width": null,
      "min_height": null,
      "min_width": null,
      "object_fit": null,
      "object_position": null,
      "order": null,
      "overflow": null,
      "overflow_x": null,
      "overflow_y": null,
      "padding": null,
      "right": null,
      "top": null,
      "visibility": null,
      "width": null
     }
    },
    "bb758a97bba94627a0d3b5d2bd798f2d": {
     "model_module": "@jupyter-widgets/controls",
     "model_name": "DescriptionStyleModel",
     "state": {
      "_model_module": "@jupyter-widgets/controls",
      "_model_module_version": "1.5.0",
      "_model_name": "DescriptionStyleModel",
      "_view_count": null,
      "_view_module": "@jupyter-widgets/base",
      "_view_module_version": "1.2.0",
      "_view_name": "StyleView",
      "description_width": ""
     }
    },
    "bcfed9b5ff084029a40e970484a58561": {
     "model_module": "@jupyter-widgets/base",
     "model_name": "LayoutModel",
     "state": {
      "_model_module": "@jupyter-widgets/base",
      "_model_module_version": "1.2.0",
      "_model_name": "LayoutModel",
      "_view_count": null,
      "_view_module": "@jupyter-widgets/base",
      "_view_module_version": "1.2.0",
      "_view_name": "LayoutView",
      "align_content": null,
      "align_items": null,
      "align_self": null,
      "border": null,
      "bottom": null,
      "display": null,
      "flex": null,
      "flex_flow": null,
      "grid_area": null,
      "grid_auto_columns": null,
      "grid_auto_flow": null,
      "grid_auto_rows": null,
      "grid_column": null,
      "grid_gap": null,
      "grid_row": null,
      "grid_template_areas": null,
      "grid_template_columns": null,
      "grid_template_rows": null,
      "height": null,
      "justify_content": null,
      "justify_items": null,
      "left": null,
      "margin": null,
      "max_height": null,
      "max_width": null,
      "min_height": null,
      "min_width": null,
      "object_fit": null,
      "object_position": null,
      "order": null,
      "overflow": null,
      "overflow_x": null,
      "overflow_y": null,
      "padding": null,
      "right": null,
      "top": null,
      "visibility": null,
      "width": null
     }
    },
    "c4103a1518d947f497b174fad90d5fef": {
     "model_module": "@jupyter-widgets/controls",
     "model_name": "HBoxModel",
     "state": {
      "_dom_classes": [],
      "_model_module": "@jupyter-widgets/controls",
      "_model_module_version": "1.5.0",
      "_model_name": "HBoxModel",
      "_view_count": null,
      "_view_module": "@jupyter-widgets/controls",
      "_view_module_version": "1.5.0",
      "_view_name": "HBoxView",
      "box_style": "",
      "children": [
       "IPY_MODEL_677e67731e7a4bacb948b1b1907e89c8",
       "IPY_MODEL_fc3b7fa041ea42efa04e94036240144d",
       "IPY_MODEL_57137e69e475453eb067d1415b403da8"
      ],
      "layout": "IPY_MODEL_4c261ae8940f4b94af94cd156e6f367e"
     }
    },
    "c4f724e21e244b64a8362cb1fc56f5a8": {
     "model_module": "@jupyter-widgets/controls",
     "model_name": "DescriptionStyleModel",
     "state": {
      "_model_module": "@jupyter-widgets/controls",
      "_model_module_version": "1.5.0",
      "_model_name": "DescriptionStyleModel",
      "_view_count": null,
      "_view_module": "@jupyter-widgets/base",
      "_view_module_version": "1.2.0",
      "_view_name": "StyleView",
      "description_width": ""
     }
    },
    "c5cb52f5a0934cdb85475280777b5bf0": {
     "model_module": "@jupyter-widgets/base",
     "model_name": "LayoutModel",
     "state": {
      "_model_module": "@jupyter-widgets/base",
      "_model_module_version": "1.2.0",
      "_model_name": "LayoutModel",
      "_view_count": null,
      "_view_module": "@jupyter-widgets/base",
      "_view_module_version": "1.2.0",
      "_view_name": "LayoutView",
      "align_content": null,
      "align_items": null,
      "align_self": null,
      "border": null,
      "bottom": null,
      "display": null,
      "flex": null,
      "flex_flow": null,
      "grid_area": null,
      "grid_auto_columns": null,
      "grid_auto_flow": null,
      "grid_auto_rows": null,
      "grid_column": null,
      "grid_gap": null,
      "grid_row": null,
      "grid_template_areas": null,
      "grid_template_columns": null,
      "grid_template_rows": null,
      "height": null,
      "justify_content": null,
      "justify_items": null,
      "left": null,
      "margin": null,
      "max_height": null,
      "max_width": null,
      "min_height": null,
      "min_width": null,
      "object_fit": null,
      "object_position": null,
      "order": null,
      "overflow": null,
      "overflow_x": null,
      "overflow_y": null,
      "padding": null,
      "right": null,
      "top": null,
      "visibility": null,
      "width": null
     }
    },
    "c88229c78171485ebc4332885628cc3e": {
     "model_module": "@jupyter-widgets/controls",
     "model_name": "HTMLModel",
     "state": {
      "_dom_classes": [],
      "_model_module": "@jupyter-widgets/controls",
      "_model_module_version": "1.5.0",
      "_model_name": "HTMLModel",
      "_view_count": null,
      "_view_module": "@jupyter-widgets/controls",
      "_view_module_version": "1.5.0",
      "_view_name": "HTMLView",
      "description": "",
      "description_tooltip": null,
      "layout": "IPY_MODEL_7e169fef9653411081bb401442383364",
      "placeholder": "​",
      "style": "IPY_MODEL_ec173db7140440a5a58f8db5cf632f9e",
      "value": " 803/803 [00:00&lt;00:00, 21448.43it/s]"
     }
    },
    "ca5277b8376d47318a468d8daffdac72": {
     "model_module": "@jupyter-widgets/controls",
     "model_name": "HBoxModel",
     "state": {
      "_dom_classes": [],
      "_model_module": "@jupyter-widgets/controls",
      "_model_module_version": "1.5.0",
      "_model_name": "HBoxModel",
      "_view_count": null,
      "_view_module": "@jupyter-widgets/controls",
      "_view_module_version": "1.5.0",
      "_view_name": "HBoxView",
      "box_style": "",
      "children": [
       "IPY_MODEL_023da434fc604d72a0099abcb6adc062",
       "IPY_MODEL_3a88bdc2fd214500a04e523b825c927e",
       "IPY_MODEL_03f9dc234772499ba277f9989556d65e"
      ],
      "layout": "IPY_MODEL_9049f2d376aa4395ad9f409b8982d793"
     }
    },
    "cbaf624352ee47d791195a310e655bdc": {
     "model_module": "@jupyter-widgets/base",
     "model_name": "LayoutModel",
     "state": {
      "_model_module": "@jupyter-widgets/base",
      "_model_module_version": "1.2.0",
      "_model_name": "LayoutModel",
      "_view_count": null,
      "_view_module": "@jupyter-widgets/base",
      "_view_module_version": "1.2.0",
      "_view_name": "LayoutView",
      "align_content": null,
      "align_items": null,
      "align_self": null,
      "border": null,
      "bottom": null,
      "display": null,
      "flex": null,
      "flex_flow": null,
      "grid_area": null,
      "grid_auto_columns": null,
      "grid_auto_flow": null,
      "grid_auto_rows": null,
      "grid_column": null,
      "grid_gap": null,
      "grid_row": null,
      "grid_template_areas": null,
      "grid_template_columns": null,
      "grid_template_rows": null,
      "height": null,
      "justify_content": null,
      "justify_items": null,
      "left": null,
      "margin": null,
      "max_height": null,
      "max_width": null,
      "min_height": null,
      "min_width": null,
      "object_fit": null,
      "object_position": null,
      "order": null,
      "overflow": null,
      "overflow_x": null,
      "overflow_y": null,
      "padding": null,
      "right": null,
      "top": null,
      "visibility": null,
      "width": null
     }
    },
    "cd39803c58af4884bc3c4ca2969844ee": {
     "model_module": "@jupyter-widgets/controls",
     "model_name": "DescriptionStyleModel",
     "state": {
      "_model_module": "@jupyter-widgets/controls",
      "_model_module_version": "1.5.0",
      "_model_name": "DescriptionStyleModel",
      "_view_count": null,
      "_view_module": "@jupyter-widgets/base",
      "_view_module_version": "1.2.0",
      "_view_name": "StyleView",
      "description_width": ""
     }
    },
    "d5cbe5bf49b6480187a789c548abc3ba": {
     "model_module": "@jupyter-widgets/base",
     "model_name": "LayoutModel",
     "state": {
      "_model_module": "@jupyter-widgets/base",
      "_model_module_version": "1.2.0",
      "_model_name": "LayoutModel",
      "_view_count": null,
      "_view_module": "@jupyter-widgets/base",
      "_view_module_version": "1.2.0",
      "_view_name": "LayoutView",
      "align_content": null,
      "align_items": null,
      "align_self": null,
      "border": null,
      "bottom": null,
      "display": null,
      "flex": null,
      "flex_flow": null,
      "grid_area": null,
      "grid_auto_columns": null,
      "grid_auto_flow": null,
      "grid_auto_rows": null,
      "grid_column": null,
      "grid_gap": null,
      "grid_row": null,
      "grid_template_areas": null,
      "grid_template_columns": null,
      "grid_template_rows": null,
      "height": null,
      "justify_content": null,
      "justify_items": null,
      "left": null,
      "margin": null,
      "max_height": null,
      "max_width": null,
      "min_height": null,
      "min_width": null,
      "object_fit": null,
      "object_position": null,
      "order": null,
      "overflow": null,
      "overflow_x": null,
      "overflow_y": null,
      "padding": null,
      "right": null,
      "top": null,
      "visibility": null,
      "width": null
     }
    },
    "d993b6bfb99e41738cbd1720b27bca7a": {
     "model_module": "@jupyter-widgets/base",
     "model_name": "LayoutModel",
     "state": {
      "_model_module": "@jupyter-widgets/base",
      "_model_module_version": "1.2.0",
      "_model_name": "LayoutModel",
      "_view_count": null,
      "_view_module": "@jupyter-widgets/base",
      "_view_module_version": "1.2.0",
      "_view_name": "LayoutView",
      "align_content": null,
      "align_items": null,
      "align_self": null,
      "border": null,
      "bottom": null,
      "display": null,
      "flex": null,
      "flex_flow": null,
      "grid_area": null,
      "grid_auto_columns": null,
      "grid_auto_flow": null,
      "grid_auto_rows": null,
      "grid_column": null,
      "grid_gap": null,
      "grid_row": null,
      "grid_template_areas": null,
      "grid_template_columns": null,
      "grid_template_rows": null,
      "height": null,
      "justify_content": null,
      "justify_items": null,
      "left": null,
      "margin": null,
      "max_height": null,
      "max_width": null,
      "min_height": null,
      "min_width": null,
      "object_fit": null,
      "object_position": null,
      "order": null,
      "overflow": null,
      "overflow_x": null,
      "overflow_y": null,
      "padding": null,
      "right": null,
      "top": null,
      "visibility": null,
      "width": null
     }
    },
    "dc9f5f61dd984dd5b8130a88164d9f09": {
     "model_module": "@jupyter-widgets/base",
     "model_name": "LayoutModel",
     "state": {
      "_model_module": "@jupyter-widgets/base",
      "_model_module_version": "1.2.0",
      "_model_name": "LayoutModel",
      "_view_count": null,
      "_view_module": "@jupyter-widgets/base",
      "_view_module_version": "1.2.0",
      "_view_name": "LayoutView",
      "align_content": null,
      "align_items": null,
      "align_self": null,
      "border": null,
      "bottom": null,
      "display": null,
      "flex": null,
      "flex_flow": null,
      "grid_area": null,
      "grid_auto_columns": null,
      "grid_auto_flow": null,
      "grid_auto_rows": null,
      "grid_column": null,
      "grid_gap": null,
      "grid_row": null,
      "grid_template_areas": null,
      "grid_template_columns": null,
      "grid_template_rows": null,
      "height": null,
      "justify_content": null,
      "justify_items": null,
      "left": null,
      "margin": null,
      "max_height": null,
      "max_width": null,
      "min_height": null,
      "min_width": null,
      "object_fit": null,
      "object_position": null,
      "order": null,
      "overflow": null,
      "overflow_x": null,
      "overflow_y": null,
      "padding": null,
      "right": null,
      "top": null,
      "visibility": null,
      "width": null
     }
    },
    "e2b059c4c8174d1882c4eb44369c52ac": {
     "model_module": "@jupyter-widgets/controls",
     "model_name": "HTMLModel",
     "state": {
      "_dom_classes": [],
      "_model_module": "@jupyter-widgets/controls",
      "_model_module_version": "1.5.0",
      "_model_name": "HTMLModel",
      "_view_count": null,
      "_view_module": "@jupyter-widgets/controls",
      "_view_module_version": "1.5.0",
      "_view_name": "HTMLView",
      "description": "",
      "description_tooltip": null,
      "layout": "IPY_MODEL_2c7d92e1a8a7476d819cbe6a4580f32a",
      "placeholder": "​",
      "style": "IPY_MODEL_856870fd3e794e5a8b98bb69659c5dfd",
      "value": " 402/402 [02:02&lt;00:00,  3.44it/s]"
     }
    },
    "e610be9f1c004695971d08c6d54bd2b7": {
     "model_module": "@jupyter-widgets/controls",
     "model_name": "HBoxModel",
     "state": {
      "_dom_classes": [],
      "_model_module": "@jupyter-widgets/controls",
      "_model_module_version": "1.5.0",
      "_model_name": "HBoxModel",
      "_view_count": null,
      "_view_module": "@jupyter-widgets/controls",
      "_view_module_version": "1.5.0",
      "_view_name": "HBoxView",
      "box_style": "",
      "children": [
       "IPY_MODEL_ee76aedc7f17477f86fa7c9fdd099016",
       "IPY_MODEL_b4476ce342284ef58101bbe267d56c9d",
       "IPY_MODEL_492f8d2d64d440fea6cec1acc496bbe6"
      ],
      "layout": "IPY_MODEL_82f5d20247af4c10a7ea33ed821e74ed"
     }
    },
    "e6122d75f15f43fe95dbd49edf5257e1": {
     "model_module": "@jupyter-widgets/controls",
     "model_name": "HBoxModel",
     "state": {
      "_dom_classes": [],
      "_model_module": "@jupyter-widgets/controls",
      "_model_module_version": "1.5.0",
      "_model_name": "HBoxModel",
      "_view_count": null,
      "_view_module": "@jupyter-widgets/controls",
      "_view_module_version": "1.5.0",
      "_view_name": "HBoxView",
      "box_style": "",
      "children": [
       "IPY_MODEL_8c3512c328524df6b1a74eeee04c57ac",
       "IPY_MODEL_48dd004ce33f4c2b8d980816aefce411",
       "IPY_MODEL_424401dc29884da489ef7d0535664c38"
      ],
      "layout": "IPY_MODEL_9c7cc903237a4f44a3631483c51f2185"
     }
    },
    "e6326ff9bddc497e8659453d200e0d17": {
     "model_module": "@jupyter-widgets/base",
     "model_name": "LayoutModel",
     "state": {
      "_model_module": "@jupyter-widgets/base",
      "_model_module_version": "1.2.0",
      "_model_name": "LayoutModel",
      "_view_count": null,
      "_view_module": "@jupyter-widgets/base",
      "_view_module_version": "1.2.0",
      "_view_name": "LayoutView",
      "align_content": null,
      "align_items": null,
      "align_self": null,
      "border": null,
      "bottom": null,
      "display": null,
      "flex": null,
      "flex_flow": null,
      "grid_area": null,
      "grid_auto_columns": null,
      "grid_auto_flow": null,
      "grid_auto_rows": null,
      "grid_column": null,
      "grid_gap": null,
      "grid_row": null,
      "grid_template_areas": null,
      "grid_template_columns": null,
      "grid_template_rows": null,
      "height": null,
      "justify_content": null,
      "justify_items": null,
      "left": null,
      "margin": null,
      "max_height": null,
      "max_width": null,
      "min_height": null,
      "min_width": null,
      "object_fit": null,
      "object_position": null,
      "order": null,
      "overflow": null,
      "overflow_x": null,
      "overflow_y": null,
      "padding": null,
      "right": null,
      "top": null,
      "visibility": null,
      "width": null
     }
    },
    "e7695f9788de448ab65fc1152ce92d36": {
     "model_module": "@jupyter-widgets/controls",
     "model_name": "DescriptionStyleModel",
     "state": {
      "_model_module": "@jupyter-widgets/controls",
      "_model_module_version": "1.5.0",
      "_model_name": "DescriptionStyleModel",
      "_view_count": null,
      "_view_module": "@jupyter-widgets/base",
      "_view_module_version": "1.2.0",
      "_view_name": "StyleView",
      "description_width": ""
     }
    },
    "e9e662787a5449c895736f42b3d4b525": {
     "model_module": "@jupyter-widgets/base",
     "model_name": "LayoutModel",
     "state": {
      "_model_module": "@jupyter-widgets/base",
      "_model_module_version": "1.2.0",
      "_model_name": "LayoutModel",
      "_view_count": null,
      "_view_module": "@jupyter-widgets/base",
      "_view_module_version": "1.2.0",
      "_view_name": "LayoutView",
      "align_content": null,
      "align_items": null,
      "align_self": null,
      "border": null,
      "bottom": null,
      "display": null,
      "flex": null,
      "flex_flow": null,
      "grid_area": null,
      "grid_auto_columns": null,
      "grid_auto_flow": null,
      "grid_auto_rows": null,
      "grid_column": null,
      "grid_gap": null,
      "grid_row": null,
      "grid_template_areas": null,
      "grid_template_columns": null,
      "grid_template_rows": null,
      "height": null,
      "justify_content": null,
      "justify_items": null,
      "left": null,
      "margin": null,
      "max_height": null,
      "max_width": null,
      "min_height": null,
      "min_width": null,
      "object_fit": null,
      "object_position": null,
      "order": null,
      "overflow": null,
      "overflow_x": null,
      "overflow_y": null,
      "padding": null,
      "right": null,
      "top": null,
      "visibility": null,
      "width": null
     }
    },
    "ec173db7140440a5a58f8db5cf632f9e": {
     "model_module": "@jupyter-widgets/controls",
     "model_name": "DescriptionStyleModel",
     "state": {
      "_model_module": "@jupyter-widgets/controls",
      "_model_module_version": "1.5.0",
      "_model_name": "DescriptionStyleModel",
      "_view_count": null,
      "_view_module": "@jupyter-widgets/base",
      "_view_module_version": "1.2.0",
      "_view_name": "StyleView",
      "description_width": ""
     }
    },
    "ee76aedc7f17477f86fa7c9fdd099016": {
     "model_module": "@jupyter-widgets/controls",
     "model_name": "HTMLModel",
     "state": {
      "_dom_classes": [],
      "_model_module": "@jupyter-widgets/controls",
      "_model_module_version": "1.5.0",
      "_model_name": "HTMLModel",
      "_view_count": null,
      "_view_module": "@jupyter-widgets/controls",
      "_view_module_version": "1.5.0",
      "_view_name": "HTMLView",
      "description": "",
      "description_tooltip": null,
      "layout": "IPY_MODEL_7f9064ae08d540bcb7f4946f718b10c5",
      "placeholder": "​",
      "style": "IPY_MODEL_b026bd028bc24ea7a3a461b01755be5b",
      "value": "100%"
     }
    },
    "f63ec97ba1bc466d96aaf08d5a208e2b": {
     "model_module": "@jupyter-widgets/base",
     "model_name": "LayoutModel",
     "state": {
      "_model_module": "@jupyter-widgets/base",
      "_model_module_version": "1.2.0",
      "_model_name": "LayoutModel",
      "_view_count": null,
      "_view_module": "@jupyter-widgets/base",
      "_view_module_version": "1.2.0",
      "_view_name": "LayoutView",
      "align_content": null,
      "align_items": null,
      "align_self": null,
      "border": null,
      "bottom": null,
      "display": null,
      "flex": null,
      "flex_flow": null,
      "grid_area": null,
      "grid_auto_columns": null,
      "grid_auto_flow": null,
      "grid_auto_rows": null,
      "grid_column": null,
      "grid_gap": null,
      "grid_row": null,
      "grid_template_areas": null,
      "grid_template_columns": null,
      "grid_template_rows": null,
      "height": null,
      "justify_content": null,
      "justify_items": null,
      "left": null,
      "margin": null,
      "max_height": null,
      "max_width": null,
      "min_height": null,
      "min_width": null,
      "object_fit": null,
      "object_position": null,
      "order": null,
      "overflow": null,
      "overflow_x": null,
      "overflow_y": null,
      "padding": null,
      "right": null,
      "top": null,
      "visibility": null,
      "width": null
     }
    },
    "f8cbceead44f43db845b21a03d20fa8c": {
     "model_module": "@jupyter-widgets/controls",
     "model_name": "ProgressStyleModel",
     "state": {
      "_model_module": "@jupyter-widgets/controls",
      "_model_module_version": "1.5.0",
      "_model_name": "ProgressStyleModel",
      "_view_count": null,
      "_view_module": "@jupyter-widgets/base",
      "_view_module_version": "1.2.0",
      "_view_name": "StyleView",
      "bar_color": null,
      "description_width": ""
     }
    },
    "fc3b7fa041ea42efa04e94036240144d": {
     "model_module": "@jupyter-widgets/controls",
     "model_name": "FloatProgressModel",
     "state": {
      "_dom_classes": [],
      "_model_module": "@jupyter-widgets/controls",
      "_model_module_version": "1.5.0",
      "_model_name": "FloatProgressModel",
      "_view_count": null,
      "_view_module": "@jupyter-widgets/controls",
      "_view_module_version": "1.5.0",
      "_view_name": "ProgressView",
      "bar_style": "success",
      "description": "",
      "description_tooltip": null,
      "layout": "IPY_MODEL_d5cbe5bf49b6480187a789c548abc3ba",
      "max": 1000,
      "min": 0,
      "orientation": "horizontal",
      "style": "IPY_MODEL_5152dec5a3744bd6b49d08781a7ded0e",
      "value": 1000
     }
    },
    "fc6096595bb945dabaf4b930ad0e3012": {
     "model_module": "@jupyter-widgets/base",
     "model_name": "LayoutModel",
     "state": {
      "_model_module": "@jupyter-widgets/base",
      "_model_module_version": "1.2.0",
      "_model_name": "LayoutModel",
      "_view_count": null,
      "_view_module": "@jupyter-widgets/base",
      "_view_module_version": "1.2.0",
      "_view_name": "LayoutView",
      "align_content": null,
      "align_items": null,
      "align_self": null,
      "border": null,
      "bottom": null,
      "display": null,
      "flex": null,
      "flex_flow": null,
      "grid_area": null,
      "grid_auto_columns": null,
      "grid_auto_flow": null,
      "grid_auto_rows": null,
      "grid_column": null,
      "grid_gap": null,
      "grid_row": null,
      "grid_template_areas": null,
      "grid_template_columns": null,
      "grid_template_rows": null,
      "height": null,
      "justify_content": null,
      "justify_items": null,
      "left": null,
      "margin": null,
      "max_height": null,
      "max_width": null,
      "min_height": null,
      "min_width": null,
      "object_fit": null,
      "object_position": null,
      "order": null,
      "overflow": null,
      "overflow_x": null,
      "overflow_y": null,
      "padding": null,
      "right": null,
      "top": null,
      "visibility": null,
      "width": null
     }
    }
   }
  }
 },
 "nbformat": 4,
 "nbformat_minor": 1
}
