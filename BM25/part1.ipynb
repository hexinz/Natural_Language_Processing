{
 "cells": [
  {
   "cell_type": "code",
   "execution_count": 1,
   "id": "virgin-polymer",
   "metadata": {},
   "outputs": [],
   "source": [
    "import pandas as pd\n",
    "import csv\n",
    "import json\n",
    "import numpy as np\n",
    "from tqdm import tqdm"
   ]
  },
  {
   "cell_type": "code",
   "execution_count": 2,
   "id": "european-uzbekistan",
   "metadata": {},
   "outputs": [],
   "source": [
    "data_path = ['si-650eecs-549-ranker/documents_ranker.csv', \n",
    "        'si-650eecs-549-rankerandroid/documents_android.csv', \n",
    "        'si-650eecs-549-rankergaming/documents_gaming.csv']\n",
    "\n",
    "json_path = ['si-650eecs-549-ranker/resources/collection_jsonl/documents.jsonl', \n",
    "        'si-650eecs-549-rankerandroid/resources/collection_jsonl/documents.jsonl', \n",
    "        'si-650eecs-549-rankergaming/resources/collection_jsonl/documents.jsonl']\n",
    "\n",
    "output_path = ['si-650eecs-549-ranker/documents.csv', \n",
    "        'si-650eecs-549-rankerandroid/documents.csv', \n",
    "        'si-650eecs-549-rankergaming/documents.csv']"
   ]
  },
  {
   "cell_type": "code",
   "execution_count": 3,
   "id": "convertible-tampa",
   "metadata": {},
   "outputs": [],
   "source": [
    "# csvfile = pd.read_csv(data_path[0])\n",
    "# csvfile = csvfile.fillna('NaN')\n",
    "# csvfile = csvfile.drop_duplicates()\n",
    "# csvfile.dropna(subset=['Title','Document Description'], inplace=True)\n",
    "# csvfile['contents'] = csvfile['Title'] + '\\n' + csvfile['Document Description'] \n",
    "# data = csvfile[['DocumentId', 'contents']]\n",
    "# data.columns=['id','contents']\n",
    "# data.to_csv('si-650eecs-549-ranker/documents.csv', index=False)\n",
    "\n",
    "csvfile = pd.read_csv(data_path[0])\n",
    "csvfile = csvfile.drop_duplicates()\n",
    "doc_title = csvfile['Title'].to_list()\n",
    "doc_desc = csvfile['Document Description'].to_list()\n",
    "contents = []\n",
    "for pos,idx in enumerate(csvfile['DocumentId']):\n",
    "    contents.append(dict({'id':idx, 'contents':str(doc_title[pos])+'\\n'+str(doc_desc[pos])}))\n",
    "import jsonlines\n",
    "file = jsonlines.open(json_path[0],'w')\n",
    "for i in range(csvfile.shape[0]):\n",
    "    jsonlines.Writer.write(file, contents[i])"
   ]
  },
  {
   "cell_type": "code",
   "execution_count": 4,
   "id": "ruled-skill",
   "metadata": {},
   "outputs": [],
   "source": [
    "# csvfile = pd.read_csv(data_path[1])\n",
    "# csvfile = csvfile.fillna('NaN')\n",
    "# csvfile = csvfile.drop_duplicates()\n",
    "# csvfile['contents'] = csvfile['Document Title'] + '\\n' + csvfile['Document Description'] \n",
    "# data = csvfile[['DocumentId', 'contents']]\n",
    "# data.columns=['id','contents']\n",
    "# data.to_csv('si-650eecs-549-rankerandroid/documents.csv', index=False)\n",
    "\n",
    "csvfile = pd.read_csv(data_path[1])\n",
    "csvfile = csvfile.drop_duplicates()\n",
    "doc_title = csvfile['Document Title'].to_list()\n",
    "doc_desc = csvfile['Document Description'].to_list()\n",
    "contents = []\n",
    "for pos,idx in enumerate(csvfile['DocumentId']):\n",
    "    contents.append(dict({'id':idx, 'contents':str(doc_title[pos])+'\\n'+str(doc_desc[pos])}))\n",
    "import jsonlines\n",
    "file = jsonlines.open(json_path[1],'w')\n",
    "for i in range(csvfile.shape[0]):\n",
    "    jsonlines.Writer.write(file, contents[i])"
   ]
  },
  {
   "cell_type": "code",
   "execution_count": 5,
   "id": "personal-happening",
   "metadata": {},
   "outputs": [],
   "source": [
    "# Error in pyserini\n",
    "# csvfile = pd.read_csv(data_path[2])\n",
    "# csvfile = csvfile.fillna('NaN')\n",
    "# csvfile = csvfile.drop_duplicates()\n",
    "# csvfile['contents'] = csvfile['Document Title'] + '\\n' + csvfile['Document Description'] \n",
    "# data = csvfile[['DocumentId', 'contents']]\n",
    "# data.columns=['id','contents']\n",
    "# data.to_csv('si-650eecs-549-rankergaming/documents.csv', index=False)"
   ]
  },
  {
   "cell_type": "code",
   "execution_count": 6,
   "id": "different-opera",
   "metadata": {},
   "outputs": [],
   "source": [
    "csvfile = pd.read_csv(data_path[2])\n",
    "csvfile = csvfile.fillna('NaN')\n",
    "csvfile = csvfile.drop_duplicates()\n",
    "doc_title = csvfile['Document Title'].to_list()\n",
    "doc_desc = csvfile['Document Description'].to_list()\n",
    "contents = []\n",
    "for i in range(csvfile.shape[0]):\n",
    "    contents.append(dict({'id':int(csvfile['DocumentId'][i]), 'contents':str(doc_title[i])+'\\n'+str(doc_desc[i])}))\n",
    "import jsonlines\n",
    "file = jsonlines.open(json_path[2],'w')\n",
    "for i in range(csvfile.shape[0]):\n",
    "    jsonlines.Writer.write(file, contents[i])"
   ]
  },
  {
   "cell_type": "code",
   "execution_count": 7,
   "id": "included-sullivan",
   "metadata": {},
   "outputs": [],
   "source": [
    "# for i in range(2):\n",
    "#     csvfile = open(output_path[i],'r')\n",
    "#     csvfile.readline()\n",
    "#     jsonfile = open(json_path[i], 'w')\n",
    "#     fieldnames = ('id', 'contents')\n",
    "#     reader = csv.DictReader(csvfile, fieldnames)\n",
    "#     for row in reader:\n",
    "#         json.dump(row, jsonfile)\n",
    "#         jsonfile.write('\\n')"
   ]
  },
  {
   "cell_type": "code",
   "execution_count": 8,
   "id": "infinite-johnston",
   "metadata": {},
   "outputs": [
    {
     "name": "stdout",
     "output_type": "stream",
     "text": [
      "WARNING: sun.reflect.Reflection.getCallerClass is not supported. This will impact performance.\n",
      "2021-10-10 02:52:21,914 INFO  [main] index.IndexCollection (IndexCollection.java:643) - Setting log level to INFO\n",
      "2021-10-10 02:52:21,916 INFO  [main] index.IndexCollection (IndexCollection.java:646) - Starting indexer...\n",
      "2021-10-10 02:52:21,916 INFO  [main] index.IndexCollection (IndexCollection.java:647) - ============ Loading Parameters ============\n",
      "2021-10-10 02:52:21,916 INFO  [main] index.IndexCollection (IndexCollection.java:648) - DocumentCollection path: si-650eecs-549-ranker/resources/collection_jsonl\n",
      "2021-10-10 02:52:21,916 INFO  [main] index.IndexCollection (IndexCollection.java:649) - CollectionClass: JsonCollection\n",
      "2021-10-10 02:52:21,916 INFO  [main] index.IndexCollection (IndexCollection.java:650) - Generator: DefaultLuceneDocumentGenerator\n",
      "2021-10-10 02:52:21,916 INFO  [main] index.IndexCollection (IndexCollection.java:651) - Threads: 1\n",
      "2021-10-10 02:52:21,916 INFO  [main] index.IndexCollection (IndexCollection.java:652) - Stemmer: porter\n",
      "2021-10-10 02:52:21,917 INFO  [main] index.IndexCollection (IndexCollection.java:653) - Keep stopwords? false\n",
      "2021-10-10 02:52:21,917 INFO  [main] index.IndexCollection (IndexCollection.java:654) - Stopwords:  null\n",
      "2021-10-10 02:52:21,917 INFO  [main] index.IndexCollection (IndexCollection.java:655) - Store positions? true\n",
      "2021-10-10 02:52:21,917 INFO  [main] index.IndexCollection (IndexCollection.java:656) - Store docvectors? true\n",
      "2021-10-10 02:52:21,917 INFO  [main] index.IndexCollection (IndexCollection.java:657) - Store document \"contents\" field? false\n",
      "2021-10-10 02:52:21,917 INFO  [main] index.IndexCollection (IndexCollection.java:658) - Store document \"raw\" field? true\n",
      "2021-10-10 02:52:21,917 INFO  [main] index.IndexCollection (IndexCollection.java:659) - Optimize (merge segments)? false\n",
      "2021-10-10 02:52:21,918 INFO  [main] index.IndexCollection (IndexCollection.java:660) - Whitelist: null\n",
      "2021-10-10 02:52:21,918 INFO  [main] index.IndexCollection (IndexCollection.java:661) - Pretokenized?: false\n",
      "2021-10-10 02:52:21,918 INFO  [main] index.IndexCollection (IndexCollection.java:681) - Directly building Lucene indexes...\n",
      "2021-10-10 02:52:21,918 INFO  [main] index.IndexCollection (IndexCollection.java:682) - Index path: si-650eecs-549-ranker/indexes/collection_jsonl\n",
      "2021-10-10 02:52:21,920 INFO  [main] index.IndexCollection (IndexCollection.java:731) - ============ Indexing Collection ============\n",
      "2021-10-10 02:52:22,037 INFO  [main] index.IndexCollection (IndexCollection.java:829) - Thread pool with 1 threads initialized.\n",
      "2021-10-10 02:52:22,038 INFO  [main] index.IndexCollection (IndexCollection.java:831) - Initializing collection in si-650eecs-549-ranker/resources/collection_jsonl\n",
      "2021-10-10 02:52:22,041 INFO  [main] index.IndexCollection (IndexCollection.java:840) - 1 file found\n",
      "2021-10-10 02:52:22,041 INFO  [main] index.IndexCollection (IndexCollection.java:841) - Starting to index...\n",
      "2021-10-10 02:52:31,445 DEBUG [pool-2-thread-1] index.IndexCollection$LocalIndexerThread (IndexCollection.java:248) - collection_jsonl/documents.jsonl: 59881 docs added.\n",
      "2021-10-10 02:52:32,612 INFO  [main] index.IndexCollection (IndexCollection.java:925) - Indexing Complete! 59,881 documents indexed\n",
      "2021-10-10 02:52:32,613 INFO  [main] index.IndexCollection (IndexCollection.java:926) - ============ Final Counter Values ============\n",
      "2021-10-10 02:52:32,613 INFO  [main] index.IndexCollection (IndexCollection.java:927) - indexed:           59,881\n",
      "2021-10-10 02:52:32,613 INFO  [main] index.IndexCollection (IndexCollection.java:928) - unindexable:            0\n",
      "2021-10-10 02:52:32,614 INFO  [main] index.IndexCollection (IndexCollection.java:929) - empty:                  0\n",
      "2021-10-10 02:52:32,614 INFO  [main] index.IndexCollection (IndexCollection.java:930) - skipped:                0\n",
      "2021-10-10 02:52:32,614 INFO  [main] index.IndexCollection (IndexCollection.java:931) - errors:                 0\n",
      "2021-10-10 02:52:32,617 INFO  [main] index.IndexCollection (IndexCollection.java:934) - Total 59,881 documents indexed in 00:00:10\n"
     ]
    }
   ],
   "source": [
    "!python -m pyserini.index -collection JsonCollection \\\n",
    "                         -generator DefaultLuceneDocumentGenerator \\\n",
    "                         -threads 1 \\\n",
    "                         -input si-650eecs-549-ranker/resources/collection_jsonl \\\n",
    "                         -index si-650eecs-549-ranker/indexes/collection_jsonl \\\n",
    "                         -storePositions -storeDocvectors -storeRaw"
   ]
  },
  {
   "cell_type": "code",
   "execution_count": 9,
   "id": "taken-desire",
   "metadata": {},
   "outputs": [
    {
     "name": "stdout",
     "output_type": "stream",
     "text": [
      "WARNING: sun.reflect.Reflection.getCallerClass is not supported. This will impact performance.\n",
      "2021-10-10 02:52:34,181 INFO  [main] index.IndexCollection (IndexCollection.java:643) - Setting log level to INFO\n",
      "2021-10-10 02:52:34,182 INFO  [main] index.IndexCollection (IndexCollection.java:646) - Starting indexer...\n",
      "2021-10-10 02:52:34,182 INFO  [main] index.IndexCollection (IndexCollection.java:647) - ============ Loading Parameters ============\n",
      "2021-10-10 02:52:34,182 INFO  [main] index.IndexCollection (IndexCollection.java:648) - DocumentCollection path: si-650eecs-549-rankerandroid/resources/collection_jsonl\n",
      "2021-10-10 02:52:34,183 INFO  [main] index.IndexCollection (IndexCollection.java:649) - CollectionClass: JsonCollection\n",
      "2021-10-10 02:52:34,183 INFO  [main] index.IndexCollection (IndexCollection.java:650) - Generator: DefaultLuceneDocumentGenerator\n",
      "2021-10-10 02:52:34,183 INFO  [main] index.IndexCollection (IndexCollection.java:651) - Threads: 1\n",
      "2021-10-10 02:52:34,183 INFO  [main] index.IndexCollection (IndexCollection.java:652) - Stemmer: porter\n",
      "2021-10-10 02:52:34,183 INFO  [main] index.IndexCollection (IndexCollection.java:653) - Keep stopwords? false\n",
      "2021-10-10 02:52:34,183 INFO  [main] index.IndexCollection (IndexCollection.java:654) - Stopwords:  null\n",
      "2021-10-10 02:52:34,184 INFO  [main] index.IndexCollection (IndexCollection.java:655) - Store positions? true\n",
      "2021-10-10 02:52:34,184 INFO  [main] index.IndexCollection (IndexCollection.java:656) - Store docvectors? true\n",
      "2021-10-10 02:52:34,184 INFO  [main] index.IndexCollection (IndexCollection.java:657) - Store document \"contents\" field? false\n",
      "2021-10-10 02:52:34,184 INFO  [main] index.IndexCollection (IndexCollection.java:658) - Store document \"raw\" field? true\n",
      "2021-10-10 02:52:34,184 INFO  [main] index.IndexCollection (IndexCollection.java:659) - Optimize (merge segments)? false\n",
      "2021-10-10 02:52:34,184 INFO  [main] index.IndexCollection (IndexCollection.java:660) - Whitelist: null\n",
      "2021-10-10 02:52:34,185 INFO  [main] index.IndexCollection (IndexCollection.java:661) - Pretokenized?: false\n",
      "2021-10-10 02:52:34,185 INFO  [main] index.IndexCollection (IndexCollection.java:681) - Directly building Lucene indexes...\n",
      "2021-10-10 02:52:34,185 INFO  [main] index.IndexCollection (IndexCollection.java:682) - Index path: si-650eecs-549-rankerandroid/indexes/collection_jsonl\n",
      "2021-10-10 02:52:34,188 INFO  [main] index.IndexCollection (IndexCollection.java:731) - ============ Indexing Collection ============\n",
      "2021-10-10 02:52:34,313 INFO  [main] index.IndexCollection (IndexCollection.java:829) - Thread pool with 1 threads initialized.\n",
      "2021-10-10 02:52:34,313 INFO  [main] index.IndexCollection (IndexCollection.java:831) - Initializing collection in si-650eecs-549-rankerandroid/resources/collection_jsonl\n",
      "2021-10-10 02:52:34,317 INFO  [main] index.IndexCollection (IndexCollection.java:840) - 1 file found\n",
      "2021-10-10 02:52:34,317 INFO  [main] index.IndexCollection (IndexCollection.java:841) - Starting to index...\n",
      "2021-10-10 02:52:37,268 DEBUG [pool-2-thread-1] index.IndexCollection$LocalIndexerThread (IndexCollection.java:248) - collection_jsonl/documents.jsonl: 22998 docs added.\n",
      "2021-10-10 02:52:37,783 INFO  [main] index.IndexCollection (IndexCollection.java:925) - Indexing Complete! 22,998 documents indexed\n",
      "2021-10-10 02:52:37,783 INFO  [main] index.IndexCollection (IndexCollection.java:926) - ============ Final Counter Values ============\n",
      "2021-10-10 02:52:37,783 INFO  [main] index.IndexCollection (IndexCollection.java:927) - indexed:           22,998\n",
      "2021-10-10 02:52:37,784 INFO  [main] index.IndexCollection (IndexCollection.java:928) - unindexable:            0\n",
      "2021-10-10 02:52:37,784 INFO  [main] index.IndexCollection (IndexCollection.java:929) - empty:                  0\n",
      "2021-10-10 02:52:37,784 INFO  [main] index.IndexCollection (IndexCollection.java:930) - skipped:                0\n",
      "2021-10-10 02:52:37,784 INFO  [main] index.IndexCollection (IndexCollection.java:931) - errors:                 0\n",
      "2021-10-10 02:52:37,787 INFO  [main] index.IndexCollection (IndexCollection.java:934) - Total 22,998 documents indexed in 00:00:03\n"
     ]
    }
   ],
   "source": [
    "!python -m pyserini.index -collection JsonCollection \\\n",
    "                         -generator DefaultLuceneDocumentGenerator \\\n",
    "                         -threads 1 \\\n",
    "                         -input si-650eecs-549-rankerandroid/resources/collection_jsonl \\\n",
    "                         -index si-650eecs-549-rankerandroid/indexes/collection_jsonl \\\n",
    "                         -storePositions -storeDocvectors -storeRaw"
   ]
  },
  {
   "cell_type": "code",
   "execution_count": 10,
   "id": "associate-slovakia",
   "metadata": {},
   "outputs": [
    {
     "name": "stdout",
     "output_type": "stream",
     "text": [
      "WARNING: sun.reflect.Reflection.getCallerClass is not supported. This will impact performance.\n",
      "2021-10-10 02:52:39,214 INFO  [main] index.IndexCollection (IndexCollection.java:643) - Setting log level to INFO\n",
      "2021-10-10 02:52:39,215 INFO  [main] index.IndexCollection (IndexCollection.java:646) - Starting indexer...\n",
      "2021-10-10 02:52:39,215 INFO  [main] index.IndexCollection (IndexCollection.java:647) - ============ Loading Parameters ============\n",
      "2021-10-10 02:52:39,215 INFO  [main] index.IndexCollection (IndexCollection.java:648) - DocumentCollection path: si-650eecs-549-rankergaming/resources/collection_jsonl\n",
      "2021-10-10 02:52:39,215 INFO  [main] index.IndexCollection (IndexCollection.java:649) - CollectionClass: JsonCollection\n",
      "2021-10-10 02:52:39,215 INFO  [main] index.IndexCollection (IndexCollection.java:650) - Generator: DefaultLuceneDocumentGenerator\n",
      "2021-10-10 02:52:39,215 INFO  [main] index.IndexCollection (IndexCollection.java:651) - Threads: 1\n",
      "2021-10-10 02:52:39,216 INFO  [main] index.IndexCollection (IndexCollection.java:652) - Stemmer: porter\n",
      "2021-10-10 02:52:39,216 INFO  [main] index.IndexCollection (IndexCollection.java:653) - Keep stopwords? false\n",
      "2021-10-10 02:52:39,216 INFO  [main] index.IndexCollection (IndexCollection.java:654) - Stopwords:  null\n",
      "2021-10-10 02:52:39,216 INFO  [main] index.IndexCollection (IndexCollection.java:655) - Store positions? true\n",
      "2021-10-10 02:52:39,216 INFO  [main] index.IndexCollection (IndexCollection.java:656) - Store docvectors? true\n",
      "2021-10-10 02:52:39,216 INFO  [main] index.IndexCollection (IndexCollection.java:657) - Store document \"contents\" field? false\n",
      "2021-10-10 02:52:39,217 INFO  [main] index.IndexCollection (IndexCollection.java:658) - Store document \"raw\" field? true\n",
      "2021-10-10 02:52:39,217 INFO  [main] index.IndexCollection (IndexCollection.java:659) - Optimize (merge segments)? false\n",
      "2021-10-10 02:52:39,217 INFO  [main] index.IndexCollection (IndexCollection.java:660) - Whitelist: null\n",
      "2021-10-10 02:52:39,217 INFO  [main] index.IndexCollection (IndexCollection.java:661) - Pretokenized?: false\n",
      "2021-10-10 02:52:39,217 INFO  [main] index.IndexCollection (IndexCollection.java:681) - Directly building Lucene indexes...\n",
      "2021-10-10 02:52:39,217 INFO  [main] index.IndexCollection (IndexCollection.java:682) - Index path: si-650eecs-549-rankergaming/indexes/collection_jsonl\n",
      "2021-10-10 02:52:39,220 INFO  [main] index.IndexCollection (IndexCollection.java:731) - ============ Indexing Collection ============\n",
      "2021-10-10 02:52:39,326 INFO  [main] index.IndexCollection (IndexCollection.java:829) - Thread pool with 1 threads initialized.\n",
      "2021-10-10 02:52:39,326 INFO  [main] index.IndexCollection (IndexCollection.java:831) - Initializing collection in si-650eecs-549-rankergaming/resources/collection_jsonl\n",
      "2021-10-10 02:52:39,329 INFO  [main] index.IndexCollection (IndexCollection.java:840) - 1 file found\n",
      "2021-10-10 02:52:39,329 INFO  [main] index.IndexCollection (IndexCollection.java:841) - Starting to index...\n",
      "2021-10-10 02:52:43,472 DEBUG [pool-2-thread-1] index.IndexCollection$LocalIndexerThread (IndexCollection.java:248) - collection_jsonl/documents.jsonl: 45289 docs added.\n",
      "2021-10-10 02:52:44,103 INFO  [main] index.IndexCollection (IndexCollection.java:925) - Indexing Complete! 45,289 documents indexed\n",
      "2021-10-10 02:52:44,103 INFO  [main] index.IndexCollection (IndexCollection.java:926) - ============ Final Counter Values ============\n",
      "2021-10-10 02:52:44,103 INFO  [main] index.IndexCollection (IndexCollection.java:927) - indexed:           45,289\n",
      "2021-10-10 02:52:44,103 INFO  [main] index.IndexCollection (IndexCollection.java:928) - unindexable:            0\n",
      "2021-10-10 02:52:44,103 INFO  [main] index.IndexCollection (IndexCollection.java:929) - empty:                  0\n",
      "2021-10-10 02:52:44,104 INFO  [main] index.IndexCollection (IndexCollection.java:930) - skipped:                0\n",
      "2021-10-10 02:52:44,104 INFO  [main] index.IndexCollection (IndexCollection.java:931) - errors:                 0\n",
      "2021-10-10 02:52:44,106 INFO  [main] index.IndexCollection (IndexCollection.java:934) - Total 45,289 documents indexed in 00:00:04\n"
     ]
    }
   ],
   "source": [
    "!python -m pyserini.index -collection JsonCollection \\\n",
    "                         -generator DefaultLuceneDocumentGenerator \\\n",
    "                         -threads 1 \\\n",
    "                         -input si-650eecs-549-rankergaming/resources/collection_jsonl \\\n",
    "                         -index si-650eecs-549-rankergaming/indexes/collection_jsonl \\\n",
    "                         -storePositions -storeDocvectors -storeRaw"
   ]
  },
  {
   "cell_type": "code",
   "execution_count": null,
   "id": "cleared-diagram",
   "metadata": {},
   "outputs": [],
   "source": []
  },
  {
   "cell_type": "code",
   "execution_count": null,
   "id": "numeric-writer",
   "metadata": {},
   "outputs": [],
   "source": []
  }
 ],
 "metadata": {
  "kernelspec": {
   "display_name": "Python 3",
   "language": "python",
   "name": "python3"
  },
  "language_info": {
   "codemirror_mode": {
    "name": "ipython",
    "version": 3
   },
   "file_extension": ".py",
   "mimetype": "text/x-python",
   "name": "python",
   "nbconvert_exporter": "python",
   "pygments_lexer": "ipython3",
   "version": "3.8.5"
  }
 },
 "nbformat": 4,
 "nbformat_minor": 5
}
