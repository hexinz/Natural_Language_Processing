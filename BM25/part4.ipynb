{
 "cells": [
  {
   "cell_type": "code",
   "execution_count": 1,
   "metadata": {},
   "outputs": [],
   "source": [
    "import pandas as pd\n",
    "import csv\n",
    "import json\n",
    "import numpy as np\n",
    "from tqdm import tqdm\n",
    "from pyserini.index import IndexReader\n",
    "from collections import Counter\n",
    "from matplotlib import pyplot as plt\n",
    "import seaborn as sns"
   ]
  },
  {
   "cell_type": "code",
   "execution_count": 2,
   "metadata": {},
   "outputs": [],
   "source": [
    "data = pd.read_csv('si-650eecs-549-rankerandroid/documents.csv')\n",
    "query_data = pd.read_csv('si-650eecs-549-rankerandroid/query_android.csv')\n",
    "index_reader = IndexReader('si-650eecs-549-rankerandroid/indexes/collection_jsonl')\n"
   ]
  },
  {
   "cell_type": "code",
   "execution_count": 3,
   "metadata": {},
   "outputs": [
    {
     "data": {
      "text/plain": [
       "22998"
      ]
     },
     "execution_count": 3,
     "metadata": {},
     "output_type": "execute_result"
    }
   ],
   "source": [
    "idx = [i for i in data['id'].unique() if index_reader.doc(str(i))]\n",
    "len(idx)"
   ]
  },
  {
   "cell_type": "code",
   "execution_count": 4,
   "metadata": {},
   "outputs": [
    {
     "data": {
      "text/plain": [
       "41455"
      ]
     },
     "execution_count": 4,
     "metadata": {},
     "output_type": "execute_result"
    }
   ],
   "source": [
    "terms = {term.term: term.df for term in index_reader.terms()}\n",
    "len(terms)"
   ]
  },
  {
   "cell_type": "code",
   "execution_count": 5,
   "metadata": {},
   "outputs": [
    {
     "data": {
      "text/plain": [
       "22998"
      ]
     },
     "execution_count": 5,
     "metadata": {},
     "output_type": "execute_result"
    }
   ],
   "source": [
    "dl = {i: len(json.loads(index_reader.doc(str(i)).raw())['contents']) for i in idx if index_reader.doc(str(i))}\n",
    "len(dl)"
   ]
  },
  {
   "cell_type": "code",
   "execution_count": 6,
   "metadata": {},
   "outputs": [
    {
     "data": {
      "text/plain": [
       "594.701974084703"
      ]
     },
     "execution_count": 6,
     "metadata": {},
     "output_type": "execute_result"
    }
   ],
   "source": [
    "avg_dl = np.mean([len(json.loads(index_reader.doc(str(i)).raw())['contents']) for i in idx if\n",
    "                          index_reader.doc(str(i))])\n",
    "avg_dl"
   ]
  },
  {
   "cell_type": "code",
   "execution_count": 7,
   "metadata": {},
   "outputs": [
    {
     "data": {
      "text/plain": [
       "41455"
      ]
     },
     "execution_count": 7,
     "metadata": {},
     "output_type": "execute_result"
    }
   ],
   "source": [
    "df = {term: (index_reader.get_term_counts(term, analyzer=None))[0] for term in terms}\n",
    "len(df)"
   ]
  },
  {
   "cell_type": "code",
   "execution_count": 8,
   "metadata": {},
   "outputs": [
    {
     "data": {
      "text/plain": [
       "22998"
      ]
     },
     "execution_count": 8,
     "metadata": {},
     "output_type": "execute_result"
    }
   ],
   "source": [
    "tf = {i: index_reader.get_document_vector(str(i)) for i in idx}\n",
    "len(tf)"
   ]
  },
  {
   "cell_type": "code",
   "execution_count": 9,
   "metadata": {},
   "outputs": [
    {
     "data": {
      "text/plain": [
       "22998"
      ]
     },
     "execution_count": 9,
     "metadata": {},
     "output_type": "execute_result"
    }
   ],
   "source": [
    "N = index_reader.stats()['documents']\n",
    "N"
   ]
  },
  {
   "cell_type": "code",
   "execution_count": 10,
   "metadata": {},
   "outputs": [],
   "source": [
    "# postings_list = index_reader.get_postings_list('usb', analyzer=None)\n",
    "# for posting in postings_list:\n",
    "#     print(f'docid={index_reader.object.convertLuceneDocidToDocid(index_reader.reader, posting.docid)}, tf={posting.tf}, pos={posting.positions}')\n"
   ]
  },
  {
   "cell_type": "code",
   "execution_count": 11,
   "metadata": {},
   "outputs": [
    {
     "data": {
      "text/plain": [
       "22998"
      ]
     },
     "execution_count": 11,
     "metadata": {},
     "output_type": "execute_result"
    }
   ],
   "source": [
    "tf_structured = {i: (Counter(index_reader.analyze(json.loads(index_reader.doc(str(i)).raw())['contents'].split('\\n')[0])),Counter(index_reader.analyze(json.loads(index_reader.doc(str(i)).raw())['contents'].split('\\n')[1]))) for i in idx}\n",
    "len(tf_structured)"
   ]
  },
  {
   "cell_type": "code",
   "execution_count": 12,
   "metadata": {},
   "outputs": [
    {
     "data": {
      "text/plain": [
       "41455"
      ]
     },
     "execution_count": 12,
     "metadata": {},
     "output_type": "execute_result"
    }
   ],
   "source": [
    "cf = {term: (index_reader.get_term_counts(term, analyzer=None))[1] for term in terms}\n",
    "len(cf)"
   ]
  },
  {
   "cell_type": "code",
   "execution_count": 67,
   "metadata": {},
   "outputs": [
    {
     "data": {
      "text/plain": [
       "1868686"
      ]
     },
     "execution_count": 67,
     "metadata": {},
     "output_type": "execute_result"
    }
   ],
   "source": [
    "cf_sum = np.sum([index_reader.get_term_counts(term, analyzer=None)[1] for term in terms])\n",
    "cf_sum"
   ]
  },
  {
   "cell_type": "code",
   "execution_count": 46,
   "metadata": {},
   "outputs": [
    {
     "data": {
      "text/plain": [
       "95646"
      ]
     },
     "execution_count": 46,
     "metadata": {},
     "output_type": "execute_result"
    }
   ],
   "source": [
    "max_cf = 0\n",
    "for term in terms:\n",
    "    max_cf = max(max_cf, index_reader.get_term_counts(term, analyzer=None)[1])\n",
    "max_cf"
   ]
  },
  {
   "cell_type": "code",
   "execution_count": null,
   "metadata": {},
   "outputs": [],
   "source": []
  },
  {
   "cell_type": "code",
   "execution_count": 13,
   "metadata": {},
   "outputs": [],
   "source": [
    "# 1.55, 0.5, 1.2, 0.25"
   ]
  },
  {
   "cell_type": "code",
   "execution_count": 70,
   "metadata": {},
   "outputs": [],
   "source": [
    "def score_custom(query, doc_id, k1=1.55, b=0.5, k3=1.2, weight=0.25):\n",
    "    rank_score = 0\n",
    "\n",
    "    # get query term frequency\n",
    "    qtf = Counter(query)\n",
    "\n",
    "    for word in query:\n",
    "        if tf[doc_id].get(word):\n",
    "            rank_score += np.log((N - df.get(word,0) + 0.5)/(df.get(word,0) + 0.5) + (max_cf - cf.get(word,0) + 0.5)/(cf.get(word,0) + 0.5)) * \\\n",
    "                        (k1 + 1) * ((1 + weight) * tf_structured[doc_id][0][word] + (1 - weight) * tf_structured[doc_id][1][word])  / \\\n",
    "                        (k1 * (1 - b + b * dl[doc_id] / avg_dl) + (1 + weight) * tf_structured[doc_id][0][word] + (1 - weight) * tf_structured[doc_id][1][word]) * \\\n",
    "                        (k3 + 1) * qtf[word] / (k3 + qtf[word])\n",
    "\n",
    "#     print(i,rank_score)\n",
    "    return rank_score"
   ]
  },
  {
   "cell_type": "code",
   "execution_count": 71,
   "metadata": {},
   "outputs": [
    {
     "name": "stderr",
     "output_type": "stream",
     "text": [
      "100%|██████████| 699/699 [02:44<00:00,  4.26it/s]\n"
     ]
    }
   ],
   "source": [
    "QueryId = []\n",
    "DocumentId = []\n",
    "Score = []\n",
    "Raw = []\n",
    "for qid in tqdm(range(query_data.shape[0])):\n",
    "    analyzed_query = index_reader.analyze(query_data.loc[qid,'Query Description'])\n",
    "    rel_score = []\n",
    "    for docid in idx:\n",
    "        rel_score.append(score_custom(analyzed_query, docid))\n",
    "    rel_score = np.array(rel_score)\n",
    "    relevant = np.argsort(rel_score)[::-1][:5]  \n",
    "    Score += [rel_score[r] for r in relevant]\n",
    "    Raw += [json.loads(index_reader.doc(str(idx[r])).raw())['contents'] for r in relevant]\n",
    "    QueryId += [query_data.loc[qid,'QueryId']]*5\n",
    "    DocumentId += [idx[r] for r in relevant]"
   ]
  },
  {
   "cell_type": "code",
   "execution_count": 72,
   "metadata": {},
   "outputs": [
    {
     "data": {
      "text/html": [
       "<div>\n",
       "<style scoped>\n",
       "    .dataframe tbody tr th:only-of-type {\n",
       "        vertical-align: middle;\n",
       "    }\n",
       "\n",
       "    .dataframe tbody tr th {\n",
       "        vertical-align: top;\n",
       "    }\n",
       "\n",
       "    .dataframe thead th {\n",
       "        text-align: right;\n",
       "    }\n",
       "</style>\n",
       "<table border=\"1\" class=\"dataframe\">\n",
       "  <thead>\n",
       "    <tr style=\"text-align: right;\">\n",
       "      <th></th>\n",
       "      <th>QueryId</th>\n",
       "      <th>DocumentId</th>\n",
       "      <th>Score</th>\n",
       "      <th>Raw</th>\n",
       "    </tr>\n",
       "  </thead>\n",
       "  <tbody>\n",
       "    <tr>\n",
       "      <th>0</th>\n",
       "      <td>122</td>\n",
       "      <td>4934</td>\n",
       "      <td>63.956909</td>\n",
       "      <td>Access to android usb port from chroot linux?\\...</td>\n",
       "    </tr>\n",
       "    <tr>\n",
       "      <th>1</th>\n",
       "      <td>122</td>\n",
       "      <td>20927</td>\n",
       "      <td>56.241134</td>\n",
       "      <td>How can i forward USB OTG to Chrooted Ubuntu?\\...</td>\n",
       "    </tr>\n",
       "    <tr>\n",
       "      <th>2</th>\n",
       "      <td>122</td>\n",
       "      <td>11274</td>\n",
       "      <td>40.860348</td>\n",
       "      <td>Once you have Ubuntu installed on a Nexus 7, h...</td>\n",
       "    </tr>\n",
       "    <tr>\n",
       "      <th>3</th>\n",
       "      <td>122</td>\n",
       "      <td>10748</td>\n",
       "      <td>38.495629</td>\n",
       "      <td>Can I boot into other OS (such as Ubuntu) from...</td>\n",
       "    </tr>\n",
       "    <tr>\n",
       "      <th>4</th>\n",
       "      <td>122</td>\n",
       "      <td>16696</td>\n",
       "      <td>38.027836</td>\n",
       "      <td>Device doesn't mount in Ubuntu 12.04\\nI have a...</td>\n",
       "    </tr>\n",
       "    <tr>\n",
       "      <th>5</th>\n",
       "      <td>697</td>\n",
       "      <td>19483</td>\n",
       "      <td>19.417259</td>\n",
       "      <td>problem with karbonn a51 internal memory\\nmy d...</td>\n",
       "    </tr>\n",
       "    <tr>\n",
       "      <th>6</th>\n",
       "      <td>697</td>\n",
       "      <td>15701</td>\n",
       "      <td>17.561933</td>\n",
       "      <td>Karbonn A27 Retina Data Surf Problem?\\nI have ...</td>\n",
       "    </tr>\n",
       "    <tr>\n",
       "      <th>7</th>\n",
       "      <td>697</td>\n",
       "      <td>18271</td>\n",
       "      <td>17.330328</td>\n",
       "      <td>How to Increase RAM in my karbonn s2\\nmy karbo...</td>\n",
       "    </tr>\n",
       "    <tr>\n",
       "      <th>8</th>\n",
       "      <td>697</td>\n",
       "      <td>19776</td>\n",
       "      <td>16.880434</td>\n",
       "      <td>problem in mounting sd card in karbonn A4+\\nI ...</td>\n",
       "    </tr>\n",
       "    <tr>\n",
       "      <th>9</th>\n",
       "      <td>697</td>\n",
       "      <td>15735</td>\n",
       "      <td>16.461407</td>\n",
       "      <td>How To Flash A Rom To China Tablet Karbonn a34...</td>\n",
       "    </tr>\n",
       "    <tr>\n",
       "      <th>10</th>\n",
       "      <td>384</td>\n",
       "      <td>10773</td>\n",
       "      <td>61.208208</td>\n",
       "      <td>What is the difference between system memory a...</td>\n",
       "    </tr>\n",
       "    <tr>\n",
       "      <th>11</th>\n",
       "      <td>384</td>\n",
       "      <td>10353</td>\n",
       "      <td>42.944615</td>\n",
       "      <td>What is meant by System Memory in android?\\nI ...</td>\n",
       "    </tr>\n",
       "    <tr>\n",
       "      <th>12</th>\n",
       "      <td>384</td>\n",
       "      <td>8375</td>\n",
       "      <td>40.073803</td>\n",
       "      <td>Moving app between _three_ possibilities for s...</td>\n",
       "    </tr>\n",
       "    <tr>\n",
       "      <th>13</th>\n",
       "      <td>384</td>\n",
       "      <td>9615</td>\n",
       "      <td>38.838089</td>\n",
       "      <td>Help with LG Optimus Logic Memory\\nI recently ...</td>\n",
       "    </tr>\n",
       "    <tr>\n",
       "      <th>14</th>\n",
       "      <td>384</td>\n",
       "      <td>10938</td>\n",
       "      <td>37.587487</td>\n",
       "      <td>LG Optimus Logic- How to move apps such as fac...</td>\n",
       "    </tr>\n",
       "    <tr>\n",
       "      <th>15</th>\n",
       "      <td>219</td>\n",
       "      <td>3861</td>\n",
       "      <td>21.152537</td>\n",
       "      <td>How do I get the CID from my HTC Flyer when it...</td>\n",
       "    </tr>\n",
       "    <tr>\n",
       "      <th>16</th>\n",
       "      <td>219</td>\n",
       "      <td>4200</td>\n",
       "      <td>17.536985</td>\n",
       "      <td>Samsung Epic Touch 4G - ROM Listing\\n&gt; **Possi...</td>\n",
       "    </tr>\n",
       "    <tr>\n",
       "      <th>17</th>\n",
       "      <td>219</td>\n",
       "      <td>14947</td>\n",
       "      <td>16.569586</td>\n",
       "      <td>HTC One recommended Cyanogenmod ROM?\\nI have H...</td>\n",
       "    </tr>\n",
       "    <tr>\n",
       "      <th>18</th>\n",
       "      <td>219</td>\n",
       "      <td>4264</td>\n",
       "      <td>14.835659</td>\n",
       "      <td>Application ROM Manager is uninstalled, but ma...</td>\n",
       "    </tr>\n",
       "    <tr>\n",
       "      <th>19</th>\n",
       "      <td>219</td>\n",
       "      <td>12595</td>\n",
       "      <td>14.132232</td>\n",
       "      <td>How to install Samsung (or other manufacturers...</td>\n",
       "    </tr>\n",
       "  </tbody>\n",
       "</table>\n",
       "</div>"
      ],
      "text/plain": [
       "    QueryId  DocumentId      Score  \\\n",
       "0       122        4934  63.956909   \n",
       "1       122       20927  56.241134   \n",
       "2       122       11274  40.860348   \n",
       "3       122       10748  38.495629   \n",
       "4       122       16696  38.027836   \n",
       "5       697       19483  19.417259   \n",
       "6       697       15701  17.561933   \n",
       "7       697       18271  17.330328   \n",
       "8       697       19776  16.880434   \n",
       "9       697       15735  16.461407   \n",
       "10      384       10773  61.208208   \n",
       "11      384       10353  42.944615   \n",
       "12      384        8375  40.073803   \n",
       "13      384        9615  38.838089   \n",
       "14      384       10938  37.587487   \n",
       "15      219        3861  21.152537   \n",
       "16      219        4200  17.536985   \n",
       "17      219       14947  16.569586   \n",
       "18      219        4264  14.835659   \n",
       "19      219       12595  14.132232   \n",
       "\n",
       "                                                  Raw  \n",
       "0   Access to android usb port from chroot linux?\\...  \n",
       "1   How can i forward USB OTG to Chrooted Ubuntu?\\...  \n",
       "2   Once you have Ubuntu installed on a Nexus 7, h...  \n",
       "3   Can I boot into other OS (such as Ubuntu) from...  \n",
       "4   Device doesn't mount in Ubuntu 12.04\\nI have a...  \n",
       "5   problem with karbonn a51 internal memory\\nmy d...  \n",
       "6   Karbonn A27 Retina Data Surf Problem?\\nI have ...  \n",
       "7   How to Increase RAM in my karbonn s2\\nmy karbo...  \n",
       "8   problem in mounting sd card in karbonn A4+\\nI ...  \n",
       "9   How To Flash A Rom To China Tablet Karbonn a34...  \n",
       "10  What is the difference between system memory a...  \n",
       "11  What is meant by System Memory in android?\\nI ...  \n",
       "12  Moving app between _three_ possibilities for s...  \n",
       "13  Help with LG Optimus Logic Memory\\nI recently ...  \n",
       "14  LG Optimus Logic- How to move apps such as fac...  \n",
       "15  How do I get the CID from my HTC Flyer when it...  \n",
       "16  Samsung Epic Touch 4G - ROM Listing\\n> **Possi...  \n",
       "17  HTC One recommended Cyanogenmod ROM?\\nI have H...  \n",
       "18  Application ROM Manager is uninstalled, but ma...  \n",
       "19  How to install Samsung (or other manufacturers...  "
      ]
     },
     "execution_count": 72,
     "metadata": {},
     "output_type": "execute_result"
    }
   ],
   "source": [
    "test2 = pd.DataFrame({'QueryId':QueryId, 'DocumentId':DocumentId, 'Score':Score, 'Raw':Raw})\n",
    "test2[:20]"
   ]
  },
  {
   "cell_type": "code",
   "execution_count": 73,
   "metadata": {},
   "outputs": [
    {
     "data": {
      "text/html": [
       "<div>\n",
       "<style scoped>\n",
       "    .dataframe tbody tr th:only-of-type {\n",
       "        vertical-align: middle;\n",
       "    }\n",
       "\n",
       "    .dataframe tbody tr th {\n",
       "        vertical-align: top;\n",
       "    }\n",
       "\n",
       "    .dataframe thead th {\n",
       "        text-align: right;\n",
       "    }\n",
       "</style>\n",
       "<table border=\"1\" class=\"dataframe\">\n",
       "  <thead>\n",
       "    <tr style=\"text-align: right;\">\n",
       "      <th></th>\n",
       "      <th>QueryId</th>\n",
       "      <th>DocumentId</th>\n",
       "    </tr>\n",
       "  </thead>\n",
       "  <tbody>\n",
       "    <tr>\n",
       "      <th>0</th>\n",
       "      <td>122</td>\n",
       "      <td>4934</td>\n",
       "    </tr>\n",
       "    <tr>\n",
       "      <th>1</th>\n",
       "      <td>122</td>\n",
       "      <td>20927</td>\n",
       "    </tr>\n",
       "    <tr>\n",
       "      <th>2</th>\n",
       "      <td>122</td>\n",
       "      <td>11274</td>\n",
       "    </tr>\n",
       "    <tr>\n",
       "      <th>3</th>\n",
       "      <td>122</td>\n",
       "      <td>10748</td>\n",
       "    </tr>\n",
       "    <tr>\n",
       "      <th>4</th>\n",
       "      <td>122</td>\n",
       "      <td>16696</td>\n",
       "    </tr>\n",
       "    <tr>\n",
       "      <th>5</th>\n",
       "      <td>697</td>\n",
       "      <td>19483</td>\n",
       "    </tr>\n",
       "    <tr>\n",
       "      <th>6</th>\n",
       "      <td>697</td>\n",
       "      <td>15701</td>\n",
       "    </tr>\n",
       "    <tr>\n",
       "      <th>7</th>\n",
       "      <td>697</td>\n",
       "      <td>18271</td>\n",
       "    </tr>\n",
       "    <tr>\n",
       "      <th>8</th>\n",
       "      <td>697</td>\n",
       "      <td>19776</td>\n",
       "    </tr>\n",
       "    <tr>\n",
       "      <th>9</th>\n",
       "      <td>697</td>\n",
       "      <td>15735</td>\n",
       "    </tr>\n",
       "    <tr>\n",
       "      <th>10</th>\n",
       "      <td>384</td>\n",
       "      <td>10773</td>\n",
       "    </tr>\n",
       "    <tr>\n",
       "      <th>11</th>\n",
       "      <td>384</td>\n",
       "      <td>10353</td>\n",
       "    </tr>\n",
       "    <tr>\n",
       "      <th>12</th>\n",
       "      <td>384</td>\n",
       "      <td>8375</td>\n",
       "    </tr>\n",
       "    <tr>\n",
       "      <th>13</th>\n",
       "      <td>384</td>\n",
       "      <td>9615</td>\n",
       "    </tr>\n",
       "    <tr>\n",
       "      <th>14</th>\n",
       "      <td>384</td>\n",
       "      <td>10938</td>\n",
       "    </tr>\n",
       "    <tr>\n",
       "      <th>15</th>\n",
       "      <td>219</td>\n",
       "      <td>3861</td>\n",
       "    </tr>\n",
       "    <tr>\n",
       "      <th>16</th>\n",
       "      <td>219</td>\n",
       "      <td>4200</td>\n",
       "    </tr>\n",
       "    <tr>\n",
       "      <th>17</th>\n",
       "      <td>219</td>\n",
       "      <td>14947</td>\n",
       "    </tr>\n",
       "    <tr>\n",
       "      <th>18</th>\n",
       "      <td>219</td>\n",
       "      <td>4264</td>\n",
       "    </tr>\n",
       "    <tr>\n",
       "      <th>19</th>\n",
       "      <td>219</td>\n",
       "      <td>12595</td>\n",
       "    </tr>\n",
       "  </tbody>\n",
       "</table>\n",
       "</div>"
      ],
      "text/plain": [
       "    QueryId  DocumentId\n",
       "0       122        4934\n",
       "1       122       20927\n",
       "2       122       11274\n",
       "3       122       10748\n",
       "4       122       16696\n",
       "5       697       19483\n",
       "6       697       15701\n",
       "7       697       18271\n",
       "8       697       19776\n",
       "9       697       15735\n",
       "10      384       10773\n",
       "11      384       10353\n",
       "12      384        8375\n",
       "13      384        9615\n",
       "14      384       10938\n",
       "15      219        3861\n",
       "16      219        4200\n",
       "17      219       14947\n",
       "18      219        4264\n",
       "19      219       12595"
      ]
     },
     "execution_count": 73,
     "metadata": {},
     "output_type": "execute_result"
    }
   ],
   "source": [
    "test2_final = test2[['QueryId','DocumentId']]\n",
    "test2_final.head(20)"
   ]
  },
  {
   "cell_type": "code",
   "execution_count": 74,
   "metadata": {},
   "outputs": [],
   "source": [
    "test2_final.to_csv('part4_result_notebook.csv',index=False)"
   ]
  },
  {
   "cell_type": "markdown",
   "metadata": {},
   "source": [
    "# Explanation of My Ranking Algorithm\n",
    "\n",
    "My ranking algorithm makes two improvements on the original BM25 formula. \n",
    "- Add weight to TF of documentation title and TF of documentation description. \n",
    "- Add collection frequency to the original document frequency.\n",
    "\n",
    "### Part 1 Weighted TF of document title and description"
   ]
  },
  {
   "cell_type": "markdown",
   "metadata": {},
   "source": [
    "Suppose we have a document A, whose number of certain term is 0 in title and all in description. For the purpose of experiment, we suppose the frequency to be [0,2,4,6,8,10,12,14]. Another document B, whose number of certain term is half in title and half in description. We suppose the frequency to be [0,1,2,3,4,5,6,7] in title and description respectively. Notice that document A and document B have same total term frequency.\n",
    "\n",
    "Intuitively, we know that B might have a greater correlation with the query containing that term than A since \n",
    "- Title is more important than description.\n",
    "- If no term occurs in any of the part (title of description), the probability that the document have relationship with the query is low. \n",
    "\n",
    "However, in the original BM25 method, they are considered to be the same in ranking score. Hence, we propose the **linear combination of tf of title and description**: \n",
    "*tf_new = (1 + weight) * title_tf + (1 - weight) * desc_tf*\n",
    "\n",
    "It should be noticed that the new formula maintain the property that if title_tf=desc_tf, the score is the same as the original BM25 score, which means that we do not need to re-tune the pre-optimized k1 parameter. Also, when weight=0, the tf_new have no bias towards title_tf and desc_tf, which reduces to the orignal BM25 formula. \n",
    "\n",
    "As shown in the following figure, the new structured weighted ranking algorithm performs well on identifying document B as a more correlated document with a higher score.\n",
    "\n"
   ]
  },
  {
   "cell_type": "code",
   "execution_count": 20,
   "metadata": {},
   "outputs": [],
   "source": [
    "# Document A\n",
    "title_tf_A = []\n",
    "desc_tf_A = np.array([0,2,4,6,8,10,12,14])\n",
    "\n",
    "\n",
    "# Document B\n",
    "title_tf_B = np.array([0,1,2,3,4,5,6,7])\n",
    "desc_tf_B = np.array([0,1,2,3,4,5,6,7])\n",
    "\n",
    "# let the parameter k1 here be 1.5\n",
    "score_A = (1.5+1)*0.8*desc_tf_A/(1.5+0.8*desc_tf_A)\n",
    "score_B = (1.5+1)*(1.2*title_tf_B+0.8*desc_tf_B)/(1.5+(1.2*title_tf_B+0.8*desc_tf_B))\n"
   ]
  },
  {
   "cell_type": "code",
   "execution_count": 21,
   "metadata": {},
   "outputs": [
    {
     "data": {
      "text/plain": [
       "<matplotlib.legend.Legend at 0x7fad2db94cd0>"
      ]
     },
     "execution_count": 21,
     "metadata": {},
     "output_type": "execute_result"
    },
    {
     "data": {
      "image/png": "[encoded data removed]",
      "text/plain": [
       "<Figure size 720x504 with 1 Axes>"
      ]
     },
     "metadata": {
      "needs_background": "light"
     },
     "output_type": "display_data"
    }
   ],
   "source": [
    "plt.figure(figsize=(10,7))\n",
    "plt.plot(desc_tf_A, score_A)\n",
    "plt.plot(title_tf_B+desc_tf_B, score_B)\n",
    "plt.xlabel('Total Term Frequency')\n",
    "plt.ylabel('TF Score')\n",
    "plt.legend(['score_A','score_B'])"
   ]
  },
  {
   "cell_type": "markdown",
   "metadata": {},
   "source": [
    "Another interesting thing we can get from the above formula is that *(1 + w) * x + (1 - w) * y > x + y* if and only if *x > y* when *w > 0*.\n",
    "\n",
    "That is to say, if the title frequency is larger than the description frequency and we assume that title is more important than description (w > 0), the resulting score will be higher than baseline (w = 0). On the contrary, if title frequency is smaller than description frequency and we assume that title is more important than description (w>0), the resulting score will be lower than baseline (w = 0).\n",
    "\n",
    "To illustrate, suppose we have a document C, whose number of certain term is [0,1,2,3,4,5,6] in title and [0,2,4,6,8,10,12] in description. For another document D, whose number of certain term is [0,2,4,6,8,10,12] in title and [0,1,2,3,4,5,6] in description. Notice that document C and document D have same total term frequency.\n",
    "\n",
    "As shown in the figure, by introduce the weights, we successfully identify document D as a more correlated document and the baseline lies between score of document C and document D."
   ]
  },
  {
   "cell_type": "code",
   "execution_count": 22,
   "metadata": {},
   "outputs": [],
   "source": [
    "# Document C\n",
    "title_tf_C = np.array([1,2,3,4,5,6])\n",
    "desc_tf_C = np.array([2,4,6,8,10,12])\n",
    "\n",
    "\n",
    "# Document D\n",
    "title_tf_D = np.array([2,4,6,8,10,12])\n",
    "desc_tf_D = np.array([1,2,3,4,5,6])\n",
    "\n",
    "# let the parameter k1 here be 1.5\n",
    "tf_base = np.array([1,2,3,4,5,6])\n",
    "\n",
    "score_without_bias = [(1.5+1)*(1*i+1*2*i)/(1.5+(1*i+1*2*i)) for i in tf_base]\n",
    "score_C = [(1.5+1)*(1.2*i+0.8*2*i)/(1.5+(1.2*i+0.8*2*i)) for i in tf_base]\n",
    "score_D = [(1.5+1)*(1.2*2*i+0.8*i)/(1.5+(1.2*2*i+0.8*i)) for i in tf_base]\n"
   ]
  },
  {
   "cell_type": "code",
   "execution_count": 23,
   "metadata": {},
   "outputs": [
    {
     "data": {
      "text/plain": [
       "<matplotlib.legend.Legend at 0x7fad2de4cf10>"
      ]
     },
     "execution_count": 23,
     "metadata": {},
     "output_type": "execute_result"
    },
    {
     "data": {
      "image/png": "[encoded data removed]",
      "text/plain": [
       "<Figure size 720x576 with 1 Axes>"
      ]
     },
     "metadata": {
      "needs_background": "light"
     },
     "output_type": "display_data"
    }
   ],
   "source": [
    "plt.figure(figsize=(10,8))\n",
    "plt.plot(title_tf_C+desc_tf_C, score_C)\n",
    "plt.plot(title_tf_D+desc_tf_D, score_D)\n",
    "plt.plot(title_tf_C+desc_tf_C, score_without_bias)\n",
    "plt.xlabel('Total Term Frequency')\n",
    "plt.ylabel('TF Score')\n",
    "plt.legend(['score_C','score_D','score_without_bias'])"
   ]
  },
  {
   "cell_type": "markdown",
   "metadata": {},
   "source": [
    "### Part2 Collection frequency added to document frequency\n",
    "\n",
    "Consider the following case:\n",
    "- Doc1: ‘who’: 3, “usb”: 2\n",
    "- Doc2: ‘who’: 10, “usb”: 1\n",
    "\n",
    "In the original BM25 formula, it is likely that the score of Doc1 of query ‘who use usb’ will be lower than Doc2 since the document frequency for ‘usb’ and ‘who’ are the same and Doc2 has higher term frequency. However, intuitively, we know ‘usb’ is a more informative word, hence higher term frequency of ‘usb’ should result in a higher relevance score.\n",
    "\n",
    "By taking collection frequency into consideration, although the document frequency for ‘usb’ and ‘who’ are the same, the collection frequency of ‘who’ is much higher than ‘usb’, resulting in a lower score. In this way, the new formula reveals the informativeness of ‘usb’ versus ‘who’."
   ]
  },
  {
   "cell_type": "code",
   "execution_count": null,
   "metadata": {},
   "outputs": [],
   "source": []
  }
 ],
 "metadata": {
  "kernelspec": {
   "display_name": "Python 3",
   "language": "python",
   "name": "python3"
  },
  "language_info": {
   "codemirror_mode": {
    "name": "ipython",
    "version": 3
   },
   "file_extension": ".py",
   "mimetype": "text/x-python",
   "name": "python",
   "nbconvert_exporter": "python",
   "pygments_lexer": "ipython3",
   "version": "3.8.5"
  }
 },
 "nbformat": 4,
 "nbformat_minor": 4
}
